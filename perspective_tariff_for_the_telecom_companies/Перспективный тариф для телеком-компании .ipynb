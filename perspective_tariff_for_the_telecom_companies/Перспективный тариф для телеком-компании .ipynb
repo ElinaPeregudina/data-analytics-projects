{
 "cells": [
  {
   "cell_type": "markdown",
   "metadata": {},
   "source": [
    "## Шаг 1. Открыть файл с данными и изучить общую информацию"
   ]
  },
  {
   "cell_type": "code",
   "execution_count": 1,
   "metadata": {},
   "outputs": [
    {
     "data": {
      "text/html": [
       "<div>\n",
       "<style scoped>\n",
       "    .dataframe tbody tr th:only-of-type {\n",
       "        vertical-align: middle;\n",
       "    }\n",
       "\n",
       "    .dataframe tbody tr th {\n",
       "        vertical-align: top;\n",
       "    }\n",
       "\n",
       "    .dataframe thead th {\n",
       "        text-align: right;\n",
       "    }\n",
       "</style>\n",
       "<table border=\"1\" class=\"dataframe\">\n",
       "  <thead>\n",
       "    <tr style=\"text-align: right;\">\n",
       "      <th></th>\n",
       "      <th>id</th>\n",
       "      <th>call_date</th>\n",
       "      <th>duration</th>\n",
       "      <th>user_id</th>\n",
       "    </tr>\n",
       "  </thead>\n",
       "  <tbody>\n",
       "    <tr>\n",
       "      <td>0</td>\n",
       "      <td>1000_0</td>\n",
       "      <td>2018-07-25</td>\n",
       "      <td>0.00</td>\n",
       "      <td>1000</td>\n",
       "    </tr>\n",
       "    <tr>\n",
       "      <td>1</td>\n",
       "      <td>1000_1</td>\n",
       "      <td>2018-08-17</td>\n",
       "      <td>0.00</td>\n",
       "      <td>1000</td>\n",
       "    </tr>\n",
       "    <tr>\n",
       "      <td>2</td>\n",
       "      <td>1000_2</td>\n",
       "      <td>2018-06-11</td>\n",
       "      <td>2.85</td>\n",
       "      <td>1000</td>\n",
       "    </tr>\n",
       "    <tr>\n",
       "      <td>3</td>\n",
       "      <td>1000_3</td>\n",
       "      <td>2018-09-21</td>\n",
       "      <td>13.80</td>\n",
       "      <td>1000</td>\n",
       "    </tr>\n",
       "    <tr>\n",
       "      <td>4</td>\n",
       "      <td>1000_4</td>\n",
       "      <td>2018-12-15</td>\n",
       "      <td>5.18</td>\n",
       "      <td>1000</td>\n",
       "    </tr>\n",
       "    <tr>\n",
       "      <td>...</td>\n",
       "      <td>...</td>\n",
       "      <td>...</td>\n",
       "      <td>...</td>\n",
       "      <td>...</td>\n",
       "    </tr>\n",
       "    <tr>\n",
       "      <td>202602</td>\n",
       "      <td>1499_215</td>\n",
       "      <td>2018-12-26</td>\n",
       "      <td>0.76</td>\n",
       "      <td>1499</td>\n",
       "    </tr>\n",
       "    <tr>\n",
       "      <td>202603</td>\n",
       "      <td>1499_216</td>\n",
       "      <td>2018-10-18</td>\n",
       "      <td>18.83</td>\n",
       "      <td>1499</td>\n",
       "    </tr>\n",
       "    <tr>\n",
       "      <td>202604</td>\n",
       "      <td>1499_217</td>\n",
       "      <td>2018-11-10</td>\n",
       "      <td>10.81</td>\n",
       "      <td>1499</td>\n",
       "    </tr>\n",
       "    <tr>\n",
       "      <td>202605</td>\n",
       "      <td>1499_218</td>\n",
       "      <td>2018-10-06</td>\n",
       "      <td>4.27</td>\n",
       "      <td>1499</td>\n",
       "    </tr>\n",
       "    <tr>\n",
       "      <td>202606</td>\n",
       "      <td>1499_219</td>\n",
       "      <td>2018-12-14</td>\n",
       "      <td>19.62</td>\n",
       "      <td>1499</td>\n",
       "    </tr>\n",
       "  </tbody>\n",
       "</table>\n",
       "<p>202607 rows × 4 columns</p>\n",
       "</div>"
      ],
      "text/plain": [
       "              id   call_date  duration  user_id\n",
       "0         1000_0  2018-07-25      0.00     1000\n",
       "1         1000_1  2018-08-17      0.00     1000\n",
       "2         1000_2  2018-06-11      2.85     1000\n",
       "3         1000_3  2018-09-21     13.80     1000\n",
       "4         1000_4  2018-12-15      5.18     1000\n",
       "...          ...         ...       ...      ...\n",
       "202602  1499_215  2018-12-26      0.76     1499\n",
       "202603  1499_216  2018-10-18     18.83     1499\n",
       "202604  1499_217  2018-11-10     10.81     1499\n",
       "202605  1499_218  2018-10-06      4.27     1499\n",
       "202606  1499_219  2018-12-14     19.62     1499\n",
       "\n",
       "[202607 rows x 4 columns]"
      ]
     },
     "execution_count": 1,
     "metadata": {},
     "output_type": "execute_result"
    }
   ],
   "source": [
    "import pandas as pd\n",
    "import numpy as np\n",
    "data_calls = pd.read_csv(\"/datasets/calls.csv\")\n",
    "data_calls"
   ]
  },
  {
   "cell_type": "code",
   "execution_count": 2,
   "metadata": {},
   "outputs": [
    {
     "name": "stdout",
     "output_type": "stream",
     "text": [
      "<class 'pandas.core.frame.DataFrame'>\n",
      "RangeIndex: 202607 entries, 0 to 202606\n",
      "Data columns (total 4 columns):\n",
      "id           202607 non-null object\n",
      "call_date    202607 non-null object\n",
      "duration     202607 non-null float64\n",
      "user_id      202607 non-null int64\n",
      "dtypes: float64(1), int64(1), object(2)\n",
      "memory usage: 6.2+ MB\n"
     ]
    }
   ],
   "source": [
    "data_calls.info()"
   ]
  },
  {
   "cell_type": "code",
   "execution_count": 3,
   "metadata": {},
   "outputs": [
    {
     "data": {
      "text/html": [
       "<div>\n",
       "<style scoped>\n",
       "    .dataframe tbody tr th:only-of-type {\n",
       "        vertical-align: middle;\n",
       "    }\n",
       "\n",
       "    .dataframe tbody tr th {\n",
       "        vertical-align: top;\n",
       "    }\n",
       "\n",
       "    .dataframe thead th {\n",
       "        text-align: right;\n",
       "    }\n",
       "</style>\n",
       "<table border=\"1\" class=\"dataframe\">\n",
       "  <thead>\n",
       "    <tr style=\"text-align: right;\">\n",
       "      <th></th>\n",
       "      <th>Unnamed: 0</th>\n",
       "      <th>id</th>\n",
       "      <th>mb_used</th>\n",
       "      <th>session_date</th>\n",
       "      <th>user_id</th>\n",
       "    </tr>\n",
       "  </thead>\n",
       "  <tbody>\n",
       "    <tr>\n",
       "      <td>0</td>\n",
       "      <td>0</td>\n",
       "      <td>1000_0</td>\n",
       "      <td>112.95</td>\n",
       "      <td>2018-11-25</td>\n",
       "      <td>1000</td>\n",
       "    </tr>\n",
       "    <tr>\n",
       "      <td>1</td>\n",
       "      <td>1</td>\n",
       "      <td>1000_1</td>\n",
       "      <td>1052.81</td>\n",
       "      <td>2018-09-07</td>\n",
       "      <td>1000</td>\n",
       "    </tr>\n",
       "    <tr>\n",
       "      <td>2</td>\n",
       "      <td>2</td>\n",
       "      <td>1000_2</td>\n",
       "      <td>1197.26</td>\n",
       "      <td>2018-06-25</td>\n",
       "      <td>1000</td>\n",
       "    </tr>\n",
       "    <tr>\n",
       "      <td>3</td>\n",
       "      <td>3</td>\n",
       "      <td>1000_3</td>\n",
       "      <td>550.27</td>\n",
       "      <td>2018-08-22</td>\n",
       "      <td>1000</td>\n",
       "    </tr>\n",
       "    <tr>\n",
       "      <td>4</td>\n",
       "      <td>4</td>\n",
       "      <td>1000_4</td>\n",
       "      <td>302.56</td>\n",
       "      <td>2018-09-24</td>\n",
       "      <td>1000</td>\n",
       "    </tr>\n",
       "    <tr>\n",
       "      <td>...</td>\n",
       "      <td>...</td>\n",
       "      <td>...</td>\n",
       "      <td>...</td>\n",
       "      <td>...</td>\n",
       "      <td>...</td>\n",
       "    </tr>\n",
       "    <tr>\n",
       "      <td>149391</td>\n",
       "      <td>149391</td>\n",
       "      <td>1499_152</td>\n",
       "      <td>318.90</td>\n",
       "      <td>2018-10-03</td>\n",
       "      <td>1499</td>\n",
       "    </tr>\n",
       "    <tr>\n",
       "      <td>149392</td>\n",
       "      <td>149392</td>\n",
       "      <td>1499_153</td>\n",
       "      <td>490.13</td>\n",
       "      <td>2018-12-14</td>\n",
       "      <td>1499</td>\n",
       "    </tr>\n",
       "    <tr>\n",
       "      <td>149393</td>\n",
       "      <td>149393</td>\n",
       "      <td>1499_154</td>\n",
       "      <td>0.00</td>\n",
       "      <td>2018-10-27</td>\n",
       "      <td>1499</td>\n",
       "    </tr>\n",
       "    <tr>\n",
       "      <td>149394</td>\n",
       "      <td>149394</td>\n",
       "      <td>1499_155</td>\n",
       "      <td>1246.32</td>\n",
       "      <td>2018-11-26</td>\n",
       "      <td>1499</td>\n",
       "    </tr>\n",
       "    <tr>\n",
       "      <td>149395</td>\n",
       "      <td>149395</td>\n",
       "      <td>1499_156</td>\n",
       "      <td>544.37</td>\n",
       "      <td>2018-10-26</td>\n",
       "      <td>1499</td>\n",
       "    </tr>\n",
       "  </tbody>\n",
       "</table>\n",
       "<p>149396 rows × 5 columns</p>\n",
       "</div>"
      ],
      "text/plain": [
       "        Unnamed: 0        id  mb_used session_date  user_id\n",
       "0                0    1000_0   112.95   2018-11-25     1000\n",
       "1                1    1000_1  1052.81   2018-09-07     1000\n",
       "2                2    1000_2  1197.26   2018-06-25     1000\n",
       "3                3    1000_3   550.27   2018-08-22     1000\n",
       "4                4    1000_4   302.56   2018-09-24     1000\n",
       "...            ...       ...      ...          ...      ...\n",
       "149391      149391  1499_152   318.90   2018-10-03     1499\n",
       "149392      149392  1499_153   490.13   2018-12-14     1499\n",
       "149393      149393  1499_154     0.00   2018-10-27     1499\n",
       "149394      149394  1499_155  1246.32   2018-11-26     1499\n",
       "149395      149395  1499_156   544.37   2018-10-26     1499\n",
       "\n",
       "[149396 rows x 5 columns]"
      ]
     },
     "execution_count": 3,
     "metadata": {},
     "output_type": "execute_result"
    }
   ],
   "source": [
    "data_internet = pd.read_csv(\"/datasets/internet.csv\")\n",
    "data_internet"
   ]
  },
  {
   "cell_type": "code",
   "execution_count": 4,
   "metadata": {},
   "outputs": [
    {
     "name": "stdout",
     "output_type": "stream",
     "text": [
      "<class 'pandas.core.frame.DataFrame'>\n",
      "RangeIndex: 149396 entries, 0 to 149395\n",
      "Data columns (total 5 columns):\n",
      "Unnamed: 0      149396 non-null int64\n",
      "id              149396 non-null object\n",
      "mb_used         149396 non-null float64\n",
      "session_date    149396 non-null object\n",
      "user_id         149396 non-null int64\n",
      "dtypes: float64(1), int64(2), object(2)\n",
      "memory usage: 5.7+ MB\n"
     ]
    }
   ],
   "source": [
    "data_internet.info()"
   ]
  },
  {
   "cell_type": "code",
   "execution_count": 5,
   "metadata": {},
   "outputs": [
    {
     "data": {
      "text/html": [
       "<div>\n",
       "<style scoped>\n",
       "    .dataframe tbody tr th:only-of-type {\n",
       "        vertical-align: middle;\n",
       "    }\n",
       "\n",
       "    .dataframe tbody tr th {\n",
       "        vertical-align: top;\n",
       "    }\n",
       "\n",
       "    .dataframe thead th {\n",
       "        text-align: right;\n",
       "    }\n",
       "</style>\n",
       "<table border=\"1\" class=\"dataframe\">\n",
       "  <thead>\n",
       "    <tr style=\"text-align: right;\">\n",
       "      <th></th>\n",
       "      <th>id</th>\n",
       "      <th>message_date</th>\n",
       "      <th>user_id</th>\n",
       "    </tr>\n",
       "  </thead>\n",
       "  <tbody>\n",
       "    <tr>\n",
       "      <td>0</td>\n",
       "      <td>1000_0</td>\n",
       "      <td>2018-06-27</td>\n",
       "      <td>1000</td>\n",
       "    </tr>\n",
       "    <tr>\n",
       "      <td>1</td>\n",
       "      <td>1000_1</td>\n",
       "      <td>2018-10-08</td>\n",
       "      <td>1000</td>\n",
       "    </tr>\n",
       "    <tr>\n",
       "      <td>2</td>\n",
       "      <td>1000_2</td>\n",
       "      <td>2018-08-04</td>\n",
       "      <td>1000</td>\n",
       "    </tr>\n",
       "    <tr>\n",
       "      <td>3</td>\n",
       "      <td>1000_3</td>\n",
       "      <td>2018-06-16</td>\n",
       "      <td>1000</td>\n",
       "    </tr>\n",
       "    <tr>\n",
       "      <td>4</td>\n",
       "      <td>1000_4</td>\n",
       "      <td>2018-12-05</td>\n",
       "      <td>1000</td>\n",
       "    </tr>\n",
       "    <tr>\n",
       "      <td>...</td>\n",
       "      <td>...</td>\n",
       "      <td>...</td>\n",
       "      <td>...</td>\n",
       "    </tr>\n",
       "    <tr>\n",
       "      <td>123031</td>\n",
       "      <td>1499_179</td>\n",
       "      <td>2018-12-12</td>\n",
       "      <td>1499</td>\n",
       "    </tr>\n",
       "    <tr>\n",
       "      <td>123032</td>\n",
       "      <td>1499_180</td>\n",
       "      <td>2018-09-28</td>\n",
       "      <td>1499</td>\n",
       "    </tr>\n",
       "    <tr>\n",
       "      <td>123033</td>\n",
       "      <td>1499_181</td>\n",
       "      <td>2018-09-27</td>\n",
       "      <td>1499</td>\n",
       "    </tr>\n",
       "    <tr>\n",
       "      <td>123034</td>\n",
       "      <td>1499_182</td>\n",
       "      <td>2018-11-15</td>\n",
       "      <td>1499</td>\n",
       "    </tr>\n",
       "    <tr>\n",
       "      <td>123035</td>\n",
       "      <td>1499_183</td>\n",
       "      <td>2018-11-16</td>\n",
       "      <td>1499</td>\n",
       "    </tr>\n",
       "  </tbody>\n",
       "</table>\n",
       "<p>123036 rows × 3 columns</p>\n",
       "</div>"
      ],
      "text/plain": [
       "              id message_date  user_id\n",
       "0         1000_0   2018-06-27     1000\n",
       "1         1000_1   2018-10-08     1000\n",
       "2         1000_2   2018-08-04     1000\n",
       "3         1000_3   2018-06-16     1000\n",
       "4         1000_4   2018-12-05     1000\n",
       "...          ...          ...      ...\n",
       "123031  1499_179   2018-12-12     1499\n",
       "123032  1499_180   2018-09-28     1499\n",
       "123033  1499_181   2018-09-27     1499\n",
       "123034  1499_182   2018-11-15     1499\n",
       "123035  1499_183   2018-11-16     1499\n",
       "\n",
       "[123036 rows x 3 columns]"
      ]
     },
     "execution_count": 5,
     "metadata": {},
     "output_type": "execute_result"
    }
   ],
   "source": [
    "data_messages = pd.read_csv(\"/datasets/messages.csv\")\n",
    "data_messages"
   ]
  },
  {
   "cell_type": "code",
   "execution_count": 6,
   "metadata": {},
   "outputs": [
    {
     "name": "stdout",
     "output_type": "stream",
     "text": [
      "<class 'pandas.core.frame.DataFrame'>\n",
      "RangeIndex: 123036 entries, 0 to 123035\n",
      "Data columns (total 3 columns):\n",
      "id              123036 non-null object\n",
      "message_date    123036 non-null object\n",
      "user_id         123036 non-null int64\n",
      "dtypes: int64(1), object(2)\n",
      "memory usage: 2.8+ MB\n"
     ]
    }
   ],
   "source": [
    "data_messages.info()"
   ]
  },
  {
   "cell_type": "code",
   "execution_count": 7,
   "metadata": {},
   "outputs": [
    {
     "data": {
      "text/html": [
       "<div>\n",
       "<style scoped>\n",
       "    .dataframe tbody tr th:only-of-type {\n",
       "        vertical-align: middle;\n",
       "    }\n",
       "\n",
       "    .dataframe tbody tr th {\n",
       "        vertical-align: top;\n",
       "    }\n",
       "\n",
       "    .dataframe thead th {\n",
       "        text-align: right;\n",
       "    }\n",
       "</style>\n",
       "<table border=\"1\" class=\"dataframe\">\n",
       "  <thead>\n",
       "    <tr style=\"text-align: right;\">\n",
       "      <th></th>\n",
       "      <th>messages_included</th>\n",
       "      <th>mb_per_month_included</th>\n",
       "      <th>minutes_included</th>\n",
       "      <th>rub_monthly_fee</th>\n",
       "      <th>rub_per_gb</th>\n",
       "      <th>rub_per_message</th>\n",
       "      <th>rub_per_minute</th>\n",
       "      <th>tariff_name</th>\n",
       "    </tr>\n",
       "  </thead>\n",
       "  <tbody>\n",
       "    <tr>\n",
       "      <td>0</td>\n",
       "      <td>50</td>\n",
       "      <td>15360</td>\n",
       "      <td>500</td>\n",
       "      <td>550</td>\n",
       "      <td>200</td>\n",
       "      <td>3</td>\n",
       "      <td>3</td>\n",
       "      <td>smart</td>\n",
       "    </tr>\n",
       "    <tr>\n",
       "      <td>1</td>\n",
       "      <td>1000</td>\n",
       "      <td>30720</td>\n",
       "      <td>3000</td>\n",
       "      <td>1950</td>\n",
       "      <td>150</td>\n",
       "      <td>1</td>\n",
       "      <td>1</td>\n",
       "      <td>ultra</td>\n",
       "    </tr>\n",
       "  </tbody>\n",
       "</table>\n",
       "</div>"
      ],
      "text/plain": [
       "   messages_included  mb_per_month_included  minutes_included  \\\n",
       "0                 50                  15360               500   \n",
       "1               1000                  30720              3000   \n",
       "\n",
       "   rub_monthly_fee  rub_per_gb  rub_per_message  rub_per_minute tariff_name  \n",
       "0              550         200                3               3       smart  \n",
       "1             1950         150                1               1       ultra  "
      ]
     },
     "execution_count": 7,
     "metadata": {},
     "output_type": "execute_result"
    }
   ],
   "source": [
    "data_tariffs = pd.read_csv(\"/datasets/tariffs.csv\")\n",
    "data_tariffs"
   ]
  },
  {
   "cell_type": "code",
   "execution_count": 8,
   "metadata": {},
   "outputs": [
    {
     "name": "stdout",
     "output_type": "stream",
     "text": [
      "<class 'pandas.core.frame.DataFrame'>\n",
      "RangeIndex: 2 entries, 0 to 1\n",
      "Data columns (total 8 columns):\n",
      "messages_included        2 non-null int64\n",
      "mb_per_month_included    2 non-null int64\n",
      "minutes_included         2 non-null int64\n",
      "rub_monthly_fee          2 non-null int64\n",
      "rub_per_gb               2 non-null int64\n",
      "rub_per_message          2 non-null int64\n",
      "rub_per_minute           2 non-null int64\n",
      "tariff_name              2 non-null object\n",
      "dtypes: int64(7), object(1)\n",
      "memory usage: 256.0+ bytes\n"
     ]
    }
   ],
   "source": [
    "data_tariffs.info()"
   ]
  },
  {
   "cell_type": "code",
   "execution_count": 9,
   "metadata": {},
   "outputs": [
    {
     "data": {
      "text/html": [
       "<div>\n",
       "<style scoped>\n",
       "    .dataframe tbody tr th:only-of-type {\n",
       "        vertical-align: middle;\n",
       "    }\n",
       "\n",
       "    .dataframe tbody tr th {\n",
       "        vertical-align: top;\n",
       "    }\n",
       "\n",
       "    .dataframe thead th {\n",
       "        text-align: right;\n",
       "    }\n",
       "</style>\n",
       "<table border=\"1\" class=\"dataframe\">\n",
       "  <thead>\n",
       "    <tr style=\"text-align: right;\">\n",
       "      <th></th>\n",
       "      <th>user_id</th>\n",
       "      <th>age</th>\n",
       "      <th>churn_date</th>\n",
       "      <th>city</th>\n",
       "      <th>first_name</th>\n",
       "      <th>last_name</th>\n",
       "      <th>reg_date</th>\n",
       "      <th>tariff</th>\n",
       "    </tr>\n",
       "  </thead>\n",
       "  <tbody>\n",
       "    <tr>\n",
       "      <td>0</td>\n",
       "      <td>1000</td>\n",
       "      <td>52</td>\n",
       "      <td>NaN</td>\n",
       "      <td>Краснодар</td>\n",
       "      <td>Рафаил</td>\n",
       "      <td>Верещагин</td>\n",
       "      <td>2018-05-25</td>\n",
       "      <td>ultra</td>\n",
       "    </tr>\n",
       "    <tr>\n",
       "      <td>1</td>\n",
       "      <td>1001</td>\n",
       "      <td>41</td>\n",
       "      <td>NaN</td>\n",
       "      <td>Москва</td>\n",
       "      <td>Иван</td>\n",
       "      <td>Ежов</td>\n",
       "      <td>2018-11-01</td>\n",
       "      <td>smart</td>\n",
       "    </tr>\n",
       "    <tr>\n",
       "      <td>2</td>\n",
       "      <td>1002</td>\n",
       "      <td>59</td>\n",
       "      <td>NaN</td>\n",
       "      <td>Стерлитамак</td>\n",
       "      <td>Евгений</td>\n",
       "      <td>Абрамович</td>\n",
       "      <td>2018-06-17</td>\n",
       "      <td>smart</td>\n",
       "    </tr>\n",
       "    <tr>\n",
       "      <td>3</td>\n",
       "      <td>1003</td>\n",
       "      <td>23</td>\n",
       "      <td>NaN</td>\n",
       "      <td>Москва</td>\n",
       "      <td>Белла</td>\n",
       "      <td>Белякова</td>\n",
       "      <td>2018-08-17</td>\n",
       "      <td>ultra</td>\n",
       "    </tr>\n",
       "    <tr>\n",
       "      <td>4</td>\n",
       "      <td>1004</td>\n",
       "      <td>68</td>\n",
       "      <td>NaN</td>\n",
       "      <td>Новокузнецк</td>\n",
       "      <td>Татьяна</td>\n",
       "      <td>Авдеенко</td>\n",
       "      <td>2018-05-14</td>\n",
       "      <td>ultra</td>\n",
       "    </tr>\n",
       "    <tr>\n",
       "      <td>...</td>\n",
       "      <td>...</td>\n",
       "      <td>...</td>\n",
       "      <td>...</td>\n",
       "      <td>...</td>\n",
       "      <td>...</td>\n",
       "      <td>...</td>\n",
       "      <td>...</td>\n",
       "      <td>...</td>\n",
       "    </tr>\n",
       "    <tr>\n",
       "      <td>495</td>\n",
       "      <td>1495</td>\n",
       "      <td>65</td>\n",
       "      <td>NaN</td>\n",
       "      <td>Иркутск</td>\n",
       "      <td>Авксентий</td>\n",
       "      <td>Фокин</td>\n",
       "      <td>2018-08-28</td>\n",
       "      <td>ultra</td>\n",
       "    </tr>\n",
       "    <tr>\n",
       "      <td>496</td>\n",
       "      <td>1496</td>\n",
       "      <td>36</td>\n",
       "      <td>NaN</td>\n",
       "      <td>Вологда</td>\n",
       "      <td>Трифон</td>\n",
       "      <td>Блохин</td>\n",
       "      <td>2018-01-27</td>\n",
       "      <td>smart</td>\n",
       "    </tr>\n",
       "    <tr>\n",
       "      <td>497</td>\n",
       "      <td>1497</td>\n",
       "      <td>32</td>\n",
       "      <td>NaN</td>\n",
       "      <td>Челябинск</td>\n",
       "      <td>Каролина</td>\n",
       "      <td>Агеева</td>\n",
       "      <td>2018-10-09</td>\n",
       "      <td>smart</td>\n",
       "    </tr>\n",
       "    <tr>\n",
       "      <td>498</td>\n",
       "      <td>1498</td>\n",
       "      <td>68</td>\n",
       "      <td>2018-10-25</td>\n",
       "      <td>Владикавказ</td>\n",
       "      <td>Всеволод</td>\n",
       "      <td>Акимчин</td>\n",
       "      <td>2018-07-19</td>\n",
       "      <td>smart</td>\n",
       "    </tr>\n",
       "    <tr>\n",
       "      <td>499</td>\n",
       "      <td>1499</td>\n",
       "      <td>35</td>\n",
       "      <td>NaN</td>\n",
       "      <td>Пермь</td>\n",
       "      <td>Гектор</td>\n",
       "      <td>Корнилов</td>\n",
       "      <td>2018-09-27</td>\n",
       "      <td>smart</td>\n",
       "    </tr>\n",
       "  </tbody>\n",
       "</table>\n",
       "<p>500 rows × 8 columns</p>\n",
       "</div>"
      ],
      "text/plain": [
       "     user_id  age  churn_date         city first_name  last_name    reg_date  \\\n",
       "0       1000   52         NaN    Краснодар     Рафаил  Верещагин  2018-05-25   \n",
       "1       1001   41         NaN       Москва       Иван       Ежов  2018-11-01   \n",
       "2       1002   59         NaN  Стерлитамак    Евгений  Абрамович  2018-06-17   \n",
       "3       1003   23         NaN       Москва      Белла   Белякова  2018-08-17   \n",
       "4       1004   68         NaN  Новокузнецк    Татьяна   Авдеенко  2018-05-14   \n",
       "..       ...  ...         ...          ...        ...        ...         ...   \n",
       "495     1495   65         NaN      Иркутск  Авксентий      Фокин  2018-08-28   \n",
       "496     1496   36         NaN      Вологда     Трифон     Блохин  2018-01-27   \n",
       "497     1497   32         NaN    Челябинск   Каролина     Агеева  2018-10-09   \n",
       "498     1498   68  2018-10-25  Владикавказ   Всеволод    Акимчин  2018-07-19   \n",
       "499     1499   35         NaN        Пермь     Гектор   Корнилов  2018-09-27   \n",
       "\n",
       "    tariff  \n",
       "0    ultra  \n",
       "1    smart  \n",
       "2    smart  \n",
       "3    ultra  \n",
       "4    ultra  \n",
       "..     ...  \n",
       "495  ultra  \n",
       "496  smart  \n",
       "497  smart  \n",
       "498  smart  \n",
       "499  smart  \n",
       "\n",
       "[500 rows x 8 columns]"
      ]
     },
     "execution_count": 9,
     "metadata": {},
     "output_type": "execute_result"
    }
   ],
   "source": [
    "data_users = pd.read_csv(\"/datasets/users.csv\")\n",
    "data_users"
   ]
  },
  {
   "cell_type": "code",
   "execution_count": 10,
   "metadata": {},
   "outputs": [
    {
     "name": "stdout",
     "output_type": "stream",
     "text": [
      "<class 'pandas.core.frame.DataFrame'>\n",
      "RangeIndex: 500 entries, 0 to 499\n",
      "Data columns (total 8 columns):\n",
      "user_id       500 non-null int64\n",
      "age           500 non-null int64\n",
      "churn_date    38 non-null object\n",
      "city          500 non-null object\n",
      "first_name    500 non-null object\n",
      "last_name     500 non-null object\n",
      "reg_date      500 non-null object\n",
      "tariff        500 non-null object\n",
      "dtypes: int64(2), object(6)\n",
      "memory usage: 31.4+ KB\n"
     ]
    }
   ],
   "source": [
    "data_users.info()"
   ]
  },
  {
   "cell_type": "markdown",
   "metadata": {},
   "source": [
    "**Вывод**\n",
    "\n",
    "В данных 5 таблицах сожержатся данные не в нужных форматах. В дальнейшем нужно будет привести их к нужному типу, а так же проверить на кол-во дубликатов и пропущенных значений.\n",
    "\n",
    "В таблице data_internet обнаружен столбец Unnamed: 0, который копирует порядковый номер строки, этот столбец можно удалить в дальнейшем."
   ]
  },
  {
   "cell_type": "markdown",
   "metadata": {},
   "source": [
    "## Шаг 2. Подготовить данные"
   ]
  },
  {
   "cell_type": "markdown",
   "metadata": {},
   "source": [
    "### Приведите данные к нужным типам"
   ]
  },
  {
   "cell_type": "code",
   "execution_count": 11,
   "metadata": {},
   "outputs": [
    {
     "name": "stdout",
     "output_type": "stream",
     "text": [
      "<class 'pandas.core.frame.DataFrame'>\n",
      "RangeIndex: 202607 entries, 0 to 202606\n",
      "Data columns (total 4 columns):\n",
      "id           202607 non-null int64\n",
      "call_date    202607 non-null datetime64[ns]\n",
      "duration     202607 non-null float64\n",
      "user_id      202607 non-null int64\n",
      "dtypes: datetime64[ns](1), float64(1), int64(2)\n",
      "memory usage: 6.2 MB\n"
     ]
    }
   ],
   "source": [
    "data_calls['id'] = data_calls['id'].astype('int')\n",
    "data_calls['call_date'] = pd.to_datetime(data_calls['call_date'], format = '%Y-%m-%d')\n",
    "data_calls.info()"
   ]
  },
  {
   "cell_type": "code",
   "execution_count": 12,
   "metadata": {},
   "outputs": [
    {
     "name": "stdout",
     "output_type": "stream",
     "text": [
      "<class 'pandas.core.frame.DataFrame'>\n",
      "RangeIndex: 149396 entries, 0 to 149395\n",
      "Data columns (total 5 columns):\n",
      "Unnamed: 0      149396 non-null int64\n",
      "id              149396 non-null int64\n",
      "mb_used         149396 non-null float64\n",
      "session_date    149396 non-null datetime64[ns]\n",
      "user_id         149396 non-null int64\n",
      "dtypes: datetime64[ns](1), float64(1), int64(3)\n",
      "memory usage: 5.7 MB\n"
     ]
    }
   ],
   "source": [
    "data_internet['id'] = data_internet['id'].astype('int')\n",
    "data_internet['session_date'] = pd.to_datetime(data_internet['session_date'], format = '%Y-%m-%d')  \n",
    "data_internet.info()"
   ]
  },
  {
   "cell_type": "code",
   "execution_count": 13,
   "metadata": {},
   "outputs": [
    {
     "name": "stdout",
     "output_type": "stream",
     "text": [
      "<class 'pandas.core.frame.DataFrame'>\n",
      "RangeIndex: 123036 entries, 0 to 123035\n",
      "Data columns (total 3 columns):\n",
      "id              123036 non-null int64\n",
      "message_date    123036 non-null datetime64[ns]\n",
      "user_id         123036 non-null int64\n",
      "dtypes: datetime64[ns](1), int64(2)\n",
      "memory usage: 2.8 MB\n"
     ]
    }
   ],
   "source": [
    "data_messages['id'] = data_messages['id'].astype('int')\n",
    "data_messages['message_date'] = pd.to_datetime(data_messages['message_date'], format = '%Y-%m-%d')\n",
    "data_messages.info()"
   ]
  },
  {
   "cell_type": "code",
   "execution_count": 14,
   "metadata": {},
   "outputs": [
    {
     "name": "stdout",
     "output_type": "stream",
     "text": [
      "<class 'pandas.core.frame.DataFrame'>\n",
      "RangeIndex: 500 entries, 0 to 499\n",
      "Data columns (total 8 columns):\n",
      "user_id       500 non-null int64\n",
      "age           500 non-null int64\n",
      "churn_date    38 non-null datetime64[ns]\n",
      "city          500 non-null object\n",
      "first_name    500 non-null object\n",
      "last_name     500 non-null object\n",
      "reg_date      500 non-null datetime64[ns]\n",
      "tariff        500 non-null object\n",
      "dtypes: datetime64[ns](2), int64(2), object(4)\n",
      "memory usage: 31.4+ KB\n"
     ]
    }
   ],
   "source": [
    "data_users['churn_date'] = pd.to_datetime(data_users['churn_date'], format = '%Y-%m-%d')\n",
    "data_users['reg_date'] = pd.to_datetime(data_users['reg_date'], format = '%Y-%m-%d')\n",
    "data_users.info()"
   ]
  },
  {
   "cell_type": "markdown",
   "metadata": {},
   "source": [
    "**Вывод**\n",
    "\n",
    "Все данные приведены у нужному типу: к целочисленному значению и к дате, где это необходимо."
   ]
  },
  {
   "cell_type": "markdown",
   "metadata": {},
   "source": [
    "### Найти и исправить ошибки в данных, если они есть"
   ]
  },
  {
   "cell_type": "code",
   "execution_count": 15,
   "metadata": {},
   "outputs": [],
   "source": [
    "del data_internet['Unnamed: 0']"
   ]
  },
  {
   "cell_type": "code",
   "execution_count": 16,
   "metadata": {},
   "outputs": [
    {
     "data": {
      "text/plain": [
       "0"
      ]
     },
     "execution_count": 16,
     "metadata": {},
     "output_type": "execute_result"
    }
   ],
   "source": [
    "data_calls.duplicated().sum()"
   ]
  },
  {
   "cell_type": "code",
   "execution_count": 17,
   "metadata": {},
   "outputs": [
    {
     "data": {
      "text/plain": [
       "id           0\n",
       "call_date    0\n",
       "duration     0\n",
       "user_id      0\n",
       "dtype: int64"
      ]
     },
     "execution_count": 17,
     "metadata": {},
     "output_type": "execute_result"
    }
   ],
   "source": [
    "data_calls.isnull().sum()"
   ]
  },
  {
   "cell_type": "code",
   "execution_count": 18,
   "metadata": {},
   "outputs": [
    {
     "data": {
      "text/plain": [
       "0"
      ]
     },
     "execution_count": 18,
     "metadata": {},
     "output_type": "execute_result"
    }
   ],
   "source": [
    "data_internet.duplicated().sum()"
   ]
  },
  {
   "cell_type": "code",
   "execution_count": 19,
   "metadata": {},
   "outputs": [
    {
     "data": {
      "text/plain": [
       "id              0\n",
       "mb_used         0\n",
       "session_date    0\n",
       "user_id         0\n",
       "dtype: int64"
      ]
     },
     "execution_count": 19,
     "metadata": {},
     "output_type": "execute_result"
    }
   ],
   "source": [
    "data_internet.isnull().sum()"
   ]
  },
  {
   "cell_type": "code",
   "execution_count": 20,
   "metadata": {},
   "outputs": [
    {
     "data": {
      "text/plain": [
       "0"
      ]
     },
     "execution_count": 20,
     "metadata": {},
     "output_type": "execute_result"
    }
   ],
   "source": [
    "data_messages.duplicated().sum()"
   ]
  },
  {
   "cell_type": "code",
   "execution_count": 21,
   "metadata": {},
   "outputs": [
    {
     "data": {
      "text/plain": [
       "id              0\n",
       "message_date    0\n",
       "user_id         0\n",
       "dtype: int64"
      ]
     },
     "execution_count": 21,
     "metadata": {},
     "output_type": "execute_result"
    }
   ],
   "source": [
    "data_messages.isnull().sum()"
   ]
  },
  {
   "cell_type": "code",
   "execution_count": 22,
   "metadata": {},
   "outputs": [
    {
     "data": {
      "text/plain": [
       "0"
      ]
     },
     "execution_count": 22,
     "metadata": {},
     "output_type": "execute_result"
    }
   ],
   "source": [
    "data_users.duplicated().sum()"
   ]
  },
  {
   "cell_type": "code",
   "execution_count": 23,
   "metadata": {},
   "outputs": [
    {
     "data": {
      "text/plain": [
       "user_id         0\n",
       "age             0\n",
       "churn_date    462\n",
       "city            0\n",
       "first_name      0\n",
       "last_name       0\n",
       "reg_date        0\n",
       "tariff          0\n",
       "dtype: int64"
      ]
     },
     "execution_count": 23,
     "metadata": {},
     "output_type": "execute_result"
    }
   ],
   "source": [
    "data_users.isnull().sum()"
   ]
  },
  {
   "cell_type": "code",
   "execution_count": 24,
   "metadata": {},
   "outputs": [
    {
     "data": {
      "text/plain": [
       "0     2099-01-01\n",
       "1     2099-01-01\n",
       "2     2099-01-01\n",
       "3     2099-01-01\n",
       "4     2099-01-01\n",
       "         ...    \n",
       "495   2099-01-01\n",
       "496   2099-01-01\n",
       "497   2099-01-01\n",
       "498   2018-10-25\n",
       "499   2099-01-01\n",
       "Name: churn_date, Length: 500, dtype: datetime64[ns]"
      ]
     },
     "execution_count": 24,
     "metadata": {},
     "output_type": "execute_result"
    }
   ],
   "source": [
    "data_users['churn_date'] = data_users['churn_date'].fillna('2099-01-01')\n",
    "data_users['churn_date'] = pd.to_datetime(data_users['churn_date'], format = '%Y-%m-%d') # привели опять к нужному типу дату\n",
    "data_users.isnull().sum()\n",
    "data_users['churn_date']"
   ]
  },
  {
   "cell_type": "code",
   "execution_count": 25,
   "metadata": {},
   "outputs": [
    {
     "data": {
      "text/plain": [
       "492"
      ]
     },
     "execution_count": 25,
     "metadata": {},
     "output_type": "execute_result"
    }
   ],
   "source": [
    "data_calls['user_id'].nunique()"
   ]
  },
  {
   "cell_type": "code",
   "execution_count": 26,
   "metadata": {},
   "outputs": [
    {
     "data": {
      "text/plain": [
       "497"
      ]
     },
     "execution_count": 26,
     "metadata": {},
     "output_type": "execute_result"
    }
   ],
   "source": [
    "data_internet['user_id'].nunique()"
   ]
  },
  {
   "cell_type": "code",
   "execution_count": 27,
   "metadata": {},
   "outputs": [
    {
     "data": {
      "text/html": [
       "<div>\n",
       "<style scoped>\n",
       "    .dataframe tbody tr th:only-of-type {\n",
       "        vertical-align: middle;\n",
       "    }\n",
       "\n",
       "    .dataframe tbody tr th {\n",
       "        vertical-align: top;\n",
       "    }\n",
       "\n",
       "    .dataframe thead th {\n",
       "        text-align: right;\n",
       "    }\n",
       "</style>\n",
       "<table border=\"1\" class=\"dataframe\">\n",
       "  <thead>\n",
       "    <tr style=\"text-align: right;\">\n",
       "      <th></th>\n",
       "      <th>id</th>\n",
       "      <th>mb_used</th>\n",
       "      <th>session_date</th>\n",
       "      <th>user_id</th>\n",
       "    </tr>\n",
       "  </thead>\n",
       "  <tbody>\n",
       "    <tr>\n",
       "      <td>0</td>\n",
       "      <td>10000</td>\n",
       "      <td>112.95</td>\n",
       "      <td>2018-11-25</td>\n",
       "      <td>1000</td>\n",
       "    </tr>\n",
       "    <tr>\n",
       "      <td>1</td>\n",
       "      <td>10001</td>\n",
       "      <td>1052.81</td>\n",
       "      <td>2018-09-07</td>\n",
       "      <td>1000</td>\n",
       "    </tr>\n",
       "    <tr>\n",
       "      <td>2</td>\n",
       "      <td>10002</td>\n",
       "      <td>1197.26</td>\n",
       "      <td>2018-06-25</td>\n",
       "      <td>1000</td>\n",
       "    </tr>\n",
       "    <tr>\n",
       "      <td>3</td>\n",
       "      <td>10003</td>\n",
       "      <td>550.27</td>\n",
       "      <td>2018-08-22</td>\n",
       "      <td>1000</td>\n",
       "    </tr>\n",
       "    <tr>\n",
       "      <td>4</td>\n",
       "      <td>10004</td>\n",
       "      <td>302.56</td>\n",
       "      <td>2018-09-24</td>\n",
       "      <td>1000</td>\n",
       "    </tr>\n",
       "    <tr>\n",
       "      <td>...</td>\n",
       "      <td>...</td>\n",
       "      <td>...</td>\n",
       "      <td>...</td>\n",
       "      <td>...</td>\n",
       "    </tr>\n",
       "    <tr>\n",
       "      <td>149391</td>\n",
       "      <td>1499152</td>\n",
       "      <td>318.90</td>\n",
       "      <td>2018-10-03</td>\n",
       "      <td>1499</td>\n",
       "    </tr>\n",
       "    <tr>\n",
       "      <td>149392</td>\n",
       "      <td>1499153</td>\n",
       "      <td>490.13</td>\n",
       "      <td>2018-12-14</td>\n",
       "      <td>1499</td>\n",
       "    </tr>\n",
       "    <tr>\n",
       "      <td>149393</td>\n",
       "      <td>1499154</td>\n",
       "      <td>0.00</td>\n",
       "      <td>2018-10-27</td>\n",
       "      <td>1499</td>\n",
       "    </tr>\n",
       "    <tr>\n",
       "      <td>149394</td>\n",
       "      <td>1499155</td>\n",
       "      <td>1246.32</td>\n",
       "      <td>2018-11-26</td>\n",
       "      <td>1499</td>\n",
       "    </tr>\n",
       "    <tr>\n",
       "      <td>149395</td>\n",
       "      <td>1499156</td>\n",
       "      <td>544.37</td>\n",
       "      <td>2018-10-26</td>\n",
       "      <td>1499</td>\n",
       "    </tr>\n",
       "  </tbody>\n",
       "</table>\n",
       "<p>149396 rows × 4 columns</p>\n",
       "</div>"
      ],
      "text/plain": [
       "             id  mb_used session_date  user_id\n",
       "0         10000   112.95   2018-11-25     1000\n",
       "1         10001  1052.81   2018-09-07     1000\n",
       "2         10002  1197.26   2018-06-25     1000\n",
       "3         10003   550.27   2018-08-22     1000\n",
       "4         10004   302.56   2018-09-24     1000\n",
       "...         ...      ...          ...      ...\n",
       "149391  1499152   318.90   2018-10-03     1499\n",
       "149392  1499153   490.13   2018-12-14     1499\n",
       "149393  1499154     0.00   2018-10-27     1499\n",
       "149394  1499155  1246.32   2018-11-26     1499\n",
       "149395  1499156   544.37   2018-10-26     1499\n",
       "\n",
       "[149396 rows x 4 columns]"
      ]
     },
     "execution_count": 27,
     "metadata": {},
     "output_type": "execute_result"
    }
   ],
   "source": [
    "data_internet"
   ]
  },
  {
   "cell_type": "code",
   "execution_count": 28,
   "metadata": {},
   "outputs": [
    {
     "data": {
      "text/plain": [
       "497"
      ]
     },
     "execution_count": 28,
     "metadata": {},
     "output_type": "execute_result"
    }
   ],
   "source": [
    "data_internet['user_id'].nunique()"
   ]
  },
  {
   "cell_type": "code",
   "execution_count": 29,
   "metadata": {},
   "outputs": [
    {
     "data": {
      "text/plain": [
       "365"
      ]
     },
     "execution_count": 29,
     "metadata": {},
     "output_type": "execute_result"
    }
   ],
   "source": [
    "data_internet['session_date'].nunique()"
   ]
  },
  {
   "cell_type": "code",
   "execution_count": 30,
   "metadata": {},
   "outputs": [
    {
     "data": {
      "text/plain": [
       "364"
      ]
     },
     "execution_count": 30,
     "metadata": {},
     "output_type": "execute_result"
    }
   ],
   "source": [
    "data_messages['message_date'].nunique()"
   ]
  },
  {
   "cell_type": "code",
   "execution_count": 31,
   "metadata": {},
   "outputs": [
    {
     "data": {
      "text/plain": [
       "426"
      ]
     },
     "execution_count": 31,
     "metadata": {},
     "output_type": "execute_result"
    }
   ],
   "source": [
    "data_messages['user_id'].nunique()"
   ]
  },
  {
   "cell_type": "code",
   "execution_count": 32,
   "metadata": {},
   "outputs": [
    {
     "data": {
      "text/plain": [
       "500"
      ]
     },
     "execution_count": 32,
     "metadata": {},
     "output_type": "execute_result"
    }
   ],
   "source": [
    "data_users['user_id'].nunique()"
   ]
  },
  {
   "cell_type": "code",
   "execution_count": 33,
   "metadata": {},
   "outputs": [
    {
     "data": {
      "text/plain": [
       "array([52, 41, 59, 23, 68, 67, 21, 65, 63, 24, 26, 44, 38, 36, 64, 58, 73,\n",
       "       71, 61, 72, 42, 56, 32, 62, 20, 51, 28, 66, 31, 37, 47, 40, 69, 48,\n",
       "       33, 39, 43, 46, 45, 55, 53, 34, 49, 25, 18, 70, 50, 19, 54, 60, 29,\n",
       "       27, 74, 22, 30, 75, 57, 35])"
      ]
     },
     "execution_count": 33,
     "metadata": {},
     "output_type": "execute_result"
    }
   ],
   "source": [
    "data_users['age'].unique()"
   ]
  },
  {
   "cell_type": "code",
   "execution_count": 34,
   "metadata": {},
   "outputs": [
    {
     "data": {
      "text/plain": [
       "array(['Краснодар', 'Москва', 'Стерлитамак', 'Новокузнецк',\n",
       "       'Набережные Челны', 'Ульяновск', 'Челябинск', 'Пермь', 'Тюмень',\n",
       "       'Самара', 'Санкт-Петербург', 'Иваново', 'Чебоксары', 'Омск', 'Уфа',\n",
       "       'Томск', 'Чита', 'Мурманск', 'Петрозаводск', 'Тверь',\n",
       "       'Екатеринбург', 'Махачкала', 'Вологда', 'Череповец', 'Ярославль',\n",
       "       'Сочи', 'Хабаровск', 'Ставрополь', 'Рязань', 'Улан-Удэ', 'Тула',\n",
       "       'Саратов', 'Ростов-на-Дону', 'Казань', 'Иркутск', 'Курск',\n",
       "       'Калуга', 'Якутск', 'Астрахань', 'Химки', 'Владикавказ',\n",
       "       'Волгоград', 'Саранск', 'Ижевск', 'Новосибирск', 'Брянск',\n",
       "       'Тольятти', 'Нижний Тагил', 'Орёл', 'Белгород', 'Воронеж',\n",
       "       'Волжский', 'Курган', 'Барнаул', 'Красноярск', 'Архангельск',\n",
       "       'Липецк', 'Кемерово', 'Киров', 'Сургут', 'Пенза', 'Магнитогорск',\n",
       "       'Нижний Новгород', 'Кострома', 'Владивосток', 'Тамбов', 'Балашиха',\n",
       "       'Севастополь', 'Калининград', 'Оренбург', 'Смоленск',\n",
       "       'Нижневартовск', 'Владимир', 'Новороссийск', 'Грозный', 'Подольск'],\n",
       "      dtype=object)"
      ]
     },
     "execution_count": 34,
     "metadata": {},
     "output_type": "execute_result"
    }
   ],
   "source": [
    "data_users['city'].unique()"
   ]
  },
  {
   "cell_type": "code",
   "execution_count": 35,
   "metadata": {},
   "outputs": [
    {
     "data": {
      "text/plain": [
       "2"
      ]
     },
     "execution_count": 35,
     "metadata": {},
     "output_type": "execute_result"
    }
   ],
   "source": [
    "data_users['tariff'].nunique()"
   ]
  },
  {
   "cell_type": "markdown",
   "metadata": {},
   "source": [
    "**Построим графики распределений, чтобы прооверить на аномальные значения**"
   ]
  },
  {
   "cell_type": "code",
   "execution_count": 36,
   "metadata": {},
   "outputs": [
    {
     "data": {
      "image/png": "[encoded data removed]",
      "text/plain": [
       "<Figure size 432x288 with 1 Axes>"
      ]
     },
     "metadata": {
      "needs_background": "light"
     },
     "output_type": "display_data"
    },
    {
     "data": {
      "text/plain": [
       "<matplotlib.axes._subplots.AxesSubplot at 0x7f85dacf8250>"
      ]
     },
     "execution_count": 36,
     "metadata": {},
     "output_type": "execute_result"
    },
    {
     "data": {
      "image/png": "[encoded data removed]",
      "text/plain": [
       "<Figure size 432x288 with 1 Axes>"
      ]
     },
     "metadata": {
      "needs_background": "light"
     },
     "output_type": "display_data"
    }
   ],
   "source": [
    "import matplotlib.pyplot as plt\n",
    "data_calls['duration'].hist(bins = 50, range = (1,40))\n",
    "plt.show()\n",
    "data_calls.boxplot(column = 'duration')"
   ]
  },
  {
   "cell_type": "code",
   "execution_count": 37,
   "metadata": {},
   "outputs": [
    {
     "data": {
      "text/plain": [
       "count    202607.000000\n",
       "mean          6.755887\n",
       "std           5.843365\n",
       "min           0.000000\n",
       "25%           1.300000\n",
       "50%           6.000000\n",
       "75%          10.700000\n",
       "max          38.000000\n",
       "Name: duration, dtype: float64"
      ]
     },
     "execution_count": 37,
     "metadata": {},
     "output_type": "execute_result"
    }
   ],
   "source": [
    "data_calls['duration'].describe()"
   ]
  },
  {
   "cell_type": "markdown",
   "metadata": {},
   "source": [
    "По графику распределения и ящику с усами видно, что продолжительность разговора больше 25 мин - это аномальные зачения. Скорее всего эти пользователи любят побольше поговорить, такие тоже есть. Может быть люди далеко живут друг от друга, редко видятся, и поэтому подолгу разговаривают."
   ]
  },
  {
   "cell_type": "code",
   "execution_count": 38,
   "metadata": {},
   "outputs": [
    {
     "data": {
      "image/png": "[encoded data removed]",
      "text/plain": [
       "<Figure size 432x288 with 1 Axes>"
      ]
     },
     "metadata": {
      "needs_background": "light"
     },
     "output_type": "display_data"
    },
    {
     "data": {
      "text/plain": [
       "<matplotlib.axes._subplots.AxesSubplot at 0x7f85db213a50>"
      ]
     },
     "execution_count": 38,
     "metadata": {},
     "output_type": "execute_result"
    },
    {
     "data": {
      "image/png": "[encoded data removed]",
      "text/plain": [
       "<Figure size 432x288 with 1 Axes>"
      ]
     },
     "metadata": {
      "needs_background": "light"
     },
     "output_type": "display_data"
    }
   ],
   "source": [
    "data_internet['mb_used'].hist(bins = 50, range = (1,1500))\n",
    "plt.show()\n",
    "data_internet.boxplot(column = 'mb_used')"
   ]
  },
  {
   "cell_type": "code",
   "execution_count": 39,
   "metadata": {},
   "outputs": [
    {
     "data": {
      "text/plain": [
       "count    149396.000000\n",
       "mean        370.192426\n",
       "std         278.300951\n",
       "min           0.000000\n",
       "25%         138.187500\n",
       "50%         348.015000\n",
       "75%         559.552500\n",
       "max        1724.830000\n",
       "Name: mb_used, dtype: float64"
      ]
     },
     "execution_count": 39,
     "metadata": {},
     "output_type": "execute_result"
    }
   ],
   "source": [
    "data_internet['mb_used'].describe()"
   ]
  },
  {
   "cell_type": "markdown",
   "metadata": {},
   "source": [
    "По графику распределения и ящику с усами видно, что объем потраченного интернета больше 1200 МБ - это аномальные зачения. Скорее всего такие пользователи действительно тратили больше интернета (смотрели фильмы, играли в онлайн - игры). Такие данные, хоть они и выбиваются, их неразумно удалять из датасета, так что их оставляем."
   ]
  },
  {
   "cell_type": "markdown",
   "metadata": {},
   "source": [
    "**Вывод**\n",
    "\n",
    "Дубликатов в таблицах нет.\n",
    "\n",
    "В таблице data_users в столбце churn_date 462 пустых значения. \n",
    "churn_date — дата прекращения пользования тарифом (если значение пропущено, то тариф ещё действовал на момент выгрузки данных). Это почти 10 % от всего датафрейма. Удалить нельзя такие строки. Значит заменим значения на датамаркер '2099-01-01', чтобы выделялись из заполненных значений.\n",
    "\n",
    "В таблице data_internet в столбце mb_used есть значения, равные 0. Таких строк около 13 % от всего датасета. Удалять их нельзя. Получается сессия попала в таблицу, но фактически трафик не был использован - такое тоже может быть. Некоторые могут не пользоваться интернетом, 13 % выглядит реалистично. Если выборка 500 пользователей, получается в среднем каждый не использует интерент в месяц около 5 дней - вполне реально.\n",
    "\n",
    "Аномальные значения были найдены в продолжительности разговора и в используемом трафике интернета.\n",
    "Разговоры больше 25 минут оставили на месте, так же как и с используемым трафиком ничего не делали, оставили все как есть. Нельзя терять такие данные, если это обосновано."
   ]
  },
  {
   "cell_type": "markdown",
   "metadata": {},
   "source": [
    "### Количество сделанных звонков и израсходованных минут разговора по месяцам"
   ]
  },
  {
   "cell_type": "code",
   "execution_count": 40,
   "metadata": {},
   "outputs": [
    {
     "data": {
      "text/html": [
       "<div>\n",
       "<style scoped>\n",
       "    .dataframe tbody tr th:only-of-type {\n",
       "        vertical-align: middle;\n",
       "    }\n",
       "\n",
       "    .dataframe tbody tr th {\n",
       "        vertical-align: top;\n",
       "    }\n",
       "\n",
       "    .dataframe thead th {\n",
       "        text-align: right;\n",
       "    }\n",
       "</style>\n",
       "<table border=\"1\" class=\"dataframe\">\n",
       "  <thead>\n",
       "    <tr style=\"text-align: right;\">\n",
       "      <th></th>\n",
       "      <th>id</th>\n",
       "      <th>call_date</th>\n",
       "      <th>duration</th>\n",
       "      <th>user_id</th>\n",
       "      <th>month</th>\n",
       "    </tr>\n",
       "  </thead>\n",
       "  <tbody>\n",
       "    <tr>\n",
       "      <td>0</td>\n",
       "      <td>10000</td>\n",
       "      <td>2018-07-25</td>\n",
       "      <td>0.00</td>\n",
       "      <td>1000</td>\n",
       "      <td>7</td>\n",
       "    </tr>\n",
       "    <tr>\n",
       "      <td>1</td>\n",
       "      <td>10001</td>\n",
       "      <td>2018-08-17</td>\n",
       "      <td>0.00</td>\n",
       "      <td>1000</td>\n",
       "      <td>8</td>\n",
       "    </tr>\n",
       "    <tr>\n",
       "      <td>2</td>\n",
       "      <td>10002</td>\n",
       "      <td>2018-06-11</td>\n",
       "      <td>2.85</td>\n",
       "      <td>1000</td>\n",
       "      <td>6</td>\n",
       "    </tr>\n",
       "    <tr>\n",
       "      <td>3</td>\n",
       "      <td>10003</td>\n",
       "      <td>2018-09-21</td>\n",
       "      <td>13.80</td>\n",
       "      <td>1000</td>\n",
       "      <td>9</td>\n",
       "    </tr>\n",
       "    <tr>\n",
       "      <td>4</td>\n",
       "      <td>10004</td>\n",
       "      <td>2018-12-15</td>\n",
       "      <td>5.18</td>\n",
       "      <td>1000</td>\n",
       "      <td>12</td>\n",
       "    </tr>\n",
       "    <tr>\n",
       "      <td>...</td>\n",
       "      <td>...</td>\n",
       "      <td>...</td>\n",
       "      <td>...</td>\n",
       "      <td>...</td>\n",
       "      <td>...</td>\n",
       "    </tr>\n",
       "    <tr>\n",
       "      <td>202602</td>\n",
       "      <td>1499215</td>\n",
       "      <td>2018-12-26</td>\n",
       "      <td>0.76</td>\n",
       "      <td>1499</td>\n",
       "      <td>12</td>\n",
       "    </tr>\n",
       "    <tr>\n",
       "      <td>202603</td>\n",
       "      <td>1499216</td>\n",
       "      <td>2018-10-18</td>\n",
       "      <td>18.83</td>\n",
       "      <td>1499</td>\n",
       "      <td>10</td>\n",
       "    </tr>\n",
       "    <tr>\n",
       "      <td>202604</td>\n",
       "      <td>1499217</td>\n",
       "      <td>2018-11-10</td>\n",
       "      <td>10.81</td>\n",
       "      <td>1499</td>\n",
       "      <td>11</td>\n",
       "    </tr>\n",
       "    <tr>\n",
       "      <td>202605</td>\n",
       "      <td>1499218</td>\n",
       "      <td>2018-10-06</td>\n",
       "      <td>4.27</td>\n",
       "      <td>1499</td>\n",
       "      <td>10</td>\n",
       "    </tr>\n",
       "    <tr>\n",
       "      <td>202606</td>\n",
       "      <td>1499219</td>\n",
       "      <td>2018-12-14</td>\n",
       "      <td>19.62</td>\n",
       "      <td>1499</td>\n",
       "      <td>12</td>\n",
       "    </tr>\n",
       "  </tbody>\n",
       "</table>\n",
       "<p>202607 rows × 5 columns</p>\n",
       "</div>"
      ],
      "text/plain": [
       "             id  call_date  duration  user_id  month\n",
       "0         10000 2018-07-25      0.00     1000      7\n",
       "1         10001 2018-08-17      0.00     1000      8\n",
       "2         10002 2018-06-11      2.85     1000      6\n",
       "3         10003 2018-09-21     13.80     1000      9\n",
       "4         10004 2018-12-15      5.18     1000     12\n",
       "...         ...        ...       ...      ...    ...\n",
       "202602  1499215 2018-12-26      0.76     1499     12\n",
       "202603  1499216 2018-10-18     18.83     1499     10\n",
       "202604  1499217 2018-11-10     10.81     1499     11\n",
       "202605  1499218 2018-10-06      4.27     1499     10\n",
       "202606  1499219 2018-12-14     19.62     1499     12\n",
       "\n",
       "[202607 rows x 5 columns]"
      ]
     },
     "execution_count": 40,
     "metadata": {},
     "output_type": "execute_result"
    }
   ],
   "source": [
    "data_calls['month'] = pd.DatetimeIndex(data_calls['call_date']).month\n",
    "data_calls"
   ]
  },
  {
   "cell_type": "code",
   "execution_count": 41,
   "metadata": {},
   "outputs": [
    {
     "data": {
      "text/plain": [
       "'Кол-во сделанных звонков по месяцам'"
      ]
     },
     "metadata": {},
     "output_type": "display_data"
    },
    {
     "data": {
      "text/html": [
       "<div>\n",
       "<style scoped>\n",
       "    .dataframe tbody tr th:only-of-type {\n",
       "        vertical-align: middle;\n",
       "    }\n",
       "\n",
       "    .dataframe tbody tr th {\n",
       "        vertical-align: top;\n",
       "    }\n",
       "\n",
       "    .dataframe thead th {\n",
       "        text-align: right;\n",
       "    }\n",
       "</style>\n",
       "<table border=\"1\" class=\"dataframe\">\n",
       "  <thead>\n",
       "    <tr style=\"text-align: right;\">\n",
       "      <th></th>\n",
       "      <th></th>\n",
       "      <th>count_call</th>\n",
       "    </tr>\n",
       "    <tr>\n",
       "      <th>user_id</th>\n",
       "      <th>month</th>\n",
       "      <th></th>\n",
       "    </tr>\n",
       "  </thead>\n",
       "  <tbody>\n",
       "    <tr>\n",
       "      <td rowspan=\"5\" valign=\"top\">1000</td>\n",
       "      <td>5</td>\n",
       "      <td>22</td>\n",
       "    </tr>\n",
       "    <tr>\n",
       "      <td>6</td>\n",
       "      <td>43</td>\n",
       "    </tr>\n",
       "    <tr>\n",
       "      <td>7</td>\n",
       "      <td>47</td>\n",
       "    </tr>\n",
       "    <tr>\n",
       "      <td>8</td>\n",
       "      <td>52</td>\n",
       "    </tr>\n",
       "    <tr>\n",
       "      <td>9</td>\n",
       "      <td>58</td>\n",
       "    </tr>\n",
       "    <tr>\n",
       "      <td>...</td>\n",
       "      <td>...</td>\n",
       "      <td>...</td>\n",
       "    </tr>\n",
       "    <tr>\n",
       "      <td>1498</td>\n",
       "      <td>10</td>\n",
       "      <td>41</td>\n",
       "    </tr>\n",
       "    <tr>\n",
       "      <td rowspan=\"4\" valign=\"top\">1499</td>\n",
       "      <td>9</td>\n",
       "      <td>9</td>\n",
       "    </tr>\n",
       "    <tr>\n",
       "      <td>10</td>\n",
       "      <td>68</td>\n",
       "    </tr>\n",
       "    <tr>\n",
       "      <td>11</td>\n",
       "      <td>74</td>\n",
       "    </tr>\n",
       "    <tr>\n",
       "      <td>12</td>\n",
       "      <td>69</td>\n",
       "    </tr>\n",
       "  </tbody>\n",
       "</table>\n",
       "<p>3174 rows × 1 columns</p>\n",
       "</div>"
      ],
      "text/plain": [
       "               count_call\n",
       "user_id month            \n",
       "1000    5              22\n",
       "        6              43\n",
       "        7              47\n",
       "        8              52\n",
       "        9              58\n",
       "...                   ...\n",
       "1498    10             41\n",
       "1499    9               9\n",
       "        10             68\n",
       "        11             74\n",
       "        12             69\n",
       "\n",
       "[3174 rows x 1 columns]"
      ]
     },
     "execution_count": 41,
     "metadata": {},
     "output_type": "execute_result"
    }
   ],
   "source": [
    "display('Кол-во сделанных звонков по месяцам')\n",
    "calls_number = data_calls.reset_index().pivot_table(index = ['user_id','month'], values = 'id', aggfunc = 'count')\n",
    "calls_number = calls_number.fillna(0)\n",
    "calls_number = calls_number.rename(columns = {'id' : 'count_call'})\n",
    "calls_number"
   ]
  },
  {
   "cell_type": "code",
   "execution_count": 42,
   "metadata": {},
   "outputs": [
    {
     "data": {
      "text/plain": [
       "'Кол-во израсходованных минут разговора по месяцам'"
      ]
     },
     "metadata": {},
     "output_type": "display_data"
    },
    {
     "data": {
      "text/html": [
       "<div>\n",
       "<style scoped>\n",
       "    .dataframe tbody tr th:only-of-type {\n",
       "        vertical-align: middle;\n",
       "    }\n",
       "\n",
       "    .dataframe tbody tr th {\n",
       "        vertical-align: top;\n",
       "    }\n",
       "\n",
       "    .dataframe thead th {\n",
       "        text-align: right;\n",
       "    }\n",
       "</style>\n",
       "<table border=\"1\" class=\"dataframe\">\n",
       "  <thead>\n",
       "    <tr style=\"text-align: right;\">\n",
       "      <th></th>\n",
       "      <th></th>\n",
       "      <th>duration</th>\n",
       "    </tr>\n",
       "    <tr>\n",
       "      <th>user_id</th>\n",
       "      <th>month</th>\n",
       "      <th></th>\n",
       "    </tr>\n",
       "  </thead>\n",
       "  <tbody>\n",
       "    <tr>\n",
       "      <td rowspan=\"5\" valign=\"top\">1000</td>\n",
       "      <td>5</td>\n",
       "      <td>151.0</td>\n",
       "    </tr>\n",
       "    <tr>\n",
       "      <td>6</td>\n",
       "      <td>159.0</td>\n",
       "    </tr>\n",
       "    <tr>\n",
       "      <td>7</td>\n",
       "      <td>319.0</td>\n",
       "    </tr>\n",
       "    <tr>\n",
       "      <td>8</td>\n",
       "      <td>390.0</td>\n",
       "    </tr>\n",
       "    <tr>\n",
       "      <td>9</td>\n",
       "      <td>441.0</td>\n",
       "    </tr>\n",
       "    <tr>\n",
       "      <td>...</td>\n",
       "      <td>...</td>\n",
       "      <td>...</td>\n",
       "    </tr>\n",
       "    <tr>\n",
       "      <td>1498</td>\n",
       "      <td>10</td>\n",
       "      <td>233.0</td>\n",
       "    </tr>\n",
       "    <tr>\n",
       "      <td rowspan=\"4\" valign=\"top\">1499</td>\n",
       "      <td>9</td>\n",
       "      <td>65.0</td>\n",
       "    </tr>\n",
       "    <tr>\n",
       "      <td>10</td>\n",
       "      <td>430.0</td>\n",
       "    </tr>\n",
       "    <tr>\n",
       "      <td>11</td>\n",
       "      <td>577.0</td>\n",
       "    </tr>\n",
       "    <tr>\n",
       "      <td>12</td>\n",
       "      <td>466.0</td>\n",
       "    </tr>\n",
       "  </tbody>\n",
       "</table>\n",
       "<p>3174 rows × 1 columns</p>\n",
       "</div>"
      ],
      "text/plain": [
       "               duration\n",
       "user_id month          \n",
       "1000    5         151.0\n",
       "        6         159.0\n",
       "        7         319.0\n",
       "        8         390.0\n",
       "        9         441.0\n",
       "...                 ...\n",
       "1498    10        233.0\n",
       "1499    9          65.0\n",
       "        10        430.0\n",
       "        11        577.0\n",
       "        12        466.0\n",
       "\n",
       "[3174 rows x 1 columns]"
      ]
     },
     "execution_count": 42,
     "metadata": {},
     "output_type": "execute_result"
    }
   ],
   "source": [
    "display('Кол-во израсходованных минут разговора по месяцам')\n",
    "calls_duration = data_calls.reset_index().pivot_table(index = ['user_id','month'], values = 'duration', aggfunc = 'sum')\n",
    "calls_duration = calls_duration.fillna(0)\n",
    "calls_duration = np.ceil(calls_duration)\n",
    "calls_duration"
   ]
  },
  {
   "cell_type": "markdown",
   "metadata": {},
   "source": [
    "### Количество отправленных сообщений по месяцам"
   ]
  },
  {
   "cell_type": "code",
   "execution_count": 43,
   "metadata": {},
   "outputs": [
    {
     "data": {
      "text/plain": [
       "'Кол-во отправленных сообщений по месяцам'"
      ]
     },
     "metadata": {},
     "output_type": "display_data"
    },
    {
     "data": {
      "text/html": [
       "<div>\n",
       "<style scoped>\n",
       "    .dataframe tbody tr th:only-of-type {\n",
       "        vertical-align: middle;\n",
       "    }\n",
       "\n",
       "    .dataframe tbody tr th {\n",
       "        vertical-align: top;\n",
       "    }\n",
       "\n",
       "    .dataframe thead th {\n",
       "        text-align: right;\n",
       "    }\n",
       "</style>\n",
       "<table border=\"1\" class=\"dataframe\">\n",
       "  <thead>\n",
       "    <tr style=\"text-align: right;\">\n",
       "      <th></th>\n",
       "      <th></th>\n",
       "      <th>count_messages</th>\n",
       "    </tr>\n",
       "    <tr>\n",
       "      <th>user_id</th>\n",
       "      <th>month</th>\n",
       "      <th></th>\n",
       "    </tr>\n",
       "  </thead>\n",
       "  <tbody>\n",
       "    <tr>\n",
       "      <td rowspan=\"5\" valign=\"top\">1000</td>\n",
       "      <td>5</td>\n",
       "      <td>22</td>\n",
       "    </tr>\n",
       "    <tr>\n",
       "      <td>6</td>\n",
       "      <td>60</td>\n",
       "    </tr>\n",
       "    <tr>\n",
       "      <td>7</td>\n",
       "      <td>75</td>\n",
       "    </tr>\n",
       "    <tr>\n",
       "      <td>8</td>\n",
       "      <td>81</td>\n",
       "    </tr>\n",
       "    <tr>\n",
       "      <td>9</td>\n",
       "      <td>57</td>\n",
       "    </tr>\n",
       "    <tr>\n",
       "      <td>...</td>\n",
       "      <td>...</td>\n",
       "      <td>...</td>\n",
       "    </tr>\n",
       "    <tr>\n",
       "      <td>1498</td>\n",
       "      <td>10</td>\n",
       "      <td>42</td>\n",
       "    </tr>\n",
       "    <tr>\n",
       "      <td rowspan=\"4\" valign=\"top\">1499</td>\n",
       "      <td>9</td>\n",
       "      <td>11</td>\n",
       "    </tr>\n",
       "    <tr>\n",
       "      <td>10</td>\n",
       "      <td>48</td>\n",
       "    </tr>\n",
       "    <tr>\n",
       "      <td>11</td>\n",
       "      <td>59</td>\n",
       "    </tr>\n",
       "    <tr>\n",
       "      <td>12</td>\n",
       "      <td>66</td>\n",
       "    </tr>\n",
       "  </tbody>\n",
       "</table>\n",
       "<p>2717 rows × 1 columns</p>\n",
       "</div>"
      ],
      "text/plain": [
       "               count_messages\n",
       "user_id month                \n",
       "1000    5                  22\n",
       "        6                  60\n",
       "        7                  75\n",
       "        8                  81\n",
       "        9                  57\n",
       "...                       ...\n",
       "1498    10                 42\n",
       "1499    9                  11\n",
       "        10                 48\n",
       "        11                 59\n",
       "        12                 66\n",
       "\n",
       "[2717 rows x 1 columns]"
      ]
     },
     "execution_count": 43,
     "metadata": {},
     "output_type": "execute_result"
    }
   ],
   "source": [
    "data_messages['month'] = pd.DatetimeIndex(data_messages['message_date']).month\n",
    "display('Кол-во отправленных сообщений по месяцам')\n",
    "messages_number = data_messages.reset_index().pivot_table(index = ['user_id', 'month'], values = 'id', aggfunc = 'count')\n",
    "messages_number = messages_number.fillna(0)\n",
    "messages_number = messages_number.rename(columns = {'id' : 'count_messages'})\n",
    "messages_number"
   ]
  },
  {
   "cell_type": "markdown",
   "metadata": {},
   "source": [
    "### Объем израсходованного интернет-трафика по месяцам"
   ]
  },
  {
   "cell_type": "code",
   "execution_count": 44,
   "metadata": {},
   "outputs": [
    {
     "data": {
      "text/plain": [
       "'Объем израсходованного интернет-трафика по месяцам в ГБ'"
      ]
     },
     "metadata": {},
     "output_type": "display_data"
    },
    {
     "data": {
      "text/html": [
       "<div>\n",
       "<style scoped>\n",
       "    .dataframe tbody tr th:only-of-type {\n",
       "        vertical-align: middle;\n",
       "    }\n",
       "\n",
       "    .dataframe tbody tr th {\n",
       "        vertical-align: top;\n",
       "    }\n",
       "\n",
       "    .dataframe thead th {\n",
       "        text-align: right;\n",
       "    }\n",
       "</style>\n",
       "<table border=\"1\" class=\"dataframe\">\n",
       "  <thead>\n",
       "    <tr style=\"text-align: right;\">\n",
       "      <th></th>\n",
       "      <th></th>\n",
       "      <th>mb_used</th>\n",
       "    </tr>\n",
       "    <tr>\n",
       "      <th>user_id</th>\n",
       "      <th>month</th>\n",
       "      <th></th>\n",
       "    </tr>\n",
       "  </thead>\n",
       "  <tbody>\n",
       "    <tr>\n",
       "      <td rowspan=\"5\" valign=\"top\">1000</td>\n",
       "      <td>5</td>\n",
       "      <td>3.0</td>\n",
       "    </tr>\n",
       "    <tr>\n",
       "      <td>6</td>\n",
       "      <td>23.0</td>\n",
       "    </tr>\n",
       "    <tr>\n",
       "      <td>7</td>\n",
       "      <td>14.0</td>\n",
       "    </tr>\n",
       "    <tr>\n",
       "      <td>8</td>\n",
       "      <td>14.0</td>\n",
       "    </tr>\n",
       "    <tr>\n",
       "      <td>9</td>\n",
       "      <td>15.0</td>\n",
       "    </tr>\n",
       "    <tr>\n",
       "      <td>...</td>\n",
       "      <td>...</td>\n",
       "      <td>...</td>\n",
       "    </tr>\n",
       "    <tr>\n",
       "      <td>1498</td>\n",
       "      <td>10</td>\n",
       "      <td>21.0</td>\n",
       "    </tr>\n",
       "    <tr>\n",
       "      <td rowspan=\"4\" valign=\"top\">1499</td>\n",
       "      <td>9</td>\n",
       "      <td>2.0</td>\n",
       "    </tr>\n",
       "    <tr>\n",
       "      <td>10</td>\n",
       "      <td>18.0</td>\n",
       "    </tr>\n",
       "    <tr>\n",
       "      <td>11</td>\n",
       "      <td>18.0</td>\n",
       "    </tr>\n",
       "    <tr>\n",
       "      <td>12</td>\n",
       "      <td>13.0</td>\n",
       "    </tr>\n",
       "  </tbody>\n",
       "</table>\n",
       "<p>3203 rows × 1 columns</p>\n",
       "</div>"
      ],
      "text/plain": [
       "               mb_used\n",
       "user_id month         \n",
       "1000    5          3.0\n",
       "        6         23.0\n",
       "        7         14.0\n",
       "        8         14.0\n",
       "        9         15.0\n",
       "...                ...\n",
       "1498    10        21.0\n",
       "1499    9          2.0\n",
       "        10        18.0\n",
       "        11        18.0\n",
       "        12        13.0\n",
       "\n",
       "[3203 rows x 1 columns]"
      ]
     },
     "execution_count": 44,
     "metadata": {},
     "output_type": "execute_result"
    }
   ],
   "source": [
    "data_internet['month'] = pd.DatetimeIndex(data_internet['session_date']).month\n",
    "display('Объем израсходованного интернет-трафика по месяцам в ГБ')\n",
    "internet_number = data_internet.reset_index().pivot_table(index = ['user_id', 'month'], values = 'mb_used', aggfunc = 'sum')\n",
    "internet_number = internet_number.fillna(0)\n",
    "internet_number = np.ceil(internet_number / 1024)\n",
    "internet_number"
   ]
  },
  {
   "cell_type": "markdown",
   "metadata": {},
   "source": [
    "### Помесячная выручка для каждого пользователя"
   ]
  },
  {
   "cell_type": "code",
   "execution_count": 45,
   "metadata": {},
   "outputs": [
    {
     "data": {
      "text/html": [
       "<div>\n",
       "<style scoped>\n",
       "    .dataframe tbody tr th:only-of-type {\n",
       "        vertical-align: middle;\n",
       "    }\n",
       "\n",
       "    .dataframe tbody tr th {\n",
       "        vertical-align: top;\n",
       "    }\n",
       "\n",
       "    .dataframe thead th {\n",
       "        text-align: right;\n",
       "    }\n",
       "</style>\n",
       "<table border=\"1\" class=\"dataframe\">\n",
       "  <thead>\n",
       "    <tr style=\"text-align: right;\">\n",
       "      <th></th>\n",
       "      <th></th>\n",
       "      <th>duration</th>\n",
       "      <th>count_messages</th>\n",
       "    </tr>\n",
       "    <tr>\n",
       "      <th>user_id</th>\n",
       "      <th>month</th>\n",
       "      <th></th>\n",
       "      <th></th>\n",
       "    </tr>\n",
       "  </thead>\n",
       "  <tbody>\n",
       "    <tr>\n",
       "      <td rowspan=\"5\" valign=\"top\">1000</td>\n",
       "      <td>5</td>\n",
       "      <td>151.0</td>\n",
       "      <td>22.0</td>\n",
       "    </tr>\n",
       "    <tr>\n",
       "      <td>6</td>\n",
       "      <td>159.0</td>\n",
       "      <td>60.0</td>\n",
       "    </tr>\n",
       "    <tr>\n",
       "      <td>7</td>\n",
       "      <td>319.0</td>\n",
       "      <td>75.0</td>\n",
       "    </tr>\n",
       "    <tr>\n",
       "      <td>8</td>\n",
       "      <td>390.0</td>\n",
       "      <td>81.0</td>\n",
       "    </tr>\n",
       "    <tr>\n",
       "      <td>9</td>\n",
       "      <td>441.0</td>\n",
       "      <td>57.0</td>\n",
       "    </tr>\n",
       "    <tr>\n",
       "      <td>...</td>\n",
       "      <td>...</td>\n",
       "      <td>...</td>\n",
       "      <td>...</td>\n",
       "    </tr>\n",
       "    <tr>\n",
       "      <td rowspan=\"5\" valign=\"top\">1489</td>\n",
       "      <td>8</td>\n",
       "      <td>NaN</td>\n",
       "      <td>17.0</td>\n",
       "    </tr>\n",
       "    <tr>\n",
       "      <td>9</td>\n",
       "      <td>NaN</td>\n",
       "      <td>32.0</td>\n",
       "    </tr>\n",
       "    <tr>\n",
       "      <td>10</td>\n",
       "      <td>NaN</td>\n",
       "      <td>21.0</td>\n",
       "    </tr>\n",
       "    <tr>\n",
       "      <td>11</td>\n",
       "      <td>NaN</td>\n",
       "      <td>20.0</td>\n",
       "    </tr>\n",
       "    <tr>\n",
       "      <td>12</td>\n",
       "      <td>NaN</td>\n",
       "      <td>35.0</td>\n",
       "    </tr>\n",
       "  </tbody>\n",
       "</table>\n",
       "<p>3213 rows × 2 columns</p>\n",
       "</div>"
      ],
      "text/plain": [
       "               duration  count_messages\n",
       "user_id month                          \n",
       "1000    5         151.0            22.0\n",
       "        6         159.0            60.0\n",
       "        7         319.0            75.0\n",
       "        8         390.0            81.0\n",
       "        9         441.0            57.0\n",
       "...                 ...             ...\n",
       "1489    8           NaN            17.0\n",
       "        9           NaN            32.0\n",
       "        10          NaN            21.0\n",
       "        11          NaN            20.0\n",
       "        12          NaN            35.0\n",
       "\n",
       "[3213 rows x 2 columns]"
      ]
     },
     "metadata": {},
     "output_type": "display_data"
    }
   ],
   "source": [
    "data1 = calls_duration.merge(messages_number, on=['user_id', 'month'], how='outer')\n",
    "display(data1)"
   ]
  },
  {
   "cell_type": "code",
   "execution_count": 46,
   "metadata": {},
   "outputs": [
    {
     "data": {
      "text/html": [
       "<div>\n",
       "<style scoped>\n",
       "    .dataframe tbody tr th:only-of-type {\n",
       "        vertical-align: middle;\n",
       "    }\n",
       "\n",
       "    .dataframe tbody tr th {\n",
       "        vertical-align: top;\n",
       "    }\n",
       "\n",
       "    .dataframe thead th {\n",
       "        text-align: right;\n",
       "    }\n",
       "</style>\n",
       "<table border=\"1\" class=\"dataframe\">\n",
       "  <thead>\n",
       "    <tr style=\"text-align: right;\">\n",
       "      <th></th>\n",
       "      <th></th>\n",
       "      <th>duration</th>\n",
       "      <th>count_messages</th>\n",
       "      <th>mb_used</th>\n",
       "    </tr>\n",
       "    <tr>\n",
       "      <th>user_id</th>\n",
       "      <th>month</th>\n",
       "      <th></th>\n",
       "      <th></th>\n",
       "      <th></th>\n",
       "    </tr>\n",
       "  </thead>\n",
       "  <tbody>\n",
       "    <tr>\n",
       "      <td rowspan=\"5\" valign=\"top\">1000</td>\n",
       "      <td>5</td>\n",
       "      <td>151.0</td>\n",
       "      <td>22.0</td>\n",
       "      <td>3.0</td>\n",
       "    </tr>\n",
       "    <tr>\n",
       "      <td>6</td>\n",
       "      <td>159.0</td>\n",
       "      <td>60.0</td>\n",
       "      <td>23.0</td>\n",
       "    </tr>\n",
       "    <tr>\n",
       "      <td>7</td>\n",
       "      <td>319.0</td>\n",
       "      <td>75.0</td>\n",
       "      <td>14.0</td>\n",
       "    </tr>\n",
       "    <tr>\n",
       "      <td>8</td>\n",
       "      <td>390.0</td>\n",
       "      <td>81.0</td>\n",
       "      <td>14.0</td>\n",
       "    </tr>\n",
       "    <tr>\n",
       "      <td>9</td>\n",
       "      <td>441.0</td>\n",
       "      <td>57.0</td>\n",
       "      <td>15.0</td>\n",
       "    </tr>\n",
       "    <tr>\n",
       "      <td>...</td>\n",
       "      <td>...</td>\n",
       "      <td>...</td>\n",
       "      <td>...</td>\n",
       "      <td>...</td>\n",
       "    </tr>\n",
       "    <tr>\n",
       "      <td rowspan=\"4\" valign=\"top\">1489</td>\n",
       "      <td>9</td>\n",
       "      <td>NaN</td>\n",
       "      <td>32.0</td>\n",
       "      <td>17.0</td>\n",
       "    </tr>\n",
       "    <tr>\n",
       "      <td>10</td>\n",
       "      <td>NaN</td>\n",
       "      <td>21.0</td>\n",
       "      <td>20.0</td>\n",
       "    </tr>\n",
       "    <tr>\n",
       "      <td>11</td>\n",
       "      <td>NaN</td>\n",
       "      <td>20.0</td>\n",
       "      <td>18.0</td>\n",
       "    </tr>\n",
       "    <tr>\n",
       "      <td>12</td>\n",
       "      <td>NaN</td>\n",
       "      <td>35.0</td>\n",
       "      <td>17.0</td>\n",
       "    </tr>\n",
       "    <tr>\n",
       "      <td>1476</td>\n",
       "      <td>4</td>\n",
       "      <td>NaN</td>\n",
       "      <td>NaN</td>\n",
       "      <td>1.0</td>\n",
       "    </tr>\n",
       "  </tbody>\n",
       "</table>\n",
       "<p>3214 rows × 3 columns</p>\n",
       "</div>"
      ],
      "text/plain": [
       "               duration  count_messages  mb_used\n",
       "user_id month                                   \n",
       "1000    5         151.0            22.0      3.0\n",
       "        6         159.0            60.0     23.0\n",
       "        7         319.0            75.0     14.0\n",
       "        8         390.0            81.0     14.0\n",
       "        9         441.0            57.0     15.0\n",
       "...                 ...             ...      ...\n",
       "1489    9           NaN            32.0     17.0\n",
       "        10          NaN            21.0     20.0\n",
       "        11          NaN            20.0     18.0\n",
       "        12          NaN            35.0     17.0\n",
       "1476    4           NaN             NaN      1.0\n",
       "\n",
       "[3214 rows x 3 columns]"
      ]
     },
     "metadata": {},
     "output_type": "display_data"
    }
   ],
   "source": [
    "data2 = data1.merge(internet_number, on=['user_id', 'month'], how='outer')\n",
    "display(data2)"
   ]
  },
  {
   "cell_type": "code",
   "execution_count": 47,
   "metadata": {},
   "outputs": [
    {
     "data": {
      "text/html": [
       "<div>\n",
       "<style scoped>\n",
       "    .dataframe tbody tr th:only-of-type {\n",
       "        vertical-align: middle;\n",
       "    }\n",
       "\n",
       "    .dataframe tbody tr th {\n",
       "        vertical-align: top;\n",
       "    }\n",
       "\n",
       "    .dataframe thead th {\n",
       "        text-align: right;\n",
       "    }\n",
       "</style>\n",
       "<table border=\"1\" class=\"dataframe\">\n",
       "  <thead>\n",
       "    <tr style=\"text-align: right;\">\n",
       "      <th></th>\n",
       "      <th>user_id</th>\n",
       "      <th>city</th>\n",
       "      <th>tariff</th>\n",
       "    </tr>\n",
       "  </thead>\n",
       "  <tbody>\n",
       "    <tr>\n",
       "      <td>0</td>\n",
       "      <td>1000</td>\n",
       "      <td>Краснодар</td>\n",
       "      <td>ultra</td>\n",
       "    </tr>\n",
       "    <tr>\n",
       "      <td>1</td>\n",
       "      <td>1001</td>\n",
       "      <td>Москва</td>\n",
       "      <td>smart</td>\n",
       "    </tr>\n",
       "    <tr>\n",
       "      <td>2</td>\n",
       "      <td>1002</td>\n",
       "      <td>Стерлитамак</td>\n",
       "      <td>smart</td>\n",
       "    </tr>\n",
       "    <tr>\n",
       "      <td>3</td>\n",
       "      <td>1003</td>\n",
       "      <td>Москва</td>\n",
       "      <td>ultra</td>\n",
       "    </tr>\n",
       "    <tr>\n",
       "      <td>4</td>\n",
       "      <td>1004</td>\n",
       "      <td>Новокузнецк</td>\n",
       "      <td>ultra</td>\n",
       "    </tr>\n",
       "    <tr>\n",
       "      <td>...</td>\n",
       "      <td>...</td>\n",
       "      <td>...</td>\n",
       "      <td>...</td>\n",
       "    </tr>\n",
       "    <tr>\n",
       "      <td>495</td>\n",
       "      <td>1495</td>\n",
       "      <td>Иркутск</td>\n",
       "      <td>ultra</td>\n",
       "    </tr>\n",
       "    <tr>\n",
       "      <td>496</td>\n",
       "      <td>1496</td>\n",
       "      <td>Вологда</td>\n",
       "      <td>smart</td>\n",
       "    </tr>\n",
       "    <tr>\n",
       "      <td>497</td>\n",
       "      <td>1497</td>\n",
       "      <td>Челябинск</td>\n",
       "      <td>smart</td>\n",
       "    </tr>\n",
       "    <tr>\n",
       "      <td>498</td>\n",
       "      <td>1498</td>\n",
       "      <td>Владикавказ</td>\n",
       "      <td>smart</td>\n",
       "    </tr>\n",
       "    <tr>\n",
       "      <td>499</td>\n",
       "      <td>1499</td>\n",
       "      <td>Пермь</td>\n",
       "      <td>smart</td>\n",
       "    </tr>\n",
       "  </tbody>\n",
       "</table>\n",
       "<p>500 rows × 3 columns</p>\n",
       "</div>"
      ],
      "text/plain": [
       "     user_id         city tariff\n",
       "0       1000    Краснодар  ultra\n",
       "1       1001       Москва  smart\n",
       "2       1002  Стерлитамак  smart\n",
       "3       1003       Москва  ultra\n",
       "4       1004  Новокузнецк  ultra\n",
       "..       ...          ...    ...\n",
       "495     1495      Иркутск  ultra\n",
       "496     1496      Вологда  smart\n",
       "497     1497    Челябинск  smart\n",
       "498     1498  Владикавказ  smart\n",
       "499     1499        Пермь  smart\n",
       "\n",
       "[500 rows x 3 columns]"
      ]
     },
     "execution_count": 47,
     "metadata": {},
     "output_type": "execute_result"
    }
   ],
   "source": [
    "data_users = data_users.loc[:,['user_id','city','tariff']]\n",
    "data_users"
   ]
  },
  {
   "cell_type": "code",
   "execution_count": 48,
   "metadata": {},
   "outputs": [
    {
     "data": {
      "text/html": [
       "<div>\n",
       "<style scoped>\n",
       "    .dataframe tbody tr th:only-of-type {\n",
       "        vertical-align: middle;\n",
       "    }\n",
       "\n",
       "    .dataframe tbody tr th {\n",
       "        vertical-align: top;\n",
       "    }\n",
       "\n",
       "    .dataframe thead th {\n",
       "        text-align: right;\n",
       "    }\n",
       "</style>\n",
       "<table border=\"1\" class=\"dataframe\">\n",
       "  <thead>\n",
       "    <tr style=\"text-align: right;\">\n",
       "      <th></th>\n",
       "      <th>user_id</th>\n",
       "      <th>month</th>\n",
       "      <th>duration</th>\n",
       "      <th>count_messages</th>\n",
       "      <th>mb_used</th>\n",
       "      <th>city</th>\n",
       "      <th>tariff</th>\n",
       "    </tr>\n",
       "  </thead>\n",
       "  <tbody>\n",
       "    <tr>\n",
       "      <td>0</td>\n",
       "      <td>1000</td>\n",
       "      <td>5</td>\n",
       "      <td>151.0</td>\n",
       "      <td>22.0</td>\n",
       "      <td>3.0</td>\n",
       "      <td>Краснодар</td>\n",
       "      <td>ultra</td>\n",
       "    </tr>\n",
       "    <tr>\n",
       "      <td>1</td>\n",
       "      <td>1000</td>\n",
       "      <td>6</td>\n",
       "      <td>159.0</td>\n",
       "      <td>60.0</td>\n",
       "      <td>23.0</td>\n",
       "      <td>Краснодар</td>\n",
       "      <td>ultra</td>\n",
       "    </tr>\n",
       "    <tr>\n",
       "      <td>2</td>\n",
       "      <td>1000</td>\n",
       "      <td>7</td>\n",
       "      <td>319.0</td>\n",
       "      <td>75.0</td>\n",
       "      <td>14.0</td>\n",
       "      <td>Краснодар</td>\n",
       "      <td>ultra</td>\n",
       "    </tr>\n",
       "    <tr>\n",
       "      <td>3</td>\n",
       "      <td>1000</td>\n",
       "      <td>8</td>\n",
       "      <td>390.0</td>\n",
       "      <td>81.0</td>\n",
       "      <td>14.0</td>\n",
       "      <td>Краснодар</td>\n",
       "      <td>ultra</td>\n",
       "    </tr>\n",
       "    <tr>\n",
       "      <td>4</td>\n",
       "      <td>1000</td>\n",
       "      <td>9</td>\n",
       "      <td>441.0</td>\n",
       "      <td>57.0</td>\n",
       "      <td>15.0</td>\n",
       "      <td>Краснодар</td>\n",
       "      <td>ultra</td>\n",
       "    </tr>\n",
       "    <tr>\n",
       "      <td>...</td>\n",
       "      <td>...</td>\n",
       "      <td>...</td>\n",
       "      <td>...</td>\n",
       "      <td>...</td>\n",
       "      <td>...</td>\n",
       "      <td>...</td>\n",
       "      <td>...</td>\n",
       "    </tr>\n",
       "    <tr>\n",
       "      <td>3209</td>\n",
       "      <td>1489</td>\n",
       "      <td>9</td>\n",
       "      <td>NaN</td>\n",
       "      <td>32.0</td>\n",
       "      <td>17.0</td>\n",
       "      <td>Санкт-Петербург</td>\n",
       "      <td>smart</td>\n",
       "    </tr>\n",
       "    <tr>\n",
       "      <td>3210</td>\n",
       "      <td>1489</td>\n",
       "      <td>10</td>\n",
       "      <td>NaN</td>\n",
       "      <td>21.0</td>\n",
       "      <td>20.0</td>\n",
       "      <td>Санкт-Петербург</td>\n",
       "      <td>smart</td>\n",
       "    </tr>\n",
       "    <tr>\n",
       "      <td>3211</td>\n",
       "      <td>1489</td>\n",
       "      <td>11</td>\n",
       "      <td>NaN</td>\n",
       "      <td>20.0</td>\n",
       "      <td>18.0</td>\n",
       "      <td>Санкт-Петербург</td>\n",
       "      <td>smart</td>\n",
       "    </tr>\n",
       "    <tr>\n",
       "      <td>3212</td>\n",
       "      <td>1489</td>\n",
       "      <td>12</td>\n",
       "      <td>NaN</td>\n",
       "      <td>35.0</td>\n",
       "      <td>17.0</td>\n",
       "      <td>Санкт-Петербург</td>\n",
       "      <td>smart</td>\n",
       "    </tr>\n",
       "    <tr>\n",
       "      <td>3213</td>\n",
       "      <td>1476</td>\n",
       "      <td>4</td>\n",
       "      <td>NaN</td>\n",
       "      <td>NaN</td>\n",
       "      <td>1.0</td>\n",
       "      <td>Москва</td>\n",
       "      <td>ultra</td>\n",
       "    </tr>\n",
       "  </tbody>\n",
       "</table>\n",
       "<p>3214 rows × 7 columns</p>\n",
       "</div>"
      ],
      "text/plain": [
       "      user_id  month  duration  count_messages  mb_used             city  \\\n",
       "0        1000      5     151.0            22.0      3.0        Краснодар   \n",
       "1        1000      6     159.0            60.0     23.0        Краснодар   \n",
       "2        1000      7     319.0            75.0     14.0        Краснодар   \n",
       "3        1000      8     390.0            81.0     14.0        Краснодар   \n",
       "4        1000      9     441.0            57.0     15.0        Краснодар   \n",
       "...       ...    ...       ...             ...      ...              ...   \n",
       "3209     1489      9       NaN            32.0     17.0  Санкт-Петербург   \n",
       "3210     1489     10       NaN            21.0     20.0  Санкт-Петербург   \n",
       "3211     1489     11       NaN            20.0     18.0  Санкт-Петербург   \n",
       "3212     1489     12       NaN            35.0     17.0  Санкт-Петербург   \n",
       "3213     1476      4       NaN             NaN      1.0           Москва   \n",
       "\n",
       "     tariff  \n",
       "0     ultra  \n",
       "1     ultra  \n",
       "2     ultra  \n",
       "3     ultra  \n",
       "4     ultra  \n",
       "...     ...  \n",
       "3209  smart  \n",
       "3210  smart  \n",
       "3211  smart  \n",
       "3212  smart  \n",
       "3213  ultra  \n",
       "\n",
       "[3214 rows x 7 columns]"
      ]
     },
     "execution_count": 48,
     "metadata": {},
     "output_type": "execute_result"
    }
   ],
   "source": [
    "data3 = data2.reset_index().merge(data_users, on = ['user_id'], how='left')\n",
    "data3"
   ]
  },
  {
   "cell_type": "code",
   "execution_count": 49,
   "metadata": {},
   "outputs": [
    {
     "data": {
      "text/plain": [
       "user_id             0\n",
       "month               0\n",
       "duration           40\n",
       "count_messages    497\n",
       "mb_used            11\n",
       "city                0\n",
       "tariff              0\n",
       "dtype: int64"
      ]
     },
     "execution_count": 49,
     "metadata": {},
     "output_type": "execute_result"
    }
   ],
   "source": [
    "data3.isnull().sum()"
   ]
  },
  {
   "cell_type": "code",
   "execution_count": 50,
   "metadata": {},
   "outputs": [
    {
     "name": "stdout",
     "output_type": "stream",
     "text": [
      "<class 'pandas.core.frame.DataFrame'>\n",
      "Int64Index: 3214 entries, 0 to 3213\n",
      "Data columns (total 7 columns):\n",
      "user_id           3214 non-null int64\n",
      "month             3214 non-null int64\n",
      "duration          3174 non-null float64\n",
      "count_messages    2717 non-null float64\n",
      "mb_used           3203 non-null float64\n",
      "city              3214 non-null object\n",
      "tariff            3214 non-null object\n",
      "dtypes: float64(3), int64(2), object(2)\n",
      "memory usage: 200.9+ KB\n"
     ]
    }
   ],
   "source": [
    "data3.info()"
   ]
  },
  {
   "cell_type": "markdown",
   "metadata": {},
   "source": [
    "Заменим пустые значения на 0 и приведем данные к типу int"
   ]
  },
  {
   "cell_type": "code",
   "execution_count": 51,
   "metadata": {},
   "outputs": [],
   "source": [
    "data3 = data3.fillna(\n",
    "    {\n",
    "        'duration':0,\n",
    "        'count_messages':0,\n",
    "        'mb_used':0\n",
    "    }\n",
    ")\n",
    "\n",
    "data3 = data3.astype(\n",
    "    {\n",
    "        'duration':'int',\n",
    "        'count_messages':'int',\n",
    "        'mb_used':'int'\n",
    "    }\n",
    ")"
   ]
  },
  {
   "cell_type": "code",
   "execution_count": 52,
   "metadata": {},
   "outputs": [
    {
     "data": {
      "text/plain": [
       "user_id           0\n",
       "month             0\n",
       "duration          0\n",
       "count_messages    0\n",
       "mb_used           0\n",
       "city              0\n",
       "tariff            0\n",
       "dtype: int64"
      ]
     },
     "execution_count": 52,
     "metadata": {},
     "output_type": "execute_result"
    }
   ],
   "source": [
    "data3.isnull().sum()"
   ]
  },
  {
   "cell_type": "code",
   "execution_count": 53,
   "metadata": {},
   "outputs": [
    {
     "data": {
      "text/html": [
       "<div>\n",
       "<style scoped>\n",
       "    .dataframe tbody tr th:only-of-type {\n",
       "        vertical-align: middle;\n",
       "    }\n",
       "\n",
       "    .dataframe tbody tr th {\n",
       "        vertical-align: top;\n",
       "    }\n",
       "\n",
       "    .dataframe thead th {\n",
       "        text-align: right;\n",
       "    }\n",
       "</style>\n",
       "<table border=\"1\" class=\"dataframe\">\n",
       "  <thead>\n",
       "    <tr style=\"text-align: right;\">\n",
       "      <th></th>\n",
       "      <th>messages_included</th>\n",
       "      <th>mb_per_month_included</th>\n",
       "      <th>minutes_included</th>\n",
       "      <th>rub_monthly_fee</th>\n",
       "      <th>rub_per_gb</th>\n",
       "      <th>rub_per_message</th>\n",
       "      <th>rub_per_minute</th>\n",
       "      <th>tariff_name</th>\n",
       "    </tr>\n",
       "  </thead>\n",
       "  <tbody>\n",
       "    <tr>\n",
       "      <td>0</td>\n",
       "      <td>50</td>\n",
       "      <td>15360</td>\n",
       "      <td>500</td>\n",
       "      <td>550</td>\n",
       "      <td>200</td>\n",
       "      <td>3</td>\n",
       "      <td>3</td>\n",
       "      <td>smart</td>\n",
       "    </tr>\n",
       "    <tr>\n",
       "      <td>1</td>\n",
       "      <td>1000</td>\n",
       "      <td>30720</td>\n",
       "      <td>3000</td>\n",
       "      <td>1950</td>\n",
       "      <td>150</td>\n",
       "      <td>1</td>\n",
       "      <td>1</td>\n",
       "      <td>ultra</td>\n",
       "    </tr>\n",
       "  </tbody>\n",
       "</table>\n",
       "</div>"
      ],
      "text/plain": [
       "   messages_included  mb_per_month_included  minutes_included  \\\n",
       "0                 50                  15360               500   \n",
       "1               1000                  30720              3000   \n",
       "\n",
       "   rub_monthly_fee  rub_per_gb  rub_per_message  rub_per_minute tariff_name  \n",
       "0              550         200                3               3       smart  \n",
       "1             1950         150                1               1       ultra  "
      ]
     },
     "execution_count": 53,
     "metadata": {},
     "output_type": "execute_result"
    }
   ],
   "source": [
    "data_tariffs"
   ]
  },
  {
   "cell_type": "code",
   "execution_count": 54,
   "metadata": {},
   "outputs": [
    {
     "data": {
      "text/html": [
       "<div>\n",
       "<style scoped>\n",
       "    .dataframe tbody tr th:only-of-type {\n",
       "        vertical-align: middle;\n",
       "    }\n",
       "\n",
       "    .dataframe tbody tr th {\n",
       "        vertical-align: top;\n",
       "    }\n",
       "\n",
       "    .dataframe thead th {\n",
       "        text-align: right;\n",
       "    }\n",
       "</style>\n",
       "<table border=\"1\" class=\"dataframe\">\n",
       "  <thead>\n",
       "    <tr style=\"text-align: right;\">\n",
       "      <th></th>\n",
       "      <th>messages_included</th>\n",
       "      <th>mb_per_month_included</th>\n",
       "      <th>minutes_included</th>\n",
       "      <th>rub_monthly_fee</th>\n",
       "      <th>rub_per_gb</th>\n",
       "      <th>rub_per_message</th>\n",
       "      <th>rub_per_minute</th>\n",
       "      <th>tariff</th>\n",
       "    </tr>\n",
       "  </thead>\n",
       "  <tbody>\n",
       "    <tr>\n",
       "      <td>0</td>\n",
       "      <td>50</td>\n",
       "      <td>15360</td>\n",
       "      <td>500</td>\n",
       "      <td>550</td>\n",
       "      <td>200</td>\n",
       "      <td>3</td>\n",
       "      <td>3</td>\n",
       "      <td>smart</td>\n",
       "    </tr>\n",
       "    <tr>\n",
       "      <td>1</td>\n",
       "      <td>1000</td>\n",
       "      <td>30720</td>\n",
       "      <td>3000</td>\n",
       "      <td>1950</td>\n",
       "      <td>150</td>\n",
       "      <td>1</td>\n",
       "      <td>1</td>\n",
       "      <td>ultra</td>\n",
       "    </tr>\n",
       "  </tbody>\n",
       "</table>\n",
       "</div>"
      ],
      "text/plain": [
       "   messages_included  mb_per_month_included  minutes_included  \\\n",
       "0                 50                  15360               500   \n",
       "1               1000                  30720              3000   \n",
       "\n",
       "   rub_monthly_fee  rub_per_gb  rub_per_message  rub_per_minute tariff  \n",
       "0              550         200                3               3  smart  \n",
       "1             1950         150                1               1  ultra  "
      ]
     },
     "execution_count": 54,
     "metadata": {},
     "output_type": "execute_result"
    }
   ],
   "source": [
    "data_tariffs = data_tariffs.rename(columns = {'tariff_name' : 'tariff'})\n",
    "data_tariffs"
   ]
  },
  {
   "cell_type": "code",
   "execution_count": 55,
   "metadata": {},
   "outputs": [
    {
     "data": {
      "text/html": [
       "<div>\n",
       "<style scoped>\n",
       "    .dataframe tbody tr th:only-of-type {\n",
       "        vertical-align: middle;\n",
       "    }\n",
       "\n",
       "    .dataframe tbody tr th {\n",
       "        vertical-align: top;\n",
       "    }\n",
       "\n",
       "    .dataframe thead th {\n",
       "        text-align: right;\n",
       "    }\n",
       "</style>\n",
       "<table border=\"1\" class=\"dataframe\">\n",
       "  <thead>\n",
       "    <tr style=\"text-align: right;\">\n",
       "      <th></th>\n",
       "      <th>index</th>\n",
       "      <th>user_id</th>\n",
       "      <th>month</th>\n",
       "      <th>duration</th>\n",
       "      <th>count_messages</th>\n",
       "      <th>gb_used</th>\n",
       "      <th>city</th>\n",
       "      <th>tariff</th>\n",
       "      <th>messages_included</th>\n",
       "      <th>mb_per_month_included</th>\n",
       "      <th>minutes_included</th>\n",
       "      <th>rub_monthly_fee</th>\n",
       "      <th>rub_per_gb</th>\n",
       "      <th>rub_per_message</th>\n",
       "      <th>rub_per_minute</th>\n",
       "    </tr>\n",
       "  </thead>\n",
       "  <tbody>\n",
       "    <tr>\n",
       "      <td>0</td>\n",
       "      <td>0</td>\n",
       "      <td>1000</td>\n",
       "      <td>5</td>\n",
       "      <td>151</td>\n",
       "      <td>22</td>\n",
       "      <td>3</td>\n",
       "      <td>Краснодар</td>\n",
       "      <td>ultra</td>\n",
       "      <td>1000</td>\n",
       "      <td>30720</td>\n",
       "      <td>3000</td>\n",
       "      <td>1950</td>\n",
       "      <td>150</td>\n",
       "      <td>1</td>\n",
       "      <td>1</td>\n",
       "    </tr>\n",
       "    <tr>\n",
       "      <td>1</td>\n",
       "      <td>1</td>\n",
       "      <td>1000</td>\n",
       "      <td>6</td>\n",
       "      <td>159</td>\n",
       "      <td>60</td>\n",
       "      <td>23</td>\n",
       "      <td>Краснодар</td>\n",
       "      <td>ultra</td>\n",
       "      <td>1000</td>\n",
       "      <td>30720</td>\n",
       "      <td>3000</td>\n",
       "      <td>1950</td>\n",
       "      <td>150</td>\n",
       "      <td>1</td>\n",
       "      <td>1</td>\n",
       "    </tr>\n",
       "    <tr>\n",
       "      <td>2</td>\n",
       "      <td>2</td>\n",
       "      <td>1000</td>\n",
       "      <td>7</td>\n",
       "      <td>319</td>\n",
       "      <td>75</td>\n",
       "      <td>14</td>\n",
       "      <td>Краснодар</td>\n",
       "      <td>ultra</td>\n",
       "      <td>1000</td>\n",
       "      <td>30720</td>\n",
       "      <td>3000</td>\n",
       "      <td>1950</td>\n",
       "      <td>150</td>\n",
       "      <td>1</td>\n",
       "      <td>1</td>\n",
       "    </tr>\n",
       "    <tr>\n",
       "      <td>3</td>\n",
       "      <td>3</td>\n",
       "      <td>1000</td>\n",
       "      <td>8</td>\n",
       "      <td>390</td>\n",
       "      <td>81</td>\n",
       "      <td>14</td>\n",
       "      <td>Краснодар</td>\n",
       "      <td>ultra</td>\n",
       "      <td>1000</td>\n",
       "      <td>30720</td>\n",
       "      <td>3000</td>\n",
       "      <td>1950</td>\n",
       "      <td>150</td>\n",
       "      <td>1</td>\n",
       "      <td>1</td>\n",
       "    </tr>\n",
       "    <tr>\n",
       "      <td>4</td>\n",
       "      <td>4</td>\n",
       "      <td>1000</td>\n",
       "      <td>9</td>\n",
       "      <td>441</td>\n",
       "      <td>57</td>\n",
       "      <td>15</td>\n",
       "      <td>Краснодар</td>\n",
       "      <td>ultra</td>\n",
       "      <td>1000</td>\n",
       "      <td>30720</td>\n",
       "      <td>3000</td>\n",
       "      <td>1950</td>\n",
       "      <td>150</td>\n",
       "      <td>1</td>\n",
       "      <td>1</td>\n",
       "    </tr>\n",
       "    <tr>\n",
       "      <td>...</td>\n",
       "      <td>...</td>\n",
       "      <td>...</td>\n",
       "      <td>...</td>\n",
       "      <td>...</td>\n",
       "      <td>...</td>\n",
       "      <td>...</td>\n",
       "      <td>...</td>\n",
       "      <td>...</td>\n",
       "      <td>...</td>\n",
       "      <td>...</td>\n",
       "      <td>...</td>\n",
       "      <td>...</td>\n",
       "      <td>...</td>\n",
       "      <td>...</td>\n",
       "      <td>...</td>\n",
       "    </tr>\n",
       "    <tr>\n",
       "      <td>3209</td>\n",
       "      <td>3209</td>\n",
       "      <td>1489</td>\n",
       "      <td>9</td>\n",
       "      <td>0</td>\n",
       "      <td>32</td>\n",
       "      <td>17</td>\n",
       "      <td>Санкт-Петербург</td>\n",
       "      <td>smart</td>\n",
       "      <td>50</td>\n",
       "      <td>15360</td>\n",
       "      <td>500</td>\n",
       "      <td>550</td>\n",
       "      <td>200</td>\n",
       "      <td>3</td>\n",
       "      <td>3</td>\n",
       "    </tr>\n",
       "    <tr>\n",
       "      <td>3210</td>\n",
       "      <td>3210</td>\n",
       "      <td>1489</td>\n",
       "      <td>10</td>\n",
       "      <td>0</td>\n",
       "      <td>21</td>\n",
       "      <td>20</td>\n",
       "      <td>Санкт-Петербург</td>\n",
       "      <td>smart</td>\n",
       "      <td>50</td>\n",
       "      <td>15360</td>\n",
       "      <td>500</td>\n",
       "      <td>550</td>\n",
       "      <td>200</td>\n",
       "      <td>3</td>\n",
       "      <td>3</td>\n",
       "    </tr>\n",
       "    <tr>\n",
       "      <td>3211</td>\n",
       "      <td>3211</td>\n",
       "      <td>1489</td>\n",
       "      <td>11</td>\n",
       "      <td>0</td>\n",
       "      <td>20</td>\n",
       "      <td>18</td>\n",
       "      <td>Санкт-Петербург</td>\n",
       "      <td>smart</td>\n",
       "      <td>50</td>\n",
       "      <td>15360</td>\n",
       "      <td>500</td>\n",
       "      <td>550</td>\n",
       "      <td>200</td>\n",
       "      <td>3</td>\n",
       "      <td>3</td>\n",
       "    </tr>\n",
       "    <tr>\n",
       "      <td>3212</td>\n",
       "      <td>3212</td>\n",
       "      <td>1489</td>\n",
       "      <td>12</td>\n",
       "      <td>0</td>\n",
       "      <td>35</td>\n",
       "      <td>17</td>\n",
       "      <td>Санкт-Петербург</td>\n",
       "      <td>smart</td>\n",
       "      <td>50</td>\n",
       "      <td>15360</td>\n",
       "      <td>500</td>\n",
       "      <td>550</td>\n",
       "      <td>200</td>\n",
       "      <td>3</td>\n",
       "      <td>3</td>\n",
       "    </tr>\n",
       "    <tr>\n",
       "      <td>3213</td>\n",
       "      <td>3213</td>\n",
       "      <td>1476</td>\n",
       "      <td>4</td>\n",
       "      <td>0</td>\n",
       "      <td>0</td>\n",
       "      <td>1</td>\n",
       "      <td>Москва</td>\n",
       "      <td>ultra</td>\n",
       "      <td>1000</td>\n",
       "      <td>30720</td>\n",
       "      <td>3000</td>\n",
       "      <td>1950</td>\n",
       "      <td>150</td>\n",
       "      <td>1</td>\n",
       "      <td>1</td>\n",
       "    </tr>\n",
       "  </tbody>\n",
       "</table>\n",
       "<p>3214 rows × 15 columns</p>\n",
       "</div>"
      ],
      "text/plain": [
       "      index  user_id  month  duration  count_messages  gb_used  \\\n",
       "0         0     1000      5       151              22        3   \n",
       "1         1     1000      6       159              60       23   \n",
       "2         2     1000      7       319              75       14   \n",
       "3         3     1000      8       390              81       14   \n",
       "4         4     1000      9       441              57       15   \n",
       "...     ...      ...    ...       ...             ...      ...   \n",
       "3209   3209     1489      9         0              32       17   \n",
       "3210   3210     1489     10         0              21       20   \n",
       "3211   3211     1489     11         0              20       18   \n",
       "3212   3212     1489     12         0              35       17   \n",
       "3213   3213     1476      4         0               0        1   \n",
       "\n",
       "                 city tariff  messages_included  mb_per_month_included  \\\n",
       "0           Краснодар  ultra               1000                  30720   \n",
       "1           Краснодар  ultra               1000                  30720   \n",
       "2           Краснодар  ultra               1000                  30720   \n",
       "3           Краснодар  ultra               1000                  30720   \n",
       "4           Краснодар  ultra               1000                  30720   \n",
       "...               ...    ...                ...                    ...   \n",
       "3209  Санкт-Петербург  smart                 50                  15360   \n",
       "3210  Санкт-Петербург  smart                 50                  15360   \n",
       "3211  Санкт-Петербург  smart                 50                  15360   \n",
       "3212  Санкт-Петербург  smart                 50                  15360   \n",
       "3213           Москва  ultra               1000                  30720   \n",
       "\n",
       "      minutes_included  rub_monthly_fee  rub_per_gb  rub_per_message  \\\n",
       "0                 3000             1950         150                1   \n",
       "1                 3000             1950         150                1   \n",
       "2                 3000             1950         150                1   \n",
       "3                 3000             1950         150                1   \n",
       "4                 3000             1950         150                1   \n",
       "...                ...              ...         ...              ...   \n",
       "3209               500              550         200                3   \n",
       "3210               500              550         200                3   \n",
       "3211               500              550         200                3   \n",
       "3212               500              550         200                3   \n",
       "3213              3000             1950         150                1   \n",
       "\n",
       "      rub_per_minute  \n",
       "0                  1  \n",
       "1                  1  \n",
       "2                  1  \n",
       "3                  1  \n",
       "4                  1  \n",
       "...              ...  \n",
       "3209               3  \n",
       "3210               3  \n",
       "3211               3  \n",
       "3212               3  \n",
       "3213               1  \n",
       "\n",
       "[3214 rows x 15 columns]"
      ]
     },
     "execution_count": 55,
     "metadata": {},
     "output_type": "execute_result"
    }
   ],
   "source": [
    "data4 = data3.reset_index().merge(data_tariffs, on = ['tariff'], how='left')\n",
    "data4 = data4.rename(columns = {'mb_used' : 'gb_used'})\n",
    "data4"
   ]
  },
  {
   "cell_type": "code",
   "execution_count": 56,
   "metadata": {},
   "outputs": [],
   "source": [
    "# функция для подсчета выручки\n",
    "\n",
    "def proceeds(data4_row):\n",
    "    sum_minut = data4_row['duration']\n",
    "    sum_message = data4_row['count_messages']\n",
    "    sum_gb = data4_row['gb_used']\n",
    "    tariff = data4_row['tariff']\n",
    "    \n",
    "    minit_includ = data4_row['minutes_included']\n",
    "    rub_min = data4_row['rub_per_minute']\n",
    "    mess_includ = data4_row['messages_included']\n",
    "    rub_mes = data4_row['rub_per_message']\n",
    "    internet_includ = data4_row['mb_per_month_included'] / 1024\n",
    "    rub_gb = data4_row['rub_per_gb']\n",
    "    \n",
    "    abon_plata = data4_row['rub_monthly_fee']\n",
    "    \n",
    "    if tariff == 'smart':\n",
    "        if sum_minut > minit_includ:\n",
    "            price_min = (sum_minut - minit_includ) * rub_min # стоимость минут сверх тарифа\n",
    "        else:\n",
    "            price_min = 0\n",
    "        if sum_message > mess_includ:\n",
    "            price_message = (sum_message - mess_includ) * rub_mes # стоимость сообщений сверх тарифа\n",
    "        else:\n",
    "            price_message = 0\n",
    "        if sum_gb > internet_includ:\n",
    "            price_gb = (sum_gb - internet_includ) * rub_gb # стоимость интернета сверх тарифа\n",
    "        else:\n",
    "            price_gb = 0\n",
    "        return price_min + price_message + price_gb + abon_plata # цена за месяц: абон. плата + потраченное сверху\n",
    "    elif tariff == 'ultra':\n",
    "        if sum_minut > minit_includ:\n",
    "            price_min = (sum_minut - minit_includ) * rub_min # стоимость минут сверх тарифа\n",
    "        else:\n",
    "            price_min = 0\n",
    "        if sum_message > mess_includ:\n",
    "            price_message = (sum_message - mess_includ) * rub_mes # стоимость сообщений сверх тарифа\n",
    "        else:\n",
    "            price_message = 0\n",
    "        if sum_gb > internet_includ:\n",
    "            price_gb = (sum_gb - internet_includ) * rub_gb # стоимость интернета  сверх тарифа\n",
    "        else:\n",
    "            price_gb = 0\n",
    "        return price_min + price_message + price_gb + abon_plata # цена за месяц: абон.плата + потраченное сверху"
   ]
  },
  {
   "cell_type": "code",
   "execution_count": 57,
   "metadata": {},
   "outputs": [
    {
     "data": {
      "text/html": [
       "<div>\n",
       "<style scoped>\n",
       "    .dataframe tbody tr th:only-of-type {\n",
       "        vertical-align: middle;\n",
       "    }\n",
       "\n",
       "    .dataframe tbody tr th {\n",
       "        vertical-align: top;\n",
       "    }\n",
       "\n",
       "    .dataframe thead th {\n",
       "        text-align: right;\n",
       "    }\n",
       "</style>\n",
       "<table border=\"1\" class=\"dataframe\">\n",
       "  <thead>\n",
       "    <tr style=\"text-align: right;\">\n",
       "      <th></th>\n",
       "      <th>index</th>\n",
       "      <th>user_id</th>\n",
       "      <th>month</th>\n",
       "      <th>duration</th>\n",
       "      <th>count_messages</th>\n",
       "      <th>gb_used</th>\n",
       "      <th>city</th>\n",
       "      <th>tariff</th>\n",
       "      <th>messages_included</th>\n",
       "      <th>mb_per_month_included</th>\n",
       "      <th>minutes_included</th>\n",
       "      <th>rub_monthly_fee</th>\n",
       "      <th>rub_per_gb</th>\n",
       "      <th>rub_per_message</th>\n",
       "      <th>rub_per_minute</th>\n",
       "      <th>proceeds_month</th>\n",
       "    </tr>\n",
       "  </thead>\n",
       "  <tbody>\n",
       "    <tr>\n",
       "      <td>0</td>\n",
       "      <td>0</td>\n",
       "      <td>1000</td>\n",
       "      <td>5</td>\n",
       "      <td>151</td>\n",
       "      <td>22</td>\n",
       "      <td>3</td>\n",
       "      <td>Краснодар</td>\n",
       "      <td>ultra</td>\n",
       "      <td>1000</td>\n",
       "      <td>30720</td>\n",
       "      <td>3000</td>\n",
       "      <td>1950</td>\n",
       "      <td>150</td>\n",
       "      <td>1</td>\n",
       "      <td>1</td>\n",
       "      <td>1950.0</td>\n",
       "    </tr>\n",
       "    <tr>\n",
       "      <td>1</td>\n",
       "      <td>1</td>\n",
       "      <td>1000</td>\n",
       "      <td>6</td>\n",
       "      <td>159</td>\n",
       "      <td>60</td>\n",
       "      <td>23</td>\n",
       "      <td>Краснодар</td>\n",
       "      <td>ultra</td>\n",
       "      <td>1000</td>\n",
       "      <td>30720</td>\n",
       "      <td>3000</td>\n",
       "      <td>1950</td>\n",
       "      <td>150</td>\n",
       "      <td>1</td>\n",
       "      <td>1</td>\n",
       "      <td>1950.0</td>\n",
       "    </tr>\n",
       "    <tr>\n",
       "      <td>2</td>\n",
       "      <td>2</td>\n",
       "      <td>1000</td>\n",
       "      <td>7</td>\n",
       "      <td>319</td>\n",
       "      <td>75</td>\n",
       "      <td>14</td>\n",
       "      <td>Краснодар</td>\n",
       "      <td>ultra</td>\n",
       "      <td>1000</td>\n",
       "      <td>30720</td>\n",
       "      <td>3000</td>\n",
       "      <td>1950</td>\n",
       "      <td>150</td>\n",
       "      <td>1</td>\n",
       "      <td>1</td>\n",
       "      <td>1950.0</td>\n",
       "    </tr>\n",
       "    <tr>\n",
       "      <td>3</td>\n",
       "      <td>3</td>\n",
       "      <td>1000</td>\n",
       "      <td>8</td>\n",
       "      <td>390</td>\n",
       "      <td>81</td>\n",
       "      <td>14</td>\n",
       "      <td>Краснодар</td>\n",
       "      <td>ultra</td>\n",
       "      <td>1000</td>\n",
       "      <td>30720</td>\n",
       "      <td>3000</td>\n",
       "      <td>1950</td>\n",
       "      <td>150</td>\n",
       "      <td>1</td>\n",
       "      <td>1</td>\n",
       "      <td>1950.0</td>\n",
       "    </tr>\n",
       "    <tr>\n",
       "      <td>4</td>\n",
       "      <td>4</td>\n",
       "      <td>1000</td>\n",
       "      <td>9</td>\n",
       "      <td>441</td>\n",
       "      <td>57</td>\n",
       "      <td>15</td>\n",
       "      <td>Краснодар</td>\n",
       "      <td>ultra</td>\n",
       "      <td>1000</td>\n",
       "      <td>30720</td>\n",
       "      <td>3000</td>\n",
       "      <td>1950</td>\n",
       "      <td>150</td>\n",
       "      <td>1</td>\n",
       "      <td>1</td>\n",
       "      <td>1950.0</td>\n",
       "    </tr>\n",
       "    <tr>\n",
       "      <td>...</td>\n",
       "      <td>...</td>\n",
       "      <td>...</td>\n",
       "      <td>...</td>\n",
       "      <td>...</td>\n",
       "      <td>...</td>\n",
       "      <td>...</td>\n",
       "      <td>...</td>\n",
       "      <td>...</td>\n",
       "      <td>...</td>\n",
       "      <td>...</td>\n",
       "      <td>...</td>\n",
       "      <td>...</td>\n",
       "      <td>...</td>\n",
       "      <td>...</td>\n",
       "      <td>...</td>\n",
       "      <td>...</td>\n",
       "    </tr>\n",
       "    <tr>\n",
       "      <td>3209</td>\n",
       "      <td>3209</td>\n",
       "      <td>1489</td>\n",
       "      <td>9</td>\n",
       "      <td>0</td>\n",
       "      <td>32</td>\n",
       "      <td>17</td>\n",
       "      <td>Санкт-Петербург</td>\n",
       "      <td>smart</td>\n",
       "      <td>50</td>\n",
       "      <td>15360</td>\n",
       "      <td>500</td>\n",
       "      <td>550</td>\n",
       "      <td>200</td>\n",
       "      <td>3</td>\n",
       "      <td>3</td>\n",
       "      <td>950.0</td>\n",
       "    </tr>\n",
       "    <tr>\n",
       "      <td>3210</td>\n",
       "      <td>3210</td>\n",
       "      <td>1489</td>\n",
       "      <td>10</td>\n",
       "      <td>0</td>\n",
       "      <td>21</td>\n",
       "      <td>20</td>\n",
       "      <td>Санкт-Петербург</td>\n",
       "      <td>smart</td>\n",
       "      <td>50</td>\n",
       "      <td>15360</td>\n",
       "      <td>500</td>\n",
       "      <td>550</td>\n",
       "      <td>200</td>\n",
       "      <td>3</td>\n",
       "      <td>3</td>\n",
       "      <td>1550.0</td>\n",
       "    </tr>\n",
       "    <tr>\n",
       "      <td>3211</td>\n",
       "      <td>3211</td>\n",
       "      <td>1489</td>\n",
       "      <td>11</td>\n",
       "      <td>0</td>\n",
       "      <td>20</td>\n",
       "      <td>18</td>\n",
       "      <td>Санкт-Петербург</td>\n",
       "      <td>smart</td>\n",
       "      <td>50</td>\n",
       "      <td>15360</td>\n",
       "      <td>500</td>\n",
       "      <td>550</td>\n",
       "      <td>200</td>\n",
       "      <td>3</td>\n",
       "      <td>3</td>\n",
       "      <td>1150.0</td>\n",
       "    </tr>\n",
       "    <tr>\n",
       "      <td>3212</td>\n",
       "      <td>3212</td>\n",
       "      <td>1489</td>\n",
       "      <td>12</td>\n",
       "      <td>0</td>\n",
       "      <td>35</td>\n",
       "      <td>17</td>\n",
       "      <td>Санкт-Петербург</td>\n",
       "      <td>smart</td>\n",
       "      <td>50</td>\n",
       "      <td>15360</td>\n",
       "      <td>500</td>\n",
       "      <td>550</td>\n",
       "      <td>200</td>\n",
       "      <td>3</td>\n",
       "      <td>3</td>\n",
       "      <td>950.0</td>\n",
       "    </tr>\n",
       "    <tr>\n",
       "      <td>3213</td>\n",
       "      <td>3213</td>\n",
       "      <td>1476</td>\n",
       "      <td>4</td>\n",
       "      <td>0</td>\n",
       "      <td>0</td>\n",
       "      <td>1</td>\n",
       "      <td>Москва</td>\n",
       "      <td>ultra</td>\n",
       "      <td>1000</td>\n",
       "      <td>30720</td>\n",
       "      <td>3000</td>\n",
       "      <td>1950</td>\n",
       "      <td>150</td>\n",
       "      <td>1</td>\n",
       "      <td>1</td>\n",
       "      <td>1950.0</td>\n",
       "    </tr>\n",
       "  </tbody>\n",
       "</table>\n",
       "<p>3214 rows × 16 columns</p>\n",
       "</div>"
      ],
      "text/plain": [
       "      index  user_id  month  duration  count_messages  gb_used  \\\n",
       "0         0     1000      5       151              22        3   \n",
       "1         1     1000      6       159              60       23   \n",
       "2         2     1000      7       319              75       14   \n",
       "3         3     1000      8       390              81       14   \n",
       "4         4     1000      9       441              57       15   \n",
       "...     ...      ...    ...       ...             ...      ...   \n",
       "3209   3209     1489      9         0              32       17   \n",
       "3210   3210     1489     10         0              21       20   \n",
       "3211   3211     1489     11         0              20       18   \n",
       "3212   3212     1489     12         0              35       17   \n",
       "3213   3213     1476      4         0               0        1   \n",
       "\n",
       "                 city tariff  messages_included  mb_per_month_included  \\\n",
       "0           Краснодар  ultra               1000                  30720   \n",
       "1           Краснодар  ultra               1000                  30720   \n",
       "2           Краснодар  ultra               1000                  30720   \n",
       "3           Краснодар  ultra               1000                  30720   \n",
       "4           Краснодар  ultra               1000                  30720   \n",
       "...               ...    ...                ...                    ...   \n",
       "3209  Санкт-Петербург  smart                 50                  15360   \n",
       "3210  Санкт-Петербург  smart                 50                  15360   \n",
       "3211  Санкт-Петербург  smart                 50                  15360   \n",
       "3212  Санкт-Петербург  smart                 50                  15360   \n",
       "3213           Москва  ultra               1000                  30720   \n",
       "\n",
       "      minutes_included  rub_monthly_fee  rub_per_gb  rub_per_message  \\\n",
       "0                 3000             1950         150                1   \n",
       "1                 3000             1950         150                1   \n",
       "2                 3000             1950         150                1   \n",
       "3                 3000             1950         150                1   \n",
       "4                 3000             1950         150                1   \n",
       "...                ...              ...         ...              ...   \n",
       "3209               500              550         200                3   \n",
       "3210               500              550         200                3   \n",
       "3211               500              550         200                3   \n",
       "3212               500              550         200                3   \n",
       "3213              3000             1950         150                1   \n",
       "\n",
       "      rub_per_minute  proceeds_month  \n",
       "0                  1          1950.0  \n",
       "1                  1          1950.0  \n",
       "2                  1          1950.0  \n",
       "3                  1          1950.0  \n",
       "4                  1          1950.0  \n",
       "...              ...             ...  \n",
       "3209               3           950.0  \n",
       "3210               3          1550.0  \n",
       "3211               3          1150.0  \n",
       "3212               3           950.0  \n",
       "3213               1          1950.0  \n",
       "\n",
       "[3214 rows x 16 columns]"
      ]
     },
     "execution_count": 57,
     "metadata": {},
     "output_type": "execute_result"
    }
   ],
   "source": [
    "data4['proceeds_month'] = data4.apply(proceeds, axis = 1) # новый столбец, функцию ко всей строке\n",
    "data4"
   ]
  },
  {
   "cell_type": "markdown",
   "metadata": {},
   "source": [
    "**Вывод**\n",
    "\n",
    "Было посчитано для каждого пользователя:\n",
    "\n",
    "- количество сделанных звонков и израсходованных минут разговора по месяцам;\n",
    "- количество отправленных сообщений по месяцам;\n",
    "- объем израсходованного интернет-трафика по месяцам;\n",
    "- помесячная выручка для каждого пользователя. \n",
    "Результат выведен в таблице data3 в столбце proceeds_month. Для рассчета была написана функция, считающая переплату по минутам, смс и интернету и прибавляющая абонентскую плату.  "
   ]
  },
  {
   "cell_type": "markdown",
   "metadata": {},
   "source": [
    "## Шаг 3. Проанализировать данные"
   ]
  },
  {
   "cell_type": "markdown",
   "metadata": {},
   "source": [
    "**Проанализируем тариф Ultra**"
   ]
  },
  {
   "cell_type": "markdown",
   "metadata": {},
   "source": [
    "1) *Сколько минут разговора, сколько сообщений и какой объём интернет-трафика требуется пользователям каждого тарифа в месяц?*"
   ]
  },
  {
   "cell_type": "code",
   "execution_count": 58,
   "metadata": {},
   "outputs": [
    {
     "data": {
      "text/html": [
       "<div>\n",
       "<style scoped>\n",
       "    .dataframe tbody tr th:only-of-type {\n",
       "        vertical-align: middle;\n",
       "    }\n",
       "\n",
       "    .dataframe tbody tr th {\n",
       "        vertical-align: top;\n",
       "    }\n",
       "\n",
       "    .dataframe thead th {\n",
       "        text-align: right;\n",
       "    }\n",
       "</style>\n",
       "<table border=\"1\" class=\"dataframe\">\n",
       "  <thead>\n",
       "    <tr style=\"text-align: right;\">\n",
       "      <th></th>\n",
       "      <th>index</th>\n",
       "      <th>user_id</th>\n",
       "      <th>month</th>\n",
       "      <th>duration</th>\n",
       "      <th>count_messages</th>\n",
       "      <th>gb_used</th>\n",
       "      <th>city</th>\n",
       "      <th>tariff</th>\n",
       "      <th>messages_included</th>\n",
       "      <th>mb_per_month_included</th>\n",
       "      <th>minutes_included</th>\n",
       "      <th>rub_monthly_fee</th>\n",
       "      <th>rub_per_gb</th>\n",
       "      <th>rub_per_message</th>\n",
       "      <th>rub_per_minute</th>\n",
       "      <th>proceeds_month</th>\n",
       "    </tr>\n",
       "  </thead>\n",
       "  <tbody>\n",
       "    <tr>\n",
       "      <td>0</td>\n",
       "      <td>0</td>\n",
       "      <td>1000</td>\n",
       "      <td>5</td>\n",
       "      <td>151</td>\n",
       "      <td>22</td>\n",
       "      <td>3</td>\n",
       "      <td>Краснодар</td>\n",
       "      <td>ultra</td>\n",
       "      <td>1000</td>\n",
       "      <td>30720</td>\n",
       "      <td>3000</td>\n",
       "      <td>1950</td>\n",
       "      <td>150</td>\n",
       "      <td>1</td>\n",
       "      <td>1</td>\n",
       "      <td>1950.0</td>\n",
       "    </tr>\n",
       "    <tr>\n",
       "      <td>1</td>\n",
       "      <td>1</td>\n",
       "      <td>1000</td>\n",
       "      <td>6</td>\n",
       "      <td>159</td>\n",
       "      <td>60</td>\n",
       "      <td>23</td>\n",
       "      <td>Краснодар</td>\n",
       "      <td>ultra</td>\n",
       "      <td>1000</td>\n",
       "      <td>30720</td>\n",
       "      <td>3000</td>\n",
       "      <td>1950</td>\n",
       "      <td>150</td>\n",
       "      <td>1</td>\n",
       "      <td>1</td>\n",
       "      <td>1950.0</td>\n",
       "    </tr>\n",
       "    <tr>\n",
       "      <td>2</td>\n",
       "      <td>2</td>\n",
       "      <td>1000</td>\n",
       "      <td>7</td>\n",
       "      <td>319</td>\n",
       "      <td>75</td>\n",
       "      <td>14</td>\n",
       "      <td>Краснодар</td>\n",
       "      <td>ultra</td>\n",
       "      <td>1000</td>\n",
       "      <td>30720</td>\n",
       "      <td>3000</td>\n",
       "      <td>1950</td>\n",
       "      <td>150</td>\n",
       "      <td>1</td>\n",
       "      <td>1</td>\n",
       "      <td>1950.0</td>\n",
       "    </tr>\n",
       "    <tr>\n",
       "      <td>3</td>\n",
       "      <td>3</td>\n",
       "      <td>1000</td>\n",
       "      <td>8</td>\n",
       "      <td>390</td>\n",
       "      <td>81</td>\n",
       "      <td>14</td>\n",
       "      <td>Краснодар</td>\n",
       "      <td>ultra</td>\n",
       "      <td>1000</td>\n",
       "      <td>30720</td>\n",
       "      <td>3000</td>\n",
       "      <td>1950</td>\n",
       "      <td>150</td>\n",
       "      <td>1</td>\n",
       "      <td>1</td>\n",
       "      <td>1950.0</td>\n",
       "    </tr>\n",
       "    <tr>\n",
       "      <td>4</td>\n",
       "      <td>4</td>\n",
       "      <td>1000</td>\n",
       "      <td>9</td>\n",
       "      <td>441</td>\n",
       "      <td>57</td>\n",
       "      <td>15</td>\n",
       "      <td>Краснодар</td>\n",
       "      <td>ultra</td>\n",
       "      <td>1000</td>\n",
       "      <td>30720</td>\n",
       "      <td>3000</td>\n",
       "      <td>1950</td>\n",
       "      <td>150</td>\n",
       "      <td>1</td>\n",
       "      <td>1</td>\n",
       "      <td>1950.0</td>\n",
       "    </tr>\n",
       "    <tr>\n",
       "      <td>...</td>\n",
       "      <td>...</td>\n",
       "      <td>...</td>\n",
       "      <td>...</td>\n",
       "      <td>...</td>\n",
       "      <td>...</td>\n",
       "      <td>...</td>\n",
       "      <td>...</td>\n",
       "      <td>...</td>\n",
       "      <td>...</td>\n",
       "      <td>...</td>\n",
       "      <td>...</td>\n",
       "      <td>...</td>\n",
       "      <td>...</td>\n",
       "      <td>...</td>\n",
       "      <td>...</td>\n",
       "      <td>...</td>\n",
       "    </tr>\n",
       "    <tr>\n",
       "      <td>3204</td>\n",
       "      <td>3204</td>\n",
       "      <td>1473</td>\n",
       "      <td>9</td>\n",
       "      <td>0</td>\n",
       "      <td>19</td>\n",
       "      <td>17</td>\n",
       "      <td>Красноярск</td>\n",
       "      <td>ultra</td>\n",
       "      <td>1000</td>\n",
       "      <td>30720</td>\n",
       "      <td>3000</td>\n",
       "      <td>1950</td>\n",
       "      <td>150</td>\n",
       "      <td>1</td>\n",
       "      <td>1</td>\n",
       "      <td>1950.0</td>\n",
       "    </tr>\n",
       "    <tr>\n",
       "      <td>3205</td>\n",
       "      <td>3205</td>\n",
       "      <td>1473</td>\n",
       "      <td>10</td>\n",
       "      <td>0</td>\n",
       "      <td>20</td>\n",
       "      <td>14</td>\n",
       "      <td>Красноярск</td>\n",
       "      <td>ultra</td>\n",
       "      <td>1000</td>\n",
       "      <td>30720</td>\n",
       "      <td>3000</td>\n",
       "      <td>1950</td>\n",
       "      <td>150</td>\n",
       "      <td>1</td>\n",
       "      <td>1</td>\n",
       "      <td>1950.0</td>\n",
       "    </tr>\n",
       "    <tr>\n",
       "      <td>3206</td>\n",
       "      <td>3206</td>\n",
       "      <td>1473</td>\n",
       "      <td>11</td>\n",
       "      <td>0</td>\n",
       "      <td>14</td>\n",
       "      <td>22</td>\n",
       "      <td>Красноярск</td>\n",
       "      <td>ultra</td>\n",
       "      <td>1000</td>\n",
       "      <td>30720</td>\n",
       "      <td>3000</td>\n",
       "      <td>1950</td>\n",
       "      <td>150</td>\n",
       "      <td>1</td>\n",
       "      <td>1</td>\n",
       "      <td>1950.0</td>\n",
       "    </tr>\n",
       "    <tr>\n",
       "      <td>3207</td>\n",
       "      <td>3207</td>\n",
       "      <td>1473</td>\n",
       "      <td>12</td>\n",
       "      <td>0</td>\n",
       "      <td>20</td>\n",
       "      <td>18</td>\n",
       "      <td>Красноярск</td>\n",
       "      <td>ultra</td>\n",
       "      <td>1000</td>\n",
       "      <td>30720</td>\n",
       "      <td>3000</td>\n",
       "      <td>1950</td>\n",
       "      <td>150</td>\n",
       "      <td>1</td>\n",
       "      <td>1</td>\n",
       "      <td>1950.0</td>\n",
       "    </tr>\n",
       "    <tr>\n",
       "      <td>3213</td>\n",
       "      <td>3213</td>\n",
       "      <td>1476</td>\n",
       "      <td>4</td>\n",
       "      <td>0</td>\n",
       "      <td>0</td>\n",
       "      <td>1</td>\n",
       "      <td>Москва</td>\n",
       "      <td>ultra</td>\n",
       "      <td>1000</td>\n",
       "      <td>30720</td>\n",
       "      <td>3000</td>\n",
       "      <td>1950</td>\n",
       "      <td>150</td>\n",
       "      <td>1</td>\n",
       "      <td>1</td>\n",
       "      <td>1950.0</td>\n",
       "    </tr>\n",
       "  </tbody>\n",
       "</table>\n",
       "<p>985 rows × 16 columns</p>\n",
       "</div>"
      ],
      "text/plain": [
       "      index  user_id  month  duration  count_messages  gb_used        city  \\\n",
       "0         0     1000      5       151              22        3   Краснодар   \n",
       "1         1     1000      6       159              60       23   Краснодар   \n",
       "2         2     1000      7       319              75       14   Краснодар   \n",
       "3         3     1000      8       390              81       14   Краснодар   \n",
       "4         4     1000      9       441              57       15   Краснодар   \n",
       "...     ...      ...    ...       ...             ...      ...         ...   \n",
       "3204   3204     1473      9         0              19       17  Красноярск   \n",
       "3205   3205     1473     10         0              20       14  Красноярск   \n",
       "3206   3206     1473     11         0              14       22  Красноярск   \n",
       "3207   3207     1473     12         0              20       18  Красноярск   \n",
       "3213   3213     1476      4         0               0        1      Москва   \n",
       "\n",
       "     tariff  messages_included  mb_per_month_included  minutes_included  \\\n",
       "0     ultra               1000                  30720              3000   \n",
       "1     ultra               1000                  30720              3000   \n",
       "2     ultra               1000                  30720              3000   \n",
       "3     ultra               1000                  30720              3000   \n",
       "4     ultra               1000                  30720              3000   \n",
       "...     ...                ...                    ...               ...   \n",
       "3204  ultra               1000                  30720              3000   \n",
       "3205  ultra               1000                  30720              3000   \n",
       "3206  ultra               1000                  30720              3000   \n",
       "3207  ultra               1000                  30720              3000   \n",
       "3213  ultra               1000                  30720              3000   \n",
       "\n",
       "      rub_monthly_fee  rub_per_gb  rub_per_message  rub_per_minute  \\\n",
       "0                1950         150                1               1   \n",
       "1                1950         150                1               1   \n",
       "2                1950         150                1               1   \n",
       "3                1950         150                1               1   \n",
       "4                1950         150                1               1   \n",
       "...               ...         ...              ...             ...   \n",
       "3204             1950         150                1               1   \n",
       "3205             1950         150                1               1   \n",
       "3206             1950         150                1               1   \n",
       "3207             1950         150                1               1   \n",
       "3213             1950         150                1               1   \n",
       "\n",
       "      proceeds_month  \n",
       "0             1950.0  \n",
       "1             1950.0  \n",
       "2             1950.0  \n",
       "3             1950.0  \n",
       "4             1950.0  \n",
       "...              ...  \n",
       "3204          1950.0  \n",
       "3205          1950.0  \n",
       "3206          1950.0  \n",
       "3207          1950.0  \n",
       "3213          1950.0  \n",
       "\n",
       "[985 rows x 16 columns]"
      ]
     },
     "execution_count": 58,
     "metadata": {},
     "output_type": "execute_result"
    }
   ],
   "source": [
    "data4_ultra = data4.query('tariff == \"ultra\"')\n",
    "data4_ultra"
   ]
  },
  {
   "cell_type": "code",
   "execution_count": 59,
   "metadata": {},
   "outputs": [
    {
     "data": {
      "text/html": [
       "<div>\n",
       "<style scoped>\n",
       "    .dataframe tbody tr th:only-of-type {\n",
       "        vertical-align: middle;\n",
       "    }\n",
       "\n",
       "    .dataframe tbody tr th {\n",
       "        vertical-align: top;\n",
       "    }\n",
       "\n",
       "    .dataframe thead th {\n",
       "        text-align: right;\n",
       "    }\n",
       "</style>\n",
       "<table border=\"1\" class=\"dataframe\">\n",
       "  <thead>\n",
       "    <tr style=\"text-align: right;\">\n",
       "      <th></th>\n",
       "      <th>index</th>\n",
       "      <th>user_id</th>\n",
       "      <th>month</th>\n",
       "      <th>duration</th>\n",
       "      <th>count_messages</th>\n",
       "      <th>gb_used</th>\n",
       "      <th>messages_included</th>\n",
       "      <th>mb_per_month_included</th>\n",
       "      <th>minutes_included</th>\n",
       "      <th>rub_monthly_fee</th>\n",
       "      <th>rub_per_gb</th>\n",
       "      <th>rub_per_message</th>\n",
       "      <th>rub_per_minute</th>\n",
       "      <th>proceeds_month</th>\n",
       "    </tr>\n",
       "  </thead>\n",
       "  <tbody>\n",
       "    <tr>\n",
       "      <td>count</td>\n",
       "      <td>985.000000</td>\n",
       "      <td>985.000000</td>\n",
       "      <td>985.000000</td>\n",
       "      <td>985.000000</td>\n",
       "      <td>985.000000</td>\n",
       "      <td>985.000000</td>\n",
       "      <td>985.0</td>\n",
       "      <td>985.0</td>\n",
       "      <td>985.0</td>\n",
       "      <td>985.0</td>\n",
       "      <td>985.0</td>\n",
       "      <td>985.0</td>\n",
       "      <td>985.0</td>\n",
       "      <td>985.000000</td>\n",
       "    </tr>\n",
       "    <tr>\n",
       "      <td>mean</td>\n",
       "      <td>1720.947208</td>\n",
       "      <td>1263.094416</td>\n",
       "      <td>8.250761</td>\n",
       "      <td>497.547208</td>\n",
       "      <td>49.363452</td>\n",
       "      <td>19.494416</td>\n",
       "      <td>1000.0</td>\n",
       "      <td>30720.0</td>\n",
       "      <td>3000.0</td>\n",
       "      <td>1950.0</td>\n",
       "      <td>150.0</td>\n",
       "      <td>1.0</td>\n",
       "      <td>1.0</td>\n",
       "      <td>2070.152284</td>\n",
       "    </tr>\n",
       "    <tr>\n",
       "      <td>std</td>\n",
       "      <td>917.544247</td>\n",
       "      <td>140.694908</td>\n",
       "      <td>2.871762</td>\n",
       "      <td>299.929524</td>\n",
       "      <td>47.804457</td>\n",
       "      <td>9.853511</td>\n",
       "      <td>0.0</td>\n",
       "      <td>0.0</td>\n",
       "      <td>0.0</td>\n",
       "      <td>0.0</td>\n",
       "      <td>0.0</td>\n",
       "      <td>0.0</td>\n",
       "      <td>0.0</td>\n",
       "      <td>376.187114</td>\n",
       "    </tr>\n",
       "    <tr>\n",
       "      <td>min</td>\n",
       "      <td>0.000000</td>\n",
       "      <td>1000.000000</td>\n",
       "      <td>1.000000</td>\n",
       "      <td>0.000000</td>\n",
       "      <td>0.000000</td>\n",
       "      <td>0.000000</td>\n",
       "      <td>1000.0</td>\n",
       "      <td>30720.0</td>\n",
       "      <td>3000.0</td>\n",
       "      <td>1950.0</td>\n",
       "      <td>150.0</td>\n",
       "      <td>1.0</td>\n",
       "      <td>1.0</td>\n",
       "      <td>1950.000000</td>\n",
       "    </tr>\n",
       "    <tr>\n",
       "      <td>25%</td>\n",
       "      <td>935.000000</td>\n",
       "      <td>1143.000000</td>\n",
       "      <td>6.000000</td>\n",
       "      <td>268.000000</td>\n",
       "      <td>6.000000</td>\n",
       "      <td>12.000000</td>\n",
       "      <td>1000.0</td>\n",
       "      <td>30720.0</td>\n",
       "      <td>3000.0</td>\n",
       "      <td>1950.0</td>\n",
       "      <td>150.0</td>\n",
       "      <td>1.0</td>\n",
       "      <td>1.0</td>\n",
       "      <td>1950.000000</td>\n",
       "    </tr>\n",
       "    <tr>\n",
       "      <td>50%</td>\n",
       "      <td>1833.000000</td>\n",
       "      <td>1277.000000</td>\n",
       "      <td>9.000000</td>\n",
       "      <td>489.000000</td>\n",
       "      <td>38.000000</td>\n",
       "      <td>19.000000</td>\n",
       "      <td>1000.0</td>\n",
       "      <td>30720.0</td>\n",
       "      <td>3000.0</td>\n",
       "      <td>1950.0</td>\n",
       "      <td>150.0</td>\n",
       "      <td>1.0</td>\n",
       "      <td>1.0</td>\n",
       "      <td>1950.000000</td>\n",
       "    </tr>\n",
       "    <tr>\n",
       "      <td>75%</td>\n",
       "      <td>2435.000000</td>\n",
       "      <td>1381.000000</td>\n",
       "      <td>11.000000</td>\n",
       "      <td>712.000000</td>\n",
       "      <td>79.000000</td>\n",
       "      <td>27.000000</td>\n",
       "      <td>1000.0</td>\n",
       "      <td>30720.0</td>\n",
       "      <td>3000.0</td>\n",
       "      <td>1950.0</td>\n",
       "      <td>150.0</td>\n",
       "      <td>1.0</td>\n",
       "      <td>1.0</td>\n",
       "      <td>1950.000000</td>\n",
       "    </tr>\n",
       "    <tr>\n",
       "      <td>max</td>\n",
       "      <td>3213.000000</td>\n",
       "      <td>1495.000000</td>\n",
       "      <td>12.000000</td>\n",
       "      <td>1579.000000</td>\n",
       "      <td>224.000000</td>\n",
       "      <td>49.000000</td>\n",
       "      <td>1000.0</td>\n",
       "      <td>30720.0</td>\n",
       "      <td>3000.0</td>\n",
       "      <td>1950.0</td>\n",
       "      <td>150.0</td>\n",
       "      <td>1.0</td>\n",
       "      <td>1.0</td>\n",
       "      <td>4800.000000</td>\n",
       "    </tr>\n",
       "  </tbody>\n",
       "</table>\n",
       "</div>"
      ],
      "text/plain": [
       "             index      user_id       month     duration  count_messages  \\\n",
       "count   985.000000   985.000000  985.000000   985.000000      985.000000   \n",
       "mean   1720.947208  1263.094416    8.250761   497.547208       49.363452   \n",
       "std     917.544247   140.694908    2.871762   299.929524       47.804457   \n",
       "min       0.000000  1000.000000    1.000000     0.000000        0.000000   \n",
       "25%     935.000000  1143.000000    6.000000   268.000000        6.000000   \n",
       "50%    1833.000000  1277.000000    9.000000   489.000000       38.000000   \n",
       "75%    2435.000000  1381.000000   11.000000   712.000000       79.000000   \n",
       "max    3213.000000  1495.000000   12.000000  1579.000000      224.000000   \n",
       "\n",
       "          gb_used  messages_included  mb_per_month_included  minutes_included  \\\n",
       "count  985.000000              985.0                  985.0             985.0   \n",
       "mean    19.494416             1000.0                30720.0            3000.0   \n",
       "std      9.853511                0.0                    0.0               0.0   \n",
       "min      0.000000             1000.0                30720.0            3000.0   \n",
       "25%     12.000000             1000.0                30720.0            3000.0   \n",
       "50%     19.000000             1000.0                30720.0            3000.0   \n",
       "75%     27.000000             1000.0                30720.0            3000.0   \n",
       "max     49.000000             1000.0                30720.0            3000.0   \n",
       "\n",
       "       rub_monthly_fee  rub_per_gb  rub_per_message  rub_per_minute  \\\n",
       "count            985.0       985.0            985.0           985.0   \n",
       "mean            1950.0       150.0              1.0             1.0   \n",
       "std                0.0         0.0              0.0             0.0   \n",
       "min             1950.0       150.0              1.0             1.0   \n",
       "25%             1950.0       150.0              1.0             1.0   \n",
       "50%             1950.0       150.0              1.0             1.0   \n",
       "75%             1950.0       150.0              1.0             1.0   \n",
       "max             1950.0       150.0              1.0             1.0   \n",
       "\n",
       "       proceeds_month  \n",
       "count      985.000000  \n",
       "mean      2070.152284  \n",
       "std        376.187114  \n",
       "min       1950.000000  \n",
       "25%       1950.000000  \n",
       "50%       1950.000000  \n",
       "75%       1950.000000  \n",
       "max       4800.000000  "
      ]
     },
     "execution_count": 59,
     "metadata": {},
     "output_type": "execute_result"
    }
   ],
   "source": [
    "data4_ultra.describe()"
   ]
  },
  {
   "cell_type": "markdown",
   "metadata": {},
   "source": [
    "Тариф «Ультра»\n",
    "\n",
    "Ежемесячная плата: 1950 рублей\n",
    "\n",
    "Включено 3000 минут разговора, 1000 сообщений и 30 Гб интернет-трафика"
   ]
  },
  {
   "cell_type": "markdown",
   "metadata": {},
   "source": [
    "Как видно из таблицы выше, в среднем клиенты уклдываются в пределы по тарифу, однако есть те, кому этого не хватает. И это из-за интернета."
   ]
  },
  {
   "cell_type": "code",
   "execution_count": 60,
   "metadata": {},
   "outputs": [
    {
     "data": {
      "text/plain": [
       "13.604060913705585"
      ]
     },
     "execution_count": 60,
     "metadata": {},
     "output_type": "execute_result"
    }
   ],
   "source": [
    "data4_ultra.query('gb_used > 30')['gb_used'].count() / len(data4_ultra) * 100"
   ]
  },
  {
   "cell_type": "markdown",
   "metadata": {},
   "source": [
    "13 % людей интернета не хватает."
   ]
  },
  {
   "cell_type": "code",
   "execution_count": 61,
   "metadata": {},
   "outputs": [
    {
     "data": {
      "text/plain": [
       "13.604060913705585"
      ]
     },
     "execution_count": 61,
     "metadata": {},
     "output_type": "execute_result"
    }
   ],
   "source": [
    "data4_ultra.query('proceeds_month > 1950')['proceeds_month'].count() / len(data4_ultra) * 100"
   ]
  },
  {
   "cell_type": "markdown",
   "metadata": {},
   "source": [
    "13 % людей переплачивают сверх абон платы."
   ]
  },
  {
   "cell_type": "markdown",
   "metadata": {},
   "source": [
    "**По данному тарифу почти все уклыдываются в рамки, за исключением 14 % людей, которые тратят больше интернета и из-за этого их абонентская плата тоже выше. Есть и такие клиенты, кто заплатил за месяц больше абон платы, чем в 2 раза, но их не так много.**"
   ]
  },
  {
   "cell_type": "markdown",
   "metadata": {},
   "source": [
    "2) *Посчитайте среднее количество, дисперсию и стандартное отклонение*"
   ]
  },
  {
   "cell_type": "markdown",
   "metadata": {},
   "source": [
    "**Минуты**"
   ]
  },
  {
   "cell_type": "code",
   "execution_count": 62,
   "metadata": {},
   "outputs": [
    {
     "name": "stdout",
     "output_type": "stream",
     "text": [
      "Среднее 498\n",
      "Дисперсия 89866\n",
      "Стандартное отклонение 300\n"
     ]
    }
   ],
   "source": [
    "variance_ultra_minut = round(np.var(data4_ultra['duration']))\n",
    "standard_deviation_ultra_minut = round(np.sqrt(variance_ultra_minut))\n",
    "mean_ultra_minut = round(data4_ultra['duration'].mean())\n",
    "print('Среднее', mean_ultra_minut)\n",
    "print('Дисперсия', variance_ultra_minut)\n",
    "print('Стандартное отклонение', standard_deviation_ultra_minut)"
   ]
  },
  {
   "cell_type": "markdown",
   "metadata": {},
   "source": [
    "**SMS**"
   ]
  },
  {
   "cell_type": "code",
   "execution_count": 63,
   "metadata": {},
   "outputs": [
    {
     "name": "stdout",
     "output_type": "stream",
     "text": [
      "Среднее 49\n",
      "Дисперсия 2283\n",
      "Стандартное отклонение 48\n"
     ]
    }
   ],
   "source": [
    "variance_ultra_sms = round(np.var(data4_ultra['count_messages']))\n",
    "standard_deviation_ultra_sms = round(np.sqrt(variance_ultra_sms))\n",
    "mean_ultra_sms = round(data4_ultra['count_messages'].mean())\n",
    "print('Среднее', mean_ultra_sms)\n",
    "print('Дисперсия', variance_ultra_sms)\n",
    "print('Стандартное отклонение', standard_deviation_ultra_sms)"
   ]
  },
  {
   "cell_type": "markdown",
   "metadata": {},
   "source": [
    "**Интернет**"
   ]
  },
  {
   "cell_type": "code",
   "execution_count": 64,
   "metadata": {},
   "outputs": [
    {
     "name": "stdout",
     "output_type": "stream",
     "text": [
      "Среднее 19\n",
      "Дисперсия 97\n",
      "Стандартное отклонение 10\n"
     ]
    }
   ],
   "source": [
    "variance_ultra_internet = round(np.var(data4_ultra['gb_used']))\n",
    "standard_deviation_ultra_internet = round(np.sqrt(variance_ultra_internet))\n",
    "mean_ultra_internet = round(data4_ultra['gb_used'].mean())\n",
    "print('Среднее', mean_ultra_internet)\n",
    "print('Дисперсия', variance_ultra_internet)\n",
    "print('Стандартное отклонение', standard_deviation_ultra_internet)"
   ]
  },
  {
   "cell_type": "markdown",
   "metadata": {},
   "source": [
    "3) *Постройте гистограммы. Опишите распределения.*"
   ]
  },
  {
   "cell_type": "markdown",
   "metadata": {},
   "source": [
    "**Минуты**"
   ]
  },
  {
   "cell_type": "code",
   "execution_count": 65,
   "metadata": {},
   "outputs": [
    {
     "data": {
      "text/plain": [
       "<matplotlib.axes._subplots.AxesSubplot at 0x7f85dac5aa10>"
      ]
     },
     "execution_count": 65,
     "metadata": {},
     "output_type": "execute_result"
    },
    {
     "data": {
      "image/png": "[encoded data removed]",
      "text/plain": [
       "<Figure size 432x288 with 1 Axes>"
      ]
     },
     "metadata": {
      "needs_background": "light"
     },
     "output_type": "display_data"
    }
   ],
   "source": [
    "data4_ultra['duration'].hist(bins = 100)"
   ]
  },
  {
   "cell_type": "markdown",
   "metadata": {},
   "source": [
    "Данное распределение нормальное и скошено враво --- среднее > медианы. \n",
    "В тариф включено 3000 минут, и как видно из распределения, всем этого хватает.\n",
    "Часть пользователей вообе не используют минуты - заменяют общение мессенжерами, поэтому интернета то им и не хватает."
   ]
  },
  {
   "cell_type": "markdown",
   "metadata": {},
   "source": [
    "**SMS**"
   ]
  },
  {
   "cell_type": "code",
   "execution_count": 66,
   "metadata": {},
   "outputs": [
    {
     "data": {
      "text/plain": [
       "<matplotlib.axes._subplots.AxesSubplot at 0x7f85daaa8dd0>"
      ]
     },
     "execution_count": 66,
     "metadata": {},
     "output_type": "execute_result"
    },
    {
     "data": {
      "image/png": "[encoded data removed]",
      "text/plain": [
       "<Figure size 432x288 with 1 Axes>"
      ]
     },
     "metadata": {
      "needs_background": "light"
     },
     "output_type": "display_data"
    }
   ],
   "source": [
    "data4_ultra['count_messages'].hist(bins = 30)"
   ]
  },
  {
   "cell_type": "markdown",
   "metadata": {},
   "source": [
    "Данное распределение нормальное и скошено враво --- среднее > медианы. \n",
    "В тариф включено 1000 смс, и как видно из распределения, всем этого хватает.\n",
    "Часть пользователей вообе не пишут смс - заменяют общение опять же мессенжерами. В данном тарифе не пользуются смс около 25 % пользователей."
   ]
  },
  {
   "cell_type": "markdown",
   "metadata": {},
   "source": [
    "**Интернет**"
   ]
  },
  {
   "cell_type": "code",
   "execution_count": 67,
   "metadata": {},
   "outputs": [
    {
     "data": {
      "text/plain": [
       "<matplotlib.axes._subplots.AxesSubplot at 0x7f85daa7ebd0>"
      ]
     },
     "execution_count": 67,
     "metadata": {},
     "output_type": "execute_result"
    },
    {
     "data": {
      "image/png": "[encoded data removed]",
      "text/plain": [
       "<Figure size 432x288 with 1 Axes>"
      ]
     },
     "metadata": {
      "needs_background": "light"
     },
     "output_type": "display_data"
    }
   ],
   "source": [
    "data4_ultra['gb_used'].hist(bins = 50)"
   ]
  },
  {
   "cell_type": "markdown",
   "metadata": {},
   "source": [
    "Данное распределение нормальное.\n",
    "В тариф включено 30 ГБ, и как видно из распределения, кому-то этого хватает - а именно 14 %."
   ]
  },
  {
   "cell_type": "markdown",
   "metadata": {},
   "source": [
    "**Проанализируем тариф Smart**"
   ]
  },
  {
   "cell_type": "markdown",
   "metadata": {},
   "source": [
    "1) *Сколько минут разговора, сколько сообщений и какой объём интернет-трафика требуется пользователям каждого тарифа в месяц?*"
   ]
  },
  {
   "cell_type": "code",
   "execution_count": 68,
   "metadata": {},
   "outputs": [
    {
     "data": {
      "text/html": [
       "<div>\n",
       "<style scoped>\n",
       "    .dataframe tbody tr th:only-of-type {\n",
       "        vertical-align: middle;\n",
       "    }\n",
       "\n",
       "    .dataframe tbody tr th {\n",
       "        vertical-align: top;\n",
       "    }\n",
       "\n",
       "    .dataframe thead th {\n",
       "        text-align: right;\n",
       "    }\n",
       "</style>\n",
       "<table border=\"1\" class=\"dataframe\">\n",
       "  <thead>\n",
       "    <tr style=\"text-align: right;\">\n",
       "      <th></th>\n",
       "      <th>index</th>\n",
       "      <th>user_id</th>\n",
       "      <th>month</th>\n",
       "      <th>duration</th>\n",
       "      <th>count_messages</th>\n",
       "      <th>gb_used</th>\n",
       "      <th>city</th>\n",
       "      <th>tariff</th>\n",
       "      <th>messages_included</th>\n",
       "      <th>mb_per_month_included</th>\n",
       "      <th>minutes_included</th>\n",
       "      <th>rub_monthly_fee</th>\n",
       "      <th>rub_per_gb</th>\n",
       "      <th>rub_per_message</th>\n",
       "      <th>rub_per_minute</th>\n",
       "      <th>proceeds_month</th>\n",
       "    </tr>\n",
       "  </thead>\n",
       "  <tbody>\n",
       "    <tr>\n",
       "      <td>8</td>\n",
       "      <td>8</td>\n",
       "      <td>1001</td>\n",
       "      <td>11</td>\n",
       "      <td>409</td>\n",
       "      <td>0</td>\n",
       "      <td>18</td>\n",
       "      <td>Москва</td>\n",
       "      <td>smart</td>\n",
       "      <td>50</td>\n",
       "      <td>15360</td>\n",
       "      <td>500</td>\n",
       "      <td>550</td>\n",
       "      <td>200</td>\n",
       "      <td>3</td>\n",
       "      <td>3</td>\n",
       "      <td>1150.0</td>\n",
       "    </tr>\n",
       "    <tr>\n",
       "      <td>9</td>\n",
       "      <td>9</td>\n",
       "      <td>1001</td>\n",
       "      <td>12</td>\n",
       "      <td>392</td>\n",
       "      <td>0</td>\n",
       "      <td>14</td>\n",
       "      <td>Москва</td>\n",
       "      <td>smart</td>\n",
       "      <td>50</td>\n",
       "      <td>15360</td>\n",
       "      <td>500</td>\n",
       "      <td>550</td>\n",
       "      <td>200</td>\n",
       "      <td>3</td>\n",
       "      <td>3</td>\n",
       "      <td>550.0</td>\n",
       "    </tr>\n",
       "    <tr>\n",
       "      <td>10</td>\n",
       "      <td>10</td>\n",
       "      <td>1002</td>\n",
       "      <td>6</td>\n",
       "      <td>111</td>\n",
       "      <td>4</td>\n",
       "      <td>11</td>\n",
       "      <td>Стерлитамак</td>\n",
       "      <td>smart</td>\n",
       "      <td>50</td>\n",
       "      <td>15360</td>\n",
       "      <td>500</td>\n",
       "      <td>550</td>\n",
       "      <td>200</td>\n",
       "      <td>3</td>\n",
       "      <td>3</td>\n",
       "      <td>550.0</td>\n",
       "    </tr>\n",
       "    <tr>\n",
       "      <td>11</td>\n",
       "      <td>11</td>\n",
       "      <td>1002</td>\n",
       "      <td>7</td>\n",
       "      <td>205</td>\n",
       "      <td>11</td>\n",
       "      <td>18</td>\n",
       "      <td>Стерлитамак</td>\n",
       "      <td>smart</td>\n",
       "      <td>50</td>\n",
       "      <td>15360</td>\n",
       "      <td>500</td>\n",
       "      <td>550</td>\n",
       "      <td>200</td>\n",
       "      <td>3</td>\n",
       "      <td>3</td>\n",
       "      <td>1150.0</td>\n",
       "    </tr>\n",
       "    <tr>\n",
       "      <td>12</td>\n",
       "      <td>12</td>\n",
       "      <td>1002</td>\n",
       "      <td>8</td>\n",
       "      <td>270</td>\n",
       "      <td>13</td>\n",
       "      <td>20</td>\n",
       "      <td>Стерлитамак</td>\n",
       "      <td>smart</td>\n",
       "      <td>50</td>\n",
       "      <td>15360</td>\n",
       "      <td>500</td>\n",
       "      <td>550</td>\n",
       "      <td>200</td>\n",
       "      <td>3</td>\n",
       "      <td>3</td>\n",
       "      <td>1550.0</td>\n",
       "    </tr>\n",
       "    <tr>\n",
       "      <td>...</td>\n",
       "      <td>...</td>\n",
       "      <td>...</td>\n",
       "      <td>...</td>\n",
       "      <td>...</td>\n",
       "      <td>...</td>\n",
       "      <td>...</td>\n",
       "      <td>...</td>\n",
       "      <td>...</td>\n",
       "      <td>...</td>\n",
       "      <td>...</td>\n",
       "      <td>...</td>\n",
       "      <td>...</td>\n",
       "      <td>...</td>\n",
       "      <td>...</td>\n",
       "      <td>...</td>\n",
       "      <td>...</td>\n",
       "    </tr>\n",
       "    <tr>\n",
       "      <td>3208</td>\n",
       "      <td>3208</td>\n",
       "      <td>1489</td>\n",
       "      <td>8</td>\n",
       "      <td>0</td>\n",
       "      <td>17</td>\n",
       "      <td>11</td>\n",
       "      <td>Санкт-Петербург</td>\n",
       "      <td>smart</td>\n",
       "      <td>50</td>\n",
       "      <td>15360</td>\n",
       "      <td>500</td>\n",
       "      <td>550</td>\n",
       "      <td>200</td>\n",
       "      <td>3</td>\n",
       "      <td>3</td>\n",
       "      <td>550.0</td>\n",
       "    </tr>\n",
       "    <tr>\n",
       "      <td>3209</td>\n",
       "      <td>3209</td>\n",
       "      <td>1489</td>\n",
       "      <td>9</td>\n",
       "      <td>0</td>\n",
       "      <td>32</td>\n",
       "      <td>17</td>\n",
       "      <td>Санкт-Петербург</td>\n",
       "      <td>smart</td>\n",
       "      <td>50</td>\n",
       "      <td>15360</td>\n",
       "      <td>500</td>\n",
       "      <td>550</td>\n",
       "      <td>200</td>\n",
       "      <td>3</td>\n",
       "      <td>3</td>\n",
       "      <td>950.0</td>\n",
       "    </tr>\n",
       "    <tr>\n",
       "      <td>3210</td>\n",
       "      <td>3210</td>\n",
       "      <td>1489</td>\n",
       "      <td>10</td>\n",
       "      <td>0</td>\n",
       "      <td>21</td>\n",
       "      <td>20</td>\n",
       "      <td>Санкт-Петербург</td>\n",
       "      <td>smart</td>\n",
       "      <td>50</td>\n",
       "      <td>15360</td>\n",
       "      <td>500</td>\n",
       "      <td>550</td>\n",
       "      <td>200</td>\n",
       "      <td>3</td>\n",
       "      <td>3</td>\n",
       "      <td>1550.0</td>\n",
       "    </tr>\n",
       "    <tr>\n",
       "      <td>3211</td>\n",
       "      <td>3211</td>\n",
       "      <td>1489</td>\n",
       "      <td>11</td>\n",
       "      <td>0</td>\n",
       "      <td>20</td>\n",
       "      <td>18</td>\n",
       "      <td>Санкт-Петербург</td>\n",
       "      <td>smart</td>\n",
       "      <td>50</td>\n",
       "      <td>15360</td>\n",
       "      <td>500</td>\n",
       "      <td>550</td>\n",
       "      <td>200</td>\n",
       "      <td>3</td>\n",
       "      <td>3</td>\n",
       "      <td>1150.0</td>\n",
       "    </tr>\n",
       "    <tr>\n",
       "      <td>3212</td>\n",
       "      <td>3212</td>\n",
       "      <td>1489</td>\n",
       "      <td>12</td>\n",
       "      <td>0</td>\n",
       "      <td>35</td>\n",
       "      <td>17</td>\n",
       "      <td>Санкт-Петербург</td>\n",
       "      <td>smart</td>\n",
       "      <td>50</td>\n",
       "      <td>15360</td>\n",
       "      <td>500</td>\n",
       "      <td>550</td>\n",
       "      <td>200</td>\n",
       "      <td>3</td>\n",
       "      <td>3</td>\n",
       "      <td>950.0</td>\n",
       "    </tr>\n",
       "  </tbody>\n",
       "</table>\n",
       "<p>2229 rows × 16 columns</p>\n",
       "</div>"
      ],
      "text/plain": [
       "      index  user_id  month  duration  count_messages  gb_used  \\\n",
       "8         8     1001     11       409               0       18   \n",
       "9         9     1001     12       392               0       14   \n",
       "10       10     1002      6       111               4       11   \n",
       "11       11     1002      7       205              11       18   \n",
       "12       12     1002      8       270              13       20   \n",
       "...     ...      ...    ...       ...             ...      ...   \n",
       "3208   3208     1489      8         0              17       11   \n",
       "3209   3209     1489      9         0              32       17   \n",
       "3210   3210     1489     10         0              21       20   \n",
       "3211   3211     1489     11         0              20       18   \n",
       "3212   3212     1489     12         0              35       17   \n",
       "\n",
       "                 city tariff  messages_included  mb_per_month_included  \\\n",
       "8              Москва  smart                 50                  15360   \n",
       "9              Москва  smart                 50                  15360   \n",
       "10        Стерлитамак  smart                 50                  15360   \n",
       "11        Стерлитамак  smart                 50                  15360   \n",
       "12        Стерлитамак  smart                 50                  15360   \n",
       "...               ...    ...                ...                    ...   \n",
       "3208  Санкт-Петербург  smart                 50                  15360   \n",
       "3209  Санкт-Петербург  smart                 50                  15360   \n",
       "3210  Санкт-Петербург  smart                 50                  15360   \n",
       "3211  Санкт-Петербург  smart                 50                  15360   \n",
       "3212  Санкт-Петербург  smart                 50                  15360   \n",
       "\n",
       "      minutes_included  rub_monthly_fee  rub_per_gb  rub_per_message  \\\n",
       "8                  500              550         200                3   \n",
       "9                  500              550         200                3   \n",
       "10                 500              550         200                3   \n",
       "11                 500              550         200                3   \n",
       "12                 500              550         200                3   \n",
       "...                ...              ...         ...              ...   \n",
       "3208               500              550         200                3   \n",
       "3209               500              550         200                3   \n",
       "3210               500              550         200                3   \n",
       "3211               500              550         200                3   \n",
       "3212               500              550         200                3   \n",
       "\n",
       "      rub_per_minute  proceeds_month  \n",
       "8                  3          1150.0  \n",
       "9                  3           550.0  \n",
       "10                 3           550.0  \n",
       "11                 3          1150.0  \n",
       "12                 3          1550.0  \n",
       "...              ...             ...  \n",
       "3208               3           550.0  \n",
       "3209               3           950.0  \n",
       "3210               3          1550.0  \n",
       "3211               3          1150.0  \n",
       "3212               3           950.0  \n",
       "\n",
       "[2229 rows x 16 columns]"
      ]
     },
     "execution_count": 68,
     "metadata": {},
     "output_type": "execute_result"
    }
   ],
   "source": [
    "data4_smart = data4.query('tariff == \"smart\"')\n",
    "data4_smart"
   ]
  },
  {
   "cell_type": "markdown",
   "metadata": {},
   "source": [
    "Как видно из двух таблиц, тариф smart выбирают болье людей. 2229 против 985. Больше чем в 2 раза."
   ]
  },
  {
   "cell_type": "code",
   "execution_count": 69,
   "metadata": {},
   "outputs": [
    {
     "data": {
      "text/html": [
       "<div>\n",
       "<style scoped>\n",
       "    .dataframe tbody tr th:only-of-type {\n",
       "        vertical-align: middle;\n",
       "    }\n",
       "\n",
       "    .dataframe tbody tr th {\n",
       "        vertical-align: top;\n",
       "    }\n",
       "\n",
       "    .dataframe thead th {\n",
       "        text-align: right;\n",
       "    }\n",
       "</style>\n",
       "<table border=\"1\" class=\"dataframe\">\n",
       "  <thead>\n",
       "    <tr style=\"text-align: right;\">\n",
       "      <th></th>\n",
       "      <th>index</th>\n",
       "      <th>user_id</th>\n",
       "      <th>month</th>\n",
       "      <th>duration</th>\n",
       "      <th>count_messages</th>\n",
       "      <th>gb_used</th>\n",
       "      <th>messages_included</th>\n",
       "      <th>mb_per_month_included</th>\n",
       "      <th>minutes_included</th>\n",
       "      <th>rub_monthly_fee</th>\n",
       "      <th>rub_per_gb</th>\n",
       "      <th>rub_per_message</th>\n",
       "      <th>rub_per_minute</th>\n",
       "      <th>proceeds_month</th>\n",
       "    </tr>\n",
       "  </thead>\n",
       "  <tbody>\n",
       "    <tr>\n",
       "      <td>count</td>\n",
       "      <td>2229.000000</td>\n",
       "      <td>2229.000000</td>\n",
       "      <td>2229.000000</td>\n",
       "      <td>2229.000000</td>\n",
       "      <td>2229.000000</td>\n",
       "      <td>2229.000000</td>\n",
       "      <td>2229.0</td>\n",
       "      <td>2229.0</td>\n",
       "      <td>2229.0</td>\n",
       "      <td>2229.0</td>\n",
       "      <td>2229.0</td>\n",
       "      <td>2229.0</td>\n",
       "      <td>2229.0</td>\n",
       "      <td>2229.000000</td>\n",
       "    </tr>\n",
       "    <tr>\n",
       "      <td>mean</td>\n",
       "      <td>1555.925527</td>\n",
       "      <td>1246.506505</td>\n",
       "      <td>8.346792</td>\n",
       "      <td>394.922387</td>\n",
       "      <td>33.384029</td>\n",
       "      <td>16.328847</td>\n",
       "      <td>50.0</td>\n",
       "      <td>15360.0</td>\n",
       "      <td>500.0</td>\n",
       "      <td>550.0</td>\n",
       "      <td>200.0</td>\n",
       "      <td>3.0</td>\n",
       "      <td>3.0</td>\n",
       "      <td>1257.588605</td>\n",
       "    </tr>\n",
       "    <tr>\n",
       "      <td>std</td>\n",
       "      <td>928.223725</td>\n",
       "      <td>146.119496</td>\n",
       "      <td>2.920316</td>\n",
       "      <td>179.980292</td>\n",
       "      <td>28.227876</td>\n",
       "      <td>5.747061</td>\n",
       "      <td>0.0</td>\n",
       "      <td>0.0</td>\n",
       "      <td>0.0</td>\n",
       "      <td>0.0</td>\n",
       "      <td>0.0</td>\n",
       "      <td>0.0</td>\n",
       "      <td>0.0</td>\n",
       "      <td>800.915599</td>\n",
       "    </tr>\n",
       "    <tr>\n",
       "      <td>min</td>\n",
       "      <td>8.000000</td>\n",
       "      <td>1001.000000</td>\n",
       "      <td>1.000000</td>\n",
       "      <td>0.000000</td>\n",
       "      <td>0.000000</td>\n",
       "      <td>0.000000</td>\n",
       "      <td>50.0</td>\n",
       "      <td>15360.0</td>\n",
       "      <td>500.0</td>\n",
       "      <td>550.0</td>\n",
       "      <td>200.0</td>\n",
       "      <td>3.0</td>\n",
       "      <td>3.0</td>\n",
       "      <td>550.000000</td>\n",
       "    </tr>\n",
       "    <tr>\n",
       "      <td>25%</td>\n",
       "      <td>765.000000</td>\n",
       "      <td>1121.000000</td>\n",
       "      <td>6.000000</td>\n",
       "      <td>268.000000</td>\n",
       "      <td>10.000000</td>\n",
       "      <td>13.000000</td>\n",
       "      <td>50.0</td>\n",
       "      <td>15360.0</td>\n",
       "      <td>500.0</td>\n",
       "      <td>550.0</td>\n",
       "      <td>200.0</td>\n",
       "      <td>3.0</td>\n",
       "      <td>3.0</td>\n",
       "      <td>550.000000</td>\n",
       "    </tr>\n",
       "    <tr>\n",
       "      <td>50%</td>\n",
       "      <td>1492.000000</td>\n",
       "      <td>1239.000000</td>\n",
       "      <td>9.000000</td>\n",
       "      <td>398.000000</td>\n",
       "      <td>28.000000</td>\n",
       "      <td>17.000000</td>\n",
       "      <td>50.0</td>\n",
       "      <td>15360.0</td>\n",
       "      <td>500.0</td>\n",
       "      <td>550.0</td>\n",
       "      <td>200.0</td>\n",
       "      <td>3.0</td>\n",
       "      <td>3.0</td>\n",
       "      <td>962.000000</td>\n",
       "    </tr>\n",
       "    <tr>\n",
       "      <td>75%</td>\n",
       "      <td>2356.000000</td>\n",
       "      <td>1376.000000</td>\n",
       "      <td>11.000000</td>\n",
       "      <td>516.000000</td>\n",
       "      <td>51.000000</td>\n",
       "      <td>20.000000</td>\n",
       "      <td>50.0</td>\n",
       "      <td>15360.0</td>\n",
       "      <td>500.0</td>\n",
       "      <td>550.0</td>\n",
       "      <td>200.0</td>\n",
       "      <td>3.0</td>\n",
       "      <td>3.0</td>\n",
       "      <td>1733.000000</td>\n",
       "    </tr>\n",
       "    <tr>\n",
       "      <td>max</td>\n",
       "      <td>3212.000000</td>\n",
       "      <td>1499.000000</td>\n",
       "      <td>12.000000</td>\n",
       "      <td>1355.000000</td>\n",
       "      <td>143.000000</td>\n",
       "      <td>38.000000</td>\n",
       "      <td>50.0</td>\n",
       "      <td>15360.0</td>\n",
       "      <td>500.0</td>\n",
       "      <td>550.0</td>\n",
       "      <td>200.0</td>\n",
       "      <td>3.0</td>\n",
       "      <td>3.0</td>\n",
       "      <td>6614.000000</td>\n",
       "    </tr>\n",
       "  </tbody>\n",
       "</table>\n",
       "</div>"
      ],
      "text/plain": [
       "             index      user_id        month     duration  count_messages  \\\n",
       "count  2229.000000  2229.000000  2229.000000  2229.000000     2229.000000   \n",
       "mean   1555.925527  1246.506505     8.346792   394.922387       33.384029   \n",
       "std     928.223725   146.119496     2.920316   179.980292       28.227876   \n",
       "min       8.000000  1001.000000     1.000000     0.000000        0.000000   \n",
       "25%     765.000000  1121.000000     6.000000   268.000000       10.000000   \n",
       "50%    1492.000000  1239.000000     9.000000   398.000000       28.000000   \n",
       "75%    2356.000000  1376.000000    11.000000   516.000000       51.000000   \n",
       "max    3212.000000  1499.000000    12.000000  1355.000000      143.000000   \n",
       "\n",
       "           gb_used  messages_included  mb_per_month_included  \\\n",
       "count  2229.000000             2229.0                 2229.0   \n",
       "mean     16.328847               50.0                15360.0   \n",
       "std       5.747061                0.0                    0.0   \n",
       "min       0.000000               50.0                15360.0   \n",
       "25%      13.000000               50.0                15360.0   \n",
       "50%      17.000000               50.0                15360.0   \n",
       "75%      20.000000               50.0                15360.0   \n",
       "max      38.000000               50.0                15360.0   \n",
       "\n",
       "       minutes_included  rub_monthly_fee  rub_per_gb  rub_per_message  \\\n",
       "count            2229.0           2229.0      2229.0           2229.0   \n",
       "mean              500.0            550.0       200.0              3.0   \n",
       "std                 0.0              0.0         0.0              0.0   \n",
       "min               500.0            550.0       200.0              3.0   \n",
       "25%               500.0            550.0       200.0              3.0   \n",
       "50%               500.0            550.0       200.0              3.0   \n",
       "75%               500.0            550.0       200.0              3.0   \n",
       "max               500.0            550.0       200.0              3.0   \n",
       "\n",
       "       rub_per_minute  proceeds_month  \n",
       "count          2229.0     2229.000000  \n",
       "mean              3.0     1257.588605  \n",
       "std               0.0      800.915599  \n",
       "min               3.0      550.000000  \n",
       "25%               3.0      550.000000  \n",
       "50%               3.0      962.000000  \n",
       "75%               3.0     1733.000000  \n",
       "max               3.0     6614.000000  "
      ]
     },
     "execution_count": 69,
     "metadata": {},
     "output_type": "execute_result"
    }
   ],
   "source": [
    "data4_smart.describe()"
   ]
  },
  {
   "cell_type": "markdown",
   "metadata": {},
   "source": [
    "Тариф «Смарт»\n",
    "\n",
    "Ежемесячная плата: 550 рублей\n",
    "\n",
    "Включено 500 минут разговора, 50 сообщений и 15 Гб интернет-трафика"
   ]
  },
  {
   "cell_type": "markdown",
   "metadata": {},
   "source": [
    "Как видно из таблицы выше, клиенты не уклдываются по минутам, смс и интернету в пределы по тарифу.\n",
    "Интернета опять не хватает. Даже в среднем люди не укладваются в 15 ГБ.\n",
    "По ежемесячной оплате люди гораздо больше тратят денег, чем абонентская плата. Даже в среднем клиенты тратят в два раза больше. Около 25 % тратят в 3 раза больше, чем абон плата, но есть и клиенты, кто платит еще больше, чем 3 абон платы."
   ]
  },
  {
   "cell_type": "code",
   "execution_count": 70,
   "metadata": {},
   "outputs": [
    {
     "data": {
      "text/plain": [
       "58.50157021085689"
      ]
     },
     "execution_count": 70,
     "metadata": {},
     "output_type": "execute_result"
    }
   ],
   "source": [
    "data4_smart.query('gb_used > 15')['gb_used'].count() / len(data4_smart) * 100"
   ]
  },
  {
   "cell_type": "markdown",
   "metadata": {},
   "source": [
    "59 % людей интернета не хватает."
   ]
  },
  {
   "cell_type": "code",
   "execution_count": 71,
   "metadata": {},
   "outputs": [
    {
     "data": {
      "text/plain": [
       "27.949753252579633"
      ]
     },
     "execution_count": 71,
     "metadata": {},
     "output_type": "execute_result"
    }
   ],
   "source": [
    "data4_smart.query('duration > 500')['duration'].count() / len(data4_smart) * 100"
   ]
  },
  {
   "cell_type": "markdown",
   "metadata": {},
   "source": [
    "28 % людей минут не хватает."
   ]
  },
  {
   "cell_type": "code",
   "execution_count": 72,
   "metadata": {},
   "outputs": [
    {
     "data": {
      "text/plain": [
       "25.3028263795424"
      ]
     },
     "execution_count": 72,
     "metadata": {},
     "output_type": "execute_result"
    }
   ],
   "source": [
    "data4_smart.query('count_messages > 50')['count_messages'].count() / len(data4_smart) * 100"
   ]
  },
  {
   "cell_type": "markdown",
   "metadata": {},
   "source": [
    "25 % людей смс не хватает."
   ]
  },
  {
   "cell_type": "code",
   "execution_count": 73,
   "metadata": {},
   "outputs": [
    {
     "data": {
      "text/plain": [
       "73.12696276357111"
      ]
     },
     "execution_count": 73,
     "metadata": {},
     "output_type": "execute_result"
    }
   ],
   "source": [
    "data4_smart.query('proceeds_month > 550')['proceeds_month'].count() / len(data4_smart) * 100"
   ]
  },
  {
   "cell_type": "markdown",
   "metadata": {},
   "source": [
    "73 % людей платят больше абон платы. Хватает данного пакета всего лишь 27 % людей - совсем немного."
   ]
  },
  {
   "cell_type": "markdown",
   "metadata": {},
   "source": [
    "**По данному тарифу видно, что многим не хватает ни звонков, ни смс, ни интернета. Переплачивают около 75 % клиетов.\n",
    "Около 60 % не хватает интернета, 30 % не хватает минут, и 25 % не хватает смс.\n",
    "Клиенты в месяц оплачивают 3, 4 и даже больше (до 12) абон плат.\n",
    "Макс плата за месяц 6600 против 4800 в тарифе ultra.**"
   ]
  },
  {
   "cell_type": "markdown",
   "metadata": {},
   "source": [
    "2) *Посчитайте среднее количество, дисперсию и стандартное отклонение*"
   ]
  },
  {
   "cell_type": "markdown",
   "metadata": {},
   "source": [
    "**Минуты**"
   ]
  },
  {
   "cell_type": "code",
   "execution_count": 74,
   "metadata": {},
   "outputs": [
    {
     "name": "stdout",
     "output_type": "stream",
     "text": [
      "Среднее 395\n",
      "Дисперсия 32378\n",
      "Стандартное отклонение 180\n"
     ]
    }
   ],
   "source": [
    "variance_smart_minut = round(np.var(data4_smart['duration']))\n",
    "standard_deviation_smart_minut = round(np.sqrt(variance_smart_minut))\n",
    "mean_smart_minut = round(data4_smart['duration'].mean())\n",
    "print('Среднее', mean_smart_minut)\n",
    "print('Дисперсия', variance_smart_minut)\n",
    "print('Стандартное отклонение', standard_deviation_smart_minut)"
   ]
  },
  {
   "cell_type": "markdown",
   "metadata": {},
   "source": [
    "**SMS**"
   ]
  },
  {
   "cell_type": "code",
   "execution_count": 75,
   "metadata": {},
   "outputs": [
    {
     "name": "stdout",
     "output_type": "stream",
     "text": [
      "Среднее 33\n",
      "Дисперсия 796\n",
      "Стандартное отклонение 28\n"
     ]
    }
   ],
   "source": [
    "variance_smart_sms = round(np.var(data4_smart['count_messages']))\n",
    "standard_deviation_smart_sms = round(np.sqrt(variance_smart_sms))\n",
    "mean_smart_sms = round(data4_smart['count_messages'].mean())\n",
    "print('Среднее', mean_smart_sms)\n",
    "print('Дисперсия', variance_smart_sms)\n",
    "print('Стандартное отклонение', standard_deviation_smart_sms)"
   ]
  },
  {
   "cell_type": "markdown",
   "metadata": {},
   "source": [
    "**Интернет**"
   ]
  },
  {
   "cell_type": "code",
   "execution_count": 76,
   "metadata": {},
   "outputs": [
    {
     "name": "stdout",
     "output_type": "stream",
     "text": [
      "Среднее 16\n",
      "Дисперсия 33\n",
      "Стандартное отклонение 6\n"
     ]
    }
   ],
   "source": [
    "variance_smart_internet = round(np.var(data4_smart['gb_used']))\n",
    "standard_deviation_smart_internet = round(np.sqrt(variance_smart_internet))\n",
    "mean_smart_internet = round(data4_smart['gb_used'].mean())\n",
    "print('Среднее', mean_smart_internet)\n",
    "print('Дисперсия', variance_smart_internet)\n",
    "print('Стандартное отклонение', standard_deviation_smart_internet)"
   ]
  },
  {
   "cell_type": "markdown",
   "metadata": {},
   "source": [
    "3) *Постройте гистограммы. Опишите распределения.*"
   ]
  },
  {
   "cell_type": "markdown",
   "metadata": {},
   "source": [
    "**Минуты**"
   ]
  },
  {
   "cell_type": "code",
   "execution_count": 77,
   "metadata": {},
   "outputs": [
    {
     "data": {
      "text/plain": [
       "<matplotlib.axes._subplots.AxesSubplot at 0x7f85d93ca610>"
      ]
     },
     "execution_count": 77,
     "metadata": {},
     "output_type": "execute_result"
    },
    {
     "data": {
      "image/png": "[encoded data removed]",
      "text/plain": [
       "<Figure size 432x288 with 1 Axes>"
      ]
     },
     "metadata": {
      "needs_background": "light"
     },
     "output_type": "display_data"
    }
   ],
   "source": [
    "data4_smart['duration'].hist(bins = 100)"
   ]
  },
  {
   "cell_type": "markdown",
   "metadata": {},
   "source": [
    "Данное распределение нормальное и немного скошено враво.\n",
    "В тариф включено 500 минут, и как видно из распределения, многим этого не хватает, а именно 30 %.\n",
    "Звонков с 0 продолжительностью меньше."
   ]
  },
  {
   "cell_type": "markdown",
   "metadata": {},
   "source": [
    "**SMS**"
   ]
  },
  {
   "cell_type": "code",
   "execution_count": 78,
   "metadata": {},
   "outputs": [
    {
     "data": {
      "text/plain": [
       "<matplotlib.axes._subplots.AxesSubplot at 0x7f85daa4ed90>"
      ]
     },
     "execution_count": 78,
     "metadata": {},
     "output_type": "execute_result"
    },
    {
     "data": {
      "image/png": "[encoded data removed]",
      "text/plain": [
       "<Figure size 432x288 with 1 Axes>"
      ]
     },
     "metadata": {
      "needs_background": "light"
     },
     "output_type": "display_data"
    }
   ],
   "source": [
    "data4_smart['count_messages'].hist(bins = 30)"
   ]
  },
  {
   "cell_type": "markdown",
   "metadata": {},
   "source": [
    "Данное распределение нормальное и скошено враво --- среднее > медианы. \n",
    "В тариф включено 50 смс, и как видно из распределения, многим этого не хватает. А именно 25 %.\n",
    "Часть пользователей вообе не пишут смс - заменяют общение мессенжерами. В данном тарифе не пользуются смс около 18 % пользователей, в тарифе ultra этот процент составляет 25 %."
   ]
  },
  {
   "cell_type": "markdown",
   "metadata": {},
   "source": [
    "**Интернет**"
   ]
  },
  {
   "cell_type": "code",
   "execution_count": 79,
   "metadata": {},
   "outputs": [
    {
     "data": {
      "text/plain": [
       "<matplotlib.axes._subplots.AxesSubplot at 0x7f85db5eb290>"
      ]
     },
     "execution_count": 79,
     "metadata": {},
     "output_type": "execute_result"
    },
    {
     "data": {
      "image/png": "[encoded data removed]",
      "text/plain": [
       "<Figure size 432x288 with 1 Axes>"
      ]
     },
     "metadata": {
      "needs_background": "light"
     },
     "output_type": "display_data"
    }
   ],
   "source": [
    "data4_smart['gb_used'].hist(bins = 30)"
   ]
  },
  {
   "cell_type": "markdown",
   "metadata": {},
   "source": [
    "Данное распределение нормальное.\n",
    "В тариф включено 15 ГБ, и как видно из распределения, многим этого не хватает - а именно 60 %."
   ]
  },
  {
   "cell_type": "markdown",
   "metadata": {},
   "source": [
    "**Вывод**\n",
    "\n",
    "*По тарицу ultra:*\n",
    "\n",
    "минуты:\n",
    "Среднее 498, дисперсия 89866, стандартное отклонение 300\n",
    "\n",
    "SMS:\n",
    "Среднее 49, дисперсия 2283, стандартное отклонение 48\n",
    "\n",
    "Интернет:\n",
    "Среднее 19, дисперсия 97, стандартное отклонение 10\n",
    "\n",
    "Почти всем клиентам ограничений по тарифу хватает, за исключеним интернета. 14 % интернета не хватает, у них же и абон плата за месяц выше.\n",
    "\n",
    "Переплачивает немного пользователей сверх абон платы. Максимальное кол-во абон плат за месяц в качестве переплаты - 2.\n",
    "Распределения получились везде нормальные (кое-где со скошенностью вправо).\n",
    "\n",
    "*По тарифу smart:*\n",
    "\n",
    "Smart выбирают в 2 раза пользователей больше, чем ultra. Видимо более популярный тариф.\n",
    "\n",
    "минуты:\n",
    "Среднее 395, дисперсия 32378, стандартное отклонение 180\n",
    "\n",
    "SMS:\n",
    "Среднее 33, дисперсия 796, стандартное отклонение 28\n",
    "\n",
    "Интернет:\n",
    "Среднее 16, дисперсия 33, стандартное отклонение 6\n",
    "\n",
    "Многим клиентам пакета минут, смс и интернета не хватает. 73 % людей платят больше абон платы. \n",
    "По данному тарифу  многим не хватает ни звонков, ни смс, ни интернета. Около 60 % не хватает интернета, 30 % не хватает минут, и 25 % не хватает смс. Клиенты в месяц оплачивают до 12 абон плат. Даже самая высокая ежемесячная плата в ultra не достигает таких больших значений.\n",
    "Те, кто не пользуются смс, так же присутствуют, но в ultra процент таких пользователей больше. Видимо в ultra весь уклон на мессенжеры и общение через них.\n",
    "\n",
    "Распределения получились везде нормальные (кое-где со скошенностью вправо).\n",
    "\n",
    "В тарифе smart средие показатели по всем параметрам ниже."
   ]
  },
  {
   "cell_type": "markdown",
   "metadata": {},
   "source": [
    "## Шаг 4. Проверить гипотезы"
   ]
  },
  {
   "cell_type": "markdown",
   "metadata": {},
   "source": [
    "### Cредняя выручка пользователей тарифов «Ультра» и «Смарт» различаются;"
   ]
  },
  {
   "cell_type": "markdown",
   "metadata": {},
   "source": [
    "Средняя выручка за месяц по smart 1258, по ultra 2070."
   ]
  },
  {
   "cell_type": "markdown",
   "metadata": {},
   "source": [
    "Допустим такие разные выручки получились случайно.\n",
    "Сформулируем нулевую и альтернативную гипотезы:\n",
    "\n",
    "Нулевая: выручки по двум тарифам равны.\n",
    "\n",
    "Альтернативная: выручки не равны."
   ]
  },
  {
   "cell_type": "code",
   "execution_count": 80,
   "metadata": {},
   "outputs": [
    {
     "name": "stdout",
     "output_type": "stream",
     "text": [
      "p-значение 6.179723168444486e-274\n",
      "Отвергаем нулевую гипотезу\n"
     ]
    }
   ],
   "source": [
    "from scipy import stats as st\n",
    "alpha = 0.05\n",
    "sample1 = data4_smart['proceeds_month']\n",
    "sample2 = data4_ultra['proceeds_month']\n",
    "results = st.ttest_ind(sample1, sample2, equal_var = False) # дисперсии выборок различны\n",
    "print('p-значение', results.pvalue)\n",
    "if results.pvalue < alpha:\n",
    "    print('Отвергаем нулевую гипотезу')\n",
    "else:\n",
    "    print('Нулевую гипотезу не отвергаем')"
   ]
  },
  {
   "cell_type": "markdown",
   "metadata": {},
   "source": [
    "**Вывод**\n",
    "\n",
    "Вероятность того, что нулевая гипотеза равна и выручки равны составляет 6,2*10^(-274) - очень-очень маленькое число.\n",
    "Значит нулевую гипотезу отвергаем.\n",
    "\n",
    "Проверяли данную гипотезу с помощью двухстороннего критерия pvalue, так как проверка на равенство средних двух генеральных совокупностей производилась в обе стороны."
   ]
  },
  {
   "cell_type": "markdown",
   "metadata": {},
   "source": [
    "### Cредняя выручка пользователей из Москвы отличается от выручки пользователей из других регионов."
   ]
  },
  {
   "cell_type": "code",
   "execution_count": 81,
   "metadata": {},
   "outputs": [
    {
     "data": {
      "text/plain": [
       "Москва             611\n",
       "Санкт-Петербург    270\n",
       "Новосибирск         98\n",
       "Уфа                 95\n",
       "Краснодар           86\n",
       "                  ... \n",
       "Сургут               6\n",
       "Нижневартовск        6\n",
       "Кемерово             5\n",
       "Химки                5\n",
       "Иваново              2\n",
       "Name: city, Length: 76, dtype: int64"
      ]
     },
     "execution_count": 81,
     "metadata": {},
     "output_type": "execute_result"
    }
   ],
   "source": [
    "data4['city'].value_counts()"
   ]
  },
  {
   "cell_type": "markdown",
   "metadata": {},
   "source": [
    "Больше всего клиентов из Москвы, из СПБ в 2 раза меньше, из Новосибирска, Уфы и Краснодара меньше в 6 раз."
   ]
  },
  {
   "cell_type": "code",
   "execution_count": 82,
   "metadata": {},
   "outputs": [
    {
     "data": {
      "text/plain": [
       "1526.8379705400982"
      ]
     },
     "execution_count": 82,
     "metadata": {},
     "output_type": "execute_result"
    }
   ],
   "source": [
    "data4.query('city == \"Москва\"')['proceeds_month'].mean()"
   ]
  },
  {
   "cell_type": "code",
   "execution_count": 83,
   "metadata": {},
   "outputs": [
    {
     "data": {
      "text/plain": [
       "1501.8697656550135"
      ]
     },
     "execution_count": 83,
     "metadata": {},
     "output_type": "execute_result"
    }
   ],
   "source": [
    "data4.query('city != \"Москва\"')['proceeds_month'].mean()"
   ]
  },
  {
   "cell_type": "code",
   "execution_count": 84,
   "metadata": {},
   "outputs": [
    {
     "data": {
      "text/html": [
       "<div>\n",
       "<style scoped>\n",
       "    .dataframe tbody tr th:only-of-type {\n",
       "        vertical-align: middle;\n",
       "    }\n",
       "\n",
       "    .dataframe tbody tr th {\n",
       "        vertical-align: top;\n",
       "    }\n",
       "\n",
       "    .dataframe thead th {\n",
       "        text-align: right;\n",
       "    }\n",
       "</style>\n",
       "<table border=\"1\" class=\"dataframe\">\n",
       "  <thead>\n",
       "    <tr style=\"text-align: right;\">\n",
       "      <th></th>\n",
       "      <th>index</th>\n",
       "      <th>user_id</th>\n",
       "      <th>month</th>\n",
       "      <th>duration</th>\n",
       "      <th>count_messages</th>\n",
       "      <th>gb_used</th>\n",
       "      <th>messages_included</th>\n",
       "      <th>mb_per_month_included</th>\n",
       "      <th>minutes_included</th>\n",
       "      <th>rub_monthly_fee</th>\n",
       "      <th>rub_per_gb</th>\n",
       "      <th>rub_per_message</th>\n",
       "      <th>rub_per_minute</th>\n",
       "      <th>proceeds_month</th>\n",
       "    </tr>\n",
       "  </thead>\n",
       "  <tbody>\n",
       "    <tr>\n",
       "      <td>count</td>\n",
       "      <td>611.000000</td>\n",
       "      <td>611.000000</td>\n",
       "      <td>611.000000</td>\n",
       "      <td>611.000000</td>\n",
       "      <td>611.000000</td>\n",
       "      <td>611.000000</td>\n",
       "      <td>611.000000</td>\n",
       "      <td>611.000000</td>\n",
       "      <td>611.000000</td>\n",
       "      <td>611.000000</td>\n",
       "      <td>611.000000</td>\n",
       "      <td>611.000000</td>\n",
       "      <td>611.000000</td>\n",
       "      <td>611.000000</td>\n",
       "    </tr>\n",
       "    <tr>\n",
       "      <td>mean</td>\n",
       "      <td>1696.091653</td>\n",
       "      <td>1268.872340</td>\n",
       "      <td>8.432079</td>\n",
       "      <td>443.314239</td>\n",
       "      <td>37.877250</td>\n",
       "      <td>18.050736</td>\n",
       "      <td>399.836334</td>\n",
       "      <td>21016.301146</td>\n",
       "      <td>1420.621931</td>\n",
       "      <td>1065.548282</td>\n",
       "      <td>181.587561</td>\n",
       "      <td>2.263502</td>\n",
       "      <td>2.263502</td>\n",
       "      <td>1526.837971</td>\n",
       "    </tr>\n",
       "    <tr>\n",
       "      <td>std</td>\n",
       "      <td>872.859783</td>\n",
       "      <td>137.530432</td>\n",
       "      <td>2.888057</td>\n",
       "      <td>228.249172</td>\n",
       "      <td>37.160304</td>\n",
       "      <td>7.645788</td>\n",
       "      <td>458.588325</td>\n",
       "      <td>7414.649129</td>\n",
       "      <td>1206.811382</td>\n",
       "      <td>675.814374</td>\n",
       "      <td>24.136228</td>\n",
       "      <td>0.965449</td>\n",
       "      <td>0.965449</td>\n",
       "      <td>750.221433</td>\n",
       "    </tr>\n",
       "    <tr>\n",
       "      <td>min</td>\n",
       "      <td>8.000000</td>\n",
       "      <td>1001.000000</td>\n",
       "      <td>1.000000</td>\n",
       "      <td>0.000000</td>\n",
       "      <td>0.000000</td>\n",
       "      <td>1.000000</td>\n",
       "      <td>50.000000</td>\n",
       "      <td>15360.000000</td>\n",
       "      <td>500.000000</td>\n",
       "      <td>550.000000</td>\n",
       "      <td>150.000000</td>\n",
       "      <td>1.000000</td>\n",
       "      <td>1.000000</td>\n",
       "      <td>550.000000</td>\n",
       "    </tr>\n",
       "    <tr>\n",
       "      <td>25%</td>\n",
       "      <td>1063.500000</td>\n",
       "      <td>1171.000000</td>\n",
       "      <td>6.000000</td>\n",
       "      <td>286.000000</td>\n",
       "      <td>6.500000</td>\n",
       "      <td>13.000000</td>\n",
       "      <td>50.000000</td>\n",
       "      <td>15360.000000</td>\n",
       "      <td>500.000000</td>\n",
       "      <td>550.000000</td>\n",
       "      <td>150.000000</td>\n",
       "      <td>1.000000</td>\n",
       "      <td>1.000000</td>\n",
       "      <td>750.000000</td>\n",
       "    </tr>\n",
       "    <tr>\n",
       "      <td>50%</td>\n",
       "      <td>1816.000000</td>\n",
       "      <td>1291.000000</td>\n",
       "      <td>9.000000</td>\n",
       "      <td>426.000000</td>\n",
       "      <td>29.000000</td>\n",
       "      <td>18.000000</td>\n",
       "      <td>50.000000</td>\n",
       "      <td>15360.000000</td>\n",
       "      <td>500.000000</td>\n",
       "      <td>550.000000</td>\n",
       "      <td>200.000000</td>\n",
       "      <td>3.000000</td>\n",
       "      <td>3.000000</td>\n",
       "      <td>1750.000000</td>\n",
       "    </tr>\n",
       "    <tr>\n",
       "      <td>75%</td>\n",
       "      <td>2431.500000</td>\n",
       "      <td>1385.000000</td>\n",
       "      <td>11.000000</td>\n",
       "      <td>586.000000</td>\n",
       "      <td>57.000000</td>\n",
       "      <td>22.000000</td>\n",
       "      <td>1000.000000</td>\n",
       "      <td>30720.000000</td>\n",
       "      <td>3000.000000</td>\n",
       "      <td>1950.000000</td>\n",
       "      <td>200.000000</td>\n",
       "      <td>3.000000</td>\n",
       "      <td>3.000000</td>\n",
       "      <td>1950.000000</td>\n",
       "    </tr>\n",
       "    <tr>\n",
       "      <td>max</td>\n",
       "      <td>3213.000000</td>\n",
       "      <td>1490.000000</td>\n",
       "      <td>12.000000</td>\n",
       "      <td>1249.000000</td>\n",
       "      <td>191.000000</td>\n",
       "      <td>44.000000</td>\n",
       "      <td>1000.000000</td>\n",
       "      <td>30720.000000</td>\n",
       "      <td>3000.000000</td>\n",
       "      <td>1950.000000</td>\n",
       "      <td>200.000000</td>\n",
       "      <td>3.000000</td>\n",
       "      <td>3.000000</td>\n",
       "      <td>5186.000000</td>\n",
       "    </tr>\n",
       "  </tbody>\n",
       "</table>\n",
       "</div>"
      ],
      "text/plain": [
       "             index      user_id       month     duration  count_messages  \\\n",
       "count   611.000000   611.000000  611.000000   611.000000      611.000000   \n",
       "mean   1696.091653  1268.872340    8.432079   443.314239       37.877250   \n",
       "std     872.859783   137.530432    2.888057   228.249172       37.160304   \n",
       "min       8.000000  1001.000000    1.000000     0.000000        0.000000   \n",
       "25%    1063.500000  1171.000000    6.000000   286.000000        6.500000   \n",
       "50%    1816.000000  1291.000000    9.000000   426.000000       29.000000   \n",
       "75%    2431.500000  1385.000000   11.000000   586.000000       57.000000   \n",
       "max    3213.000000  1490.000000   12.000000  1249.000000      191.000000   \n",
       "\n",
       "          gb_used  messages_included  mb_per_month_included  minutes_included  \\\n",
       "count  611.000000         611.000000             611.000000        611.000000   \n",
       "mean    18.050736         399.836334           21016.301146       1420.621931   \n",
       "std      7.645788         458.588325            7414.649129       1206.811382   \n",
       "min      1.000000          50.000000           15360.000000        500.000000   \n",
       "25%     13.000000          50.000000           15360.000000        500.000000   \n",
       "50%     18.000000          50.000000           15360.000000        500.000000   \n",
       "75%     22.000000        1000.000000           30720.000000       3000.000000   \n",
       "max     44.000000        1000.000000           30720.000000       3000.000000   \n",
       "\n",
       "       rub_monthly_fee  rub_per_gb  rub_per_message  rub_per_minute  \\\n",
       "count       611.000000  611.000000       611.000000      611.000000   \n",
       "mean       1065.548282  181.587561         2.263502        2.263502   \n",
       "std         675.814374   24.136228         0.965449        0.965449   \n",
       "min         550.000000  150.000000         1.000000        1.000000   \n",
       "25%         550.000000  150.000000         1.000000        1.000000   \n",
       "50%         550.000000  200.000000         3.000000        3.000000   \n",
       "75%        1950.000000  200.000000         3.000000        3.000000   \n",
       "max        1950.000000  200.000000         3.000000        3.000000   \n",
       "\n",
       "       proceeds_month  \n",
       "count      611.000000  \n",
       "mean      1526.837971  \n",
       "std        750.221433  \n",
       "min        550.000000  \n",
       "25%        750.000000  \n",
       "50%       1750.000000  \n",
       "75%       1950.000000  \n",
       "max       5186.000000  "
      ]
     },
     "execution_count": 84,
     "metadata": {},
     "output_type": "execute_result"
    }
   ],
   "source": [
    "data4_msc = data4.query('city == \"Москва\"')\n",
    "data4_msc.describe()"
   ]
  },
  {
   "cell_type": "code",
   "execution_count": 85,
   "metadata": {},
   "outputs": [
    {
     "data": {
      "text/html": [
       "<div>\n",
       "<style scoped>\n",
       "    .dataframe tbody tr th:only-of-type {\n",
       "        vertical-align: middle;\n",
       "    }\n",
       "\n",
       "    .dataframe tbody tr th {\n",
       "        vertical-align: top;\n",
       "    }\n",
       "\n",
       "    .dataframe thead th {\n",
       "        text-align: right;\n",
       "    }\n",
       "</style>\n",
       "<table border=\"1\" class=\"dataframe\">\n",
       "  <thead>\n",
       "    <tr style=\"text-align: right;\">\n",
       "      <th></th>\n",
       "      <th>index</th>\n",
       "      <th>user_id</th>\n",
       "      <th>month</th>\n",
       "      <th>duration</th>\n",
       "      <th>count_messages</th>\n",
       "      <th>gb_used</th>\n",
       "      <th>messages_included</th>\n",
       "      <th>mb_per_month_included</th>\n",
       "      <th>minutes_included</th>\n",
       "      <th>rub_monthly_fee</th>\n",
       "      <th>rub_per_gb</th>\n",
       "      <th>rub_per_message</th>\n",
       "      <th>rub_per_minute</th>\n",
       "      <th>proceeds_month</th>\n",
       "    </tr>\n",
       "  </thead>\n",
       "  <tbody>\n",
       "    <tr>\n",
       "      <td>count</td>\n",
       "      <td>2603.000000</td>\n",
       "      <td>2603.000000</td>\n",
       "      <td>2603.000000</td>\n",
       "      <td>2603.000000</td>\n",
       "      <td>2603.000000</td>\n",
       "      <td>2603.000000</td>\n",
       "      <td>2603.000000</td>\n",
       "      <td>2603.000000</td>\n",
       "      <td>2603.000000</td>\n",
       "      <td>2603.000000</td>\n",
       "      <td>2603.000000</td>\n",
       "      <td>2603.000000</td>\n",
       "      <td>2603.000000</td>\n",
       "      <td>2603.000000</td>\n",
       "    </tr>\n",
       "    <tr>\n",
       "      <td>mean</td>\n",
       "      <td>1585.470227</td>\n",
       "      <td>1247.533615</td>\n",
       "      <td>8.290434</td>\n",
       "      <td>422.397618</td>\n",
       "      <td>38.376104</td>\n",
       "      <td>17.122551</td>\n",
       "      <td>327.372263</td>\n",
       "      <td>19844.671533</td>\n",
       "      <td>1229.927007</td>\n",
       "      <td>958.759124</td>\n",
       "      <td>185.401460</td>\n",
       "      <td>2.416058</td>\n",
       "      <td>2.416058</td>\n",
       "      <td>1501.869766</td>\n",
       "    </tr>\n",
       "    <tr>\n",
       "      <td>std</td>\n",
       "      <td>939.331576</td>\n",
       "      <td>146.011387</td>\n",
       "      <td>2.909368</td>\n",
       "      <td>228.526915</td>\n",
       "      <td>35.913289</td>\n",
       "      <td>7.332184</td>\n",
       "      <td>432.018494</td>\n",
       "      <td>6985.056917</td>\n",
       "      <td>1136.890774</td>\n",
       "      <td>636.658834</td>\n",
       "      <td>22.737815</td>\n",
       "      <td>0.909513</td>\n",
       "      <td>0.909513</td>\n",
       "      <td>802.533059</td>\n",
       "    </tr>\n",
       "    <tr>\n",
       "      <td>min</td>\n",
       "      <td>0.000000</td>\n",
       "      <td>1000.000000</td>\n",
       "      <td>1.000000</td>\n",
       "      <td>0.000000</td>\n",
       "      <td>0.000000</td>\n",
       "      <td>0.000000</td>\n",
       "      <td>50.000000</td>\n",
       "      <td>15360.000000</td>\n",
       "      <td>500.000000</td>\n",
       "      <td>550.000000</td>\n",
       "      <td>150.000000</td>\n",
       "      <td>1.000000</td>\n",
       "      <td>1.000000</td>\n",
       "      <td>550.000000</td>\n",
       "    </tr>\n",
       "    <tr>\n",
       "      <td>25%</td>\n",
       "      <td>776.500000</td>\n",
       "      <td>1120.000000</td>\n",
       "      <td>6.000000</td>\n",
       "      <td>265.000000</td>\n",
       "      <td>9.500000</td>\n",
       "      <td>13.000000</td>\n",
       "      <td>50.000000</td>\n",
       "      <td>15360.000000</td>\n",
       "      <td>500.000000</td>\n",
       "      <td>550.000000</td>\n",
       "      <td>150.000000</td>\n",
       "      <td>1.000000</td>\n",
       "      <td>1.000000</td>\n",
       "      <td>716.500000</td>\n",
       "    </tr>\n",
       "    <tr>\n",
       "      <td>50%</td>\n",
       "      <td>1560.000000</td>\n",
       "      <td>1241.000000</td>\n",
       "      <td>9.000000</td>\n",
       "      <td>417.000000</td>\n",
       "      <td>30.000000</td>\n",
       "      <td>17.000000</td>\n",
       "      <td>50.000000</td>\n",
       "      <td>15360.000000</td>\n",
       "      <td>500.000000</td>\n",
       "      <td>550.000000</td>\n",
       "      <td>200.000000</td>\n",
       "      <td>3.000000</td>\n",
       "      <td>3.000000</td>\n",
       "      <td>1550.000000</td>\n",
       "    </tr>\n",
       "    <tr>\n",
       "      <td>75%</td>\n",
       "      <td>2399.500000</td>\n",
       "      <td>1377.000000</td>\n",
       "      <td>11.000000</td>\n",
       "      <td>551.000000</td>\n",
       "      <td>57.000000</td>\n",
       "      <td>21.000000</td>\n",
       "      <td>1000.000000</td>\n",
       "      <td>30720.000000</td>\n",
       "      <td>3000.000000</td>\n",
       "      <td>1950.000000</td>\n",
       "      <td>200.000000</td>\n",
       "      <td>3.000000</td>\n",
       "      <td>3.000000</td>\n",
       "      <td>1950.000000</td>\n",
       "    </tr>\n",
       "    <tr>\n",
       "      <td>max</td>\n",
       "      <td>3212.000000</td>\n",
       "      <td>1499.000000</td>\n",
       "      <td>12.000000</td>\n",
       "      <td>1579.000000</td>\n",
       "      <td>224.000000</td>\n",
       "      <td>49.000000</td>\n",
       "      <td>1000.000000</td>\n",
       "      <td>30720.000000</td>\n",
       "      <td>3000.000000</td>\n",
       "      <td>1950.000000</td>\n",
       "      <td>200.000000</td>\n",
       "      <td>3.000000</td>\n",
       "      <td>3.000000</td>\n",
       "      <td>6614.000000</td>\n",
       "    </tr>\n",
       "  </tbody>\n",
       "</table>\n",
       "</div>"
      ],
      "text/plain": [
       "             index      user_id        month     duration  count_messages  \\\n",
       "count  2603.000000  2603.000000  2603.000000  2603.000000     2603.000000   \n",
       "mean   1585.470227  1247.533615     8.290434   422.397618       38.376104   \n",
       "std     939.331576   146.011387     2.909368   228.526915       35.913289   \n",
       "min       0.000000  1000.000000     1.000000     0.000000        0.000000   \n",
       "25%     776.500000  1120.000000     6.000000   265.000000        9.500000   \n",
       "50%    1560.000000  1241.000000     9.000000   417.000000       30.000000   \n",
       "75%    2399.500000  1377.000000    11.000000   551.000000       57.000000   \n",
       "max    3212.000000  1499.000000    12.000000  1579.000000      224.000000   \n",
       "\n",
       "           gb_used  messages_included  mb_per_month_included  \\\n",
       "count  2603.000000        2603.000000            2603.000000   \n",
       "mean     17.122551         327.372263           19844.671533   \n",
       "std       7.332184         432.018494            6985.056917   \n",
       "min       0.000000          50.000000           15360.000000   \n",
       "25%      13.000000          50.000000           15360.000000   \n",
       "50%      17.000000          50.000000           15360.000000   \n",
       "75%      21.000000        1000.000000           30720.000000   \n",
       "max      49.000000        1000.000000           30720.000000   \n",
       "\n",
       "       minutes_included  rub_monthly_fee   rub_per_gb  rub_per_message  \\\n",
       "count       2603.000000      2603.000000  2603.000000      2603.000000   \n",
       "mean        1229.927007       958.759124   185.401460         2.416058   \n",
       "std         1136.890774       636.658834    22.737815         0.909513   \n",
       "min          500.000000       550.000000   150.000000         1.000000   \n",
       "25%          500.000000       550.000000   150.000000         1.000000   \n",
       "50%          500.000000       550.000000   200.000000         3.000000   \n",
       "75%         3000.000000      1950.000000   200.000000         3.000000   \n",
       "max         3000.000000      1950.000000   200.000000         3.000000   \n",
       "\n",
       "       rub_per_minute  proceeds_month  \n",
       "count     2603.000000     2603.000000  \n",
       "mean         2.416058     1501.869766  \n",
       "std          0.909513      802.533059  \n",
       "min          1.000000      550.000000  \n",
       "25%          1.000000      716.500000  \n",
       "50%          3.000000     1550.000000  \n",
       "75%          3.000000     1950.000000  \n",
       "max          3.000000     6614.000000  "
      ]
     },
     "execution_count": 85,
     "metadata": {},
     "output_type": "execute_result"
    }
   ],
   "source": [
    "data4_another = data4.query('city != \"Москва\"')\n",
    "data4_another.describe()"
   ]
  },
  {
   "cell_type": "markdown",
   "metadata": {},
   "source": [
    "Дисперсии выручки, как видно из таблиц выше, отличаются."
   ]
  },
  {
   "cell_type": "markdown",
   "metadata": {},
   "source": [
    "Средняя выручка по Москве составляет 1527 рублей, по другим городам 1502 рубля.\n",
    "Выручки отличаются, но близки по значению.\n",
    "\n",
    "Допустим такие выручки получились случайно.\n",
    "Сформулируем нулевую и альтернативную гипотезы:\n",
    "\n",
    "Нулевая: выручка из Москвы равна выручке по другим регионам.\n",
    "\n",
    "Альтернативная: выручки не равны."
   ]
  },
  {
   "cell_type": "code",
   "execution_count": 86,
   "metadata": {},
   "outputs": [
    {
     "name": "stdout",
     "output_type": "stream",
     "text": [
      "p-значение 0.46532858228722906\n",
      "Нулевую гипотезу не отвергаем\n"
     ]
    }
   ],
   "source": [
    "alpha = 0.05\n",
    "sample1 = data4_msc['proceeds_month']\n",
    "sample2 = data4_another['proceeds_month']\n",
    "results = st.ttest_ind(sample1, sample2, equal_var = False) # дисперсии выборок различны\n",
    "print('p-значение', results.pvalue)\n",
    "if results.pvalue < alpha:\n",
    "    print('Отвергаем нулевую гипотезу')\n",
    "else:\n",
    "    print('Нулевую гипотезу не отвергаем')"
   ]
  },
  {
   "cell_type": "markdown",
   "metadata": {},
   "source": [
    "**Вывод**\n",
    "\n",
    "Вероятность того, что нулевая гипотеза равна и выручки равны составляет 0,46 - вполне большое число. Значит нулевую гипотезу не отвергаем. С вероятностью 46 % равенство двух выручек можно получить случайно.\n",
    "\n",
    "Проверяли данную гипотезу с помощью двухстороннего критерия pvalue, так как проверка на равенство средних двух генеральных совокупностей производилась в обе стороны."
   ]
  },
  {
   "cell_type": "markdown",
   "metadata": {},
   "source": [
    "## Шаг 5. Общий вывод"
   ]
  },
  {
   "cell_type": "markdown",
   "metadata": {},
   "source": [
    "В данном проекте нужно было определить перспективный тариф для телеком-компании на основе данных о поведении 500 клиентов.\n",
    "1) Были открыты и изучены 5 файлов с имеющейся информацией.\n",
    "\n",
    "2) Подготовлены данные для анализа.\n",
    "\n",
    "3) Посчитаны для каждого пользователя:\n",
    "- количество сделанных звонков и израсходованных минут разговора по месяцам;\n",
    "- количество отправленных сообщений по месяцам;\n",
    "- объем израсходованного интернет-трафика по месяцам;\n",
    "- помесячная выручка с каждого пользователя.\n",
    "\n",
    "4) Проанализировано поведение клиентов по тарифу **smart и ultra**. Посчитано среднее количество, дисперсия и стандартное отклонение минут, смс, и интернета, а так же построены гистограммы.\n",
    "\n",
    "Почти всем клиентам с тарифом **ultra** ограничений по тарифу хватает, за исключеним интернета. 14 % интернета не хватает, у них же и абон плата за месяц выше.\n",
    "Переплачивает немного пользователей сверх абон платы. Максимальное кол-во абон плат за месяц в качестве переплаты - 2.\n",
    "\n",
    "Многим клиентам тарифа **smart** пакета минут, смс и интернета не хватает. 73 % людей платят больше абон платы. \n",
    "По данному тарифу  многим не хватает ни звонков, ни смс, ни интернета. Около 60 % не хватает интернета, 30 % не хватает минут, и 25 % не хватает смс. Клиенты в месяц оплачивают до 12 абон плат. Даже самая высокая ежемесячная плата в ultra не достигает таких больших значений.\n",
    "\n",
    "**Отсюда следует, что для телеком-компании выгоднее тариф smart, так как приносит больше денег.**\n",
    "\n",
    "5) Проверены гипотезы:\n",
    "- средняя выручка пользователей тарифов «Ультра» и «Смарт» различаются. Гипотеза о равенстве двух выручек отвергается.\n",
    "- средняя выручка пользователей из Москвы отличается от выручки пользователей из других регионов. Гипотеза о равенстве двух выручек не отвергается. "
   ]
  }
 ],
 "metadata": {
  "ExecuteTimeLog": [
   {
    "duration": 83,
    "start_time": "2021-10-25T07:33:26.466Z"
   },
   {
    "duration": 67,
    "start_time": "2021-10-25T07:39:03.693Z"
   },
   {
    "duration": 776,
    "start_time": "2021-10-25T07:41:37.842Z"
   },
   {
    "duration": 204,
    "start_time": "2021-10-25T07:42:44.485Z"
   },
   {
    "duration": 202,
    "start_time": "2021-10-25T07:42:46.159Z"
   },
   {
    "duration": 221,
    "start_time": "2021-10-25T07:42:51.251Z"
   },
   {
    "duration": 487,
    "start_time": "2021-10-25T07:43:22.991Z"
   },
   {
    "duration": 189,
    "start_time": "2021-10-25T07:43:29.467Z"
   },
   {
    "duration": 161,
    "start_time": "2021-10-25T07:44:01.549Z"
   },
   {
    "duration": 24,
    "start_time": "2021-10-25T07:44:17.649Z"
   },
   {
    "duration": 40,
    "start_time": "2021-10-25T07:44:35.744Z"
   },
   {
    "duration": 212,
    "start_time": "2021-10-25T07:44:40.477Z"
   },
   {
    "duration": 195,
    "start_time": "2021-10-25T07:44:40.692Z"
   },
   {
    "duration": 137,
    "start_time": "2021-10-25T07:44:40.891Z"
   },
   {
    "duration": 23,
    "start_time": "2021-10-25T07:44:41.031Z"
   },
   {
    "duration": 48,
    "start_time": "2021-10-25T07:44:41.057Z"
   },
   {
    "duration": 319,
    "start_time": "2021-10-25T08:00:07.011Z"
   },
   {
    "duration": 913,
    "start_time": "2021-10-25T08:00:11.907Z"
   },
   {
    "duration": 22,
    "start_time": "2021-10-25T08:00:15.644Z"
   },
   {
    "duration": 296,
    "start_time": "2021-10-25T08:01:15.450Z"
   },
   {
    "duration": 363,
    "start_time": "2021-10-25T08:01:20.949Z"
   },
   {
    "duration": 16,
    "start_time": "2021-10-25T08:01:23.546Z"
   },
   {
    "duration": 88,
    "start_time": "2021-10-25T08:02:21.547Z"
   },
   {
    "duration": 15,
    "start_time": "2021-10-25T08:02:35.366Z"
   },
   {
    "duration": 21,
    "start_time": "2021-10-25T08:02:50.714Z"
   },
   {
    "duration": 5,
    "start_time": "2021-10-25T08:03:01.745Z"
   },
   {
    "duration": 44,
    "start_time": "2021-10-25T08:03:23.727Z"
   },
   {
    "duration": 6,
    "start_time": "2021-10-25T08:03:26.769Z"
   },
   {
    "duration": 51,
    "start_time": "2021-10-25T08:32:46.820Z"
   },
   {
    "duration": 17,
    "start_time": "2021-10-25T08:32:57.962Z"
   },
   {
    "duration": 35,
    "start_time": "2021-10-25T08:36:17.727Z"
   },
   {
    "duration": 18,
    "start_time": "2021-10-25T08:36:36.235Z"
   },
   {
    "duration": 16,
    "start_time": "2021-10-25T08:37:19.785Z"
   },
   {
    "duration": 12,
    "start_time": "2021-10-25T08:37:28.936Z"
   },
   {
    "duration": 21,
    "start_time": "2021-10-25T08:38:17.068Z"
   },
   {
    "duration": 6,
    "start_time": "2021-10-25T08:39:25.361Z"
   },
   {
    "duration": 97,
    "start_time": "2021-10-25T08:40:22.315Z"
   },
   {
    "duration": 9,
    "start_time": "2021-10-25T08:40:34.476Z"
   },
   {
    "duration": 11,
    "start_time": "2021-10-25T08:40:56.603Z"
   },
   {
    "duration": 4,
    "start_time": "2021-10-25T08:43:48.271Z"
   },
   {
    "duration": 7399,
    "start_time": "2021-10-25T08:43:54.378Z"
   },
   {
    "duration": 1854,
    "start_time": "2021-10-25T08:44:08.020Z"
   },
   {
    "duration": 7749,
    "start_time": "2021-10-25T08:44:12.074Z"
   },
   {
    "duration": 9,
    "start_time": "2021-10-25T08:44:32.182Z"
   },
   {
    "duration": 7282,
    "start_time": "2021-10-25T08:44:43.937Z"
   },
   {
    "duration": 55,
    "start_time": "2021-10-25T08:46:27.483Z"
   },
   {
    "duration": 50,
    "start_time": "2021-10-25T08:46:34.481Z"
   },
   {
    "duration": 31,
    "start_time": "2021-10-25T08:47:08.055Z"
   },
   {
    "duration": 24,
    "start_time": "2021-10-25T08:47:18.113Z"
   },
   {
    "duration": 8,
    "start_time": "2021-10-25T08:47:30.655Z"
   },
   {
    "duration": 11,
    "start_time": "2021-10-25T08:48:51.521Z"
   },
   {
    "duration": 7,
    "start_time": "2021-10-25T08:48:58.707Z"
   },
   {
    "duration": 7,
    "start_time": "2021-10-25T08:49:25.723Z"
   },
   {
    "duration": 6,
    "start_time": "2021-10-25T08:49:51.612Z"
   },
   {
    "duration": 6,
    "start_time": "2021-10-25T08:50:00.791Z"
   },
   {
    "duration": 7,
    "start_time": "2021-10-25T08:54:52.528Z"
   },
   {
    "duration": 6,
    "start_time": "2021-10-25T08:55:00.467Z"
   },
   {
    "duration": 16,
    "start_time": "2021-10-25T08:55:16.915Z"
   },
   {
    "duration": 34,
    "start_time": "2021-10-25T08:55:46.586Z"
   },
   {
    "duration": 3454,
    "start_time": "2021-10-25T08:58:47.985Z"
   },
   {
    "duration": 15,
    "start_time": "2021-10-25T08:59:13.232Z"
   },
   {
    "duration": 297,
    "start_time": "2021-10-25T09:00:29.180Z"
   },
   {
    "duration": 9,
    "start_time": "2021-10-25T09:01:09.052Z"
   },
   {
    "duration": 23,
    "start_time": "2021-10-25T09:02:53.493Z"
   },
   {
    "duration": 10,
    "start_time": "2021-10-25T09:02:57.973Z"
   },
   {
    "duration": 12,
    "start_time": "2021-10-25T09:05:05.790Z"
   },
   {
    "duration": 5,
    "start_time": "2021-10-25T09:05:23.254Z"
   },
   {
    "duration": 13,
    "start_time": "2021-10-25T09:05:40.518Z"
   },
   {
    "duration": 12,
    "start_time": "2021-10-25T09:06:11.295Z"
   },
   {
    "duration": 4,
    "start_time": "2021-10-25T09:06:23.116Z"
   },
   {
    "duration": 11,
    "start_time": "2021-10-25T09:06:55.448Z"
   },
   {
    "duration": 17,
    "start_time": "2021-10-25T09:07:16.142Z"
   },
   {
    "duration": 13,
    "start_time": "2021-10-25T09:07:30.067Z"
   },
   {
    "duration": 5,
    "start_time": "2021-10-25T09:30:06.504Z"
   },
   {
    "duration": 4,
    "start_time": "2021-10-25T09:33:37.387Z"
   },
   {
    "duration": 13,
    "start_time": "2021-10-25T09:35:17.945Z"
   },
   {
    "duration": 7425,
    "start_time": "2021-10-25T09:35:37.873Z"
   },
   {
    "duration": 13,
    "start_time": "2021-10-25T09:35:57.756Z"
   },
   {
    "duration": 5,
    "start_time": "2021-10-25T09:36:07.835Z"
   },
   {
    "duration": 12,
    "start_time": "2021-10-25T09:36:21.459Z"
   },
   {
    "duration": 5,
    "start_time": "2021-10-25T09:36:47.735Z"
   },
   {
    "duration": 5,
    "start_time": "2021-10-25T09:36:59.174Z"
   },
   {
    "duration": 15,
    "start_time": "2021-10-25T09:37:19.847Z"
   },
   {
    "duration": 12,
    "start_time": "2021-10-25T09:38:34.814Z"
   },
   {
    "duration": 5,
    "start_time": "2021-10-25T09:38:56.949Z"
   },
   {
    "duration": 5,
    "start_time": "2021-10-25T09:39:27.142Z"
   },
   {
    "duration": 14,
    "start_time": "2021-10-25T09:39:33.564Z"
   },
   {
    "duration": 5,
    "start_time": "2021-10-25T09:39:46.147Z"
   },
   {
    "duration": 6,
    "start_time": "2021-10-25T09:40:20.725Z"
   },
   {
    "duration": 18,
    "start_time": "2021-10-25T09:40:34.543Z"
   },
   {
    "duration": 4,
    "start_time": "2021-10-25T09:40:58.291Z"
   },
   {
    "duration": 944,
    "start_time": "2021-10-26T07:13:30.762Z"
   },
   {
    "duration": 31,
    "start_time": "2021-10-26T07:13:37.991Z"
   },
   {
    "duration": 184,
    "start_time": "2021-10-26T07:13:43.557Z"
   },
   {
    "duration": 25,
    "start_time": "2021-10-26T07:13:47.159Z"
   },
   {
    "duration": 118,
    "start_time": "2021-10-26T07:13:52.453Z"
   },
   {
    "duration": 20,
    "start_time": "2021-10-26T07:13:57.512Z"
   },
   {
    "duration": 25,
    "start_time": "2021-10-26T07:14:00.559Z"
   },
   {
    "duration": 9,
    "start_time": "2021-10-26T07:14:03.692Z"
   },
   {
    "duration": 44,
    "start_time": "2021-10-26T07:14:07.287Z"
   },
   {
    "duration": 9,
    "start_time": "2021-10-26T07:14:11.140Z"
   },
   {
    "duration": 83,
    "start_time": "2021-10-26T07:14:17.085Z"
   },
   {
    "duration": 63,
    "start_time": "2021-10-26T07:14:21.987Z"
   },
   {
    "duration": 48,
    "start_time": "2021-10-26T07:14:24.941Z"
   },
   {
    "duration": 15,
    "start_time": "2021-10-26T07:14:27.001Z"
   },
   {
    "duration": 6,
    "start_time": "2021-10-26T07:14:31.575Z"
   },
   {
    "duration": 78,
    "start_time": "2021-10-26T07:14:34.080Z"
   },
   {
    "duration": 8,
    "start_time": "2021-10-26T07:14:36.335Z"
   },
   {
    "duration": 44,
    "start_time": "2021-10-26T07:14:38.356Z"
   },
   {
    "duration": 9,
    "start_time": "2021-10-26T07:14:40.704Z"
   },
   {
    "duration": 35,
    "start_time": "2021-10-26T07:14:43.401Z"
   },
   {
    "duration": 8,
    "start_time": "2021-10-26T07:14:45.483Z"
   },
   {
    "duration": 9,
    "start_time": "2021-10-26T07:14:47.879Z"
   },
   {
    "duration": 8,
    "start_time": "2021-10-26T07:14:49.861Z"
   },
   {
    "duration": 27,
    "start_time": "2021-10-26T07:14:55.956Z"
   },
   {
    "duration": 11,
    "start_time": "2021-10-26T07:15:01.319Z"
   },
   {
    "duration": 15,
    "start_time": "2021-10-26T07:15:04.545Z"
   },
   {
    "duration": 6,
    "start_time": "2021-10-26T07:15:07.632Z"
   },
   {
    "duration": 6,
    "start_time": "2021-10-26T07:15:10.310Z"
   },
   {
    "duration": 22,
    "start_time": "2021-10-26T07:15:13.043Z"
   },
   {
    "duration": 19,
    "start_time": "2021-10-26T07:15:19.326Z"
   },
   {
    "duration": 6,
    "start_time": "2021-10-26T07:15:29.986Z"
   },
   {
    "duration": 7,
    "start_time": "2021-10-26T07:15:32.607Z"
   },
   {
    "duration": 7,
    "start_time": "2021-10-26T07:15:36.463Z"
   },
   {
    "duration": 6,
    "start_time": "2021-10-26T07:15:39.548Z"
   },
   {
    "duration": 6,
    "start_time": "2021-10-26T07:15:41.708Z"
   },
   {
    "duration": 5,
    "start_time": "2021-10-26T07:15:44.468Z"
   },
   {
    "duration": 7,
    "start_time": "2021-10-26T07:15:47.421Z"
   },
   {
    "duration": 16,
    "start_time": "2021-10-26T07:16:14.701Z"
   },
   {
    "duration": 408,
    "start_time": "2021-10-26T07:21:44.956Z"
   },
   {
    "duration": 316,
    "start_time": "2021-10-26T07:22:04.725Z"
   },
   {
    "duration": 306,
    "start_time": "2021-10-26T07:22:28.870Z"
   },
   {
    "duration": 8222,
    "start_time": "2021-10-26T07:22:47.010Z"
   },
   {
    "duration": 505,
    "start_time": "2021-10-26T07:23:08.298Z"
   },
   {
    "duration": 447,
    "start_time": "2021-10-26T07:23:16.985Z"
   },
   {
    "duration": 310,
    "start_time": "2021-10-26T07:23:55.191Z"
   },
   {
    "duration": 301,
    "start_time": "2021-10-26T07:24:02.040Z"
   },
   {
    "duration": 332,
    "start_time": "2021-10-26T07:24:09.391Z"
   },
   {
    "duration": 611,
    "start_time": "2021-10-26T07:24:15.930Z"
   },
   {
    "duration": 303,
    "start_time": "2021-10-26T07:24:22.817Z"
   },
   {
    "duration": 380,
    "start_time": "2021-10-26T07:24:28.964Z"
   },
   {
    "duration": 403,
    "start_time": "2021-10-26T07:25:06.651Z"
   },
   {
    "duration": 407,
    "start_time": "2021-10-26T07:25:48.844Z"
   },
   {
    "duration": 733,
    "start_time": "2021-10-26T07:27:42.220Z"
   },
   {
    "duration": 635,
    "start_time": "2021-10-26T07:27:51.427Z"
   },
   {
    "duration": 20,
    "start_time": "2021-10-26T07:28:01.788Z"
   },
   {
    "duration": 626,
    "start_time": "2021-10-26T07:29:50.063Z"
   },
   {
    "duration": 709,
    "start_time": "2021-10-26T07:34:28.175Z"
   },
   {
    "duration": 17,
    "start_time": "2021-10-26T07:48:07.139Z"
   },
   {
    "duration": 622,
    "start_time": "2021-10-26T07:48:32.523Z"
   },
   {
    "duration": 666,
    "start_time": "2021-10-26T07:48:38.014Z"
   },
   {
    "duration": 557,
    "start_time": "2021-10-26T07:49:00.628Z"
   },
   {
    "duration": 649,
    "start_time": "2021-10-26T07:49:20.588Z"
   },
   {
    "duration": 634,
    "start_time": "2021-10-26T07:49:30.248Z"
   },
   {
    "duration": 18,
    "start_time": "2021-10-26T07:50:54.325Z"
   },
   {
    "duration": 722,
    "start_time": "2021-10-26T07:52:33.089Z"
   },
   {
    "duration": 628,
    "start_time": "2021-10-26T07:54:15.328Z"
   },
   {
    "duration": 612,
    "start_time": "2021-10-26T07:54:25.599Z"
   },
   {
    "duration": 614,
    "start_time": "2021-10-26T07:54:36.963Z"
   },
   {
    "duration": 180,
    "start_time": "2021-10-26T08:04:59.734Z"
   },
   {
    "duration": 17,
    "start_time": "2021-10-26T08:05:26.945Z"
   },
   {
    "duration": 57,
    "start_time": "2021-10-26T08:05:44.274Z"
   },
   {
    "duration": 425,
    "start_time": "2021-10-26T08:06:48.990Z"
   },
   {
    "duration": 55,
    "start_time": "2021-10-26T08:06:58.226Z"
   },
   {
    "duration": 31,
    "start_time": "2021-10-26T08:08:03.383Z"
   },
   {
    "duration": 17,
    "start_time": "2021-10-26T09:01:24.281Z"
   },
   {
    "duration": 9,
    "start_time": "2021-10-26T09:01:50.932Z"
   },
   {
    "duration": 20,
    "start_time": "2021-10-26T09:01:57.857Z"
   },
   {
    "duration": 7,
    "start_time": "2021-10-26T09:03:29.248Z"
   },
   {
    "duration": 19,
    "start_time": "2021-10-26T09:03:32.998Z"
   },
   {
    "duration": 202,
    "start_time": "2021-10-26T09:08:35.300Z"
   },
   {
    "duration": 4,
    "start_time": "2021-10-26T09:08:46.773Z"
   },
   {
    "duration": 33,
    "start_time": "2021-10-26T09:11:01.128Z"
   },
   {
    "duration": 31,
    "start_time": "2021-10-26T09:11:29.175Z"
   },
   {
    "duration": 45,
    "start_time": "2021-10-26T09:11:34.117Z"
   },
   {
    "duration": 80,
    "start_time": "2021-10-26T09:12:05.279Z"
   },
   {
    "duration": 10,
    "start_time": "2021-10-26T09:12:33.391Z"
   },
   {
    "duration": 78,
    "start_time": "2021-10-26T09:13:39.920Z"
   },
   {
    "duration": 506,
    "start_time": "2021-10-26T09:13:50.444Z"
   },
   {
    "duration": 115,
    "start_time": "2021-10-26T09:14:24.020Z"
   },
   {
    "duration": 85,
    "start_time": "2021-10-26T09:18:40.426Z"
   },
   {
    "duration": 77,
    "start_time": "2021-10-26T09:19:47.427Z"
   },
   {
    "duration": 199,
    "start_time": "2021-10-26T09:19:57.475Z"
   },
   {
    "duration": 80,
    "start_time": "2021-10-26T09:20:08.114Z"
   },
   {
    "duration": 160,
    "start_time": "2021-10-26T09:21:48.256Z"
   },
   {
    "duration": 51,
    "start_time": "2021-10-26T09:21:59.385Z"
   },
   {
    "duration": 70,
    "start_time": "2021-10-26T09:23:26.482Z"
   },
   {
    "duration": 76,
    "start_time": "2021-10-26T09:23:34.972Z"
   },
   {
    "duration": 60,
    "start_time": "2021-10-26T09:24:11.068Z"
   },
   {
    "duration": 79,
    "start_time": "2021-10-26T09:24:14.932Z"
   },
   {
    "duration": 86,
    "start_time": "2021-10-26T09:24:20.739Z"
   },
   {
    "duration": 80,
    "start_time": "2021-10-26T09:24:25.671Z"
   },
   {
    "duration": 66,
    "start_time": "2021-10-26T09:24:31.242Z"
   },
   {
    "duration": 105,
    "start_time": "2021-10-26T09:24:39.180Z"
   },
   {
    "duration": 79,
    "start_time": "2021-10-26T09:25:09.955Z"
   },
   {
    "duration": 57,
    "start_time": "2021-10-26T09:25:33.619Z"
   },
   {
    "duration": 60,
    "start_time": "2021-10-26T09:26:14.945Z"
   },
   {
    "duration": 78,
    "start_time": "2021-10-26T09:26:23.599Z"
   },
   {
    "duration": 58,
    "start_time": "2021-10-26T09:26:32.844Z"
   },
   {
    "duration": 67,
    "start_time": "2021-10-26T09:26:39.445Z"
   },
   {
    "duration": 80,
    "start_time": "2021-10-26T09:26:47.281Z"
   },
   {
    "duration": 294,
    "start_time": "2021-10-26T09:27:24.958Z"
   },
   {
    "duration": 55,
    "start_time": "2021-10-26T09:27:31.077Z"
   },
   {
    "duration": 36,
    "start_time": "2021-10-26T09:27:41.178Z"
   },
   {
    "duration": 55,
    "start_time": "2021-10-26T09:27:47.983Z"
   },
   {
    "duration": 56,
    "start_time": "2021-10-26T09:28:07.114Z"
   },
   {
    "duration": 53,
    "start_time": "2021-10-26T09:28:15.968Z"
   },
   {
    "duration": 34,
    "start_time": "2021-10-26T09:31:09.780Z"
   },
   {
    "duration": 36,
    "start_time": "2021-10-26T09:31:14.593Z"
   },
   {
    "duration": 55,
    "start_time": "2021-10-26T09:31:21.582Z"
   },
   {
    "duration": 50,
    "start_time": "2021-10-26T09:31:29.228Z"
   },
   {
    "duration": 53,
    "start_time": "2021-10-26T09:31:36.089Z"
   },
   {
    "duration": 254,
    "start_time": "2021-10-26T09:33:41.685Z"
   },
   {
    "duration": 309,
    "start_time": "2021-10-26T09:34:09.989Z"
   },
   {
    "duration": 12923,
    "start_time": "2021-10-26T09:37:35.690Z"
   },
   {
    "duration": 13025,
    "start_time": "2021-10-26T09:37:50.668Z"
   },
   {
    "duration": 16,
    "start_time": "2021-10-26T09:39:25.542Z"
   },
   {
    "duration": 15,
    "start_time": "2021-10-26T09:39:38.077Z"
   },
   {
    "duration": 16,
    "start_time": "2021-10-26T09:39:42.541Z"
   },
   {
    "duration": 62,
    "start_time": "2021-10-26T09:42:41.426Z"
   },
   {
    "duration": 61,
    "start_time": "2021-10-26T09:42:49.782Z"
   },
   {
    "duration": 81,
    "start_time": "2021-10-26T09:43:38.672Z"
   },
   {
    "duration": 67,
    "start_time": "2021-10-26T09:43:51.996Z"
   },
   {
    "duration": 67,
    "start_time": "2021-10-26T09:46:12.274Z"
   },
   {
    "duration": 65,
    "start_time": "2021-10-26T09:46:20.552Z"
   },
   {
    "duration": 17,
    "start_time": "2021-10-26T09:47:59.666Z"
   },
   {
    "duration": 81,
    "start_time": "2021-10-26T09:49:30.508Z"
   },
   {
    "duration": 73,
    "start_time": "2021-10-26T09:49:38.127Z"
   },
   {
    "duration": 66,
    "start_time": "2021-10-26T09:49:52.589Z"
   },
   {
    "duration": 77,
    "start_time": "2021-10-26T09:50:33.761Z"
   },
   {
    "duration": 21,
    "start_time": "2021-10-26T09:51:49.490Z"
   },
   {
    "duration": 189,
    "start_time": "2021-10-26T09:53:08.262Z"
   },
   {
    "duration": 11,
    "start_time": "2021-10-26T09:53:25.585Z"
   },
   {
    "duration": 1547,
    "start_time": "2021-10-26T10:22:02.477Z"
   },
   {
    "duration": 4,
    "start_time": "2021-10-26T10:22:34.781Z"
   },
   {
    "duration": 6,
    "start_time": "2021-10-26T10:22:42.846Z"
   },
   {
    "duration": 21,
    "start_time": "2021-10-26T10:23:00.919Z"
   },
   {
    "duration": 270,
    "start_time": "2021-10-26T10:23:10.281Z"
   },
   {
    "duration": 15,
    "start_time": "2021-10-26T10:23:27.042Z"
   },
   {
    "duration": 18,
    "start_time": "2021-10-26T10:25:40.306Z"
   },
   {
    "duration": 19,
    "start_time": "2021-10-26T10:25:47.088Z"
   },
   {
    "duration": 19,
    "start_time": "2021-10-26T10:25:50.606Z"
   },
   {
    "duration": 16,
    "start_time": "2021-10-26T10:26:26.188Z"
   },
   {
    "duration": 18,
    "start_time": "2021-10-26T10:26:36.270Z"
   },
   {
    "duration": 18,
    "start_time": "2021-10-26T10:27:11.092Z"
   },
   {
    "duration": 18,
    "start_time": "2021-10-26T10:27:27.297Z"
   },
   {
    "duration": 229,
    "start_time": "2021-10-26T10:30:33.472Z"
   },
   {
    "duration": 916,
    "start_time": "2021-10-26T10:30:41.448Z"
   },
   {
    "duration": 257,
    "start_time": "2021-10-26T10:30:55.971Z"
   },
   {
    "duration": 1011,
    "start_time": "2021-10-26T10:31:10.141Z"
   },
   {
    "duration": 27,
    "start_time": "2021-10-26T10:31:11.155Z"
   },
   {
    "duration": 199,
    "start_time": "2021-10-26T10:31:11.186Z"
   },
   {
    "duration": 23,
    "start_time": "2021-10-26T10:31:11.387Z"
   },
   {
    "duration": 150,
    "start_time": "2021-10-26T10:31:11.412Z"
   },
   {
    "duration": 21,
    "start_time": "2021-10-26T10:31:11.564Z"
   },
   {
    "duration": 43,
    "start_time": "2021-10-26T10:31:11.588Z"
   },
   {
    "duration": 25,
    "start_time": "2021-10-26T10:31:11.635Z"
   },
   {
    "duration": 67,
    "start_time": "2021-10-26T10:31:11.663Z"
   },
   {
    "duration": 21,
    "start_time": "2021-10-26T10:31:11.732Z"
   },
   {
    "duration": 96,
    "start_time": "2021-10-26T10:31:11.756Z"
   },
   {
    "duration": 78,
    "start_time": "2021-10-26T10:31:11.854Z"
   },
   {
    "duration": 49,
    "start_time": "2021-10-26T10:31:11.935Z"
   },
   {
    "duration": 14,
    "start_time": "2021-10-26T10:31:11.986Z"
   },
   {
    "duration": 5,
    "start_time": "2021-10-26T10:31:12.029Z"
   },
   {
    "duration": 95,
    "start_time": "2021-10-26T10:31:12.036Z"
   },
   {
    "duration": 10,
    "start_time": "2021-10-26T10:31:12.133Z"
   },
   {
    "duration": 61,
    "start_time": "2021-10-26T10:31:12.145Z"
   },
   {
    "duration": 21,
    "start_time": "2021-10-26T10:31:12.209Z"
   },
   {
    "duration": 33,
    "start_time": "2021-10-26T10:31:12.234Z"
   },
   {
    "duration": 8,
    "start_time": "2021-10-26T10:31:12.270Z"
   },
   {
    "duration": 49,
    "start_time": "2021-10-26T10:31:12.280Z"
   },
   {
    "duration": 8,
    "start_time": "2021-10-26T10:31:12.334Z"
   },
   {
    "duration": 34,
    "start_time": "2021-10-26T10:31:12.345Z"
   },
   {
    "duration": 15,
    "start_time": "2021-10-26T10:31:12.382Z"
   },
   {
    "duration": 43,
    "start_time": "2021-10-26T10:31:12.399Z"
   },
   {
    "duration": 10,
    "start_time": "2021-10-26T10:31:12.444Z"
   },
   {
    "duration": 13,
    "start_time": "2021-10-26T10:31:12.456Z"
   },
   {
    "duration": 37,
    "start_time": "2021-10-26T10:31:12.472Z"
   },
   {
    "duration": 18,
    "start_time": "2021-10-26T10:31:12.528Z"
   },
   {
    "duration": 22,
    "start_time": "2021-10-26T10:31:12.549Z"
   },
   {
    "duration": 26,
    "start_time": "2021-10-26T10:31:12.574Z"
   },
   {
    "duration": 12,
    "start_time": "2021-10-26T10:31:12.603Z"
   },
   {
    "duration": 16,
    "start_time": "2021-10-26T10:31:12.618Z"
   },
   {
    "duration": 36,
    "start_time": "2021-10-26T10:31:12.637Z"
   },
   {
    "duration": 14,
    "start_time": "2021-10-26T10:31:12.676Z"
   },
   {
    "duration": 27,
    "start_time": "2021-10-26T10:31:12.692Z"
   },
   {
    "duration": 38,
    "start_time": "2021-10-26T10:31:12.722Z"
   },
   {
    "duration": 756,
    "start_time": "2021-10-26T10:31:12.763Z"
   },
   {
    "duration": 26,
    "start_time": "2021-10-26T10:31:13.522Z"
   },
   {
    "duration": 37,
    "start_time": "2021-10-26T10:31:13.551Z"
   },
   {
    "duration": 721,
    "start_time": "2021-10-26T10:31:13.591Z"
   },
   {
    "duration": 29,
    "start_time": "2021-10-26T10:31:14.315Z"
   },
   {
    "duration": 383,
    "start_time": "2021-10-26T10:31:14.347Z"
   },
   {
    "duration": 302,
    "start_time": "2021-10-26T10:31:14.733Z"
   },
   {
    "duration": 104,
    "start_time": "2021-10-26T10:31:15.037Z"
   },
   {
    "duration": 94,
    "start_time": "2021-10-26T10:31:15.144Z"
   },
   {
    "duration": 13,
    "start_time": "2021-10-26T10:31:15.241Z"
   },
   {
    "duration": 13,
    "start_time": "2021-10-26T10:31:15.256Z"
   },
   {
    "duration": 324,
    "start_time": "2021-10-26T10:33:54.723Z"
   },
   {
    "duration": 983,
    "start_time": "2021-10-26T10:34:08.838Z"
   },
   {
    "duration": 303,
    "start_time": "2021-10-26T10:34:21.689Z"
   },
   {
    "duration": 180,
    "start_time": "2021-10-26T10:34:29.352Z"
   },
   {
    "duration": 338,
    "start_time": "2021-10-26T10:34:38.347Z"
   },
   {
    "duration": 276,
    "start_time": "2021-10-26T10:37:14.383Z"
   },
   {
    "duration": 15,
    "start_time": "2021-10-26T10:38:08.443Z"
   },
   {
    "duration": 11,
    "start_time": "2021-10-26T10:38:51.907Z"
   },
   {
    "duration": 6162,
    "start_time": "2021-10-26T10:38:57.147Z"
   },
   {
    "duration": 19,
    "start_time": "2021-10-26T10:39:30.984Z"
   },
   {
    "duration": 226,
    "start_time": "2021-10-26T10:40:53.784Z"
   },
   {
    "duration": 129,
    "start_time": "2021-10-26T10:41:02.502Z"
   },
   {
    "duration": 235,
    "start_time": "2021-10-26T10:41:16.980Z"
   },
   {
    "duration": 291,
    "start_time": "2021-10-26T10:41:33.419Z"
   },
   {
    "duration": 320,
    "start_time": "2021-10-26T10:41:58.405Z"
   },
   {
    "duration": 995,
    "start_time": "2021-10-26T10:42:05.596Z"
   },
   {
    "duration": 337,
    "start_time": "2021-10-26T10:42:12.618Z"
   },
   {
    "duration": 121,
    "start_time": "2021-10-26T10:42:22.358Z"
   },
   {
    "duration": 325,
    "start_time": "2021-10-26T10:42:30.070Z"
   },
   {
    "duration": 258,
    "start_time": "2021-10-26T10:43:33.079Z"
   },
   {
    "duration": 277,
    "start_time": "2021-10-26T10:47:25.240Z"
   },
   {
    "duration": 849,
    "start_time": "2021-10-26T14:02:02.408Z"
   },
   {
    "duration": 36,
    "start_time": "2021-10-26T14:02:03.259Z"
   },
   {
    "duration": 150,
    "start_time": "2021-10-26T14:02:03.299Z"
   },
   {
    "duration": 18,
    "start_time": "2021-10-26T14:02:03.451Z"
   },
   {
    "duration": 110,
    "start_time": "2021-10-26T14:02:03.476Z"
   },
   {
    "duration": 25,
    "start_time": "2021-10-26T14:02:03.588Z"
   },
   {
    "duration": 22,
    "start_time": "2021-10-26T14:02:03.615Z"
   },
   {
    "duration": 9,
    "start_time": "2021-10-26T14:02:03.639Z"
   },
   {
    "duration": 51,
    "start_time": "2021-10-26T14:02:03.651Z"
   },
   {
    "duration": 6,
    "start_time": "2021-10-26T14:02:03.704Z"
   },
   {
    "duration": 73,
    "start_time": "2021-10-26T14:02:03.712Z"
   },
   {
    "duration": 54,
    "start_time": "2021-10-26T14:02:03.788Z"
   },
   {
    "duration": 61,
    "start_time": "2021-10-26T14:02:03.843Z"
   },
   {
    "duration": 10,
    "start_time": "2021-10-26T14:02:03.906Z"
   },
   {
    "duration": 7,
    "start_time": "2021-10-26T14:02:03.918Z"
   },
   {
    "duration": 82,
    "start_time": "2021-10-26T14:02:03.926Z"
   },
   {
    "duration": 7,
    "start_time": "2021-10-26T14:02:04.010Z"
   },
   {
    "duration": 23,
    "start_time": "2021-10-26T14:02:04.018Z"
   },
   {
    "duration": 6,
    "start_time": "2021-10-26T14:02:04.043Z"
   },
   {
    "duration": 57,
    "start_time": "2021-10-26T14:02:04.051Z"
   },
   {
    "duration": 6,
    "start_time": "2021-10-26T14:02:04.110Z"
   },
   {
    "duration": 7,
    "start_time": "2021-10-26T14:02:04.117Z"
   },
   {
    "duration": 5,
    "start_time": "2021-10-26T14:02:04.126Z"
   },
   {
    "duration": 17,
    "start_time": "2021-10-26T14:02:04.133Z"
   },
   {
    "duration": 15,
    "start_time": "2021-10-26T14:02:04.177Z"
   },
   {
    "duration": 14,
    "start_time": "2021-10-26T14:02:04.195Z"
   },
   {
    "duration": 5,
    "start_time": "2021-10-26T14:02:04.213Z"
   },
   {
    "duration": 5,
    "start_time": "2021-10-26T14:02:04.219Z"
   },
   {
    "duration": 14,
    "start_time": "2021-10-26T14:02:04.226Z"
   },
   {
    "duration": 49,
    "start_time": "2021-10-26T14:02:04.242Z"
   },
   {
    "duration": 16,
    "start_time": "2021-10-26T14:02:04.293Z"
   },
   {
    "duration": 6,
    "start_time": "2021-10-26T14:02:04.311Z"
   },
   {
    "duration": 6,
    "start_time": "2021-10-26T14:02:04.319Z"
   },
   {
    "duration": 5,
    "start_time": "2021-10-26T14:02:04.327Z"
   },
   {
    "duration": 47,
    "start_time": "2021-10-26T14:02:04.334Z"
   },
   {
    "duration": 7,
    "start_time": "2021-10-26T14:02:04.383Z"
   },
   {
    "duration": 8,
    "start_time": "2021-10-26T14:02:04.393Z"
   },
   {
    "duration": 9,
    "start_time": "2021-10-26T14:02:04.403Z"
   },
   {
    "duration": 535,
    "start_time": "2021-10-26T14:02:04.413Z"
   },
   {
    "duration": 16,
    "start_time": "2021-10-26T14:02:04.950Z"
   },
   {
    "duration": 45,
    "start_time": "2021-10-26T14:02:04.967Z"
   },
   {
    "duration": 503,
    "start_time": "2021-10-26T14:02:05.014Z"
   },
   {
    "duration": 14,
    "start_time": "2021-10-26T14:02:05.519Z"
   },
   {
    "duration": 248,
    "start_time": "2021-10-26T14:02:05.534Z"
   },
   {
    "duration": 201,
    "start_time": "2021-10-26T14:02:05.787Z"
   },
   {
    "duration": 53,
    "start_time": "2021-10-26T14:02:05.991Z"
   },
   {
    "duration": 86,
    "start_time": "2021-10-26T14:02:06.046Z"
   },
   {
    "duration": 10,
    "start_time": "2021-10-26T14:02:06.133Z"
   },
   {
    "duration": 9,
    "start_time": "2021-10-26T14:02:06.145Z"
   },
   {
    "duration": 476,
    "start_time": "2021-10-26T14:03:48.400Z"
   },
   {
    "duration": 361,
    "start_time": "2021-10-26T14:05:21.064Z"
   },
   {
    "duration": 2523,
    "start_time": "2021-10-26T14:06:02.837Z"
   },
   {
    "duration": 2553,
    "start_time": "2021-10-26T14:06:17.428Z"
   },
   {
    "duration": 2504,
    "start_time": "2021-10-26T14:06:33.679Z"
   },
   {
    "duration": 9816,
    "start_time": "2021-10-26T14:06:36.984Z"
   },
   {
    "duration": 6,
    "start_time": "2021-10-26T14:09:47.306Z"
   },
   {
    "duration": 12,
    "start_time": "2021-10-26T14:09:54.955Z"
   },
   {
    "duration": 358,
    "start_time": "2021-10-26T14:10:53.381Z"
   },
   {
    "duration": 403,
    "start_time": "2021-10-26T14:11:02.413Z"
   },
   {
    "duration": 7,
    "start_time": "2021-10-26T14:11:16.049Z"
   },
   {
    "duration": 24,
    "start_time": "2021-10-26T14:12:34.388Z"
   },
   {
    "duration": 16,
    "start_time": "2021-10-26T14:13:53.519Z"
   },
   {
    "duration": 13,
    "start_time": "2021-10-26T14:16:57.131Z"
   },
   {
    "duration": 17,
    "start_time": "2021-10-26T14:17:47.824Z"
   },
   {
    "duration": 14,
    "start_time": "2021-10-26T14:18:03.658Z"
   },
   {
    "duration": 16,
    "start_time": "2021-10-26T14:18:10.853Z"
   },
   {
    "duration": 57,
    "start_time": "2021-10-26T14:19:14.844Z"
   },
   {
    "duration": 49,
    "start_time": "2021-10-26T14:20:00.933Z"
   },
   {
    "duration": 57,
    "start_time": "2021-10-26T14:20:18.260Z"
   },
   {
    "duration": 189,
    "start_time": "2021-10-26T14:22:27.554Z"
   },
   {
    "duration": 17698,
    "start_time": "2021-10-26T14:22:53.674Z"
   },
   {
    "duration": 22,
    "start_time": "2021-10-26T14:23:11.377Z"
   },
   {
    "duration": 8,
    "start_time": "2021-10-26T14:23:59.308Z"
   },
   {
    "duration": 184,
    "start_time": "2021-10-26T14:27:26.396Z"
   },
   {
    "duration": 37,
    "start_time": "2021-10-26T14:27:26.582Z"
   },
   {
    "duration": 188,
    "start_time": "2021-10-26T14:27:26.621Z"
   },
   {
    "duration": 17,
    "start_time": "2021-10-26T14:27:26.812Z"
   },
   {
    "duration": 99,
    "start_time": "2021-10-26T14:27:26.831Z"
   },
   {
    "duration": 15,
    "start_time": "2021-10-26T14:27:26.931Z"
   },
   {
    "duration": 34,
    "start_time": "2021-10-26T14:27:26.948Z"
   },
   {
    "duration": 7,
    "start_time": "2021-10-26T14:27:26.985Z"
   },
   {
    "duration": 42,
    "start_time": "2021-10-26T14:27:26.995Z"
   },
   {
    "duration": 9,
    "start_time": "2021-10-26T14:27:27.039Z"
   },
   {
    "duration": 77,
    "start_time": "2021-10-26T14:27:27.049Z"
   },
   {
    "duration": 55,
    "start_time": "2021-10-26T14:27:27.128Z"
   },
   {
    "duration": 47,
    "start_time": "2021-10-26T14:27:27.186Z"
   },
   {
    "duration": 14,
    "start_time": "2021-10-26T14:27:27.236Z"
   },
   {
    "duration": 32,
    "start_time": "2021-10-26T14:27:27.252Z"
   },
   {
    "duration": 60,
    "start_time": "2021-10-26T14:27:27.288Z"
   },
   {
    "duration": 8,
    "start_time": "2021-10-26T14:27:27.350Z"
   },
   {
    "duration": 57,
    "start_time": "2021-10-26T14:27:27.360Z"
   },
   {
    "duration": 8,
    "start_time": "2021-10-26T14:27:27.419Z"
   },
   {
    "duration": 20,
    "start_time": "2021-10-26T14:27:27.429Z"
   },
   {
    "duration": 37,
    "start_time": "2021-10-26T14:27:27.451Z"
   },
   {
    "duration": 15,
    "start_time": "2021-10-26T14:27:27.491Z"
   },
   {
    "duration": 11,
    "start_time": "2021-10-26T14:27:27.514Z"
   },
   {
    "duration": 19,
    "start_time": "2021-10-26T14:27:27.529Z"
   },
   {
    "duration": 31,
    "start_time": "2021-10-26T14:27:27.550Z"
   },
   {
    "duration": 19,
    "start_time": "2021-10-26T14:27:27.583Z"
   },
   {
    "duration": 7,
    "start_time": "2021-10-26T14:27:27.604Z"
   },
   {
    "duration": 5,
    "start_time": "2021-10-26T14:27:27.613Z"
   },
   {
    "duration": 16,
    "start_time": "2021-10-26T14:27:27.620Z"
   },
   {
    "duration": 53,
    "start_time": "2021-10-26T14:27:27.637Z"
   },
   {
    "duration": 6,
    "start_time": "2021-10-26T14:27:27.696Z"
   },
   {
    "duration": 8,
    "start_time": "2021-10-26T14:27:27.704Z"
   },
   {
    "duration": 5,
    "start_time": "2021-10-26T14:27:27.713Z"
   },
   {
    "duration": 5,
    "start_time": "2021-10-26T14:27:27.719Z"
   },
   {
    "duration": 8,
    "start_time": "2021-10-26T14:27:27.725Z"
   },
   {
    "duration": 5,
    "start_time": "2021-10-26T14:27:27.734Z"
   },
   {
    "duration": 14,
    "start_time": "2021-10-26T14:27:27.784Z"
   },
   {
    "duration": 6,
    "start_time": "2021-10-26T14:27:27.801Z"
   },
   {
    "duration": 611,
    "start_time": "2021-10-26T14:27:27.809Z"
   },
   {
    "duration": 20,
    "start_time": "2021-10-26T14:27:28.422Z"
   },
   {
    "duration": 47,
    "start_time": "2021-10-26T14:27:28.444Z"
   },
   {
    "duration": 673,
    "start_time": "2021-10-26T14:27:28.493Z"
   },
   {
    "duration": 25,
    "start_time": "2021-10-26T14:27:29.168Z"
   },
   {
    "duration": 83,
    "start_time": "2021-10-26T14:27:29.196Z"
   },
   {
    "duration": 49,
    "start_time": "2021-10-26T14:27:29.282Z"
   },
   {
    "duration": 81,
    "start_time": "2021-10-26T14:27:29.333Z"
   },
   {
    "duration": 72,
    "start_time": "2021-10-26T14:27:29.416Z"
   },
   {
    "duration": 25,
    "start_time": "2021-10-26T14:27:29.491Z"
   },
   {
    "duration": 21,
    "start_time": "2021-10-26T14:27:29.518Z"
   },
   {
    "duration": 24,
    "start_time": "2021-10-26T14:27:29.541Z"
   },
   {
    "duration": 33,
    "start_time": "2021-10-26T14:27:29.567Z"
   },
   {
    "duration": 80,
    "start_time": "2021-10-26T14:27:39.375Z"
   },
   {
    "duration": 44,
    "start_time": "2021-10-26T14:28:21.234Z"
   },
   {
    "duration": 62,
    "start_time": "2021-10-26T14:28:27.074Z"
   },
   {
    "duration": 61,
    "start_time": "2021-10-26T14:28:47.649Z"
   },
   {
    "duration": 63,
    "start_time": "2021-10-26T14:29:06.367Z"
   },
   {
    "duration": 62,
    "start_time": "2021-10-26T14:29:12.681Z"
   },
   {
    "duration": 62,
    "start_time": "2021-10-26T14:30:27.064Z"
   },
   {
    "duration": 51,
    "start_time": "2021-10-26T14:30:30.605Z"
   },
   {
    "duration": 41,
    "start_time": "2021-10-26T14:30:50.612Z"
   },
   {
    "duration": 52,
    "start_time": "2021-10-26T14:32:31.570Z"
   },
   {
    "duration": 57,
    "start_time": "2021-10-26T14:32:38.310Z"
   },
   {
    "duration": 10,
    "start_time": "2021-10-26T14:34:59.663Z"
   },
   {
    "duration": 16,
    "start_time": "2021-10-26T14:35:03.503Z"
   },
   {
    "duration": 64,
    "start_time": "2021-10-26T14:39:46.576Z"
   },
   {
    "duration": 18,
    "start_time": "2021-10-26T14:57:11.215Z"
   },
   {
    "duration": 8,
    "start_time": "2021-10-26T14:58:25.600Z"
   },
   {
    "duration": 18,
    "start_time": "2021-10-26T14:58:33.139Z"
   },
   {
    "duration": 17,
    "start_time": "2021-10-26T15:02:52.913Z"
   },
   {
    "duration": 364,
    "start_time": "2021-10-26T15:03:17.102Z"
   },
   {
    "duration": 23,
    "start_time": "2021-10-26T15:03:26.791Z"
   },
   {
    "duration": 19,
    "start_time": "2021-10-26T15:04:08.100Z"
   },
   {
    "duration": 15,
    "start_time": "2021-10-26T15:04:20.534Z"
   },
   {
    "duration": 19,
    "start_time": "2021-10-26T15:04:35.233Z"
   },
   {
    "duration": 11,
    "start_time": "2021-10-26T15:05:52.979Z"
   },
   {
    "duration": 31,
    "start_time": "2021-10-26T15:05:58.273Z"
   },
   {
    "duration": 27,
    "start_time": "2021-10-26T15:06:21.488Z"
   },
   {
    "duration": 28,
    "start_time": "2021-10-26T15:13:38.589Z"
   },
   {
    "duration": 5,
    "start_time": "2021-10-26T15:17:25.101Z"
   },
   {
    "duration": 381,
    "start_time": "2021-10-26T15:18:06.453Z"
   },
   {
    "duration": 360,
    "start_time": "2021-10-26T15:18:22.988Z"
   },
   {
    "duration": 9,
    "start_time": "2021-10-26T15:18:31.898Z"
   },
   {
    "duration": 383,
    "start_time": "2021-10-26T15:19:03.070Z"
   },
   {
    "duration": 350,
    "start_time": "2021-10-26T15:19:07.395Z"
   },
   {
    "duration": 367,
    "start_time": "2021-10-26T15:20:53.066Z"
   },
   {
    "duration": 129,
    "start_time": "2021-10-26T15:22:38.959Z"
   },
   {
    "duration": 347,
    "start_time": "2021-10-26T15:22:56.553Z"
   },
   {
    "duration": 9,
    "start_time": "2021-10-26T15:24:10.880Z"
   },
   {
    "duration": 354,
    "start_time": "2021-10-26T15:57:52.637Z"
   },
   {
    "duration": 344,
    "start_time": "2021-10-26T15:58:25.282Z"
   },
   {
    "duration": 345,
    "start_time": "2021-10-26T15:59:24.969Z"
   },
   {
    "duration": 6,
    "start_time": "2021-10-26T16:02:01.954Z"
   },
   {
    "duration": 8,
    "start_time": "2021-10-26T16:02:19.856Z"
   },
   {
    "duration": 395,
    "start_time": "2021-10-26T16:03:17.061Z"
   },
   {
    "duration": 8,
    "start_time": "2021-10-26T17:28:07.553Z"
   },
   {
    "duration": 9,
    "start_time": "2021-10-26T17:29:29.996Z"
   },
   {
    "duration": 10,
    "start_time": "2021-10-26T17:29:50.942Z"
   },
   {
    "duration": 18,
    "start_time": "2021-10-26T17:30:26.490Z"
   },
   {
    "duration": 368,
    "start_time": "2021-10-26T17:31:08.428Z"
   },
   {
    "duration": 362,
    "start_time": "2021-10-26T17:31:22.479Z"
   },
   {
    "duration": 30,
    "start_time": "2021-10-26T17:33:59.361Z"
   },
   {
    "duration": 28,
    "start_time": "2021-10-26T17:34:04.775Z"
   },
   {
    "duration": 5,
    "start_time": "2021-10-26T17:36:01.569Z"
   },
   {
    "duration": 352,
    "start_time": "2021-10-26T17:37:15.652Z"
   },
   {
    "duration": 377,
    "start_time": "2021-10-26T17:37:46.316Z"
   },
   {
    "duration": 34,
    "start_time": "2021-10-26T17:39:47.653Z"
   },
   {
    "duration": 5,
    "start_time": "2021-10-26T17:41:20.921Z"
   },
   {
    "duration": 22,
    "start_time": "2021-10-26T17:41:29.096Z"
   },
   {
    "duration": 23,
    "start_time": "2021-10-26T17:41:52.600Z"
   },
   {
    "duration": 22,
    "start_time": "2021-10-26T17:42:43.220Z"
   },
   {
    "duration": 23,
    "start_time": "2021-10-26T17:49:42.736Z"
   },
   {
    "duration": 30,
    "start_time": "2021-10-26T17:50:27.354Z"
   },
   {
    "duration": 26,
    "start_time": "2021-10-26T17:50:43.589Z"
   },
   {
    "duration": 22,
    "start_time": "2021-10-26T17:51:22.886Z"
   },
   {
    "duration": 5,
    "start_time": "2021-10-26T17:52:34.641Z"
   },
   {
    "duration": 27,
    "start_time": "2021-10-26T17:52:43.076Z"
   },
   {
    "duration": 24,
    "start_time": "2021-10-26T17:52:55.053Z"
   },
   {
    "duration": 22,
    "start_time": "2021-10-26T17:52:59.450Z"
   },
   {
    "duration": 23,
    "start_time": "2021-10-26T17:53:23.382Z"
   },
   {
    "duration": 25,
    "start_time": "2021-10-26T17:54:15.389Z"
   },
   {
    "duration": 385,
    "start_time": "2021-10-26T18:01:11.208Z"
   },
   {
    "duration": 327,
    "start_time": "2021-10-26T18:02:17.378Z"
   },
   {
    "duration": 63,
    "start_time": "2021-10-26T18:04:52.613Z"
   },
   {
    "duration": 54,
    "start_time": "2021-10-26T18:05:23.886Z"
   },
   {
    "duration": 139,
    "start_time": "2021-10-26T18:06:44.645Z"
   },
   {
    "duration": 72,
    "start_time": "2021-10-26T18:08:20.732Z"
   },
   {
    "duration": 86,
    "start_time": "2021-10-26T18:08:30.015Z"
   },
   {
    "duration": 71,
    "start_time": "2021-10-26T18:08:42.870Z"
   },
   {
    "duration": 49,
    "start_time": "2021-10-26T18:11:45.447Z"
   },
   {
    "duration": 84,
    "start_time": "2021-10-26T18:11:51.838Z"
   },
   {
    "duration": 67,
    "start_time": "2021-10-26T18:12:32.684Z"
   },
   {
    "duration": 57,
    "start_time": "2021-10-26T18:14:53.788Z"
   },
   {
    "duration": 56,
    "start_time": "2021-10-26T18:15:20.173Z"
   },
   {
    "duration": 97,
    "start_time": "2021-10-26T18:17:32.198Z"
   },
   {
    "duration": 98,
    "start_time": "2021-10-26T18:19:20.527Z"
   },
   {
    "duration": 29,
    "start_time": "2021-10-26T18:21:05.989Z"
   },
   {
    "duration": 371,
    "start_time": "2021-10-26T18:22:07.977Z"
   },
   {
    "duration": 603,
    "start_time": "2021-10-26T18:22:47.658Z"
   },
   {
    "duration": 722,
    "start_time": "2021-10-26T18:23:24.504Z"
   },
   {
    "duration": 141,
    "start_time": "2021-10-26T18:23:41.359Z"
   },
   {
    "duration": 126,
    "start_time": "2021-10-26T18:24:16.137Z"
   },
   {
    "duration": 147,
    "start_time": "2021-10-26T18:24:21.494Z"
   },
   {
    "duration": 574,
    "start_time": "2021-10-26T18:24:26.103Z"
   },
   {
    "duration": 9,
    "start_time": "2021-10-26T18:27:05.155Z"
   },
   {
    "duration": 8,
    "start_time": "2021-10-26T18:27:08.502Z"
   },
   {
    "duration": 8,
    "start_time": "2021-10-26T18:27:10.931Z"
   },
   {
    "duration": 11,
    "start_time": "2021-10-26T18:27:13.598Z"
   },
   {
    "duration": 11,
    "start_time": "2021-10-26T18:27:16.907Z"
   },
   {
    "duration": 9,
    "start_time": "2021-10-26T18:27:18.654Z"
   },
   {
    "duration": 10,
    "start_time": "2021-10-26T18:27:21.519Z"
   },
   {
    "duration": 9,
    "start_time": "2021-10-26T18:27:24.623Z"
   },
   {
    "duration": 9,
    "start_time": "2021-10-26T18:27:35.031Z"
   },
   {
    "duration": 7,
    "start_time": "2021-10-26T18:28:08.926Z"
   },
   {
    "duration": 7,
    "start_time": "2021-10-26T18:28:18.337Z"
   },
   {
    "duration": 15,
    "start_time": "2021-10-26T18:28:24.088Z"
   },
   {
    "duration": 9,
    "start_time": "2021-10-26T18:28:35.755Z"
   },
   {
    "duration": 945,
    "start_time": "2021-10-27T09:13:25.401Z"
   },
   {
    "duration": 30,
    "start_time": "2021-10-27T09:13:29.159Z"
   },
   {
    "duration": 190,
    "start_time": "2021-10-27T09:13:31.562Z"
   },
   {
    "duration": 39,
    "start_time": "2021-10-27T09:13:34.325Z"
   },
   {
    "duration": 119,
    "start_time": "2021-10-27T09:13:37.320Z"
   },
   {
    "duration": 18,
    "start_time": "2021-10-27T09:13:39.823Z"
   },
   {
    "duration": 28,
    "start_time": "2021-10-27T09:13:41.953Z"
   },
   {
    "duration": 8,
    "start_time": "2021-10-27T09:13:44.098Z"
   },
   {
    "duration": 76,
    "start_time": "2021-10-27T09:13:46.379Z"
   },
   {
    "duration": 9,
    "start_time": "2021-10-27T09:13:49.017Z"
   },
   {
    "duration": 82,
    "start_time": "2021-10-27T09:13:54.532Z"
   },
   {
    "duration": 66,
    "start_time": "2021-10-27T09:13:58.831Z"
   },
   {
    "duration": 84,
    "start_time": "2021-10-27T09:14:02.295Z"
   },
   {
    "duration": 22,
    "start_time": "2021-10-27T09:14:04.243Z"
   },
   {
    "duration": 6,
    "start_time": "2021-10-27T09:14:09.460Z"
   },
   {
    "duration": 78,
    "start_time": "2021-10-27T09:15:31.235Z"
   },
   {
    "duration": 9,
    "start_time": "2021-10-27T09:15:34.116Z"
   },
   {
    "duration": 46,
    "start_time": "2021-10-27T09:15:37.249Z"
   },
   {
    "duration": 9,
    "start_time": "2021-10-27T09:15:39.051Z"
   },
   {
    "duration": 35,
    "start_time": "2021-10-27T09:15:41.291Z"
   },
   {
    "duration": 8,
    "start_time": "2021-10-27T09:15:43.441Z"
   },
   {
    "duration": 8,
    "start_time": "2021-10-27T09:15:45.573Z"
   },
   {
    "duration": 8,
    "start_time": "2021-10-27T09:15:47.283Z"
   },
   {
    "duration": 27,
    "start_time": "2021-10-27T09:15:51.864Z"
   },
   {
    "duration": 12,
    "start_time": "2021-10-27T09:15:55.361Z"
   },
   {
    "duration": 14,
    "start_time": "2021-10-27T09:15:59.533Z"
   },
   {
    "duration": 7,
    "start_time": "2021-10-27T09:16:02.035Z"
   },
   {
    "duration": 7,
    "start_time": "2021-10-27T09:16:03.700Z"
   },
   {
    "duration": 23,
    "start_time": "2021-10-27T09:16:05.831Z"
   },
   {
    "duration": 17,
    "start_time": "2021-10-27T09:16:09.540Z"
   },
   {
    "duration": 8,
    "start_time": "2021-10-27T09:16:12.594Z"
   },
   {
    "duration": 6,
    "start_time": "2021-10-27T09:16:14.919Z"
   },
   {
    "duration": 6,
    "start_time": "2021-10-27T09:16:17.253Z"
   },
   {
    "duration": 5,
    "start_time": "2021-10-27T09:16:19.948Z"
   },
   {
    "duration": 6,
    "start_time": "2021-10-27T09:16:22.390Z"
   },
   {
    "duration": 6,
    "start_time": "2021-10-27T09:16:24.058Z"
   },
   {
    "duration": 7,
    "start_time": "2021-10-27T09:16:26.133Z"
   },
   {
    "duration": 7,
    "start_time": "2021-10-27T09:16:28.709Z"
   },
   {
    "duration": 744,
    "start_time": "2021-10-27T09:16:32.172Z"
   },
   {
    "duration": 20,
    "start_time": "2021-10-27T09:16:36.355Z"
   },
   {
    "duration": 37,
    "start_time": "2021-10-27T09:16:39.736Z"
   },
   {
    "duration": 685,
    "start_time": "2021-10-27T09:16:44.020Z"
   },
   {
    "duration": 18,
    "start_time": "2021-10-27T09:16:48.540Z"
   },
   {
    "duration": 104,
    "start_time": "2021-10-27T09:17:04.565Z"
   },
   {
    "duration": 90,
    "start_time": "2021-10-27T09:17:29.647Z"
   },
   {
    "duration": 92,
    "start_time": "2021-10-27T09:17:36.536Z"
   },
   {
    "duration": 100,
    "start_time": "2021-10-27T09:18:10.759Z"
   },
   {
    "duration": 91,
    "start_time": "2021-10-27T09:18:40.728Z"
   },
   {
    "duration": 84,
    "start_time": "2021-10-27T09:18:55.309Z"
   },
   {
    "duration": 91,
    "start_time": "2021-10-27T09:19:28.202Z"
   },
   {
    "duration": 65,
    "start_time": "2021-10-27T09:19:49.298Z"
   },
   {
    "duration": 60,
    "start_time": "2021-10-27T09:20:08.448Z"
   },
   {
    "duration": 33,
    "start_time": "2021-10-27T09:20:42.420Z"
   },
   {
    "duration": 18,
    "start_time": "2021-10-27T09:21:00.476Z"
   },
   {
    "duration": 508,
    "start_time": "2021-10-27T09:21:24.244Z"
   },
   {
    "duration": 44,
    "start_time": "2021-10-27T09:21:32.259Z"
   },
   {
    "duration": 45,
    "start_time": "2021-10-27T09:22:02.244Z"
   },
   {
    "duration": 48,
    "start_time": "2021-10-27T09:22:13.764Z"
   },
   {
    "duration": 47,
    "start_time": "2021-10-27T09:22:40.881Z"
   },
   {
    "duration": 72,
    "start_time": "2021-10-27T09:23:01.042Z"
   },
   {
    "duration": 25,
    "start_time": "2021-10-27T09:23:56.524Z"
   },
   {
    "duration": 3262,
    "start_time": "2021-10-27T09:24:15.317Z"
   },
   {
    "duration": 3255,
    "start_time": "2021-10-27T09:24:32.149Z"
   },
   {
    "duration": 18,
    "start_time": "2021-10-27T09:24:35.856Z"
   },
   {
    "duration": 31,
    "start_time": "2021-10-27T09:24:48.987Z"
   },
   {
    "duration": 33,
    "start_time": "2021-10-27T09:26:34.399Z"
   },
   {
    "duration": 56,
    "start_time": "2021-10-27T09:27:00.490Z"
   },
   {
    "duration": 31,
    "start_time": "2021-10-27T09:27:09.790Z"
   },
   {
    "duration": 43,
    "start_time": "2021-10-27T09:27:14.550Z"
   },
   {
    "duration": 56,
    "start_time": "2021-10-27T09:27:41.663Z"
   },
   {
    "duration": 55,
    "start_time": "2021-10-27T09:28:00.736Z"
   },
   {
    "duration": 66,
    "start_time": "2021-10-27T09:28:12.338Z"
   },
   {
    "duration": 74,
    "start_time": "2021-10-27T09:28:29.566Z"
   },
   {
    "duration": 15,
    "start_time": "2021-10-27T09:29:04.625Z"
   },
   {
    "duration": 11,
    "start_time": "2021-10-27T09:29:12.710Z"
   },
   {
    "duration": 25,
    "start_time": "2021-10-27T09:29:29.943Z"
   },
   {
    "duration": 26,
    "start_time": "2021-10-27T09:29:56.340Z"
   },
   {
    "duration": 21,
    "start_time": "2021-10-27T09:30:08.588Z"
   },
   {
    "duration": 24,
    "start_time": "2021-10-27T09:30:13.776Z"
   },
   {
    "duration": 26,
    "start_time": "2021-10-27T09:30:38.213Z"
   },
   {
    "duration": 29,
    "start_time": "2021-10-27T09:30:52.406Z"
   },
   {
    "duration": 34,
    "start_time": "2021-10-27T09:31:17.062Z"
   },
   {
    "duration": 11,
    "start_time": "2021-10-27T09:31:51.136Z"
   },
   {
    "duration": 35,
    "start_time": "2021-10-27T09:32:02.630Z"
   },
   {
    "duration": 60,
    "start_time": "2021-10-27T09:32:05.616Z"
   },
   {
    "duration": 140,
    "start_time": "2021-10-27T09:35:32.085Z"
   },
   {
    "duration": 96,
    "start_time": "2021-10-27T09:35:37.425Z"
   },
   {
    "duration": 92,
    "start_time": "2021-10-27T09:35:42.372Z"
   },
   {
    "duration": 113,
    "start_time": "2021-10-27T09:35:59.352Z"
   },
   {
    "duration": 11252,
    "start_time": "2021-10-27T09:36:11.415Z"
   },
   {
    "duration": 2993,
    "start_time": "2021-10-27T09:37:22.227Z"
   },
   {
    "duration": 3226,
    "start_time": "2021-10-27T09:37:37.767Z"
   },
   {
    "duration": 10944,
    "start_time": "2021-10-27T09:37:45.897Z"
   },
   {
    "duration": 9569,
    "start_time": "2021-10-27T09:38:30.424Z"
   },
   {
    "duration": 5,
    "start_time": "2021-10-27T09:40:00.108Z"
   },
   {
    "duration": 32,
    "start_time": "2021-10-27T09:40:19.858Z"
   },
   {
    "duration": 149,
    "start_time": "2021-10-27T09:40:41.219Z"
   },
   {
    "duration": 142,
    "start_time": "2021-10-27T09:41:32.381Z"
   },
   {
    "duration": 5,
    "start_time": "2021-10-27T09:41:48.190Z"
   },
   {
    "duration": 31,
    "start_time": "2021-10-27T09:41:54.037Z"
   },
   {
    "duration": 232,
    "start_time": "2021-10-27T09:42:17.456Z"
   },
   {
    "duration": 218,
    "start_time": "2021-10-27T09:44:15.546Z"
   },
   {
    "duration": 173,
    "start_time": "2021-10-27T09:46:10.541Z"
   },
   {
    "duration": 212,
    "start_time": "2021-10-27T09:48:26.412Z"
   },
   {
    "duration": 248,
    "start_time": "2021-10-27T09:49:32.523Z"
   },
   {
    "duration": 217,
    "start_time": "2021-10-27T10:40:48.682Z"
   },
   {
    "duration": 216,
    "start_time": "2021-10-27T10:43:40.213Z"
   },
   {
    "duration": 192,
    "start_time": "2021-10-27T10:46:11.003Z"
   },
   {
    "duration": 5,
    "start_time": "2021-10-27T10:51:27.912Z"
   },
   {
    "duration": 35,
    "start_time": "2021-10-27T10:51:32.560Z"
   },
   {
    "duration": 143,
    "start_time": "2021-10-27T10:54:55.976Z"
   },
   {
    "duration": 144,
    "start_time": "2021-10-27T10:55:02.251Z"
   },
   {
    "duration": 8,
    "start_time": "2021-10-27T10:55:14.680Z"
   },
   {
    "duration": 42,
    "start_time": "2021-10-27T10:55:24.593Z"
   },
   {
    "duration": 32,
    "start_time": "2021-10-27T10:55:55.882Z"
   },
   {
    "duration": 14,
    "start_time": "2021-10-27T10:56:50.545Z"
   },
   {
    "duration": 27,
    "start_time": "2021-10-27T10:57:03.836Z"
   },
   {
    "duration": 45,
    "start_time": "2021-10-27T11:18:00.814Z"
   },
   {
    "duration": 46,
    "start_time": "2021-10-27T11:19:16.525Z"
   },
   {
    "duration": 48,
    "start_time": "2021-10-27T11:19:30.492Z"
   },
   {
    "duration": 20,
    "start_time": "2021-10-27T11:19:56.821Z"
   },
   {
    "duration": 388,
    "start_time": "2021-10-27T11:20:49.290Z"
   },
   {
    "duration": 46,
    "start_time": "2021-10-27T11:21:19.548Z"
   },
   {
    "duration": 18,
    "start_time": "2021-10-27T11:21:37.593Z"
   },
   {
    "duration": 18,
    "start_time": "2021-10-27T11:22:12.134Z"
   },
   {
    "duration": 46,
    "start_time": "2021-10-27T11:22:22.833Z"
   },
   {
    "duration": 44,
    "start_time": "2021-10-27T11:22:28.372Z"
   },
   {
    "duration": 45,
    "start_time": "2021-10-27T11:22:34.337Z"
   },
   {
    "duration": 44,
    "start_time": "2021-10-27T11:23:25.104Z"
   },
   {
    "duration": 21,
    "start_time": "2021-10-27T11:23:43.931Z"
   },
   {
    "duration": 45,
    "start_time": "2021-10-27T11:23:52.463Z"
   },
   {
    "duration": 399,
    "start_time": "2021-10-27T11:29:32.817Z"
   },
   {
    "duration": 43,
    "start_time": "2021-10-27T11:29:44.610Z"
   },
   {
    "duration": 18,
    "start_time": "2021-10-27T11:32:34.199Z"
   },
   {
    "duration": 135,
    "start_time": "2021-10-27T11:33:58.347Z"
   },
   {
    "duration": 44,
    "start_time": "2021-10-27T11:34:55.555Z"
   },
   {
    "duration": 5766,
    "start_time": "2021-10-27T11:35:04.078Z"
   },
   {
    "duration": 17,
    "start_time": "2021-10-27T11:35:47.577Z"
   },
   {
    "duration": 19,
    "start_time": "2021-10-27T11:36:09.313Z"
   },
   {
    "duration": 10593,
    "start_time": "2021-10-27T11:36:22.760Z"
   },
   {
    "duration": 20,
    "start_time": "2021-10-27T11:36:37.075Z"
   },
   {
    "duration": 3462,
    "start_time": "2021-10-27T11:36:53.799Z"
   },
   {
    "duration": 9648,
    "start_time": "2021-10-27T11:37:11.940Z"
   },
   {
    "duration": 12,
    "start_time": "2021-10-27T11:37:23.686Z"
   },
   {
    "duration": 3460,
    "start_time": "2021-10-27T11:37:35.676Z"
   },
   {
    "duration": 43,
    "start_time": "2021-10-27T11:38:13.714Z"
   },
   {
    "duration": 13,
    "start_time": "2021-10-27T11:39:08.850Z"
   },
   {
    "duration": 9707,
    "start_time": "2021-10-27T11:39:16.253Z"
   },
   {
    "duration": 2208,
    "start_time": "2021-10-27T11:39:40.675Z"
   },
   {
    "duration": 414,
    "start_time": "2021-10-27T11:39:53.811Z"
   },
   {
    "duration": 12,
    "start_time": "2021-10-27T11:40:37.275Z"
   },
   {
    "duration": 12,
    "start_time": "2021-10-27T11:41:15.211Z"
   },
   {
    "duration": 14,
    "start_time": "2021-10-27T11:41:24.862Z"
   },
   {
    "duration": 43,
    "start_time": "2021-10-27T11:41:35.994Z"
   },
   {
    "duration": 2656,
    "start_time": "2021-10-27T11:41:51.944Z"
   },
   {
    "duration": 13,
    "start_time": "2021-10-27T11:42:05.279Z"
   },
   {
    "duration": 411,
    "start_time": "2021-10-27T11:42:44.917Z"
   },
   {
    "duration": 398,
    "start_time": "2021-10-27T11:43:52.815Z"
   },
   {
    "duration": 14,
    "start_time": "2021-10-27T11:44:02.687Z"
   },
   {
    "duration": 400,
    "start_time": "2021-10-27T11:44:19.081Z"
   },
   {
    "duration": 13,
    "start_time": "2021-10-27T11:44:35.963Z"
   },
   {
    "duration": 2273,
    "start_time": "2021-10-27T11:46:15.811Z"
   },
   {
    "duration": 14,
    "start_time": "2021-10-27T11:46:44.641Z"
   },
   {
    "duration": 81,
    "start_time": "2021-10-27T11:49:35.351Z"
   },
   {
    "duration": 81,
    "start_time": "2021-10-27T11:50:38.835Z"
   },
   {
    "duration": 74,
    "start_time": "2021-10-27T11:53:18.308Z"
   },
   {
    "duration": 81,
    "start_time": "2021-10-27T11:53:52.901Z"
   },
   {
    "duration": 76,
    "start_time": "2021-10-27T11:54:02.637Z"
   },
   {
    "duration": 80,
    "start_time": "2021-10-27T11:55:00.366Z"
   },
   {
    "duration": 76,
    "start_time": "2021-10-27T11:55:25.930Z"
   },
   {
    "duration": 9,
    "start_time": "2021-10-27T11:55:40.016Z"
   },
   {
    "duration": 43,
    "start_time": "2021-10-27T11:55:58.833Z"
   },
   {
    "duration": 130,
    "start_time": "2021-10-27T11:57:00.694Z"
   },
   {
    "duration": 1881,
    "start_time": "2021-10-27T11:57:04.907Z"
   },
   {
    "duration": 58,
    "start_time": "2021-10-27T11:57:17.665Z"
   },
   {
    "duration": 43,
    "start_time": "2021-10-27T11:58:09.191Z"
   },
   {
    "duration": 68,
    "start_time": "2021-10-27T11:58:28.749Z"
   },
   {
    "duration": 44,
    "start_time": "2021-10-27T11:59:05.134Z"
   },
   {
    "duration": 64,
    "start_time": "2021-10-27T11:59:22.700Z"
   },
   {
    "duration": 10,
    "start_time": "2021-10-27T11:59:41.872Z"
   },
   {
    "duration": 44,
    "start_time": "2021-10-27T11:59:54.607Z"
   },
   {
    "duration": 64,
    "start_time": "2021-10-27T12:00:38.332Z"
   },
   {
    "duration": 44,
    "start_time": "2021-10-27T12:00:52.341Z"
   },
   {
    "duration": 16,
    "start_time": "2021-10-27T12:01:35.708Z"
   },
   {
    "duration": 44,
    "start_time": "2021-10-27T12:01:59.466Z"
   },
   {
    "duration": 65,
    "start_time": "2021-10-27T12:02:20.598Z"
   },
   {
    "duration": 67,
    "start_time": "2021-10-27T12:02:32.197Z"
   },
   {
    "duration": 13,
    "start_time": "2021-10-27T12:02:55.878Z"
   },
   {
    "duration": 44,
    "start_time": "2021-10-27T12:03:54.875Z"
   },
   {
    "duration": 16,
    "start_time": "2021-10-27T12:04:09.626Z"
   },
   {
    "duration": 44,
    "start_time": "2021-10-27T12:04:18.209Z"
   },
   {
    "duration": 19,
    "start_time": "2021-10-27T12:04:54.498Z"
   },
   {
    "duration": 45,
    "start_time": "2021-10-27T12:04:59.063Z"
   },
   {
    "duration": 46,
    "start_time": "2021-10-27T12:05:10.855Z"
   },
   {
    "duration": 50,
    "start_time": "2021-10-27T12:05:33.431Z"
   },
   {
    "duration": 14,
    "start_time": "2021-10-27T12:40:03.552Z"
   },
   {
    "duration": 44,
    "start_time": "2021-10-27T12:40:09.141Z"
   },
   {
    "duration": 17,
    "start_time": "2021-10-27T12:40:45.360Z"
   },
   {
    "duration": 46,
    "start_time": "2021-10-27T12:41:13.786Z"
   },
   {
    "duration": 24,
    "start_time": "2021-10-27T12:49:25.936Z"
   },
   {
    "duration": 48,
    "start_time": "2021-10-27T12:51:02.555Z"
   },
   {
    "duration": 18,
    "start_time": "2021-10-27T12:58:37.621Z"
   },
   {
    "duration": 14,
    "start_time": "2021-10-27T12:58:53.310Z"
   },
   {
    "duration": 45,
    "start_time": "2021-10-27T12:59:10.311Z"
   },
   {
    "duration": 46,
    "start_time": "2021-10-27T13:03:14.648Z"
   },
   {
    "duration": 44,
    "start_time": "2021-10-27T13:07:29.632Z"
   },
   {
    "duration": 45,
    "start_time": "2021-10-27T13:09:14.011Z"
   },
   {
    "duration": 89,
    "start_time": "2021-10-27T13:10:28.467Z"
   },
   {
    "duration": 68,
    "start_time": "2021-10-27T13:12:25.000Z"
   },
   {
    "duration": 36,
    "start_time": "2021-10-27T13:13:39.090Z"
   },
   {
    "duration": 35,
    "start_time": "2021-10-27T13:13:50.344Z"
   },
   {
    "duration": 34,
    "start_time": "2021-10-27T13:14:05.091Z"
   },
   {
    "duration": 35,
    "start_time": "2021-10-27T13:14:13.785Z"
   },
   {
    "duration": 35,
    "start_time": "2021-10-27T13:14:33.863Z"
   },
   {
    "duration": 35,
    "start_time": "2021-10-27T13:14:38.403Z"
   },
   {
    "duration": 37,
    "start_time": "2021-10-27T13:14:42.447Z"
   },
   {
    "duration": 51,
    "start_time": "2021-10-27T13:14:48.608Z"
   },
   {
    "duration": 36,
    "start_time": "2021-10-27T13:14:52.120Z"
   },
   {
    "duration": 36,
    "start_time": "2021-10-27T13:14:55.558Z"
   },
   {
    "duration": 48,
    "start_time": "2021-10-27T13:14:58.890Z"
   },
   {
    "duration": 35,
    "start_time": "2021-10-27T13:15:02.872Z"
   },
   {
    "duration": 35,
    "start_time": "2021-10-27T13:15:07.630Z"
   },
   {
    "duration": 34,
    "start_time": "2021-10-27T13:15:11.679Z"
   },
   {
    "duration": 68,
    "start_time": "2021-10-27T13:16:07.195Z"
   },
   {
    "duration": 155,
    "start_time": "2021-10-27T13:16:27.538Z"
   },
   {
    "duration": 107,
    "start_time": "2021-10-27T13:17:08.012Z"
   },
   {
    "duration": 44,
    "start_time": "2021-10-27T13:25:12.518Z"
   },
   {
    "duration": 47,
    "start_time": "2021-10-27T14:11:31.887Z"
   },
   {
    "duration": 44,
    "start_time": "2021-10-27T14:11:54.706Z"
   },
   {
    "duration": 13,
    "start_time": "2021-10-27T14:19:03.133Z"
   },
   {
    "duration": 14,
    "start_time": "2021-10-27T14:19:20.418Z"
   },
   {
    "duration": 33,
    "start_time": "2021-10-27T14:19:44.299Z"
   },
   {
    "duration": 207,
    "start_time": "2021-10-27T14:28:20.312Z"
   },
   {
    "duration": 444,
    "start_time": "2021-10-27T14:28:31.241Z"
   },
   {
    "duration": 405,
    "start_time": "2021-10-27T14:28:53.854Z"
   },
   {
    "duration": 11,
    "start_time": "2021-10-27T14:29:19.816Z"
   },
   {
    "duration": 35,
    "start_time": "2021-10-27T14:29:32.239Z"
   },
   {
    "duration": 367,
    "start_time": "2021-10-27T16:18:02.768Z"
   },
   {
    "duration": 292,
    "start_time": "2021-10-27T16:18:08.961Z"
   },
   {
    "duration": 1078,
    "start_time": "2021-10-27T16:18:14.855Z"
   },
   {
    "duration": 41,
    "start_time": "2021-10-27T16:18:15.935Z"
   },
   {
    "duration": 200,
    "start_time": "2021-10-27T16:18:15.979Z"
   },
   {
    "duration": 23,
    "start_time": "2021-10-27T16:18:16.182Z"
   },
   {
    "duration": 139,
    "start_time": "2021-10-27T16:18:16.208Z"
   },
   {
    "duration": 28,
    "start_time": "2021-10-27T16:18:16.350Z"
   },
   {
    "duration": 25,
    "start_time": "2021-10-27T16:18:16.381Z"
   },
   {
    "duration": 9,
    "start_time": "2021-10-27T16:18:16.409Z"
   },
   {
    "duration": 74,
    "start_time": "2021-10-27T16:18:16.421Z"
   },
   {
    "duration": 11,
    "start_time": "2021-10-27T16:18:16.498Z"
   },
   {
    "duration": 104,
    "start_time": "2021-10-27T16:18:16.512Z"
   },
   {
    "duration": 74,
    "start_time": "2021-10-27T16:18:16.618Z"
   },
   {
    "duration": 49,
    "start_time": "2021-10-27T16:18:16.694Z"
   },
   {
    "duration": 32,
    "start_time": "2021-10-27T16:18:16.745Z"
   },
   {
    "duration": 11,
    "start_time": "2021-10-27T16:18:16.779Z"
   },
   {
    "duration": 104,
    "start_time": "2021-10-27T16:18:16.793Z"
   },
   {
    "duration": 8,
    "start_time": "2021-10-27T16:18:16.900Z"
   },
   {
    "duration": 69,
    "start_time": "2021-10-27T16:18:16.910Z"
   },
   {
    "duration": 9,
    "start_time": "2021-10-27T16:18:16.982Z"
   },
   {
    "duration": 38,
    "start_time": "2021-10-27T16:18:16.993Z"
   },
   {
    "duration": 36,
    "start_time": "2021-10-27T16:18:17.033Z"
   },
   {
    "duration": 10,
    "start_time": "2021-10-27T16:18:17.071Z"
   },
   {
    "duration": 7,
    "start_time": "2021-10-27T16:18:17.087Z"
   },
   {
    "duration": 31,
    "start_time": "2021-10-27T16:18:17.098Z"
   },
   {
    "duration": 12,
    "start_time": "2021-10-27T16:18:17.167Z"
   },
   {
    "duration": 15,
    "start_time": "2021-10-27T16:18:17.181Z"
   },
   {
    "duration": 6,
    "start_time": "2021-10-27T16:18:17.198Z"
   },
   {
    "duration": 6,
    "start_time": "2021-10-27T16:18:17.207Z"
   },
   {
    "duration": 66,
    "start_time": "2021-10-27T16:18:17.215Z"
   },
   {
    "duration": 16,
    "start_time": "2021-10-27T16:18:17.284Z"
   },
   {
    "duration": 8,
    "start_time": "2021-10-27T16:18:17.302Z"
   },
   {
    "duration": 10,
    "start_time": "2021-10-27T16:18:17.312Z"
   },
   {
    "duration": 45,
    "start_time": "2021-10-27T16:18:17.324Z"
   },
   {
    "duration": 6,
    "start_time": "2021-10-27T16:18:17.371Z"
   },
   {
    "duration": 14,
    "start_time": "2021-10-27T16:18:17.380Z"
   },
   {
    "duration": 18,
    "start_time": "2021-10-27T16:18:17.397Z"
   },
   {
    "duration": 11,
    "start_time": "2021-10-27T16:18:17.418Z"
   },
   {
    "duration": 36,
    "start_time": "2021-10-27T16:18:17.432Z"
   },
   {
    "duration": 801,
    "start_time": "2021-10-27T16:18:17.471Z"
   },
   {
    "duration": 19,
    "start_time": "2021-10-27T16:18:18.274Z"
   },
   {
    "duration": 35,
    "start_time": "2021-10-27T16:18:18.296Z"
   },
   {
    "duration": 806,
    "start_time": "2021-10-27T16:18:18.333Z"
   },
   {
    "duration": 31,
    "start_time": "2021-10-27T16:18:19.142Z"
   },
   {
    "duration": 47,
    "start_time": "2021-10-27T16:18:19.175Z"
   },
   {
    "duration": 94,
    "start_time": "2021-10-27T16:18:19.225Z"
   },
   {
    "duration": 415,
    "start_time": "2021-10-27T16:18:19.321Z"
   },
   {
    "duration": 4551,
    "start_time": "2021-10-27T16:18:15.187Z"
   },
   {
    "duration": 4550,
    "start_time": "2021-10-27T16:18:15.190Z"
   },
   {
    "duration": 4549,
    "start_time": "2021-10-27T16:18:15.192Z"
   },
   {
    "duration": 4532,
    "start_time": "2021-10-27T16:18:15.210Z"
   },
   {
    "duration": 4521,
    "start_time": "2021-10-27T16:18:15.222Z"
   },
   {
    "duration": 4518,
    "start_time": "2021-10-27T16:18:15.227Z"
   },
   {
    "duration": 4516,
    "start_time": "2021-10-27T16:18:15.230Z"
   },
   {
    "duration": 4515,
    "start_time": "2021-10-27T16:18:15.232Z"
   },
   {
    "duration": 4514,
    "start_time": "2021-10-27T16:18:15.235Z"
   },
   {
    "duration": 4512,
    "start_time": "2021-10-27T16:18:15.238Z"
   },
   {
    "duration": 4511,
    "start_time": "2021-10-27T16:18:15.240Z"
   },
   {
    "duration": 1077,
    "start_time": "2021-10-27T16:18:34.357Z"
   },
   {
    "duration": 43,
    "start_time": "2021-10-27T16:18:35.438Z"
   },
   {
    "duration": 199,
    "start_time": "2021-10-27T16:18:35.484Z"
   },
   {
    "duration": 23,
    "start_time": "2021-10-27T16:18:35.686Z"
   },
   {
    "duration": 145,
    "start_time": "2021-10-27T16:18:35.712Z"
   },
   {
    "duration": 24,
    "start_time": "2021-10-27T16:18:35.860Z"
   },
   {
    "duration": 30,
    "start_time": "2021-10-27T16:18:35.886Z"
   },
   {
    "duration": 9,
    "start_time": "2021-10-27T16:18:35.920Z"
   },
   {
    "duration": 62,
    "start_time": "2021-10-27T16:18:35.932Z"
   },
   {
    "duration": 9,
    "start_time": "2021-10-27T16:18:35.996Z"
   },
   {
    "duration": 106,
    "start_time": "2021-10-27T16:18:36.007Z"
   },
   {
    "duration": 79,
    "start_time": "2021-10-27T16:18:36.116Z"
   },
   {
    "duration": 51,
    "start_time": "2021-10-27T16:18:36.198Z"
   },
   {
    "duration": 15,
    "start_time": "2021-10-27T16:18:36.267Z"
   },
   {
    "duration": 7,
    "start_time": "2021-10-27T16:18:36.284Z"
   },
   {
    "duration": 116,
    "start_time": "2021-10-27T16:18:36.293Z"
   },
   {
    "duration": 8,
    "start_time": "2021-10-27T16:18:36.412Z"
   },
   {
    "duration": 76,
    "start_time": "2021-10-27T16:18:36.423Z"
   },
   {
    "duration": 9,
    "start_time": "2021-10-27T16:18:36.501Z"
   },
   {
    "duration": 60,
    "start_time": "2021-10-27T16:18:36.512Z"
   },
   {
    "duration": 8,
    "start_time": "2021-10-27T16:18:36.574Z"
   },
   {
    "duration": 9,
    "start_time": "2021-10-27T16:18:36.584Z"
   },
   {
    "duration": 8,
    "start_time": "2021-10-27T16:18:36.598Z"
   },
   {
    "duration": 67,
    "start_time": "2021-10-27T16:18:36.609Z"
   },
   {
    "duration": 10,
    "start_time": "2021-10-27T16:18:36.679Z"
   },
   {
    "duration": 13,
    "start_time": "2021-10-27T16:18:36.691Z"
   },
   {
    "duration": 6,
    "start_time": "2021-10-27T16:18:36.706Z"
   },
   {
    "duration": 6,
    "start_time": "2021-10-27T16:18:36.714Z"
   },
   {
    "duration": 66,
    "start_time": "2021-10-27T16:18:36.722Z"
   },
   {
    "duration": 16,
    "start_time": "2021-10-27T16:18:36.790Z"
   },
   {
    "duration": 8,
    "start_time": "2021-10-27T16:18:36.808Z"
   },
   {
    "duration": 7,
    "start_time": "2021-10-27T16:18:36.818Z"
   },
   {
    "duration": 6,
    "start_time": "2021-10-27T16:18:36.868Z"
   },
   {
    "duration": 6,
    "start_time": "2021-10-27T16:18:36.876Z"
   },
   {
    "duration": 5,
    "start_time": "2021-10-27T16:18:36.885Z"
   },
   {
    "duration": 8,
    "start_time": "2021-10-27T16:18:36.892Z"
   },
   {
    "duration": 7,
    "start_time": "2021-10-27T16:18:36.902Z"
   },
   {
    "duration": 57,
    "start_time": "2021-10-27T16:18:36.912Z"
   },
   {
    "duration": 759,
    "start_time": "2021-10-27T16:18:36.971Z"
   },
   {
    "duration": 19,
    "start_time": "2021-10-27T16:18:37.732Z"
   },
   {
    "duration": 50,
    "start_time": "2021-10-27T16:18:37.753Z"
   },
   {
    "duration": 728,
    "start_time": "2021-10-27T16:18:37.805Z"
   },
   {
    "duration": 33,
    "start_time": "2021-10-27T16:18:38.536Z"
   },
   {
    "duration": 46,
    "start_time": "2021-10-27T16:18:38.572Z"
   },
   {
    "duration": 87,
    "start_time": "2021-10-27T16:18:38.620Z"
   },
   {
    "duration": 450,
    "start_time": "2021-10-27T16:18:38.710Z"
   },
   {
    "duration": 4544,
    "start_time": "2021-10-27T16:18:34.619Z"
   },
   {
    "duration": 4539,
    "start_time": "2021-10-27T16:18:34.625Z"
   },
   {
    "duration": 4534,
    "start_time": "2021-10-27T16:18:34.631Z"
   },
   {
    "duration": 4526,
    "start_time": "2021-10-27T16:18:34.641Z"
   },
   {
    "duration": 4524,
    "start_time": "2021-10-27T16:18:34.645Z"
   },
   {
    "duration": 4517,
    "start_time": "2021-10-27T16:18:34.653Z"
   },
   {
    "duration": 4516,
    "start_time": "2021-10-27T16:18:34.656Z"
   },
   {
    "duration": 4515,
    "start_time": "2021-10-27T16:18:34.658Z"
   },
   {
    "duration": 4514,
    "start_time": "2021-10-27T16:18:34.661Z"
   },
   {
    "duration": 4513,
    "start_time": "2021-10-27T16:18:34.663Z"
   },
   {
    "duration": 4512,
    "start_time": "2021-10-27T16:18:34.666Z"
   },
   {
    "duration": 342,
    "start_time": "2021-10-27T16:18:57.151Z"
   },
   {
    "duration": 67,
    "start_time": "2021-10-27T16:19:42.105Z"
   },
   {
    "duration": 72,
    "start_time": "2021-10-27T16:19:47.219Z"
   },
   {
    "duration": 100,
    "start_time": "2021-10-27T16:19:52.167Z"
   },
   {
    "duration": 15,
    "start_time": "2021-10-27T16:19:58.779Z"
   },
   {
    "duration": 38,
    "start_time": "2021-10-27T16:20:03.094Z"
   },
   {
    "duration": 13,
    "start_time": "2021-10-27T16:21:06.345Z"
   },
   {
    "duration": 312,
    "start_time": "2021-10-27T16:23:08.189Z"
   },
   {
    "duration": 114,
    "start_time": "2021-10-27T16:23:14.602Z"
   },
   {
    "duration": 359,
    "start_time": "2021-10-27T16:23:46.737Z"
   },
   {
    "duration": 12,
    "start_time": "2021-10-27T16:24:08.376Z"
   },
   {
    "duration": 5791,
    "start_time": "2021-10-27T16:24:16.136Z"
   },
   {
    "duration": 5786,
    "start_time": "2021-10-27T16:25:26.006Z"
   },
   {
    "duration": 884,
    "start_time": "2021-10-27T16:26:29.625Z"
   },
   {
    "duration": 101,
    "start_time": "2021-10-27T16:27:16.388Z"
   },
   {
    "duration": 312,
    "start_time": "2021-10-27T16:27:25.011Z"
   },
   {
    "duration": 1353,
    "start_time": "2021-10-27T16:28:25.345Z"
   },
   {
    "duration": 364,
    "start_time": "2021-10-27T16:29:07.112Z"
   },
   {
    "duration": 911,
    "start_time": "2021-10-27T16:29:21.560Z"
   },
   {
    "duration": 35,
    "start_time": "2021-10-27T16:29:52.456Z"
   },
   {
    "duration": 14,
    "start_time": "2021-10-27T16:31:31.823Z"
   },
   {
    "duration": 36,
    "start_time": "2021-10-27T16:31:39.384Z"
   },
   {
    "duration": 15,
    "start_time": "2021-10-27T16:33:17.154Z"
   },
   {
    "duration": 35,
    "start_time": "2021-10-27T16:38:28.081Z"
   },
   {
    "duration": 37,
    "start_time": "2021-10-27T16:39:42.443Z"
   },
   {
    "duration": 14,
    "start_time": "2021-10-27T16:40:31.003Z"
   },
   {
    "duration": 405,
    "start_time": "2021-10-27T16:41:49.171Z"
   },
   {
    "duration": 314,
    "start_time": "2021-10-27T16:42:17.542Z"
   },
   {
    "duration": 112,
    "start_time": "2021-10-27T16:42:28.111Z"
   },
   {
    "duration": 16,
    "start_time": "2021-10-27T16:42:31.713Z"
   },
   {
    "duration": 37,
    "start_time": "2021-10-27T16:42:39.305Z"
   },
   {
    "duration": 307,
    "start_time": "2021-10-27T16:43:44.233Z"
   },
   {
    "duration": 356,
    "start_time": "2021-10-27T16:44:11.366Z"
   },
   {
    "duration": 325,
    "start_time": "2021-10-27T16:44:23.365Z"
   },
   {
    "duration": 106,
    "start_time": "2021-10-27T16:44:28.864Z"
   },
   {
    "duration": 37,
    "start_time": "2021-10-27T16:44:36.195Z"
   },
   {
    "duration": 12,
    "start_time": "2021-10-27T16:46:48.020Z"
   },
   {
    "duration": 36,
    "start_time": "2021-10-27T16:51:11.766Z"
   },
   {
    "duration": 325,
    "start_time": "2021-10-27T16:51:44.824Z"
   },
   {
    "duration": 37,
    "start_time": "2021-10-27T16:52:12.836Z"
   },
   {
    "duration": 37,
    "start_time": "2021-10-27T16:52:23.621Z"
   },
   {
    "duration": 17,
    "start_time": "2021-10-27T16:52:31.842Z"
   },
   {
    "duration": 51,
    "start_time": "2021-10-27T16:52:50.339Z"
   },
   {
    "duration": 11,
    "start_time": "2021-10-27T16:54:39.853Z"
   },
   {
    "duration": 11,
    "start_time": "2021-10-27T16:55:13.680Z"
   },
   {
    "duration": 12,
    "start_time": "2021-10-27T16:55:50.908Z"
   },
   {
    "duration": 37,
    "start_time": "2021-10-27T16:55:57.678Z"
   },
   {
    "duration": 5,
    "start_time": "2021-10-27T16:56:29.170Z"
   },
   {
    "duration": 320,
    "start_time": "2021-10-27T16:57:55.536Z"
   },
   {
    "duration": 5,
    "start_time": "2021-10-27T16:58:01.866Z"
   },
   {
    "duration": 301,
    "start_time": "2021-10-27T16:58:03.578Z"
   },
   {
    "duration": 43,
    "start_time": "2021-10-27T16:58:12.713Z"
   },
   {
    "duration": 325,
    "start_time": "2021-10-27T17:00:11.170Z"
   },
   {
    "duration": 310,
    "start_time": "2021-10-27T17:00:17.477Z"
   },
   {
    "duration": 7204,
    "start_time": "2021-10-27T17:00:23.607Z"
   },
   {
    "duration": 45,
    "start_time": "2021-10-27T17:00:36.510Z"
   },
   {
    "duration": 64,
    "start_time": "2021-10-27T17:01:53.964Z"
   },
   {
    "duration": 34,
    "start_time": "2021-10-27T17:08:28.233Z"
   },
   {
    "duration": 324,
    "start_time": "2021-10-27T17:33:28.936Z"
   },
   {
    "duration": 26,
    "start_time": "2021-10-27T17:33:59.830Z"
   },
   {
    "duration": 48,
    "start_time": "2021-10-27T17:37:36.428Z"
   },
   {
    "duration": 61,
    "start_time": "2021-10-27T17:39:10.000Z"
   },
   {
    "duration": 55,
    "start_time": "2021-10-27T17:39:32.797Z"
   },
   {
    "duration": 66,
    "start_time": "2021-10-27T17:40:49.728Z"
   },
   {
    "duration": 34,
    "start_time": "2021-10-27T17:43:08.061Z"
   },
   {
    "duration": 52,
    "start_time": "2021-10-27T17:43:58.106Z"
   },
   {
    "duration": 53,
    "start_time": "2021-10-27T17:44:12.012Z"
   },
   {
    "duration": 46,
    "start_time": "2021-10-27T17:46:13.592Z"
   },
   {
    "duration": 48,
    "start_time": "2021-10-27T17:46:26.717Z"
   },
   {
    "duration": 55,
    "start_time": "2021-10-27T17:47:07.641Z"
   },
   {
    "duration": 43,
    "start_time": "2021-10-27T17:47:19.860Z"
   },
   {
    "duration": 56,
    "start_time": "2021-10-27T17:47:37.352Z"
   },
   {
    "duration": 41,
    "start_time": "2021-10-27T17:48:21.565Z"
   },
   {
    "duration": 55,
    "start_time": "2021-10-27T17:48:26.803Z"
   },
   {
    "duration": 50,
    "start_time": "2021-10-27T17:48:44.272Z"
   },
   {
    "duration": 31,
    "start_time": "2021-10-27T17:49:02.304Z"
   },
   {
    "duration": 33,
    "start_time": "2021-10-27T17:50:01.148Z"
   },
   {
    "duration": 22,
    "start_time": "2021-10-27T17:52:28.515Z"
   },
   {
    "duration": 35,
    "start_time": "2021-10-27T17:53:38.957Z"
   },
   {
    "duration": 11,
    "start_time": "2021-10-27T17:55:10.625Z"
   },
   {
    "duration": 13,
    "start_time": "2021-10-27T17:55:51.333Z"
   },
   {
    "duration": 145,
    "start_time": "2021-10-27T17:58:31.581Z"
   },
   {
    "duration": 99,
    "start_time": "2021-10-27T17:58:37.660Z"
   },
   {
    "duration": 43,
    "start_time": "2021-10-27T17:59:35.345Z"
   },
   {
    "duration": 33,
    "start_time": "2021-10-27T17:59:46.014Z"
   },
   {
    "duration": 17,
    "start_time": "2021-10-27T17:59:51.671Z"
   },
   {
    "duration": 18,
    "start_time": "2021-10-27T17:59:57.845Z"
   },
   {
    "duration": 11,
    "start_time": "2021-10-27T18:01:08.171Z"
   },
   {
    "duration": 12,
    "start_time": "2021-10-27T18:01:47.601Z"
   },
   {
    "duration": 25,
    "start_time": "2021-10-27T18:03:15.201Z"
   },
   {
    "duration": 8,
    "start_time": "2021-10-27T18:03:25.441Z"
   },
   {
    "duration": 26,
    "start_time": "2021-10-27T18:03:30.034Z"
   },
   {
    "duration": 48,
    "start_time": "2021-10-27T18:07:29.880Z"
   },
   {
    "duration": 23,
    "start_time": "2021-10-27T18:08:01.055Z"
   },
   {
    "duration": 4688,
    "start_time": "2021-10-27T18:08:58.945Z"
   },
   {
    "duration": 15,
    "start_time": "2021-10-27T18:09:48.305Z"
   },
   {
    "duration": 47,
    "start_time": "2021-10-27T18:10:01.317Z"
   },
   {
    "duration": 16,
    "start_time": "2021-10-27T18:10:12.698Z"
   },
   {
    "duration": 286,
    "start_time": "2021-10-27T18:10:29.189Z"
   },
   {
    "duration": 12,
    "start_time": "2021-10-27T18:10:35.807Z"
   },
   {
    "duration": 11,
    "start_time": "2021-10-27T18:11:14.734Z"
   },
   {
    "duration": 15,
    "start_time": "2021-10-27T18:11:19.960Z"
   },
   {
    "duration": 57,
    "start_time": "2021-10-27T18:11:39.913Z"
   },
   {
    "duration": 59,
    "start_time": "2021-10-27T18:11:58.584Z"
   },
   {
    "duration": 54,
    "start_time": "2021-10-27T18:12:04.073Z"
   },
   {
    "duration": 308,
    "start_time": "2021-10-27T18:12:11.162Z"
   },
   {
    "duration": 31,
    "start_time": "2021-10-27T18:12:20.044Z"
   },
   {
    "duration": 51,
    "start_time": "2021-10-27T18:12:33.427Z"
   },
   {
    "duration": 53,
    "start_time": "2021-10-27T18:12:40.925Z"
   },
   {
    "duration": 55,
    "start_time": "2021-10-27T18:12:44.554Z"
   },
   {
    "duration": 57,
    "start_time": "2021-10-27T18:12:47.536Z"
   },
   {
    "duration": 67,
    "start_time": "2021-10-27T18:12:50.510Z"
   },
   {
    "duration": 31,
    "start_time": "2021-10-27T18:12:54.212Z"
   },
   {
    "duration": 73,
    "start_time": "2021-10-27T18:13:25.016Z"
   },
   {
    "duration": 34,
    "start_time": "2021-10-27T18:13:35.859Z"
   },
   {
    "duration": 15,
    "start_time": "2021-10-27T18:13:44.839Z"
   },
   {
    "duration": 35,
    "start_time": "2021-10-27T18:13:48.452Z"
   },
   {
    "duration": 11,
    "start_time": "2021-10-27T18:14:12.692Z"
   },
   {
    "duration": 11,
    "start_time": "2021-10-27T18:14:14.797Z"
   },
   {
    "duration": 11,
    "start_time": "2021-10-27T18:14:18.780Z"
   },
   {
    "duration": 12,
    "start_time": "2021-10-27T18:14:23.360Z"
   },
   {
    "duration": 10,
    "start_time": "2021-10-27T18:15:37.803Z"
   },
   {
    "duration": 375,
    "start_time": "2021-10-27T18:16:43.052Z"
   },
   {
    "duration": 71,
    "start_time": "2021-10-27T18:16:54.037Z"
   },
   {
    "duration": 32,
    "start_time": "2021-10-27T18:16:57.878Z"
   },
   {
    "duration": 45,
    "start_time": "2021-10-27T18:17:13.792Z"
   },
   {
    "duration": 52,
    "start_time": "2021-10-27T18:17:18.896Z"
   },
   {
    "duration": 56,
    "start_time": "2021-10-27T18:17:22.314Z"
   },
   {
    "duration": 54,
    "start_time": "2021-10-27T18:17:26.264Z"
   },
   {
    "duration": 59,
    "start_time": "2021-10-27T18:17:29.174Z"
   },
   {
    "duration": 71,
    "start_time": "2021-10-27T18:17:31.913Z"
   },
   {
    "duration": 32,
    "start_time": "2021-10-27T18:17:36.124Z"
   },
   {
    "duration": 35,
    "start_time": "2021-10-27T18:17:42.740Z"
   },
   {
    "duration": 38,
    "start_time": "2021-10-27T18:17:54.174Z"
   },
   {
    "duration": 29,
    "start_time": "2021-10-27T18:18:46.987Z"
   },
   {
    "duration": 1027,
    "start_time": "2021-10-27T18:19:44.243Z"
   },
   {
    "duration": 30,
    "start_time": "2021-10-27T18:19:45.274Z"
   },
   {
    "duration": 210,
    "start_time": "2021-10-27T18:19:45.307Z"
   },
   {
    "duration": 23,
    "start_time": "2021-10-27T18:19:45.520Z"
   },
   {
    "duration": 143,
    "start_time": "2021-10-27T18:19:45.545Z"
   },
   {
    "duration": 19,
    "start_time": "2021-10-27T18:19:45.690Z"
   },
   {
    "duration": 24,
    "start_time": "2021-10-27T18:19:45.712Z"
   },
   {
    "duration": 31,
    "start_time": "2021-10-27T18:19:45.740Z"
   },
   {
    "duration": 46,
    "start_time": "2021-10-27T18:19:45.775Z"
   },
   {
    "duration": 9,
    "start_time": "2021-10-27T18:19:45.823Z"
   },
   {
    "duration": 103,
    "start_time": "2021-10-27T18:19:45.834Z"
   },
   {
    "duration": 71,
    "start_time": "2021-10-27T18:19:45.940Z"
   },
   {
    "duration": 68,
    "start_time": "2021-10-27T18:19:46.014Z"
   },
   {
    "duration": 14,
    "start_time": "2021-10-27T18:19:46.084Z"
   },
   {
    "duration": 10,
    "start_time": "2021-10-27T18:19:46.101Z"
   },
   {
    "duration": 104,
    "start_time": "2021-10-27T18:19:46.113Z"
   },
   {
    "duration": 9,
    "start_time": "2021-10-27T18:19:46.219Z"
   },
   {
    "duration": 70,
    "start_time": "2021-10-27T18:19:46.231Z"
   },
   {
    "duration": 8,
    "start_time": "2021-10-27T18:19:46.304Z"
   },
   {
    "duration": 53,
    "start_time": "2021-10-27T18:19:46.315Z"
   },
   {
    "duration": 8,
    "start_time": "2021-10-27T18:19:46.371Z"
   },
   {
    "duration": 13,
    "start_time": "2021-10-27T18:19:46.381Z"
   },
   {
    "duration": 9,
    "start_time": "2021-10-27T18:19:46.402Z"
   },
   {
    "duration": 70,
    "start_time": "2021-10-27T18:19:46.416Z"
   },
   {
    "duration": 13,
    "start_time": "2021-10-27T18:19:46.489Z"
   },
   {
    "duration": 15,
    "start_time": "2021-10-27T18:19:46.504Z"
   },
   {
    "duration": 46,
    "start_time": "2021-10-27T18:19:46.522Z"
   },
   {
    "duration": 7,
    "start_time": "2021-10-27T18:19:46.570Z"
   },
   {
    "duration": 24,
    "start_time": "2021-10-27T18:19:46.579Z"
   },
   {
    "duration": 17,
    "start_time": "2021-10-27T18:19:46.605Z"
   },
   {
    "duration": 44,
    "start_time": "2021-10-27T18:19:46.624Z"
   },
   {
    "duration": 8,
    "start_time": "2021-10-27T18:19:46.671Z"
   },
   {
    "duration": 13,
    "start_time": "2021-10-27T18:19:46.681Z"
   },
   {
    "duration": 8,
    "start_time": "2021-10-27T18:19:46.696Z"
   },
   {
    "duration": 8,
    "start_time": "2021-10-27T18:19:46.706Z"
   },
   {
    "duration": 8,
    "start_time": "2021-10-27T18:19:46.717Z"
   },
   {
    "duration": 43,
    "start_time": "2021-10-27T18:19:46.727Z"
   },
   {
    "duration": 6,
    "start_time": "2021-10-27T18:19:46.773Z"
   },
   {
    "duration": 767,
    "start_time": "2021-10-27T18:19:46.782Z"
   },
   {
    "duration": 29,
    "start_time": "2021-10-27T18:19:47.551Z"
   },
   {
    "duration": 36,
    "start_time": "2021-10-27T18:19:47.582Z"
   },
   {
    "duration": 724,
    "start_time": "2021-10-27T18:19:47.620Z"
   },
   {
    "duration": 30,
    "start_time": "2021-10-27T18:19:48.347Z"
   },
   {
    "duration": 52,
    "start_time": "2021-10-27T18:19:48.379Z"
   },
   {
    "duration": 86,
    "start_time": "2021-10-27T18:19:48.434Z"
   },
   {
    "duration": 91,
    "start_time": "2021-10-27T18:19:48.523Z"
   },
   {
    "duration": 80,
    "start_time": "2021-10-27T18:19:48.617Z"
   },
   {
    "duration": 93,
    "start_time": "2021-10-27T18:19:48.700Z"
   },
   {
    "duration": 31,
    "start_time": "2021-10-27T18:19:48.796Z"
   },
   {
    "duration": 56,
    "start_time": "2021-10-27T18:19:48.830Z"
   },
   {
    "duration": 15,
    "start_time": "2021-10-27T18:19:48.889Z"
   },
   {
    "duration": 31,
    "start_time": "2021-10-27T18:19:48.907Z"
   },
   {
    "duration": 34,
    "start_time": "2021-10-27T18:19:48.940Z"
   },
   {
    "duration": 12,
    "start_time": "2021-10-27T18:19:48.977Z"
   },
   {
    "duration": 12,
    "start_time": "2021-10-27T18:19:48.991Z"
   },
   {
    "duration": 16,
    "start_time": "2021-10-27T18:19:49.005Z"
   },
   {
    "duration": 141,
    "start_time": "2021-10-27T18:19:49.024Z"
   },
   {
    "duration": 32,
    "start_time": "2021-10-27T18:21:14.250Z"
   },
   {
    "duration": 32,
    "start_time": "2021-10-27T18:21:19.505Z"
   },
   {
    "duration": 16,
    "start_time": "2021-10-27T18:21:28.890Z"
   },
   {
    "duration": 31,
    "start_time": "2021-10-27T18:23:13.987Z"
   },
   {
    "duration": 16,
    "start_time": "2021-10-27T18:23:14.021Z"
   },
   {
    "duration": 34,
    "start_time": "2021-10-27T18:23:23.376Z"
   },
   {
    "duration": 16,
    "start_time": "2021-10-27T18:23:58.698Z"
   },
   {
    "duration": 37,
    "start_time": "2021-10-27T18:28:46.233Z"
   },
   {
    "duration": 16,
    "start_time": "2021-10-27T18:28:54.363Z"
   },
   {
    "duration": 25,
    "start_time": "2021-10-27T18:29:01.502Z"
   },
   {
    "duration": 403,
    "start_time": "2021-10-27T18:29:39.227Z"
   },
   {
    "duration": 46,
    "start_time": "2021-10-27T18:29:54.962Z"
   },
   {
    "duration": 44,
    "start_time": "2021-10-27T18:29:58.010Z"
   },
   {
    "duration": 57,
    "start_time": "2021-10-27T18:30:01.366Z"
   },
   {
    "duration": 66,
    "start_time": "2021-10-27T18:30:04.757Z"
   },
   {
    "duration": 30,
    "start_time": "2021-10-27T18:30:07.437Z"
   },
   {
    "duration": 32,
    "start_time": "2021-10-27T18:30:10.270Z"
   },
   {
    "duration": 16,
    "start_time": "2021-10-27T18:30:13.181Z"
   },
   {
    "duration": 14,
    "start_time": "2021-10-27T18:30:56.452Z"
   },
   {
    "duration": 26,
    "start_time": "2021-10-27T18:31:48.220Z"
   },
   {
    "duration": 21,
    "start_time": "2021-10-27T18:32:03.518Z"
   },
   {
    "duration": 29,
    "start_time": "2021-10-27T18:33:35.740Z"
   },
   {
    "duration": 318,
    "start_time": "2021-10-27T18:34:08.193Z"
   },
   {
    "duration": 45,
    "start_time": "2021-10-27T18:34:41.253Z"
   },
   {
    "duration": 49,
    "start_time": "2021-10-27T18:34:46.719Z"
   },
   {
    "duration": 58,
    "start_time": "2021-10-27T18:34:52.226Z"
   },
   {
    "duration": 66,
    "start_time": "2021-10-27T18:34:57.535Z"
   },
   {
    "duration": 30,
    "start_time": "2021-10-27T18:35:10.016Z"
   },
   {
    "duration": 43,
    "start_time": "2021-10-27T18:35:24.915Z"
   },
   {
    "duration": 46,
    "start_time": "2021-10-27T18:35:28.352Z"
   },
   {
    "duration": 56,
    "start_time": "2021-10-27T18:35:31.207Z"
   },
   {
    "duration": 64,
    "start_time": "2021-10-27T18:35:34.951Z"
   },
   {
    "duration": 30,
    "start_time": "2021-10-27T18:35:38.494Z"
   },
   {
    "duration": 44,
    "start_time": "2021-10-27T18:36:28.618Z"
   },
   {
    "duration": 44,
    "start_time": "2021-10-27T18:36:32.143Z"
   },
   {
    "duration": 52,
    "start_time": "2021-10-27T18:36:35.552Z"
   },
   {
    "duration": 57,
    "start_time": "2021-10-27T18:36:39.169Z"
   },
   {
    "duration": 63,
    "start_time": "2021-10-27T18:36:44.513Z"
   },
   {
    "duration": 30,
    "start_time": "2021-10-27T18:36:55.234Z"
   },
   {
    "duration": 31,
    "start_time": "2021-10-27T18:37:24.803Z"
   },
   {
    "duration": 35,
    "start_time": "2021-10-27T18:37:31.510Z"
   },
   {
    "duration": 26,
    "start_time": "2021-10-27T18:38:22.552Z"
   },
   {
    "duration": 28,
    "start_time": "2021-10-27T18:39:06.837Z"
   },
   {
    "duration": 13,
    "start_time": "2021-10-27T18:39:20.007Z"
   },
   {
    "duration": 14,
    "start_time": "2021-10-27T18:39:32.961Z"
   },
   {
    "duration": 23,
    "start_time": "2021-10-27T18:40:34.065Z"
   },
   {
    "duration": 32,
    "start_time": "2021-10-27T18:43:07.855Z"
   },
   {
    "duration": 27,
    "start_time": "2021-10-27T18:43:54.053Z"
   },
   {
    "duration": 16,
    "start_time": "2021-10-27T18:44:05.850Z"
   },
   {
    "duration": 30,
    "start_time": "2021-10-27T18:44:20.010Z"
   },
   {
    "duration": 358,
    "start_time": "2021-10-27T18:48:05.419Z"
   },
   {
    "duration": 296,
    "start_time": "2021-10-27T18:48:21.521Z"
   },
   {
    "duration": 29,
    "start_time": "2021-10-27T18:50:10.666Z"
   },
   {
    "duration": 30,
    "start_time": "2021-10-27T18:50:22.446Z"
   },
   {
    "duration": 30,
    "start_time": "2021-10-27T18:53:39.276Z"
   },
   {
    "duration": 32,
    "start_time": "2021-10-27T18:53:45.049Z"
   },
   {
    "duration": 13,
    "start_time": "2021-10-27T18:54:02.152Z"
   },
   {
    "duration": 15,
    "start_time": "2021-10-27T18:54:09.625Z"
   },
   {
    "duration": 33,
    "start_time": "2021-10-27T18:54:30.630Z"
   },
   {
    "duration": 18,
    "start_time": "2021-10-27T18:54:44.987Z"
   },
   {
    "duration": 28,
    "start_time": "2021-10-27T18:54:53.528Z"
   },
   {
    "duration": 33,
    "start_time": "2021-10-27T19:06:51.972Z"
   },
   {
    "duration": 32,
    "start_time": "2021-10-27T19:08:21.836Z"
   },
   {
    "duration": 32,
    "start_time": "2021-10-27T19:11:46.327Z"
   },
   {
    "duration": 10,
    "start_time": "2021-10-27T19:11:54.956Z"
   },
   {
    "duration": 12,
    "start_time": "2021-10-27T19:11:59.098Z"
   },
   {
    "duration": 10,
    "start_time": "2021-10-27T19:12:09.076Z"
   },
   {
    "duration": 13,
    "start_time": "2021-10-27T19:12:11.909Z"
   },
   {
    "duration": 9,
    "start_time": "2021-10-27T19:20:09.269Z"
   },
   {
    "duration": 168,
    "start_time": "2021-10-27T19:21:49.954Z"
   },
   {
    "duration": 203,
    "start_time": "2021-10-27T19:22:13.430Z"
   },
   {
    "duration": 193,
    "start_time": "2021-10-27T19:22:28.587Z"
   },
   {
    "duration": 94,
    "start_time": "2021-10-27T19:26:37.954Z"
   },
   {
    "duration": 27,
    "start_time": "2021-10-27T19:26:47.512Z"
   },
   {
    "duration": 9,
    "start_time": "2021-10-27T19:27:00.163Z"
   },
   {
    "duration": 11,
    "start_time": "2021-10-27T19:27:02.958Z"
   },
   {
    "duration": 11,
    "start_time": "2021-10-27T19:27:05.233Z"
   },
   {
    "duration": 18,
    "start_time": "2021-10-27T19:27:20.836Z"
   },
   {
    "duration": 10,
    "start_time": "2021-10-27T19:27:30.664Z"
   },
   {
    "duration": 8,
    "start_time": "2021-10-27T19:27:44.627Z"
   },
   {
    "duration": 183,
    "start_time": "2021-10-27T19:27:57.304Z"
   },
   {
    "duration": 9,
    "start_time": "2021-10-27T19:32:39.566Z"
   },
   {
    "duration": 12,
    "start_time": "2021-10-27T19:32:42.034Z"
   },
   {
    "duration": 10,
    "start_time": "2021-10-27T19:32:45.975Z"
   },
   {
    "duration": 214,
    "start_time": "2021-10-27T19:32:49.934Z"
   },
   {
    "duration": 202,
    "start_time": "2021-10-27T19:33:37.616Z"
   },
   {
    "duration": 200,
    "start_time": "2021-10-27T19:41:25.277Z"
   },
   {
    "duration": 1024,
    "start_time": "2021-10-28T07:25:48.139Z"
   },
   {
    "duration": 27,
    "start_time": "2021-10-28T07:25:49.165Z"
   },
   {
    "duration": 196,
    "start_time": "2021-10-28T07:25:49.195Z"
   },
   {
    "duration": 22,
    "start_time": "2021-10-28T07:25:49.394Z"
   },
   {
    "duration": 134,
    "start_time": "2021-10-28T07:25:49.418Z"
   },
   {
    "duration": 20,
    "start_time": "2021-10-28T07:25:49.555Z"
   },
   {
    "duration": 46,
    "start_time": "2021-10-28T07:25:49.578Z"
   },
   {
    "duration": 16,
    "start_time": "2021-10-28T07:25:49.630Z"
   },
   {
    "duration": 90,
    "start_time": "2021-10-28T07:25:49.648Z"
   },
   {
    "duration": 8,
    "start_time": "2021-10-28T07:25:49.740Z"
   },
   {
    "duration": 92,
    "start_time": "2021-10-28T07:25:49.750Z"
   },
   {
    "duration": 64,
    "start_time": "2021-10-28T07:25:49.844Z"
   },
   {
    "duration": 63,
    "start_time": "2021-10-28T07:25:49.910Z"
   },
   {
    "duration": 14,
    "start_time": "2021-10-28T07:25:49.975Z"
   },
   {
    "duration": 11,
    "start_time": "2021-10-28T07:25:49.992Z"
   },
   {
    "duration": 114,
    "start_time": "2021-10-28T07:25:50.005Z"
   },
   {
    "duration": 9,
    "start_time": "2021-10-28T07:25:50.122Z"
   },
   {
    "duration": 59,
    "start_time": "2021-10-28T07:25:50.133Z"
   },
   {
    "duration": 8,
    "start_time": "2021-10-28T07:25:50.195Z"
   },
   {
    "duration": 53,
    "start_time": "2021-10-28T07:25:50.205Z"
   },
   {
    "duration": 9,
    "start_time": "2021-10-28T07:25:50.260Z"
   },
   {
    "duration": 14,
    "start_time": "2021-10-28T07:25:50.271Z"
   },
   {
    "duration": 20,
    "start_time": "2021-10-28T07:25:50.291Z"
   },
   {
    "duration": 49,
    "start_time": "2021-10-28T07:25:50.314Z"
   },
   {
    "duration": 35,
    "start_time": "2021-10-28T07:25:50.366Z"
   },
   {
    "duration": 19,
    "start_time": "2021-10-28T07:25:50.403Z"
   },
   {
    "duration": 9,
    "start_time": "2021-10-28T07:25:50.425Z"
   },
   {
    "duration": 35,
    "start_time": "2021-10-28T07:25:50.436Z"
   },
   {
    "duration": 26,
    "start_time": "2021-10-28T07:25:50.474Z"
   },
   {
    "duration": 22,
    "start_time": "2021-10-28T07:25:50.502Z"
   },
   {
    "duration": 15,
    "start_time": "2021-10-28T07:25:50.527Z"
   },
   {
    "duration": 15,
    "start_time": "2021-10-28T07:25:50.558Z"
   },
   {
    "duration": 10,
    "start_time": "2021-10-28T07:25:50.576Z"
   },
   {
    "duration": 26,
    "start_time": "2021-10-28T07:25:50.589Z"
   },
   {
    "duration": 45,
    "start_time": "2021-10-28T07:25:50.618Z"
   },
   {
    "duration": 19,
    "start_time": "2021-10-28T07:25:50.666Z"
   },
   {
    "duration": 29,
    "start_time": "2021-10-28T07:25:50.687Z"
   },
   {
    "duration": 22,
    "start_time": "2021-10-28T07:25:50.719Z"
   },
   {
    "duration": 749,
    "start_time": "2021-10-28T07:25:50.744Z"
   },
   {
    "duration": 21,
    "start_time": "2021-10-28T07:25:51.496Z"
   },
   {
    "duration": 58,
    "start_time": "2021-10-28T07:25:51.520Z"
   },
   {
    "duration": 690,
    "start_time": "2021-10-28T07:25:51.581Z"
   },
   {
    "duration": 17,
    "start_time": "2021-10-28T07:25:52.273Z"
   },
   {
    "duration": 67,
    "start_time": "2021-10-28T07:25:52.292Z"
   },
   {
    "duration": 56,
    "start_time": "2021-10-28T07:25:52.361Z"
   },
   {
    "duration": 73,
    "start_time": "2021-10-28T07:25:52.419Z"
   },
   {
    "duration": 75,
    "start_time": "2021-10-28T07:25:52.495Z"
   },
   {
    "duration": 86,
    "start_time": "2021-10-28T07:25:52.573Z"
   },
   {
    "duration": 30,
    "start_time": "2021-10-28T07:25:52.661Z"
   },
   {
    "duration": 32,
    "start_time": "2021-10-28T07:25:52.694Z"
   },
   {
    "duration": 39,
    "start_time": "2021-10-28T07:25:52.728Z"
   },
   {
    "duration": 31,
    "start_time": "2021-10-28T07:25:52.770Z"
   },
   {
    "duration": 12,
    "start_time": "2021-10-28T07:25:52.803Z"
   },
   {
    "duration": 28,
    "start_time": "2021-10-28T07:25:52.817Z"
   },
   {
    "duration": 22,
    "start_time": "2021-10-28T07:25:52.848Z"
   },
   {
    "duration": 22,
    "start_time": "2021-10-28T07:25:52.872Z"
   },
   {
    "duration": 19,
    "start_time": "2021-10-28T07:25:52.896Z"
   },
   {
    "duration": 14,
    "start_time": "2021-10-28T07:25:52.917Z"
   },
   {
    "duration": 203,
    "start_time": "2021-10-28T07:25:52.933Z"
   },
   {
    "duration": 598,
    "start_time": "2021-10-28T07:35:28.545Z"
   },
   {
    "duration": 349,
    "start_time": "2021-10-28T07:35:34.170Z"
   },
   {
    "duration": 56,
    "start_time": "2021-10-28T07:35:34.522Z"
   },
   {
    "duration": 282,
    "start_time": "2021-10-28T07:35:34.582Z"
   },
   {
    "duration": 24,
    "start_time": "2021-10-28T07:35:34.868Z"
   },
   {
    "duration": 127,
    "start_time": "2021-10-28T07:35:34.895Z"
   },
   {
    "duration": 36,
    "start_time": "2021-10-28T07:35:35.025Z"
   },
   {
    "duration": 29,
    "start_time": "2021-10-28T07:35:35.064Z"
   },
   {
    "duration": 17,
    "start_time": "2021-10-28T07:35:35.099Z"
   },
   {
    "duration": 86,
    "start_time": "2021-10-28T07:35:35.120Z"
   },
   {
    "duration": 9,
    "start_time": "2021-10-28T07:35:35.209Z"
   },
   {
    "duration": 128,
    "start_time": "2021-10-28T07:35:35.220Z"
   },
   {
    "duration": 120,
    "start_time": "2021-10-28T07:35:35.351Z"
   },
   {
    "duration": 101,
    "start_time": "2021-10-28T07:35:35.474Z"
   },
   {
    "duration": 21,
    "start_time": "2021-10-28T07:35:35.578Z"
   },
   {
    "duration": 7,
    "start_time": "2021-10-28T07:35:35.602Z"
   },
   {
    "duration": 126,
    "start_time": "2021-10-28T07:35:35.612Z"
   },
   {
    "duration": 21,
    "start_time": "2021-10-28T07:35:35.741Z"
   },
   {
    "duration": 50,
    "start_time": "2021-10-28T07:35:35.766Z"
   },
   {
    "duration": 38,
    "start_time": "2021-10-28T07:35:35.819Z"
   },
   {
    "duration": 34,
    "start_time": "2021-10-28T07:35:35.860Z"
   },
   {
    "duration": 8,
    "start_time": "2021-10-28T07:35:35.896Z"
   },
   {
    "duration": 9,
    "start_time": "2021-10-28T07:35:35.906Z"
   },
   {
    "duration": 8,
    "start_time": "2021-10-28T07:35:35.958Z"
   },
   {
    "duration": 27,
    "start_time": "2021-10-28T07:35:35.969Z"
   },
   {
    "duration": 11,
    "start_time": "2021-10-28T07:35:35.999Z"
   },
   {
    "duration": 47,
    "start_time": "2021-10-28T07:35:36.012Z"
   },
   {
    "duration": 7,
    "start_time": "2021-10-28T07:35:36.061Z"
   },
   {
    "duration": 20,
    "start_time": "2021-10-28T07:35:36.070Z"
   },
   {
    "duration": 34,
    "start_time": "2021-10-28T07:35:36.092Z"
   },
   {
    "duration": 39,
    "start_time": "2021-10-28T07:35:36.129Z"
   },
   {
    "duration": 21,
    "start_time": "2021-10-28T07:35:36.171Z"
   },
   {
    "duration": 23,
    "start_time": "2021-10-28T07:35:36.195Z"
   },
   {
    "duration": 14,
    "start_time": "2021-10-28T07:35:36.220Z"
   },
   {
    "duration": 19,
    "start_time": "2021-10-28T07:35:36.237Z"
   },
   {
    "duration": 16,
    "start_time": "2021-10-28T07:35:36.258Z"
   },
   {
    "duration": 21,
    "start_time": "2021-10-28T07:35:36.277Z"
   },
   {
    "duration": 21,
    "start_time": "2021-10-28T07:35:36.300Z"
   },
   {
    "duration": 26,
    "start_time": "2021-10-28T07:35:36.324Z"
   },
   {
    "duration": 667,
    "start_time": "2021-10-28T07:35:36.352Z"
   },
   {
    "duration": 19,
    "start_time": "2021-10-28T07:35:37.022Z"
   },
   {
    "duration": 34,
    "start_time": "2021-10-28T07:35:37.057Z"
   },
   {
    "duration": 1072,
    "start_time": "2021-10-28T07:35:37.094Z"
   },
   {
    "duration": 19,
    "start_time": "2021-10-28T07:35:38.170Z"
   },
   {
    "duration": 74,
    "start_time": "2021-10-28T07:35:38.192Z"
   },
   {
    "duration": 48,
    "start_time": "2021-10-28T07:35:38.269Z"
   },
   {
    "duration": 65,
    "start_time": "2021-10-28T07:35:38.320Z"
   },
   {
    "duration": 80,
    "start_time": "2021-10-28T07:35:38.387Z"
   },
   {
    "duration": 65,
    "start_time": "2021-10-28T07:35:38.470Z"
   },
   {
    "duration": 31,
    "start_time": "2021-10-28T07:35:38.557Z"
   },
   {
    "duration": 31,
    "start_time": "2021-10-28T07:35:38.590Z"
   },
   {
    "duration": 47,
    "start_time": "2021-10-28T07:35:38.623Z"
   },
   {
    "duration": 41,
    "start_time": "2021-10-28T07:35:38.673Z"
   },
   {
    "duration": 44,
    "start_time": "2021-10-28T07:35:38.717Z"
   },
   {
    "duration": 13,
    "start_time": "2021-10-28T07:35:38.764Z"
   },
   {
    "duration": 11,
    "start_time": "2021-10-28T07:35:38.781Z"
   },
   {
    "duration": 8,
    "start_time": "2021-10-28T07:35:38.795Z"
   },
   {
    "duration": 52,
    "start_time": "2021-10-28T07:35:38.806Z"
   },
   {
    "duration": 8,
    "start_time": "2021-10-28T07:35:38.861Z"
   },
   {
    "duration": 192,
    "start_time": "2021-10-28T07:35:38.872Z"
   },
   {
    "duration": 435,
    "start_time": "2021-10-28T07:35:39.066Z"
   },
   {
    "duration": 21,
    "start_time": "2021-10-28T07:35:47.775Z"
   },
   {
    "duration": 119,
    "start_time": "2021-10-28T07:37:42.112Z"
   },
   {
    "duration": 20,
    "start_time": "2021-10-28T07:37:56.955Z"
   },
   {
    "duration": 181,
    "start_time": "2021-10-28T07:38:37.884Z"
   },
   {
    "duration": 8,
    "start_time": "2021-10-28T07:38:52.881Z"
   },
   {
    "duration": 23,
    "start_time": "2021-10-28T07:38:58.640Z"
   },
   {
    "duration": 10,
    "start_time": "2021-10-28T07:39:13.591Z"
   },
   {
    "duration": 463,
    "start_time": "2021-10-28T07:39:24.821Z"
   },
   {
    "duration": 15,
    "start_time": "2021-10-28T07:39:33.569Z"
   },
   {
    "duration": 23,
    "start_time": "2021-10-28T07:39:37.509Z"
   },
   {
    "duration": 47,
    "start_time": "2021-10-28T07:40:27.845Z"
   },
   {
    "duration": 1015,
    "start_time": "2021-10-28T07:50:38.545Z"
   },
   {
    "duration": 27,
    "start_time": "2021-10-28T07:50:39.562Z"
   },
   {
    "duration": 190,
    "start_time": "2021-10-28T07:50:39.591Z"
   },
   {
    "duration": 22,
    "start_time": "2021-10-28T07:50:39.783Z"
   },
   {
    "duration": 133,
    "start_time": "2021-10-28T07:50:39.807Z"
   },
   {
    "duration": 21,
    "start_time": "2021-10-28T07:50:39.943Z"
   },
   {
    "duration": 27,
    "start_time": "2021-10-28T07:50:39.967Z"
   },
   {
    "duration": 9,
    "start_time": "2021-10-28T07:50:39.997Z"
   },
   {
    "duration": 56,
    "start_time": "2021-10-28T07:50:40.009Z"
   },
   {
    "duration": 9,
    "start_time": "2021-10-28T07:50:40.067Z"
   },
   {
    "duration": 103,
    "start_time": "2021-10-28T07:50:40.078Z"
   },
   {
    "duration": 79,
    "start_time": "2021-10-28T07:50:40.183Z"
   },
   {
    "duration": 52,
    "start_time": "2021-10-28T07:50:40.265Z"
   },
   {
    "duration": 41,
    "start_time": "2021-10-28T07:50:40.320Z"
   },
   {
    "duration": 5,
    "start_time": "2021-10-28T07:50:40.364Z"
   },
   {
    "duration": 113,
    "start_time": "2021-10-28T07:50:40.372Z"
   },
   {
    "duration": 9,
    "start_time": "2021-10-28T07:50:40.488Z"
   },
   {
    "duration": 72,
    "start_time": "2021-10-28T07:50:40.499Z"
   },
   {
    "duration": 9,
    "start_time": "2021-10-28T07:50:40.573Z"
   },
   {
    "duration": 39,
    "start_time": "2021-10-28T07:50:40.584Z"
   },
   {
    "duration": 34,
    "start_time": "2021-10-28T07:50:40.626Z"
   },
   {
    "duration": 11,
    "start_time": "2021-10-28T07:50:40.662Z"
   },
   {
    "duration": 8,
    "start_time": "2021-10-28T07:50:40.678Z"
   },
   {
    "duration": 25,
    "start_time": "2021-10-28T07:50:40.689Z"
   },
   {
    "duration": 47,
    "start_time": "2021-10-28T07:50:40.717Z"
   },
   {
    "duration": 14,
    "start_time": "2021-10-28T07:50:40.767Z"
   },
   {
    "duration": 5,
    "start_time": "2021-10-28T07:50:40.784Z"
   },
   {
    "duration": 6,
    "start_time": "2021-10-28T07:50:40.792Z"
   },
   {
    "duration": 70,
    "start_time": "2021-10-28T07:50:40.800Z"
   },
   {
    "duration": 18,
    "start_time": "2021-10-28T07:50:40.872Z"
   },
   {
    "duration": 11,
    "start_time": "2021-10-28T07:50:40.893Z"
   },
   {
    "duration": 6,
    "start_time": "2021-10-28T07:50:40.907Z"
   },
   {
    "duration": 7,
    "start_time": "2021-10-28T07:50:40.915Z"
   },
   {
    "duration": 7,
    "start_time": "2021-10-28T07:50:40.958Z"
   },
   {
    "duration": 6,
    "start_time": "2021-10-28T07:50:40.967Z"
   },
   {
    "duration": 10,
    "start_time": "2021-10-28T07:50:40.975Z"
   },
   {
    "duration": 11,
    "start_time": "2021-10-28T07:50:40.988Z"
   },
   {
    "duration": 13,
    "start_time": "2021-10-28T07:50:41.001Z"
   },
   {
    "duration": 782,
    "start_time": "2021-10-28T07:50:41.016Z"
   },
   {
    "duration": 22,
    "start_time": "2021-10-28T07:50:41.801Z"
   },
   {
    "duration": 713,
    "start_time": "2021-10-28T07:50:41.825Z"
   },
   {
    "duration": 33,
    "start_time": "2021-10-28T07:50:42.540Z"
   },
   {
    "duration": 45,
    "start_time": "2021-10-28T07:50:42.577Z"
   },
   {
    "duration": 83,
    "start_time": "2021-10-28T07:50:42.625Z"
   },
   {
    "duration": 72,
    "start_time": "2021-10-28T07:50:42.710Z"
   },
   {
    "duration": 75,
    "start_time": "2021-10-28T07:50:42.784Z"
   },
   {
    "duration": 71,
    "start_time": "2021-10-28T07:50:42.861Z"
   },
   {
    "duration": 45,
    "start_time": "2021-10-28T07:50:42.935Z"
   },
   {
    "duration": 30,
    "start_time": "2021-10-28T07:50:42.982Z"
   },
   {
    "duration": 14,
    "start_time": "2021-10-28T07:50:43.014Z"
   },
   {
    "duration": 27,
    "start_time": "2021-10-28T07:50:43.057Z"
   },
   {
    "duration": 8,
    "start_time": "2021-10-28T07:50:43.086Z"
   },
   {
    "duration": 9,
    "start_time": "2021-10-28T07:50:43.096Z"
   },
   {
    "duration": 52,
    "start_time": "2021-10-28T07:50:43.107Z"
   },
   {
    "duration": 7,
    "start_time": "2021-10-28T07:50:43.162Z"
   },
   {
    "duration": 12,
    "start_time": "2021-10-28T07:50:43.171Z"
   },
   {
    "duration": 8,
    "start_time": "2021-10-28T07:50:43.186Z"
   },
   {
    "duration": 206,
    "start_time": "2021-10-28T07:50:43.196Z"
   },
   {
    "duration": 24,
    "start_time": "2021-10-28T07:50:43.405Z"
   },
   {
    "duration": 61,
    "start_time": "2021-10-28T07:50:43.432Z"
   },
   {
    "duration": 4906,
    "start_time": "2021-10-28T07:53:47.923Z"
   },
   {
    "duration": 4948,
    "start_time": "2021-10-28T07:54:11.516Z"
   },
   {
    "duration": 248,
    "start_time": "2021-10-28T07:54:18.765Z"
   },
   {
    "duration": 26,
    "start_time": "2021-10-28T07:54:19.015Z"
   },
   {
    "duration": 1876,
    "start_time": "2021-10-28T07:54:19.057Z"
   },
   {
    "duration": 30,
    "start_time": "2021-10-28T07:54:20.936Z"
   },
   {
    "duration": 347,
    "start_time": "2021-10-28T07:54:20.968Z"
   },
   {
    "duration": 18,
    "start_time": "2021-10-28T07:54:21.317Z"
   },
   {
    "duration": 31,
    "start_time": "2021-10-28T07:54:21.338Z"
   },
   {
    "duration": 19,
    "start_time": "2021-10-28T07:54:21.373Z"
   },
   {
    "duration": 97,
    "start_time": "2021-10-28T07:54:21.395Z"
   },
   {
    "duration": 9,
    "start_time": "2021-10-28T07:54:21.494Z"
   },
   {
    "duration": 104,
    "start_time": "2021-10-28T07:54:21.505Z"
   },
   {
    "duration": 67,
    "start_time": "2021-10-28T07:54:21.611Z"
   },
   {
    "duration": 48,
    "start_time": "2021-10-28T07:54:21.681Z"
   },
   {
    "duration": 31,
    "start_time": "2021-10-28T07:54:21.732Z"
   },
   {
    "duration": 20,
    "start_time": "2021-10-28T07:54:21.765Z"
   },
   {
    "duration": 99,
    "start_time": "2021-10-28T07:54:21.787Z"
   },
   {
    "duration": 9,
    "start_time": "2021-10-28T07:54:21.888Z"
   },
   {
    "duration": 63,
    "start_time": "2021-10-28T07:54:21.899Z"
   },
   {
    "duration": 14,
    "start_time": "2021-10-28T07:54:21.965Z"
   },
   {
    "duration": 36,
    "start_time": "2021-10-28T07:54:21.982Z"
   },
   {
    "duration": 14,
    "start_time": "2021-10-28T07:54:22.021Z"
   },
   {
    "duration": 45,
    "start_time": "2021-10-28T07:54:22.038Z"
   },
   {
    "duration": 30,
    "start_time": "2021-10-28T07:54:22.089Z"
   },
   {
    "duration": 50,
    "start_time": "2021-10-28T07:54:22.122Z"
   },
   {
    "duration": 44,
    "start_time": "2021-10-28T07:54:22.174Z"
   },
   {
    "duration": 49,
    "start_time": "2021-10-28T07:54:22.220Z"
   },
   {
    "duration": 22,
    "start_time": "2021-10-28T07:54:22.271Z"
   },
   {
    "duration": 24,
    "start_time": "2021-10-28T07:54:22.296Z"
   },
   {
    "duration": 37,
    "start_time": "2021-10-28T07:54:22.322Z"
   },
   {
    "duration": 22,
    "start_time": "2021-10-28T07:54:22.361Z"
   },
   {
    "duration": 23,
    "start_time": "2021-10-28T07:54:22.385Z"
   },
   {
    "duration": 18,
    "start_time": "2021-10-28T07:54:22.411Z"
   },
   {
    "duration": 26,
    "start_time": "2021-10-28T07:54:22.431Z"
   },
   {
    "duration": 18,
    "start_time": "2021-10-28T07:54:22.460Z"
   },
   {
    "duration": 25,
    "start_time": "2021-10-28T07:54:22.480Z"
   },
   {
    "duration": 33,
    "start_time": "2021-10-28T07:54:22.507Z"
   },
   {
    "duration": 26,
    "start_time": "2021-10-28T07:54:22.542Z"
   },
   {
    "duration": 32,
    "start_time": "2021-10-28T07:54:22.570Z"
   },
   {
    "duration": 674,
    "start_time": "2021-10-28T07:54:22.605Z"
   },
   {
    "duration": 19,
    "start_time": "2021-10-28T07:54:23.282Z"
   },
   {
    "duration": 665,
    "start_time": "2021-10-28T07:54:23.304Z"
   },
   {
    "duration": 16,
    "start_time": "2021-10-28T07:54:23.972Z"
   },
   {
    "duration": 53,
    "start_time": "2021-10-28T07:54:23.990Z"
   },
   {
    "duration": 56,
    "start_time": "2021-10-28T07:54:24.058Z"
   },
   {
    "duration": 73,
    "start_time": "2021-10-28T07:54:24.117Z"
   },
   {
    "duration": 67,
    "start_time": "2021-10-28T07:54:24.192Z"
   },
   {
    "duration": 63,
    "start_time": "2021-10-28T07:54:24.261Z"
   },
   {
    "duration": 53,
    "start_time": "2021-10-28T07:54:24.327Z"
   },
   {
    "duration": 32,
    "start_time": "2021-10-28T07:54:24.382Z"
   },
   {
    "duration": 16,
    "start_time": "2021-10-28T07:54:24.416Z"
   },
   {
    "duration": 25,
    "start_time": "2021-10-28T07:54:24.458Z"
   },
   {
    "duration": 8,
    "start_time": "2021-10-28T07:54:24.486Z"
   },
   {
    "duration": 43,
    "start_time": "2021-10-28T07:54:24.496Z"
   },
   {
    "duration": 36,
    "start_time": "2021-10-28T07:54:24.542Z"
   },
   {
    "duration": 31,
    "start_time": "2021-10-28T07:54:24.581Z"
   },
   {
    "duration": 27,
    "start_time": "2021-10-28T07:54:24.615Z"
   },
   {
    "duration": 34,
    "start_time": "2021-10-28T07:54:24.644Z"
   },
   {
    "duration": 204,
    "start_time": "2021-10-28T07:54:24.680Z"
   },
   {
    "duration": 21,
    "start_time": "2021-10-28T07:54:24.886Z"
   },
   {
    "duration": 57,
    "start_time": "2021-10-28T07:54:24.910Z"
   },
   {
    "duration": 19,
    "start_time": "2021-10-28T07:54:24.970Z"
   },
   {
    "duration": 7,
    "start_time": "2021-10-28T07:54:35.957Z"
   },
   {
    "duration": 400,
    "start_time": "2021-10-28T07:54:43.313Z"
   },
   {
    "duration": 7,
    "start_time": "2021-10-28T07:54:52.280Z"
   },
   {
    "duration": 8,
    "start_time": "2021-10-28T07:54:59.806Z"
   },
   {
    "duration": 4539,
    "start_time": "2021-10-28T07:55:11.023Z"
   },
   {
    "duration": 9,
    "start_time": "2021-10-28T07:56:37.398Z"
   },
   {
    "duration": 389,
    "start_time": "2021-10-28T07:56:53.083Z"
   },
   {
    "duration": 20,
    "start_time": "2021-10-28T07:57:14.990Z"
   },
   {
    "duration": 22,
    "start_time": "2021-10-28T07:57:54.020Z"
   },
   {
    "duration": 11,
    "start_time": "2021-10-28T07:58:06.022Z"
   },
   {
    "duration": 9,
    "start_time": "2021-10-28T07:58:12.113Z"
   },
   {
    "duration": 10,
    "start_time": "2021-10-28T07:58:30.797Z"
   },
   {
    "duration": 9,
    "start_time": "2021-10-28T07:58:40.750Z"
   },
   {
    "duration": 9,
    "start_time": "2021-10-28T07:58:44.725Z"
   },
   {
    "duration": 160,
    "start_time": "2021-10-28T07:58:59.788Z"
   },
   {
    "duration": 10,
    "start_time": "2021-10-28T08:00:11.691Z"
   },
   {
    "duration": 23,
    "start_time": "2021-10-28T08:00:20.695Z"
   },
   {
    "duration": 9,
    "start_time": "2021-10-28T08:00:47.452Z"
   },
   {
    "duration": 172,
    "start_time": "2021-10-28T08:08:14.649Z"
   },
   {
    "duration": 4,
    "start_time": "2021-10-28T08:11:01.387Z"
   },
   {
    "duration": 130,
    "start_time": "2021-10-28T08:14:46.889Z"
   },
   {
    "duration": 15,
    "start_time": "2021-10-28T08:14:53.269Z"
   },
   {
    "duration": 13,
    "start_time": "2021-10-28T08:15:06.377Z"
   },
   {
    "duration": 8,
    "start_time": "2021-10-28T08:15:14.397Z"
   },
   {
    "duration": 8,
    "start_time": "2021-10-28T08:15:45.705Z"
   },
   {
    "duration": 6,
    "start_time": "2021-10-28T08:16:02.323Z"
   },
   {
    "duration": 117,
    "start_time": "2021-10-28T08:18:15.514Z"
   },
   {
    "duration": 6,
    "start_time": "2021-10-28T08:19:07.310Z"
   },
   {
    "duration": 8,
    "start_time": "2021-10-28T08:19:46.733Z"
   },
   {
    "duration": 10,
    "start_time": "2021-10-28T08:20:27.580Z"
   },
   {
    "duration": 8,
    "start_time": "2021-10-28T08:20:41.057Z"
   },
   {
    "duration": 8,
    "start_time": "2021-10-28T08:20:44.114Z"
   },
   {
    "duration": 125,
    "start_time": "2021-10-28T08:22:43.420Z"
   },
   {
    "duration": 124,
    "start_time": "2021-10-28T08:22:55.801Z"
   },
   {
    "duration": 312,
    "start_time": "2021-10-28T08:44:21.904Z"
   },
   {
    "duration": 434,
    "start_time": "2021-10-28T08:44:50.854Z"
   },
   {
    "duration": 367,
    "start_time": "2021-10-28T08:47:34.644Z"
   },
   {
    "duration": 631,
    "start_time": "2021-10-28T08:47:38.859Z"
   },
   {
    "duration": 461,
    "start_time": "2021-10-28T08:47:45.590Z"
   },
   {
    "duration": 550,
    "start_time": "2021-10-28T08:47:50.954Z"
   },
   {
    "duration": 550,
    "start_time": "2021-10-28T08:57:01.630Z"
   },
   {
    "duration": 273,
    "start_time": "2021-10-28T08:57:07.993Z"
   },
   {
    "duration": 376,
    "start_time": "2021-10-28T08:57:11.262Z"
   },
   {
    "duration": 333,
    "start_time": "2021-10-28T08:58:32.801Z"
   },
   {
    "duration": 289,
    "start_time": "2021-10-28T08:58:58.443Z"
   },
   {
    "duration": 407,
    "start_time": "2021-10-28T08:59:02.808Z"
   },
   {
    "duration": 370,
    "start_time": "2021-10-28T09:00:18.818Z"
   },
   {
    "duration": 331,
    "start_time": "2021-10-28T09:00:22.629Z"
   },
   {
    "duration": 360,
    "start_time": "2021-10-28T09:01:24.433Z"
   },
   {
    "duration": 599,
    "start_time": "2021-10-28T09:01:29.884Z"
   },
   {
    "duration": 133,
    "start_time": "2021-10-28T09:05:18.873Z"
   },
   {
    "duration": 29,
    "start_time": "2021-10-28T09:07:15.663Z"
   },
   {
    "duration": 37,
    "start_time": "2021-10-28T09:07:52.714Z"
   },
   {
    "duration": 49,
    "start_time": "2021-10-28T09:10:26.022Z"
   },
   {
    "duration": 11,
    "start_time": "2021-10-28T09:14:30.277Z"
   },
   {
    "duration": 10,
    "start_time": "2021-10-28T09:15:48.859Z"
   },
   {
    "duration": 10,
    "start_time": "2021-10-28T09:15:51.931Z"
   },
   {
    "duration": 131,
    "start_time": "2021-10-28T09:16:46.054Z"
   },
   {
    "duration": 10,
    "start_time": "2021-10-28T09:17:26.967Z"
   },
   {
    "duration": 10,
    "start_time": "2021-10-28T09:20:56.417Z"
   },
   {
    "duration": 126,
    "start_time": "2021-10-28T09:21:19.355Z"
   },
   {
    "duration": 8,
    "start_time": "2021-10-28T09:40:31.944Z"
   },
   {
    "duration": 8,
    "start_time": "2021-10-28T09:41:05.955Z"
   },
   {
    "duration": 7,
    "start_time": "2021-10-28T09:41:35.729Z"
   },
   {
    "duration": 578,
    "start_time": "2021-10-28T09:42:06.309Z"
   },
   {
    "duration": 540,
    "start_time": "2021-10-28T09:42:53.404Z"
   },
   {
    "duration": 422,
    "start_time": "2021-10-28T09:42:56.495Z"
   },
   {
    "duration": 700,
    "start_time": "2021-10-28T09:43:05.815Z"
   },
   {
    "duration": 37,
    "start_time": "2021-10-28T09:43:33.646Z"
   },
   {
    "duration": 551,
    "start_time": "2021-10-28T09:43:45.190Z"
   },
   {
    "duration": 452,
    "start_time": "2021-10-28T13:26:45.912Z"
   },
   {
    "duration": 1115,
    "start_time": "2021-10-28T13:26:52.673Z"
   },
   {
    "duration": 43,
    "start_time": "2021-10-28T13:26:53.791Z"
   },
   {
    "duration": 213,
    "start_time": "2021-10-28T13:26:53.837Z"
   },
   {
    "duration": 23,
    "start_time": "2021-10-28T13:26:54.053Z"
   },
   {
    "duration": 153,
    "start_time": "2021-10-28T13:26:54.078Z"
   },
   {
    "duration": 19,
    "start_time": "2021-10-28T13:26:54.233Z"
   },
   {
    "duration": 24,
    "start_time": "2021-10-28T13:26:54.255Z"
   },
   {
    "duration": 30,
    "start_time": "2021-10-28T13:26:54.282Z"
   },
   {
    "duration": 61,
    "start_time": "2021-10-28T13:26:54.317Z"
   },
   {
    "duration": 9,
    "start_time": "2021-10-28T13:26:54.380Z"
   },
   {
    "duration": 122,
    "start_time": "2021-10-28T13:26:54.391Z"
   },
   {
    "duration": 91,
    "start_time": "2021-10-28T13:26:54.516Z"
   },
   {
    "duration": 69,
    "start_time": "2021-10-28T13:26:54.612Z"
   },
   {
    "duration": 20,
    "start_time": "2021-10-28T13:26:54.700Z"
   },
   {
    "duration": 11,
    "start_time": "2021-10-28T13:26:54.723Z"
   },
   {
    "duration": 110,
    "start_time": "2021-10-28T13:26:54.737Z"
   },
   {
    "duration": 10,
    "start_time": "2021-10-28T13:26:54.850Z"
   },
   {
    "duration": 74,
    "start_time": "2021-10-28T13:26:54.863Z"
   },
   {
    "duration": 9,
    "start_time": "2021-10-28T13:26:54.940Z"
   },
   {
    "duration": 65,
    "start_time": "2021-10-28T13:26:54.951Z"
   },
   {
    "duration": 11,
    "start_time": "2021-10-28T13:26:55.018Z"
   },
   {
    "duration": 12,
    "start_time": "2021-10-28T13:26:55.032Z"
   },
   {
    "duration": 9,
    "start_time": "2021-10-28T13:26:55.052Z"
   },
   {
    "duration": 36,
    "start_time": "2021-10-28T13:26:55.105Z"
   },
   {
    "duration": 13,
    "start_time": "2021-10-28T13:26:55.144Z"
   },
   {
    "duration": 51,
    "start_time": "2021-10-28T13:26:55.159Z"
   },
   {
    "duration": 9,
    "start_time": "2021-10-28T13:26:55.214Z"
   },
   {
    "duration": 7,
    "start_time": "2021-10-28T13:26:55.226Z"
   },
   {
    "duration": 77,
    "start_time": "2021-10-28T13:26:55.237Z"
   },
   {
    "duration": 18,
    "start_time": "2021-10-28T13:26:55.317Z"
   },
   {
    "duration": 9,
    "start_time": "2021-10-28T13:26:55.337Z"
   },
   {
    "duration": 7,
    "start_time": "2021-10-28T13:26:55.348Z"
   },
   {
    "duration": 5,
    "start_time": "2021-10-28T13:26:55.358Z"
   },
   {
    "duration": 54,
    "start_time": "2021-10-28T13:26:55.365Z"
   },
   {
    "duration": 6,
    "start_time": "2021-10-28T13:26:55.422Z"
   },
   {
    "duration": 10,
    "start_time": "2021-10-28T13:26:55.431Z"
   },
   {
    "duration": 8,
    "start_time": "2021-10-28T13:26:55.443Z"
   },
   {
    "duration": 7,
    "start_time": "2021-10-28T13:26:55.454Z"
   },
   {
    "duration": 884,
    "start_time": "2021-10-28T13:26:55.464Z"
   },
   {
    "duration": 20,
    "start_time": "2021-10-28T13:26:56.350Z"
   },
   {
    "duration": 854,
    "start_time": "2021-10-28T13:26:56.372Z"
   },
   {
    "duration": 18,
    "start_time": "2021-10-28T13:26:57.229Z"
   },
   {
    "duration": 87,
    "start_time": "2021-10-28T13:26:57.250Z"
   },
   {
    "duration": 70,
    "start_time": "2021-10-28T13:26:57.339Z"
   },
   {
    "duration": 55,
    "start_time": "2021-10-28T13:26:57.413Z"
   },
   {
    "duration": 86,
    "start_time": "2021-10-28T13:26:57.471Z"
   },
   {
    "duration": 107,
    "start_time": "2021-10-28T13:26:57.560Z"
   },
   {
    "duration": 51,
    "start_time": "2021-10-28T13:26:57.670Z"
   },
   {
    "duration": 43,
    "start_time": "2021-10-28T13:26:57.724Z"
   },
   {
    "duration": 42,
    "start_time": "2021-10-28T13:26:57.770Z"
   },
   {
    "duration": 30,
    "start_time": "2021-10-28T13:26:57.817Z"
   },
   {
    "duration": 8,
    "start_time": "2021-10-28T13:26:57.850Z"
   },
   {
    "duration": 49,
    "start_time": "2021-10-28T13:26:57.861Z"
   },
   {
    "duration": 19,
    "start_time": "2021-10-28T13:26:57.913Z"
   },
   {
    "duration": 10,
    "start_time": "2021-10-28T13:26:57.935Z"
   },
   {
    "duration": 14,
    "start_time": "2021-10-28T13:26:57.948Z"
   },
   {
    "duration": 12,
    "start_time": "2021-10-28T13:26:58.002Z"
   },
   {
    "duration": 256,
    "start_time": "2021-10-28T13:26:58.017Z"
   },
   {
    "duration": 47,
    "start_time": "2021-10-28T13:26:58.276Z"
   },
   {
    "duration": 38,
    "start_time": "2021-10-28T13:26:58.325Z"
   },
   {
    "duration": 36,
    "start_time": "2021-10-28T13:26:58.365Z"
   },
   {
    "duration": 15,
    "start_time": "2021-10-28T13:26:58.405Z"
   },
   {
    "duration": 7,
    "start_time": "2021-10-28T13:26:58.423Z"
   },
   {
    "duration": 12,
    "start_time": "2021-10-28T13:26:58.433Z"
   },
   {
    "duration": 57,
    "start_time": "2021-10-28T13:26:58.447Z"
   },
   {
    "duration": 621,
    "start_time": "2021-10-28T13:26:58.508Z"
   },
   {
    "duration": 390,
    "start_time": "2021-10-28T13:26:59.132Z"
   },
   {
    "duration": 435,
    "start_time": "2021-10-28T13:26:59.529Z"
   },
   {
    "duration": 33,
    "start_time": "2021-10-28T13:26:59.967Z"
   },
   {
    "duration": 48,
    "start_time": "2021-10-28T13:27:00.004Z"
   },
   {
    "duration": 10,
    "start_time": "2021-10-28T13:27:00.055Z"
   },
   {
    "duration": 64,
    "start_time": "2021-10-28T13:27:00.068Z"
   },
   {
    "duration": 10,
    "start_time": "2021-10-28T13:27:00.135Z"
   },
   {
    "duration": 19,
    "start_time": "2021-10-28T13:27:00.147Z"
   },
   {
    "duration": 10,
    "start_time": "2021-10-28T13:27:00.168Z"
   },
   {
    "duration": 38,
    "start_time": "2021-10-28T13:27:00.181Z"
   },
   {
    "duration": 24,
    "start_time": "2021-10-28T13:27:00.222Z"
   },
   {
    "duration": 750,
    "start_time": "2021-10-28T13:27:00.248Z"
   },
   {
    "duration": 387,
    "start_time": "2021-10-28T13:27:01.002Z"
   },
   {
    "duration": 450,
    "start_time": "2021-10-28T13:27:01.391Z"
   },
   {
    "duration": 438,
    "start_time": "2021-10-28T13:27:17.274Z"
   },
   {
    "duration": 481,
    "start_time": "2021-10-28T13:28:41.811Z"
   },
   {
    "duration": 432,
    "start_time": "2021-10-28T13:33:10.943Z"
   },
   {
    "duration": 297,
    "start_time": "2021-10-28T13:33:17.526Z"
   },
   {
    "duration": 368,
    "start_time": "2021-10-28T13:33:22.640Z"
   },
   {
    "duration": 427,
    "start_time": "2021-10-28T13:33:26.226Z"
   },
   {
    "duration": 590,
    "start_time": "2021-10-28T13:33:30.410Z"
   },
   {
    "duration": 368,
    "start_time": "2021-10-28T13:33:34.595Z"
   },
   {
    "duration": 331,
    "start_time": "2021-10-28T13:33:40.981Z"
   },
   {
    "duration": 362,
    "start_time": "2021-10-28T13:33:45.084Z"
   },
   {
    "duration": 395,
    "start_time": "2021-10-28T13:33:53.275Z"
   },
   {
    "duration": 518,
    "start_time": "2021-10-28T13:33:59.601Z"
   },
   {
    "duration": 364,
    "start_time": "2021-10-28T13:34:04.179Z"
   },
   {
    "duration": 132,
    "start_time": "2021-10-28T14:27:38.338Z"
   },
   {
    "duration": 474,
    "start_time": "2021-10-28T14:33:25.457Z"
   },
   {
    "duration": 3,
    "start_time": "2021-10-28T14:33:53.655Z"
   },
   {
    "duration": 3,
    "start_time": "2021-10-28T14:34:27.326Z"
   },
   {
    "duration": 9,
    "start_time": "2021-10-28T14:37:48.487Z"
   },
   {
    "duration": 7,
    "start_time": "2021-10-28T14:37:56.385Z"
   },
   {
    "duration": 431,
    "start_time": "2021-10-28T14:43:27.292Z"
   },
   {
    "duration": 7,
    "start_time": "2021-10-28T14:43:43.995Z"
   },
   {
    "duration": 8,
    "start_time": "2021-10-28T14:45:10.794Z"
   },
   {
    "duration": 19,
    "start_time": "2021-10-28T14:59:43.443Z"
   },
   {
    "duration": 9,
    "start_time": "2021-10-28T15:00:00.944Z"
   },
   {
    "duration": 23,
    "start_time": "2021-10-28T15:01:33.319Z"
   },
   {
    "duration": 10,
    "start_time": "2021-10-28T15:01:53.416Z"
   },
   {
    "duration": 8,
    "start_time": "2021-10-28T15:02:09.336Z"
   },
   {
    "duration": 10,
    "start_time": "2021-10-28T15:02:13.883Z"
   },
   {
    "duration": 9,
    "start_time": "2021-10-28T15:02:18.534Z"
   },
   {
    "duration": 13,
    "start_time": "2021-10-28T15:02:28.984Z"
   },
   {
    "duration": 436,
    "start_time": "2021-10-28T15:08:10.778Z"
   },
   {
    "duration": 383,
    "start_time": "2021-10-28T15:08:32.462Z"
   },
   {
    "duration": 8,
    "start_time": "2021-10-28T15:08:36.852Z"
   },
   {
    "duration": 9,
    "start_time": "2021-10-28T15:08:42.678Z"
   },
   {
    "duration": 7,
    "start_time": "2021-10-28T15:08:44.600Z"
   },
   {
    "duration": 10,
    "start_time": "2021-10-28T15:08:49.038Z"
   },
   {
    "duration": 4,
    "start_time": "2021-10-28T15:08:51.363Z"
   },
   {
    "duration": 6,
    "start_time": "2021-10-28T15:09:01.454Z"
   },
   {
    "duration": 361,
    "start_time": "2021-10-28T15:09:09.380Z"
   },
   {
    "duration": 5,
    "start_time": "2021-10-28T15:09:16.564Z"
   },
   {
    "duration": 6,
    "start_time": "2021-10-28T15:11:02.183Z"
   },
   {
    "duration": 10,
    "start_time": "2021-10-28T15:11:09.567Z"
   },
   {
    "duration": 9,
    "start_time": "2021-10-28T15:11:11.555Z"
   },
   {
    "duration": 566,
    "start_time": "2021-10-28T15:12:11.479Z"
   },
   {
    "duration": 10,
    "start_time": "2021-10-28T15:12:41.715Z"
   },
   {
    "duration": 10,
    "start_time": "2021-10-28T15:12:47.930Z"
   },
   {
    "duration": 42,
    "start_time": "2021-10-28T15:13:15.228Z"
   },
   {
    "duration": 43,
    "start_time": "2021-10-28T15:13:37.349Z"
   },
   {
    "duration": 7,
    "start_time": "2021-10-28T15:15:00.802Z"
   },
   {
    "duration": 4,
    "start_time": "2021-10-28T15:52:05.991Z"
   },
   {
    "duration": 1039,
    "start_time": "2021-10-28T16:47:29.004Z"
   },
   {
    "duration": 28,
    "start_time": "2021-10-28T16:47:30.045Z"
   },
   {
    "duration": 219,
    "start_time": "2021-10-28T16:47:30.076Z"
   },
   {
    "duration": 22,
    "start_time": "2021-10-28T16:47:30.298Z"
   },
   {
    "duration": 136,
    "start_time": "2021-10-28T16:47:30.323Z"
   },
   {
    "duration": 18,
    "start_time": "2021-10-28T16:47:30.462Z"
   },
   {
    "duration": 41,
    "start_time": "2021-10-28T16:47:30.483Z"
   },
   {
    "duration": 28,
    "start_time": "2021-10-28T16:47:30.528Z"
   },
   {
    "duration": 59,
    "start_time": "2021-10-28T16:47:30.559Z"
   },
   {
    "duration": 16,
    "start_time": "2021-10-28T16:47:30.620Z"
   },
   {
    "duration": 104,
    "start_time": "2021-10-28T16:47:30.639Z"
   },
   {
    "duration": 84,
    "start_time": "2021-10-28T16:47:30.746Z"
   },
   {
    "duration": 69,
    "start_time": "2021-10-28T16:47:30.832Z"
   },
   {
    "duration": 15,
    "start_time": "2021-10-28T16:47:30.903Z"
   },
   {
    "duration": 10,
    "start_time": "2021-10-28T16:47:30.920Z"
   },
   {
    "duration": 104,
    "start_time": "2021-10-28T16:47:30.933Z"
   },
   {
    "duration": 9,
    "start_time": "2021-10-28T16:47:31.039Z"
   },
   {
    "duration": 72,
    "start_time": "2021-10-28T16:47:31.050Z"
   },
   {
    "duration": 8,
    "start_time": "2021-10-28T16:47:31.124Z"
   },
   {
    "duration": 60,
    "start_time": "2021-10-28T16:47:31.134Z"
   },
   {
    "duration": 10,
    "start_time": "2021-10-28T16:47:31.196Z"
   },
   {
    "duration": 8,
    "start_time": "2021-10-28T16:47:31.208Z"
   },
   {
    "duration": 7,
    "start_time": "2021-10-28T16:47:31.222Z"
   },
   {
    "duration": 31,
    "start_time": "2021-10-28T16:47:31.233Z"
   },
   {
    "duration": 39,
    "start_time": "2021-10-28T16:47:31.266Z"
   },
   {
    "duration": 15,
    "start_time": "2021-10-28T16:47:31.308Z"
   },
   {
    "duration": 6,
    "start_time": "2021-10-28T16:47:31.325Z"
   },
   {
    "duration": 8,
    "start_time": "2021-10-28T16:47:31.333Z"
   },
   {
    "duration": 72,
    "start_time": "2021-10-28T16:47:31.343Z"
   },
   {
    "duration": 18,
    "start_time": "2021-10-28T16:47:31.418Z"
   },
   {
    "duration": 16,
    "start_time": "2021-10-28T16:47:31.440Z"
   },
   {
    "duration": 8,
    "start_time": "2021-10-28T16:47:31.459Z"
   },
   {
    "duration": 8,
    "start_time": "2021-10-28T16:47:31.501Z"
   },
   {
    "duration": 12,
    "start_time": "2021-10-28T16:47:31.512Z"
   },
   {
    "duration": 15,
    "start_time": "2021-10-28T16:47:31.526Z"
   },
   {
    "duration": 7,
    "start_time": "2021-10-28T16:47:31.544Z"
   },
   {
    "duration": 7,
    "start_time": "2021-10-28T16:47:31.553Z"
   },
   {
    "duration": 45,
    "start_time": "2021-10-28T16:47:31.562Z"
   },
   {
    "duration": 775,
    "start_time": "2021-10-28T16:47:31.609Z"
   },
   {
    "duration": 24,
    "start_time": "2021-10-28T16:47:32.387Z"
   },
   {
    "duration": 752,
    "start_time": "2021-10-28T16:47:32.413Z"
   },
   {
    "duration": 18,
    "start_time": "2021-10-28T16:47:33.167Z"
   },
   {
    "duration": 54,
    "start_time": "2021-10-28T16:47:33.187Z"
   },
   {
    "duration": 84,
    "start_time": "2021-10-28T16:47:33.243Z"
   },
   {
    "duration": 55,
    "start_time": "2021-10-28T16:47:33.330Z"
   },
   {
    "duration": 59,
    "start_time": "2021-10-28T16:47:33.400Z"
   },
   {
    "duration": 93,
    "start_time": "2021-10-28T16:47:33.461Z"
   },
   {
    "duration": 43,
    "start_time": "2021-10-28T16:47:33.557Z"
   },
   {
    "duration": 31,
    "start_time": "2021-10-28T16:47:33.603Z"
   },
   {
    "duration": 15,
    "start_time": "2021-10-28T16:47:33.637Z"
   },
   {
    "duration": 59,
    "start_time": "2021-10-28T16:47:33.655Z"
   },
   {
    "duration": 10,
    "start_time": "2021-10-28T16:47:33.716Z"
   },
   {
    "duration": 17,
    "start_time": "2021-10-28T16:47:33.728Z"
   },
   {
    "duration": 10,
    "start_time": "2021-10-28T16:47:33.748Z"
   },
   {
    "duration": 42,
    "start_time": "2021-10-28T16:47:33.760Z"
   },
   {
    "duration": 13,
    "start_time": "2021-10-28T16:47:33.805Z"
   },
   {
    "duration": 9,
    "start_time": "2021-10-28T16:47:33.821Z"
   },
   {
    "duration": 200,
    "start_time": "2021-10-28T16:47:33.833Z"
   },
   {
    "duration": 22,
    "start_time": "2021-10-28T16:47:34.035Z"
   },
   {
    "duration": 61,
    "start_time": "2021-10-28T16:47:34.059Z"
   },
   {
    "duration": 8,
    "start_time": "2021-10-28T16:47:34.122Z"
   },
   {
    "duration": 12,
    "start_time": "2021-10-28T16:47:34.133Z"
   },
   {
    "duration": 11,
    "start_time": "2021-10-28T16:47:34.148Z"
   },
   {
    "duration": 39,
    "start_time": "2021-10-28T16:47:34.161Z"
   },
   {
    "duration": 7,
    "start_time": "2021-10-28T16:47:34.203Z"
   },
   {
    "duration": 612,
    "start_time": "2021-10-28T16:47:34.213Z"
   },
   {
    "duration": 352,
    "start_time": "2021-10-28T16:47:34.827Z"
   },
   {
    "duration": 410,
    "start_time": "2021-10-28T16:47:35.187Z"
   },
   {
    "duration": 24,
    "start_time": "2021-10-28T16:47:35.600Z"
   },
   {
    "duration": 46,
    "start_time": "2021-10-28T16:47:35.627Z"
   },
   {
    "duration": 30,
    "start_time": "2021-10-28T16:47:35.675Z"
   },
   {
    "duration": 16,
    "start_time": "2021-10-28T16:47:35.707Z"
   },
   {
    "duration": 10,
    "start_time": "2021-10-28T16:47:35.726Z"
   },
   {
    "duration": 12,
    "start_time": "2021-10-28T16:47:35.738Z"
   },
   {
    "duration": 9,
    "start_time": "2021-10-28T16:47:35.752Z"
   },
   {
    "duration": 43,
    "start_time": "2021-10-28T16:47:35.763Z"
   },
   {
    "duration": 8,
    "start_time": "2021-10-28T16:47:35.809Z"
   },
   {
    "duration": 612,
    "start_time": "2021-10-28T16:47:35.819Z"
   },
   {
    "duration": 399,
    "start_time": "2021-10-28T16:47:36.433Z"
   },
   {
    "duration": 374,
    "start_time": "2021-10-28T16:47:36.835Z"
   },
   {
    "duration": 506,
    "start_time": "2021-10-28T16:47:37.212Z"
   },
   {
    "duration": 9,
    "start_time": "2021-10-28T16:47:37.721Z"
   },
   {
    "duration": 13,
    "start_time": "2021-10-28T16:47:37.732Z"
   },
   {
    "duration": 11,
    "start_time": "2021-10-28T16:47:37.749Z"
   },
   {
    "duration": 68,
    "start_time": "2021-10-28T16:47:37.763Z"
   },
   {
    "duration": 39,
    "start_time": "2021-10-28T16:47:37.833Z"
   },
   {
    "duration": 32,
    "start_time": "2021-10-28T16:47:37.874Z"
   },
   {
    "duration": 58,
    "start_time": "2021-10-29T06:17:59.402Z"
   },
   {
    "duration": 55,
    "start_time": "2021-10-29T06:19:13.971Z"
   },
   {
    "duration": 61,
    "start_time": "2021-10-29T06:21:28.984Z"
   },
   {
    "duration": 57,
    "start_time": "2021-10-29T06:23:34.261Z"
   },
   {
    "duration": 54,
    "start_time": "2021-10-29T06:26:48.163Z"
   },
   {
    "duration": 542,
    "start_time": "2021-10-30T08:26:13.501Z"
   },
   {
    "duration": 1055,
    "start_time": "2021-10-30T08:26:20.959Z"
   },
   {
    "duration": 28,
    "start_time": "2021-10-30T08:26:22.017Z"
   },
   {
    "duration": 200,
    "start_time": "2021-10-30T08:26:22.049Z"
   },
   {
    "duration": 24,
    "start_time": "2021-10-30T08:26:22.252Z"
   },
   {
    "duration": 135,
    "start_time": "2021-10-30T08:26:22.279Z"
   },
   {
    "duration": 19,
    "start_time": "2021-10-30T08:26:22.416Z"
   },
   {
    "duration": 26,
    "start_time": "2021-10-30T08:26:22.438Z"
   },
   {
    "duration": 8,
    "start_time": "2021-10-30T08:26:22.468Z"
   },
   {
    "duration": 62,
    "start_time": "2021-10-30T08:26:22.502Z"
   },
   {
    "duration": 9,
    "start_time": "2021-10-30T08:26:22.566Z"
   },
   {
    "duration": 92,
    "start_time": "2021-10-30T08:26:22.577Z"
   },
   {
    "duration": 74,
    "start_time": "2021-10-30T08:26:22.671Z"
   },
   {
    "duration": 68,
    "start_time": "2021-10-30T08:26:22.747Z"
   },
   {
    "duration": 16,
    "start_time": "2021-10-30T08:26:22.817Z"
   },
   {
    "duration": 6,
    "start_time": "2021-10-30T08:26:22.835Z"
   },
   {
    "duration": 115,
    "start_time": "2021-10-30T08:26:22.843Z"
   },
   {
    "duration": 10,
    "start_time": "2021-10-30T08:26:22.960Z"
   },
   {
    "duration": 72,
    "start_time": "2021-10-30T08:26:22.972Z"
   },
   {
    "duration": 9,
    "start_time": "2021-10-30T08:26:23.046Z"
   },
   {
    "duration": 54,
    "start_time": "2021-10-30T08:26:23.057Z"
   },
   {
    "duration": 8,
    "start_time": "2021-10-30T08:26:23.113Z"
   },
   {
    "duration": 9,
    "start_time": "2021-10-30T08:26:23.123Z"
   },
   {
    "duration": 8,
    "start_time": "2021-10-30T08:26:23.138Z"
   },
   {
    "duration": 63,
    "start_time": "2021-10-30T08:26:23.149Z"
   },
   {
    "duration": 10,
    "start_time": "2021-10-30T08:26:23.215Z"
   },
   {
    "duration": 14,
    "start_time": "2021-10-30T08:26:23.228Z"
   },
   {
    "duration": 6,
    "start_time": "2021-10-30T08:26:23.244Z"
   },
   {
    "duration": 6,
    "start_time": "2021-10-30T08:26:23.253Z"
   },
   {
    "duration": 24,
    "start_time": "2021-10-30T08:26:23.302Z"
   },
   {
    "duration": 17,
    "start_time": "2021-10-30T08:26:23.328Z"
   },
   {
    "duration": 7,
    "start_time": "2021-10-30T08:26:23.347Z"
   },
   {
    "duration": 5,
    "start_time": "2021-10-30T08:26:23.357Z"
   },
   {
    "duration": 39,
    "start_time": "2021-10-30T08:26:23.365Z"
   },
   {
    "duration": 11,
    "start_time": "2021-10-30T08:26:23.406Z"
   },
   {
    "duration": 7,
    "start_time": "2021-10-30T08:26:23.419Z"
   },
   {
    "duration": 6,
    "start_time": "2021-10-30T08:26:23.429Z"
   },
   {
    "duration": 6,
    "start_time": "2021-10-30T08:26:23.437Z"
   },
   {
    "duration": 8,
    "start_time": "2021-10-30T08:26:23.445Z"
   },
   {
    "duration": 829,
    "start_time": "2021-10-30T08:26:23.456Z"
   },
   {
    "duration": 25,
    "start_time": "2021-10-30T08:26:24.288Z"
   },
   {
    "duration": 717,
    "start_time": "2021-10-30T08:26:24.315Z"
   },
   {
    "duration": 18,
    "start_time": "2021-10-30T08:26:25.035Z"
   },
   {
    "duration": 70,
    "start_time": "2021-10-30T08:26:25.056Z"
   },
   {
    "duration": 71,
    "start_time": "2021-10-30T08:26:25.129Z"
   },
   {
    "duration": 58,
    "start_time": "2021-10-30T08:26:25.203Z"
   },
   {
    "duration": 84,
    "start_time": "2021-10-30T08:26:25.263Z"
   },
   {
    "duration": 98,
    "start_time": "2021-10-30T08:26:25.349Z"
   },
   {
    "duration": 30,
    "start_time": "2021-10-30T08:26:25.449Z"
   },
   {
    "duration": 40,
    "start_time": "2021-10-30T08:26:25.482Z"
   },
   {
    "duration": 17,
    "start_time": "2021-10-30T08:26:25.525Z"
   },
   {
    "duration": 58,
    "start_time": "2021-10-30T08:26:25.544Z"
   },
   {
    "duration": 9,
    "start_time": "2021-10-30T08:26:25.604Z"
   },
   {
    "duration": 10,
    "start_time": "2021-10-30T08:26:25.615Z"
   },
   {
    "duration": 11,
    "start_time": "2021-10-30T08:26:25.627Z"
   },
   {
    "duration": 8,
    "start_time": "2021-10-30T08:26:25.641Z"
   },
   {
    "duration": 57,
    "start_time": "2021-10-30T08:26:25.651Z"
   },
   {
    "duration": 9,
    "start_time": "2021-10-30T08:26:25.710Z"
   },
   {
    "duration": 198,
    "start_time": "2021-10-30T08:26:25.721Z"
   },
   {
    "duration": 23,
    "start_time": "2021-10-30T08:26:25.921Z"
   },
   {
    "duration": 64,
    "start_time": "2021-10-30T08:26:25.946Z"
   },
   {
    "duration": 9,
    "start_time": "2021-10-30T08:26:26.012Z"
   },
   {
    "duration": 15,
    "start_time": "2021-10-30T08:26:26.023Z"
   },
   {
    "duration": 8,
    "start_time": "2021-10-30T08:26:26.040Z"
   },
   {
    "duration": 9,
    "start_time": "2021-10-30T08:26:26.050Z"
   },
   {
    "duration": 40,
    "start_time": "2021-10-30T08:26:26.062Z"
   },
   {
    "duration": 575,
    "start_time": "2021-10-30T08:26:26.105Z"
   },
   {
    "duration": 360,
    "start_time": "2021-10-30T08:26:26.682Z"
   },
   {
    "duration": 414,
    "start_time": "2021-10-30T08:26:27.049Z"
   },
   {
    "duration": 40,
    "start_time": "2021-10-30T08:26:27.466Z"
   },
   {
    "duration": 43,
    "start_time": "2021-10-30T08:26:27.509Z"
   },
   {
    "duration": 9,
    "start_time": "2021-10-30T08:26:27.555Z"
   },
   {
    "duration": 36,
    "start_time": "2021-10-30T08:26:27.566Z"
   },
   {
    "duration": 10,
    "start_time": "2021-10-30T08:26:27.604Z"
   },
   {
    "duration": 9,
    "start_time": "2021-10-30T08:26:27.617Z"
   },
   {
    "duration": 8,
    "start_time": "2021-10-30T08:26:27.628Z"
   },
   {
    "duration": 16,
    "start_time": "2021-10-30T08:26:27.638Z"
   },
   {
    "duration": 44,
    "start_time": "2021-10-30T08:26:27.657Z"
   },
   {
    "duration": 597,
    "start_time": "2021-10-30T08:26:27.703Z"
   },
   {
    "duration": 400,
    "start_time": "2021-10-30T08:26:28.303Z"
   },
   {
    "duration": 388,
    "start_time": "2021-10-30T08:26:28.705Z"
   },
   {
    "duration": 528,
    "start_time": "2021-10-30T08:26:29.100Z"
   },
   {
    "duration": 9,
    "start_time": "2021-10-30T08:26:29.630Z"
   },
   {
    "duration": 10,
    "start_time": "2021-10-30T08:26:29.641Z"
   },
   {
    "duration": 10,
    "start_time": "2021-10-30T08:26:29.653Z"
   },
   {
    "duration": 70,
    "start_time": "2021-10-30T08:26:29.665Z"
   },
   {
    "duration": 41,
    "start_time": "2021-10-30T08:26:29.737Z"
   },
   {
    "duration": 24,
    "start_time": "2021-10-30T08:26:29.780Z"
   },
   {
    "duration": 8940,
    "start_time": "2021-10-30T08:27:09.230Z"
   },
   {
    "duration": 231,
    "start_time": "2021-10-30T08:27:38.451Z"
   },
   {
    "duration": 40,
    "start_time": "2021-10-30T08:27:38.685Z"
   },
   {
    "duration": 220,
    "start_time": "2021-10-30T08:27:38.728Z"
   },
   {
    "duration": 23,
    "start_time": "2021-10-30T08:27:38.951Z"
   },
   {
    "duration": 137,
    "start_time": "2021-10-30T08:27:38.977Z"
   },
   {
    "duration": 19,
    "start_time": "2021-10-30T08:27:39.117Z"
   },
   {
    "duration": 27,
    "start_time": "2021-10-30T08:27:39.138Z"
   },
   {
    "duration": 33,
    "start_time": "2021-10-30T08:27:39.171Z"
   },
   {
    "duration": 63,
    "start_time": "2021-10-30T08:27:39.209Z"
   },
   {
    "duration": 9,
    "start_time": "2021-10-30T08:27:39.275Z"
   },
   {
    "duration": 92,
    "start_time": "2021-10-30T08:27:39.286Z"
   },
   {
    "duration": 68,
    "start_time": "2021-10-30T08:27:39.381Z"
   },
   {
    "duration": 72,
    "start_time": "2021-10-30T08:27:39.452Z"
   },
   {
    "duration": 15,
    "start_time": "2021-10-30T08:27:39.527Z"
   },
   {
    "duration": 7,
    "start_time": "2021-10-30T08:27:39.544Z"
   },
   {
    "duration": 109,
    "start_time": "2021-10-30T08:27:39.554Z"
   },
   {
    "duration": 10,
    "start_time": "2021-10-30T08:27:39.666Z"
   },
   {
    "duration": 60,
    "start_time": "2021-10-30T08:27:39.678Z"
   },
   {
    "duration": 10,
    "start_time": "2021-10-30T08:27:39.740Z"
   },
   {
    "duration": 60,
    "start_time": "2021-10-30T08:27:39.752Z"
   },
   {
    "duration": 9,
    "start_time": "2021-10-30T08:27:39.815Z"
   },
   {
    "duration": 18,
    "start_time": "2021-10-30T08:27:39.826Z"
   },
   {
    "duration": 9,
    "start_time": "2021-10-30T08:27:39.852Z"
   },
   {
    "duration": 57,
    "start_time": "2021-10-30T08:27:39.865Z"
   },
   {
    "duration": 12,
    "start_time": "2021-10-30T08:27:39.925Z"
   },
   {
    "duration": 17,
    "start_time": "2021-10-30T08:27:39.940Z"
   },
   {
    "duration": 45,
    "start_time": "2021-10-30T08:27:39.960Z"
   },
   {
    "duration": 10,
    "start_time": "2021-10-30T08:27:40.008Z"
   },
   {
    "duration": 24,
    "start_time": "2021-10-30T08:27:40.021Z"
   },
   {
    "duration": 57,
    "start_time": "2021-10-30T08:27:40.047Z"
   },
   {
    "duration": 7,
    "start_time": "2021-10-30T08:27:40.107Z"
   },
   {
    "duration": 7,
    "start_time": "2021-10-30T08:27:40.116Z"
   },
   {
    "duration": 6,
    "start_time": "2021-10-30T08:27:40.125Z"
   },
   {
    "duration": 6,
    "start_time": "2021-10-30T08:27:40.133Z"
   },
   {
    "duration": 6,
    "start_time": "2021-10-30T08:27:40.141Z"
   },
   {
    "duration": 56,
    "start_time": "2021-10-30T08:27:40.149Z"
   },
   {
    "duration": 8,
    "start_time": "2021-10-30T08:27:40.208Z"
   },
   {
    "duration": 7,
    "start_time": "2021-10-30T08:27:40.218Z"
   },
   {
    "duration": 673,
    "start_time": "2021-10-30T08:27:40.227Z"
   },
   {
    "duration": 19,
    "start_time": "2021-10-30T08:27:40.903Z"
   },
   {
    "duration": 662,
    "start_time": "2021-10-30T08:27:40.925Z"
   },
   {
    "duration": 24,
    "start_time": "2021-10-30T08:27:41.590Z"
   },
   {
    "duration": 46,
    "start_time": "2021-10-30T08:27:41.617Z"
   },
   {
    "duration": 76,
    "start_time": "2021-10-30T08:27:41.665Z"
   },
   {
    "duration": 61,
    "start_time": "2021-10-30T08:27:41.744Z"
   },
   {
    "duration": 67,
    "start_time": "2021-10-30T08:27:41.807Z"
   },
   {
    "duration": 83,
    "start_time": "2021-10-30T08:27:41.876Z"
   },
   {
    "duration": 52,
    "start_time": "2021-10-30T08:27:41.961Z"
   },
   {
    "duration": 33,
    "start_time": "2021-10-30T08:27:42.015Z"
   },
   {
    "duration": 15,
    "start_time": "2021-10-30T08:27:42.050Z"
   },
   {
    "duration": 57,
    "start_time": "2021-10-30T08:27:42.068Z"
   },
   {
    "duration": 9,
    "start_time": "2021-10-30T08:27:42.128Z"
   },
   {
    "duration": 25,
    "start_time": "2021-10-30T08:27:42.139Z"
   },
   {
    "duration": 23,
    "start_time": "2021-10-30T08:27:42.166Z"
   },
   {
    "duration": 22,
    "start_time": "2021-10-30T08:27:42.191Z"
   },
   {
    "duration": 27,
    "start_time": "2021-10-30T08:27:42.215Z"
   },
   {
    "duration": 15,
    "start_time": "2021-10-30T08:27:42.245Z"
   },
   {
    "duration": 204,
    "start_time": "2021-10-30T08:27:42.262Z"
   },
   {
    "duration": 35,
    "start_time": "2021-10-30T08:27:42.468Z"
   },
   {
    "duration": 40,
    "start_time": "2021-10-30T08:27:42.505Z"
   },
   {
    "duration": 9,
    "start_time": "2021-10-30T08:27:42.547Z"
   },
   {
    "duration": 10,
    "start_time": "2021-10-30T08:27:42.559Z"
   },
   {
    "duration": 10,
    "start_time": "2021-10-30T08:27:42.602Z"
   },
   {
    "duration": 9,
    "start_time": "2021-10-30T08:27:42.615Z"
   },
   {
    "duration": 11,
    "start_time": "2021-10-30T08:27:42.627Z"
   },
   {
    "duration": 612,
    "start_time": "2021-10-30T08:27:42.640Z"
   },
   {
    "duration": 472,
    "start_time": "2021-10-30T08:27:43.254Z"
   },
   {
    "duration": 396,
    "start_time": "2021-10-30T08:27:43.735Z"
   },
   {
    "duration": 26,
    "start_time": "2021-10-30T08:27:44.135Z"
   },
   {
    "duration": 68,
    "start_time": "2021-10-30T08:27:44.164Z"
   },
   {
    "duration": 11,
    "start_time": "2021-10-30T08:27:44.235Z"
   },
   {
    "duration": 9,
    "start_time": "2021-10-30T08:27:44.249Z"
   },
   {
    "duration": 43,
    "start_time": "2021-10-30T08:27:44.261Z"
   },
   {
    "duration": 9,
    "start_time": "2021-10-30T08:27:44.307Z"
   },
   {
    "duration": 8,
    "start_time": "2021-10-30T08:27:44.318Z"
   },
   {
    "duration": 12,
    "start_time": "2021-10-30T08:27:44.328Z"
   },
   {
    "duration": 9,
    "start_time": "2021-10-30T08:27:44.342Z"
   },
   {
    "duration": 622,
    "start_time": "2021-10-30T08:27:44.354Z"
   },
   {
    "duration": 398,
    "start_time": "2021-10-30T08:27:44.978Z"
   },
   {
    "duration": 380,
    "start_time": "2021-10-30T08:27:45.378Z"
   },
   {
    "duration": 9,
    "start_time": "2021-10-30T08:27:45.761Z"
   },
   {
    "duration": 30,
    "start_time": "2021-10-30T08:27:45.772Z"
   },
   {
    "duration": 10,
    "start_time": "2021-10-30T08:27:45.805Z"
   },
   {
    "duration": 10,
    "start_time": "2021-10-30T08:27:45.817Z"
   },
   {
    "duration": 72,
    "start_time": "2021-10-30T08:27:45.830Z"
   },
   {
    "duration": 44,
    "start_time": "2021-10-30T08:27:45.904Z"
   },
   {
    "duration": 9,
    "start_time": "2021-10-30T08:27:45.951Z"
   },
   {
    "duration": 8892,
    "start_time": "2021-10-30T08:28:23.221Z"
   },
   {
    "duration": 1114,
    "start_time": "2021-10-30T08:30:03.879Z"
   },
   {
    "duration": 33,
    "start_time": "2021-10-30T08:30:04.996Z"
   },
   {
    "duration": 210,
    "start_time": "2021-10-30T08:30:05.033Z"
   },
   {
    "duration": 24,
    "start_time": "2021-10-30T08:30:05.247Z"
   },
   {
    "duration": 152,
    "start_time": "2021-10-30T08:30:05.274Z"
   },
   {
    "duration": 20,
    "start_time": "2021-10-30T08:30:05.428Z"
   },
   {
    "duration": 25,
    "start_time": "2021-10-30T08:30:05.451Z"
   },
   {
    "duration": 21,
    "start_time": "2021-10-30T08:30:05.481Z"
   },
   {
    "duration": 55,
    "start_time": "2021-10-30T08:30:05.505Z"
   },
   {
    "duration": 8,
    "start_time": "2021-10-30T08:30:05.563Z"
   },
   {
    "duration": 98,
    "start_time": "2021-10-30T08:30:05.574Z"
   },
   {
    "duration": 75,
    "start_time": "2021-10-30T08:30:05.674Z"
   },
   {
    "duration": 68,
    "start_time": "2021-10-30T08:30:05.752Z"
   },
   {
    "duration": 15,
    "start_time": "2021-10-30T08:30:05.823Z"
   },
   {
    "duration": 9,
    "start_time": "2021-10-30T08:30:05.840Z"
   },
   {
    "duration": 114,
    "start_time": "2021-10-30T08:30:05.851Z"
   },
   {
    "duration": 9,
    "start_time": "2021-10-30T08:30:05.968Z"
   },
   {
    "duration": 63,
    "start_time": "2021-10-30T08:30:05.980Z"
   },
   {
    "duration": 10,
    "start_time": "2021-10-30T08:30:06.046Z"
   },
   {
    "duration": 63,
    "start_time": "2021-10-30T08:30:06.059Z"
   },
   {
    "duration": 9,
    "start_time": "2021-10-30T08:30:06.126Z"
   },
   {
    "duration": 12,
    "start_time": "2021-10-30T08:30:06.138Z"
   },
   {
    "duration": 44,
    "start_time": "2021-10-30T08:30:06.158Z"
   },
   {
    "duration": 27,
    "start_time": "2021-10-30T08:30:06.206Z"
   },
   {
    "duration": 10,
    "start_time": "2021-10-30T08:30:06.235Z"
   },
   {
    "duration": 15,
    "start_time": "2021-10-30T08:30:06.247Z"
   },
   {
    "duration": 40,
    "start_time": "2021-10-30T08:30:06.264Z"
   },
   {
    "duration": 6,
    "start_time": "2021-10-30T08:30:06.306Z"
   },
   {
    "duration": 24,
    "start_time": "2021-10-30T08:30:06.315Z"
   },
   {
    "duration": 18,
    "start_time": "2021-10-30T08:30:06.341Z"
   },
   {
    "duration": 6,
    "start_time": "2021-10-30T08:30:06.401Z"
   },
   {
    "duration": 7,
    "start_time": "2021-10-30T08:30:06.409Z"
   },
   {
    "duration": 7,
    "start_time": "2021-10-30T08:30:06.418Z"
   },
   {
    "duration": 6,
    "start_time": "2021-10-30T08:30:06.427Z"
   },
   {
    "duration": 7,
    "start_time": "2021-10-30T08:30:06.436Z"
   },
   {
    "duration": 58,
    "start_time": "2021-10-30T08:30:06.445Z"
   },
   {
    "duration": 7,
    "start_time": "2021-10-30T08:30:06.506Z"
   },
   {
    "duration": 9,
    "start_time": "2021-10-30T08:30:06.515Z"
   },
   {
    "duration": 893,
    "start_time": "2021-10-30T08:30:06.526Z"
   },
   {
    "duration": 21,
    "start_time": "2021-10-30T08:30:07.422Z"
   },
   {
    "duration": 938,
    "start_time": "2021-10-30T08:30:07.445Z"
   },
   {
    "duration": 30,
    "start_time": "2021-10-30T08:30:08.386Z"
   },
   {
    "duration": 47,
    "start_time": "2021-10-30T08:30:08.420Z"
   },
   {
    "duration": 85,
    "start_time": "2021-10-30T08:30:08.470Z"
   },
   {
    "duration": 86,
    "start_time": "2021-10-30T08:30:08.558Z"
   },
   {
    "duration": 84,
    "start_time": "2021-10-30T08:30:08.647Z"
   },
   {
    "duration": 108,
    "start_time": "2021-10-30T08:30:08.734Z"
   },
   {
    "duration": 31,
    "start_time": "2021-10-30T08:30:08.844Z"
   },
   {
    "duration": 43,
    "start_time": "2021-10-30T08:30:08.878Z"
   },
   {
    "duration": 14,
    "start_time": "2021-10-30T08:30:08.924Z"
   },
   {
    "duration": 30,
    "start_time": "2021-10-30T08:30:08.941Z"
   },
   {
    "duration": 37,
    "start_time": "2021-10-30T08:30:08.973Z"
   },
   {
    "duration": 11,
    "start_time": "2021-10-30T08:30:09.013Z"
   },
   {
    "duration": 11,
    "start_time": "2021-10-30T08:30:09.027Z"
   },
   {
    "duration": 8,
    "start_time": "2021-10-30T08:30:09.041Z"
   },
   {
    "duration": 49,
    "start_time": "2021-10-30T08:30:09.052Z"
   },
   {
    "duration": 12,
    "start_time": "2021-10-30T08:30:09.104Z"
   },
   {
    "duration": 230,
    "start_time": "2021-10-30T08:30:09.120Z"
   },
   {
    "duration": 25,
    "start_time": "2021-10-30T08:30:09.353Z"
   },
   {
    "duration": 54,
    "start_time": "2021-10-30T08:30:09.380Z"
   },
   {
    "duration": 10,
    "start_time": "2021-10-30T08:30:09.436Z"
   },
   {
    "duration": 12,
    "start_time": "2021-10-30T08:30:09.448Z"
   },
   {
    "duration": 8,
    "start_time": "2021-10-30T08:30:09.500Z"
   },
   {
    "duration": 18,
    "start_time": "2021-10-30T08:30:09.511Z"
   },
   {
    "duration": 10,
    "start_time": "2021-10-30T08:30:09.531Z"
   },
   {
    "duration": 616,
    "start_time": "2021-10-30T08:30:09.543Z"
   },
   {
    "duration": 346,
    "start_time": "2021-10-30T08:30:10.162Z"
   },
   {
    "duration": 414,
    "start_time": "2021-10-30T08:30:10.516Z"
   },
   {
    "duration": 23,
    "start_time": "2021-10-30T08:30:10.934Z"
   },
   {
    "duration": 62,
    "start_time": "2021-10-30T08:30:10.959Z"
   },
   {
    "duration": 9,
    "start_time": "2021-10-30T08:30:11.023Z"
   },
   {
    "duration": 10,
    "start_time": "2021-10-30T08:30:11.034Z"
   },
   {
    "duration": 9,
    "start_time": "2021-10-30T08:30:11.047Z"
   },
   {
    "duration": 10,
    "start_time": "2021-10-30T08:30:11.058Z"
   },
   {
    "duration": 7,
    "start_time": "2021-10-30T08:30:11.101Z"
   },
   {
    "duration": 10,
    "start_time": "2021-10-30T08:30:11.111Z"
   },
   {
    "duration": 7,
    "start_time": "2021-10-30T08:30:11.124Z"
   },
   {
    "duration": 607,
    "start_time": "2021-10-30T08:30:11.133Z"
   },
   {
    "duration": 388,
    "start_time": "2021-10-30T08:30:11.743Z"
   },
   {
    "duration": 379,
    "start_time": "2021-10-30T08:30:12.134Z"
   },
   {
    "duration": 559,
    "start_time": "2021-10-30T08:30:12.516Z"
   },
   {
    "duration": 9,
    "start_time": "2021-10-30T08:30:13.077Z"
   },
   {
    "duration": 18,
    "start_time": "2021-10-30T08:30:13.089Z"
   },
   {
    "duration": 13,
    "start_time": "2021-10-30T08:30:13.110Z"
   },
   {
    "duration": 42,
    "start_time": "2021-10-30T08:30:13.125Z"
   },
   {
    "duration": 71,
    "start_time": "2021-10-30T08:30:13.170Z"
   },
   {
    "duration": 7,
    "start_time": "2021-10-30T08:30:13.244Z"
   },
   {
    "duration": 11251,
    "start_time": "2021-10-30T08:30:36.975Z"
   },
   {
    "duration": 1098,
    "start_time": "2021-10-30T08:30:57.367Z"
   },
   {
    "duration": 36,
    "start_time": "2021-10-30T08:30:58.468Z"
   },
   {
    "duration": 213,
    "start_time": "2021-10-30T08:30:58.507Z"
   },
   {
    "duration": 35,
    "start_time": "2021-10-30T08:30:58.724Z"
   },
   {
    "duration": 140,
    "start_time": "2021-10-30T08:30:58.761Z"
   },
   {
    "duration": 19,
    "start_time": "2021-10-30T08:30:58.904Z"
   },
   {
    "duration": 27,
    "start_time": "2021-10-30T08:30:58.926Z"
   },
   {
    "duration": 9,
    "start_time": "2021-10-30T08:30:58.959Z"
   },
   {
    "duration": 54,
    "start_time": "2021-10-30T08:30:59.001Z"
   },
   {
    "duration": 10,
    "start_time": "2021-10-30T08:30:59.058Z"
   },
   {
    "duration": 97,
    "start_time": "2021-10-30T08:30:59.070Z"
   },
   {
    "duration": 75,
    "start_time": "2021-10-30T08:30:59.169Z"
   },
   {
    "duration": 63,
    "start_time": "2021-10-30T08:30:59.247Z"
   },
   {
    "duration": 16,
    "start_time": "2021-10-30T08:30:59.312Z"
   },
   {
    "duration": 11,
    "start_time": "2021-10-30T08:30:59.330Z"
   },
   {
    "duration": 109,
    "start_time": "2021-10-30T08:30:59.344Z"
   },
   {
    "duration": 9,
    "start_time": "2021-10-30T08:30:59.456Z"
   },
   {
    "duration": 66,
    "start_time": "2021-10-30T08:30:59.467Z"
   },
   {
    "duration": 8,
    "start_time": "2021-10-30T08:30:59.536Z"
   },
   {
    "duration": 54,
    "start_time": "2021-10-30T08:30:59.547Z"
   },
   {
    "duration": 8,
    "start_time": "2021-10-30T08:30:59.604Z"
   },
   {
    "duration": 20,
    "start_time": "2021-10-30T08:30:59.615Z"
   },
   {
    "duration": 9,
    "start_time": "2021-10-30T08:30:59.641Z"
   },
   {
    "duration": 49,
    "start_time": "2021-10-30T08:30:59.654Z"
   },
   {
    "duration": 11,
    "start_time": "2021-10-30T08:30:59.706Z"
   },
   {
    "duration": 19,
    "start_time": "2021-10-30T08:30:59.719Z"
   },
   {
    "duration": 17,
    "start_time": "2021-10-30T08:30:59.741Z"
   },
   {
    "duration": 13,
    "start_time": "2021-10-30T08:30:59.760Z"
   },
   {
    "duration": 44,
    "start_time": "2021-10-30T08:30:59.775Z"
   },
   {
    "duration": 18,
    "start_time": "2021-10-30T08:30:59.821Z"
   },
   {
    "duration": 14,
    "start_time": "2021-10-30T08:30:59.842Z"
   },
   {
    "duration": 22,
    "start_time": "2021-10-30T08:30:59.859Z"
   },
   {
    "duration": 22,
    "start_time": "2021-10-30T08:30:59.883Z"
   },
   {
    "duration": 20,
    "start_time": "2021-10-30T08:30:59.907Z"
   },
   {
    "duration": 25,
    "start_time": "2021-10-30T08:30:59.929Z"
   },
   {
    "duration": 19,
    "start_time": "2021-10-30T08:30:59.956Z"
   },
   {
    "duration": 22,
    "start_time": "2021-10-30T08:30:59.978Z"
   },
   {
    "duration": 9,
    "start_time": "2021-10-30T08:31:00.002Z"
   },
   {
    "duration": 822,
    "start_time": "2021-10-30T08:31:00.014Z"
   },
   {
    "duration": 23,
    "start_time": "2021-10-30T08:31:00.839Z"
   },
   {
    "duration": 752,
    "start_time": "2021-10-30T08:31:00.864Z"
   },
   {
    "duration": 21,
    "start_time": "2021-10-30T08:31:01.619Z"
   },
   {
    "duration": 94,
    "start_time": "2021-10-30T08:31:01.644Z"
   },
   {
    "duration": 142,
    "start_time": "2021-10-30T08:31:01.741Z"
   },
   {
    "duration": 77,
    "start_time": "2021-10-30T08:31:01.886Z"
   },
   {
    "duration": 69,
    "start_time": "2021-10-30T08:31:01.965Z"
   },
   {
    "duration": 91,
    "start_time": "2021-10-30T08:31:02.037Z"
   },
   {
    "duration": 29,
    "start_time": "2021-10-30T08:31:02.130Z"
   },
   {
    "duration": 48,
    "start_time": "2021-10-30T08:31:02.162Z"
   },
   {
    "duration": 15,
    "start_time": "2021-10-30T08:31:02.212Z"
   },
   {
    "duration": 36,
    "start_time": "2021-10-30T08:31:02.229Z"
   },
   {
    "duration": 34,
    "start_time": "2021-10-30T08:31:02.268Z"
   },
   {
    "duration": 9,
    "start_time": "2021-10-30T08:31:02.304Z"
   },
   {
    "duration": 18,
    "start_time": "2021-10-30T08:31:02.315Z"
   },
   {
    "duration": 15,
    "start_time": "2021-10-30T08:31:02.336Z"
   },
   {
    "duration": 23,
    "start_time": "2021-10-30T08:31:02.354Z"
   },
   {
    "duration": 26,
    "start_time": "2021-10-30T08:31:02.381Z"
   },
   {
    "duration": 190,
    "start_time": "2021-10-30T08:31:02.410Z"
   },
   {
    "duration": 24,
    "start_time": "2021-10-30T08:31:02.603Z"
   },
   {
    "duration": 38,
    "start_time": "2021-10-30T08:31:02.629Z"
   },
   {
    "duration": 38,
    "start_time": "2021-10-30T08:31:02.669Z"
   },
   {
    "duration": 12,
    "start_time": "2021-10-30T08:31:02.709Z"
   },
   {
    "duration": 39,
    "start_time": "2021-10-30T08:31:02.723Z"
   },
   {
    "duration": 15,
    "start_time": "2021-10-30T08:31:02.764Z"
   },
   {
    "duration": 8,
    "start_time": "2021-10-30T08:31:02.782Z"
   },
   {
    "duration": 632,
    "start_time": "2021-10-30T08:31:02.792Z"
   },
   {
    "duration": 360,
    "start_time": "2021-10-30T08:31:03.427Z"
   },
   {
    "duration": 402,
    "start_time": "2021-10-30T08:31:03.801Z"
   },
   {
    "duration": 23,
    "start_time": "2021-10-30T08:31:04.206Z"
   },
   {
    "duration": 42,
    "start_time": "2021-10-30T08:31:04.231Z"
   },
   {
    "duration": 30,
    "start_time": "2021-10-30T08:31:04.275Z"
   },
   {
    "duration": 13,
    "start_time": "2021-10-30T08:31:04.308Z"
   },
   {
    "duration": 11,
    "start_time": "2021-10-30T08:31:04.323Z"
   },
   {
    "duration": 11,
    "start_time": "2021-10-30T08:31:04.336Z"
   },
   {
    "duration": 8,
    "start_time": "2021-10-30T08:31:04.349Z"
   },
   {
    "duration": 8,
    "start_time": "2021-10-30T08:31:04.400Z"
   },
   {
    "duration": 8,
    "start_time": "2021-10-30T08:31:04.411Z"
   },
   {
    "duration": 603,
    "start_time": "2021-10-30T08:31:04.421Z"
   },
   {
    "duration": 385,
    "start_time": "2021-10-30T08:31:05.027Z"
   },
   {
    "duration": 371,
    "start_time": "2021-10-30T08:31:05.414Z"
   },
   {
    "duration": 531,
    "start_time": "2021-10-30T08:31:05.787Z"
   },
   {
    "duration": 9,
    "start_time": "2021-10-30T08:31:06.321Z"
   },
   {
    "duration": 10,
    "start_time": "2021-10-30T08:31:06.333Z"
   },
   {
    "duration": 10,
    "start_time": "2021-10-30T08:31:06.345Z"
   },
   {
    "duration": 78,
    "start_time": "2021-10-30T08:31:06.358Z"
   },
   {
    "duration": 42,
    "start_time": "2021-10-30T08:31:06.438Z"
   },
   {
    "duration": 22,
    "start_time": "2021-10-30T08:31:06.482Z"
   },
   {
    "duration": 9536,
    "start_time": "2021-10-30T08:31:27.001Z"
   },
   {
    "duration": 6301,
    "start_time": "2021-10-30T08:31:30.239Z"
   },
   {
    "duration": 213,
    "start_time": "2021-10-30T08:31:53.477Z"
   },
   {
    "duration": 27,
    "start_time": "2021-10-30T08:31:56.274Z"
   },
   {
    "duration": 185,
    "start_time": "2021-10-30T08:31:59.319Z"
   },
   {
    "duration": 22,
    "start_time": "2021-10-30T08:32:02.220Z"
   },
   {
    "duration": 130,
    "start_time": "2021-10-30T08:32:04.530Z"
   },
   {
    "duration": 20,
    "start_time": "2021-10-30T08:32:07.277Z"
   },
   {
    "duration": 26,
    "start_time": "2021-10-30T08:32:09.494Z"
   },
   {
    "duration": 9,
    "start_time": "2021-10-30T08:32:11.611Z"
   },
   {
    "duration": 53,
    "start_time": "2021-10-30T08:32:13.666Z"
   },
   {
    "duration": 9,
    "start_time": "2021-10-30T08:32:16.756Z"
   },
   {
    "duration": 82,
    "start_time": "2021-10-30T08:32:20.527Z"
   },
   {
    "duration": 61,
    "start_time": "2021-10-30T08:32:25.496Z"
   },
   {
    "duration": 50,
    "start_time": "2021-10-30T08:32:28.210Z"
   },
   {
    "duration": 15,
    "start_time": "2021-10-30T08:32:31.116Z"
   },
   {
    "duration": 5,
    "start_time": "2021-10-30T08:32:34.965Z"
   },
   {
    "duration": 86,
    "start_time": "2021-10-30T08:32:36.928Z"
   },
   {
    "duration": 11,
    "start_time": "2021-10-30T08:32:38.750Z"
   },
   {
    "duration": 44,
    "start_time": "2021-10-30T08:32:40.649Z"
   },
   {
    "duration": 9,
    "start_time": "2021-10-30T08:32:42.333Z"
   },
   {
    "duration": 35,
    "start_time": "2021-10-30T08:32:44.430Z"
   },
   {
    "duration": 8,
    "start_time": "2021-10-30T08:32:46.282Z"
   },
   {
    "duration": 9,
    "start_time": "2021-10-30T08:32:47.654Z"
   },
   {
    "duration": 9,
    "start_time": "2021-10-30T08:32:50.116Z"
   },
   {
    "duration": 13,
    "start_time": "2021-10-30T08:33:30.135Z"
   },
   {
    "duration": 13,
    "start_time": "2021-10-30T08:33:43.993Z"
   },
   {
    "duration": 18,
    "start_time": "2021-10-30T08:34:05.672Z"
   },
   {
    "duration": 12,
    "start_time": "2021-10-30T08:34:40.150Z"
   },
   {
    "duration": 16,
    "start_time": "2021-10-30T08:34:42.806Z"
   },
   {
    "duration": 14,
    "start_time": "2021-10-30T08:36:18.515Z"
   },
   {
    "duration": 128,
    "start_time": "2021-10-30T08:37:32.264Z"
   },
   {
    "duration": 118,
    "start_time": "2021-10-30T08:37:42.130Z"
   },
   {
    "duration": 7,
    "start_time": "2021-10-30T08:44:31.437Z"
   },
   {
    "duration": 6,
    "start_time": "2021-10-30T08:44:33.613Z"
   },
   {
    "duration": 6,
    "start_time": "2021-10-30T08:44:43.641Z"
   },
   {
    "duration": 642,
    "start_time": "2021-10-30T08:45:33.686Z"
   },
   {
    "duration": 650,
    "start_time": "2021-10-30T08:45:44.229Z"
   },
   {
    "duration": 239,
    "start_time": "2021-10-30T08:46:23.282Z"
   },
   {
    "duration": 993,
    "start_time": "2021-10-30T08:46:32.100Z"
   },
   {
    "duration": 7,
    "start_time": "2021-10-30T08:46:53.472Z"
   },
   {
    "duration": 646,
    "start_time": "2021-10-30T08:46:58.741Z"
   },
   {
    "duration": 969,
    "start_time": "2021-10-30T08:47:06.743Z"
   },
   {
    "duration": 741,
    "start_time": "2021-10-30T08:47:20.352Z"
   },
   {
    "duration": 660,
    "start_time": "2021-10-30T08:47:50.799Z"
   },
   {
    "duration": 634,
    "start_time": "2021-10-30T08:47:59.678Z"
   },
   {
    "duration": 646,
    "start_time": "2021-10-30T08:48:05.297Z"
   },
   {
    "duration": 753,
    "start_time": "2021-10-30T08:48:10.084Z"
   },
   {
    "duration": 49,
    "start_time": "2021-10-30T08:55:39.460Z"
   },
   {
    "duration": 73,
    "start_time": "2021-10-30T08:59:24.055Z"
   },
   {
    "duration": 63,
    "start_time": "2021-10-30T08:59:36.516Z"
   },
   {
    "duration": 71,
    "start_time": "2021-10-30T08:59:46.437Z"
   },
   {
    "duration": 76,
    "start_time": "2021-10-30T09:00:35.507Z"
   },
   {
    "duration": 29,
    "start_time": "2021-10-30T09:07:09.406Z"
   },
   {
    "duration": 31,
    "start_time": "2021-10-30T09:07:11.796Z"
   },
   {
    "duration": 19,
    "start_time": "2021-10-30T09:07:14.984Z"
   },
   {
    "duration": 27,
    "start_time": "2021-10-30T09:07:44.720Z"
   },
   {
    "duration": 29,
    "start_time": "2021-10-30T09:08:02.884Z"
   },
   {
    "duration": 10,
    "start_time": "2021-10-30T09:08:23.170Z"
   },
   {
    "duration": 10,
    "start_time": "2021-10-30T09:08:27.900Z"
   },
   {
    "duration": 11,
    "start_time": "2021-10-30T09:08:45.830Z"
   },
   {
    "duration": 11,
    "start_time": "2021-10-30T09:08:47.849Z"
   },
   {
    "duration": 12,
    "start_time": "2021-10-30T09:08:50.399Z"
   },
   {
    "duration": 10,
    "start_time": "2021-10-30T09:17:25.403Z"
   },
   {
    "duration": 734,
    "start_time": "2021-10-30T09:17:51.018Z"
   },
   {
    "duration": 10,
    "start_time": "2021-10-30T09:18:08.416Z"
   },
   {
    "duration": 776,
    "start_time": "2021-10-30T09:18:21.806Z"
   },
   {
    "duration": 21,
    "start_time": "2021-10-30T09:18:39.162Z"
   },
   {
    "duration": 1281,
    "start_time": "2021-10-30T09:18:56.292Z"
   },
   {
    "duration": 760,
    "start_time": "2021-10-30T09:19:48.162Z"
   },
   {
    "duration": 10,
    "start_time": "2021-10-30T09:20:06.524Z"
   },
   {
    "duration": 28,
    "start_time": "2021-10-30T09:20:27.101Z"
   },
   {
    "duration": 9,
    "start_time": "2021-10-30T09:20:30.585Z"
   },
   {
    "duration": 9,
    "start_time": "2021-10-30T09:20:55.531Z"
   },
   {
    "duration": 9,
    "start_time": "2021-10-30T09:20:57.943Z"
   },
   {
    "duration": 11,
    "start_time": "2021-10-30T09:21:01.135Z"
   },
   {
    "duration": 8,
    "start_time": "2021-10-30T09:21:03.389Z"
   },
   {
    "duration": 11,
    "start_time": "2021-10-30T09:21:05.990Z"
   },
   {
    "duration": 9,
    "start_time": "2021-10-30T09:21:09.243Z"
   },
   {
    "duration": 738,
    "start_time": "2021-10-30T09:21:13.049Z"
   },
   {
    "duration": 702,
    "start_time": "2021-10-30T09:32:10.626Z"
   },
   {
    "duration": 9,
    "start_time": "2021-10-30T09:34:48.453Z"
   },
   {
    "duration": 722,
    "start_time": "2021-10-30T09:34:54.973Z"
   },
   {
    "duration": 3,
    "start_time": "2021-10-30T09:37:47.467Z"
   },
   {
    "duration": 357,
    "start_time": "2021-10-30T09:38:08.192Z"
   },
   {
    "duration": 369,
    "start_time": "2021-10-30T09:39:02.717Z"
   },
   {
    "duration": 124,
    "start_time": "2021-10-30T09:41:46.094Z"
   },
   {
    "duration": 123,
    "start_time": "2021-10-30T09:41:59.451Z"
   },
   {
    "duration": 362,
    "start_time": "2021-10-30T09:42:23.664Z"
   },
   {
    "duration": 360,
    "start_time": "2021-10-30T09:42:54.252Z"
   },
   {
    "duration": 5,
    "start_time": "2021-10-30T09:43:04.671Z"
   },
   {
    "duration": 449,
    "start_time": "2021-10-30T09:43:42.104Z"
   },
   {
    "duration": 384,
    "start_time": "2021-10-30T09:43:47.277Z"
   },
   {
    "duration": 8,
    "start_time": "2021-10-30T09:44:43.244Z"
   },
   {
    "duration": 371,
    "start_time": "2021-10-30T09:45:02.210Z"
   },
   {
    "duration": 7,
    "start_time": "2021-10-30T09:45:13.935Z"
   },
   {
    "duration": 19,
    "start_time": "2021-10-30T09:45:57.963Z"
   },
   {
    "duration": 10527,
    "start_time": "2021-10-30T09:46:05.754Z"
   },
   {
    "duration": 9724,
    "start_time": "2021-10-30T09:46:28.786Z"
   },
   {
    "duration": 785,
    "start_time": "2021-10-30T09:46:40.767Z"
   },
   {
    "duration": 10,
    "start_time": "2021-10-30T09:51:12.301Z"
   },
   {
    "duration": 883,
    "start_time": "2021-10-30T09:51:15.572Z"
   },
   {
    "duration": 10,
    "start_time": "2021-10-30T09:51:34.049Z"
   },
   {
    "duration": 739,
    "start_time": "2021-10-30T09:51:37.069Z"
   },
   {
    "duration": 9,
    "start_time": "2021-10-30T09:52:07.064Z"
   },
   {
    "duration": 983,
    "start_time": "2021-10-30T09:52:13.637Z"
   },
   {
    "duration": 10,
    "start_time": "2021-10-30T09:52:40.680Z"
   },
   {
    "duration": 821,
    "start_time": "2021-10-30T09:52:43.560Z"
   },
   {
    "duration": 10,
    "start_time": "2021-10-30T09:54:53.735Z"
   },
   {
    "duration": 383,
    "start_time": "2021-10-30T09:55:00.769Z"
   },
   {
    "duration": 5,
    "start_time": "2021-10-30T09:59:52.554Z"
   },
   {
    "duration": 14,
    "start_time": "2021-10-30T09:59:57.482Z"
   },
   {
    "duration": 33,
    "start_time": "2021-10-30T10:00:06.187Z"
   },
   {
    "duration": 371,
    "start_time": "2021-10-30T10:01:50.700Z"
   },
   {
    "duration": 10,
    "start_time": "2021-10-30T10:01:51.394Z"
   },
   {
    "duration": 394,
    "start_time": "2021-10-30T10:01:54.055Z"
   },
   {
    "duration": 778,
    "start_time": "2021-10-30T10:02:27.747Z"
   },
   {
    "duration": 389,
    "start_time": "2021-10-30T10:02:36.249Z"
   },
   {
    "duration": 31,
    "start_time": "2021-10-30T10:03:21.265Z"
   },
   {
    "duration": 75,
    "start_time": "2021-10-30T10:03:27.893Z"
   },
   {
    "duration": 752,
    "start_time": "2021-10-30T10:04:26.398Z"
   },
   {
    "duration": 388,
    "start_time": "2021-10-30T10:04:41.951Z"
   },
   {
    "duration": 399,
    "start_time": "2021-10-30T10:05:05.341Z"
   },
   {
    "duration": 76,
    "start_time": "2021-10-30T10:05:38.134Z"
   },
   {
    "duration": 5,
    "start_time": "2021-10-30T10:06:25.634Z"
   },
   {
    "duration": 11,
    "start_time": "2021-10-30T10:06:47.631Z"
   },
   {
    "duration": 10,
    "start_time": "2021-10-30T10:07:01.646Z"
   },
   {
    "duration": 668,
    "start_time": "2021-10-30T10:07:35.881Z"
   },
   {
    "duration": 815,
    "start_time": "2021-10-30T10:07:46.703Z"
   },
   {
    "duration": 371,
    "start_time": "2021-10-30T10:07:52.878Z"
   },
   {
    "duration": 1250,
    "start_time": "2021-10-30T12:11:03.281Z"
   },
   {
    "duration": 32,
    "start_time": "2021-10-30T12:11:07.891Z"
   },
   {
    "duration": 186,
    "start_time": "2021-10-30T12:11:11.645Z"
   },
   {
    "duration": 24,
    "start_time": "2021-10-30T12:11:16.559Z"
   },
   {
    "duration": 127,
    "start_time": "2021-10-30T12:11:18.666Z"
   },
   {
    "duration": 20,
    "start_time": "2021-10-30T12:11:21.317Z"
   },
   {
    "duration": 26,
    "start_time": "2021-10-30T12:11:23.362Z"
   },
   {
    "duration": 12,
    "start_time": "2021-10-30T12:11:25.321Z"
   },
   {
    "duration": 55,
    "start_time": "2021-10-30T12:11:27.620Z"
   },
   {
    "duration": 13,
    "start_time": "2021-10-30T12:11:31.451Z"
   },
   {
    "duration": 91,
    "start_time": "2021-10-30T12:11:35.063Z"
   },
   {
    "duration": 68,
    "start_time": "2021-10-30T12:11:37.092Z"
   },
   {
    "duration": 51,
    "start_time": "2021-10-30T12:11:39.673Z"
   },
   {
    "duration": 15,
    "start_time": "2021-10-30T12:11:42.830Z"
   },
   {
    "duration": 15,
    "start_time": "2021-10-30T12:11:44.972Z"
   },
   {
    "duration": 6,
    "start_time": "2021-10-30T12:11:48.335Z"
   },
   {
    "duration": 90,
    "start_time": "2021-10-30T12:11:50.813Z"
   },
   {
    "duration": 10,
    "start_time": "2021-10-30T12:11:53.312Z"
   },
   {
    "duration": 46,
    "start_time": "2021-10-30T12:11:55.711Z"
   },
   {
    "duration": 9,
    "start_time": "2021-10-30T12:11:57.475Z"
   },
   {
    "duration": 35,
    "start_time": "2021-10-30T12:11:59.826Z"
   },
   {
    "duration": 10,
    "start_time": "2021-10-30T12:12:01.678Z"
   },
   {
    "duration": 11,
    "start_time": "2021-10-30T12:12:03.638Z"
   },
   {
    "duration": 8,
    "start_time": "2021-10-30T12:12:05.621Z"
   },
   {
    "duration": 17,
    "start_time": "2021-10-30T12:12:09.078Z"
   },
   {
    "duration": 7,
    "start_time": "2021-10-30T12:12:27.922Z"
   },
   {
    "duration": 7,
    "start_time": "2021-10-30T12:12:30.061Z"
   },
   {
    "duration": 18,
    "start_time": "2021-10-30T12:12:34.522Z"
   },
   {
    "duration": 6,
    "start_time": "2021-10-30T12:12:38.403Z"
   },
   {
    "duration": 6,
    "start_time": "2021-10-30T12:12:44.459Z"
   },
   {
    "duration": 6,
    "start_time": "2021-10-30T12:12:46.697Z"
   },
   {
    "duration": 6,
    "start_time": "2021-10-30T12:12:48.820Z"
   },
   {
    "duration": 6,
    "start_time": "2021-10-30T12:12:51.164Z"
   },
   {
    "duration": 5,
    "start_time": "2021-10-30T12:12:55.499Z"
   },
   {
    "duration": 6,
    "start_time": "2021-10-30T12:12:57.840Z"
   },
   {
    "duration": 7,
    "start_time": "2021-10-30T12:13:00.932Z"
   },
   {
    "duration": 747,
    "start_time": "2021-10-30T12:13:05.016Z"
   },
   {
    "duration": 21,
    "start_time": "2021-10-30T12:13:08.824Z"
   },
   {
    "duration": 685,
    "start_time": "2021-10-30T12:13:13.763Z"
   },
   {
    "duration": 18,
    "start_time": "2021-10-30T12:13:17.978Z"
   },
   {
    "duration": 44,
    "start_time": "2021-10-30T12:13:24.886Z"
   },
   {
    "duration": 67,
    "start_time": "2021-10-30T12:13:31.040Z"
   },
   {
    "duration": 70,
    "start_time": "2021-10-30T12:13:36.494Z"
   },
   {
    "duration": 77,
    "start_time": "2021-10-30T12:13:39.104Z"
   },
   {
    "duration": 369,
    "start_time": "2021-10-30T12:13:54.464Z"
   },
   {
    "duration": 55,
    "start_time": "2021-10-30T12:14:07.414Z"
   },
   {
    "duration": 62,
    "start_time": "2021-10-30T12:14:10.359Z"
   },
   {
    "duration": 72,
    "start_time": "2021-10-30T12:14:12.793Z"
   },
   {
    "duration": 28,
    "start_time": "2021-10-30T12:14:16.636Z"
   },
   {
    "duration": 30,
    "start_time": "2021-10-30T12:14:20.186Z"
   },
   {
    "duration": 15,
    "start_time": "2021-10-30T12:14:26.298Z"
   },
   {
    "duration": 28,
    "start_time": "2021-10-30T12:14:29.172Z"
   },
   {
    "duration": 10,
    "start_time": "2021-10-30T12:14:33.121Z"
   },
   {
    "duration": 10,
    "start_time": "2021-10-30T12:14:35.401Z"
   },
   {
    "duration": 11,
    "start_time": "2021-10-30T12:14:37.603Z"
   },
   {
    "duration": 8,
    "start_time": "2021-10-30T12:14:39.663Z"
   },
   {
    "duration": 12,
    "start_time": "2021-10-30T12:14:41.373Z"
   },
   {
    "duration": 12,
    "start_time": "2021-10-30T12:14:46.817Z"
   },
   {
    "duration": 13,
    "start_time": "2021-10-30T12:14:51.057Z"
   },
   {
    "duration": 10,
    "start_time": "2021-10-30T12:15:20.922Z"
   },
   {
    "duration": 8,
    "start_time": "2021-10-30T12:16:12.750Z"
   },
   {
    "duration": 281,
    "start_time": "2021-10-30T12:16:16.650Z"
   },
   {
    "duration": 31,
    "start_time": "2021-10-30T12:16:22.510Z"
   },
   {
    "duration": 10,
    "start_time": "2021-10-30T12:16:28.245Z"
   },
   {
    "duration": 377,
    "start_time": "2021-10-30T12:16:31.204Z"
   },
   {
    "duration": 390,
    "start_time": "2021-10-30T12:16:39.557Z"
   },
   {
    "duration": 733,
    "start_time": "2021-10-30T12:17:15.667Z"
   },
   {
    "duration": 395,
    "start_time": "2021-10-30T12:18:26.756Z"
   },
   {
    "duration": 381,
    "start_time": "2021-10-30T12:18:57.297Z"
   },
   {
    "duration": 395,
    "start_time": "2021-10-30T12:19:07.988Z"
   },
   {
    "duration": 31,
    "start_time": "2021-10-30T12:19:18.986Z"
   },
   {
    "duration": 79,
    "start_time": "2021-10-30T12:19:24.599Z"
   },
   {
    "duration": 11,
    "start_time": "2021-10-30T12:19:35.353Z"
   },
   {
    "duration": 9,
    "start_time": "2021-10-30T12:20:23.611Z"
   },
   {
    "duration": 9,
    "start_time": "2021-10-30T12:21:27.676Z"
   },
   {
    "duration": 9,
    "start_time": "2021-10-30T12:21:32.267Z"
   },
   {
    "duration": 21,
    "start_time": "2021-10-30T12:27:34.960Z"
   },
   {
    "duration": 31,
    "start_time": "2021-10-30T12:27:40.726Z"
   },
   {
    "duration": 76,
    "start_time": "2021-10-30T12:27:49.263Z"
   },
   {
    "duration": 9,
    "start_time": "2021-10-30T12:32:48.764Z"
   },
   {
    "duration": 432,
    "start_time": "2021-10-30T12:32:52.774Z"
   },
   {
    "duration": 29,
    "start_time": "2021-10-30T12:33:03.399Z"
   },
   {
    "duration": 72,
    "start_time": "2021-10-30T12:33:07.272Z"
   },
   {
    "duration": 12,
    "start_time": "2021-10-30T12:35:06.905Z"
   },
   {
    "duration": 405,
    "start_time": "2021-10-30T12:35:10.439Z"
   },
   {
    "duration": 28,
    "start_time": "2021-10-30T12:35:33.398Z"
   },
   {
    "duration": 76,
    "start_time": "2021-10-30T12:35:37.250Z"
   },
   {
    "duration": 12,
    "start_time": "2021-10-30T12:36:47.178Z"
   },
   {
    "duration": 419,
    "start_time": "2021-10-30T12:36:50.646Z"
   },
   {
    "duration": 32,
    "start_time": "2021-10-30T12:36:59.556Z"
   },
   {
    "duration": 74,
    "start_time": "2021-10-30T12:37:05.035Z"
   },
   {
    "duration": 10,
    "start_time": "2021-10-30T12:41:06.072Z"
   },
   {
    "duration": 394,
    "start_time": "2021-10-30T12:41:10.041Z"
   },
   {
    "duration": 29,
    "start_time": "2021-10-30T12:41:17.213Z"
   },
   {
    "duration": 78,
    "start_time": "2021-10-30T12:41:24.102Z"
   },
   {
    "duration": 25,
    "start_time": "2021-10-30T12:43:00.302Z"
   },
   {
    "duration": 24,
    "start_time": "2021-10-30T12:43:34.203Z"
   },
   {
    "duration": 12,
    "start_time": "2021-10-30T12:44:03.513Z"
   },
   {
    "duration": 7,
    "start_time": "2021-10-30T12:44:13.750Z"
   },
   {
    "duration": 5,
    "start_time": "2021-10-30T12:44:21.790Z"
   },
   {
    "duration": 24,
    "start_time": "2021-10-30T12:46:03.543Z"
   },
   {
    "duration": 6,
    "start_time": "2021-10-30T12:48:26.450Z"
   },
   {
    "duration": 196,
    "start_time": "2021-10-30T12:49:09.517Z"
   },
   {
    "duration": 40,
    "start_time": "2021-10-30T12:49:31.775Z"
   },
   {
    "duration": 609,
    "start_time": "2021-10-30T12:51:08.799Z"
   },
   {
    "duration": 10,
    "start_time": "2021-10-30T12:51:25.405Z"
   },
   {
    "duration": 690,
    "start_time": "2021-10-30T12:51:28.551Z"
   },
   {
    "duration": 410,
    "start_time": "2021-10-30T12:51:40.641Z"
   },
   {
    "duration": 515,
    "start_time": "2021-10-30T12:52:41.541Z"
   },
   {
    "duration": 288,
    "start_time": "2021-10-30T12:52:51.389Z"
   },
   {
    "duration": 108,
    "start_time": "2021-10-30T12:53:32.034Z"
   },
   {
    "duration": 8,
    "start_time": "2021-10-30T12:54:00.945Z"
   },
   {
    "duration": 6,
    "start_time": "2021-10-30T12:54:11.185Z"
   },
   {
    "duration": 5,
    "start_time": "2021-10-30T12:54:17.221Z"
   },
   {
    "duration": 7,
    "start_time": "2021-10-30T12:55:52.247Z"
   },
   {
    "duration": 6,
    "start_time": "2021-10-30T12:55:58.143Z"
   },
   {
    "duration": 10,
    "start_time": "2021-10-30T12:56:21.933Z"
   },
   {
    "duration": 4188,
    "start_time": "2021-10-30T12:56:27.210Z"
   },
   {
    "duration": 4510,
    "start_time": "2021-10-30T12:56:34.244Z"
   },
   {
    "duration": 10,
    "start_time": "2021-10-30T12:57:46.190Z"
   },
   {
    "duration": 404,
    "start_time": "2021-10-30T12:58:04.161Z"
   },
   {
    "duration": 9,
    "start_time": "2021-10-30T13:00:08.306Z"
   },
   {
    "duration": 387,
    "start_time": "2021-10-30T13:00:12.791Z"
   },
   {
    "duration": 9,
    "start_time": "2021-10-30T13:00:57.616Z"
   },
   {
    "duration": 387,
    "start_time": "2021-10-30T13:01:01.875Z"
   },
   {
    "duration": 9,
    "start_time": "2021-10-30T13:02:55.879Z"
   },
   {
    "duration": 399,
    "start_time": "2021-10-30T13:02:58.485Z"
   },
   {
    "duration": 10,
    "start_time": "2021-10-30T13:06:50.563Z"
   },
   {
    "duration": 390,
    "start_time": "2021-10-30T13:06:53.664Z"
   },
   {
    "duration": 9,
    "start_time": "2021-10-30T13:07:31.642Z"
   },
   {
    "duration": 33,
    "start_time": "2021-10-30T13:08:57.141Z"
   },
   {
    "duration": 10,
    "start_time": "2021-10-30T13:09:03.584Z"
   },
   {
    "duration": 8215,
    "start_time": "2021-10-30T13:09:06.349Z"
   },
   {
    "duration": 10,
    "start_time": "2021-10-30T13:09:33.367Z"
   },
   {
    "duration": 391,
    "start_time": "2021-10-30T13:09:35.967Z"
   },
   {
    "duration": 34,
    "start_time": "2021-10-30T13:09:41.805Z"
   },
   {
    "duration": 73,
    "start_time": "2021-10-30T13:09:48.975Z"
   },
   {
    "duration": 10,
    "start_time": "2021-10-30T13:09:58.457Z"
   },
   {
    "duration": 86,
    "start_time": "2021-10-30T13:10:24.131Z"
   },
   {
    "duration": 7,
    "start_time": "2021-10-30T13:10:48.370Z"
   },
   {
    "duration": 7,
    "start_time": "2021-10-30T13:10:54.542Z"
   },
   {
    "duration": 7247,
    "start_time": "2021-10-30T13:11:05.473Z"
   },
   {
    "duration": 7476,
    "start_time": "2021-10-30T13:11:19.373Z"
   },
   {
    "duration": 7226,
    "start_time": "2021-10-30T13:11:19.626Z"
   },
   {
    "duration": 8,
    "start_time": "2021-10-30T13:11:57.415Z"
   },
   {
    "duration": 8,
    "start_time": "2021-10-30T13:11:59.668Z"
   },
   {
    "duration": 7422,
    "start_time": "2021-10-30T13:12:03.004Z"
   },
   {
    "duration": 7244,
    "start_time": "2021-10-30T13:12:19.365Z"
   },
   {
    "duration": 7,
    "start_time": "2021-10-30T13:12:36.859Z"
   },
   {
    "duration": 538,
    "start_time": "2021-10-30T13:12:44.881Z"
   },
   {
    "duration": 323,
    "start_time": "2021-10-30T13:12:50.698Z"
   },
   {
    "duration": 8832,
    "start_time": "2021-10-30T13:12:56.765Z"
   },
   {
    "duration": 379,
    "start_time": "2021-10-30T13:13:06.507Z"
   },
   {
    "duration": 31,
    "start_time": "2021-10-30T13:13:12.593Z"
   },
   {
    "duration": 70,
    "start_time": "2021-10-30T13:13:20.241Z"
   },
   {
    "duration": 265,
    "start_time": "2021-10-30T13:13:52.659Z"
   },
   {
    "duration": 13,
    "start_time": "2021-10-30T13:13:57.416Z"
   },
   {
    "duration": 7330,
    "start_time": "2021-10-30T13:14:01.175Z"
   },
   {
    "duration": 7217,
    "start_time": "2021-10-30T13:14:01.291Z"
   },
   {
    "duration": 9,
    "start_time": "2021-10-30T13:14:16.975Z"
   },
   {
    "duration": 10,
    "start_time": "2021-10-30T13:14:18.963Z"
   },
   {
    "duration": 8,
    "start_time": "2021-10-30T13:14:33.877Z"
   },
   {
    "duration": 10,
    "start_time": "2021-10-30T13:14:41.787Z"
   },
   {
    "duration": 8,
    "start_time": "2021-10-30T13:14:52.901Z"
   },
   {
    "duration": 917,
    "start_time": "2021-10-30T13:14:58.419Z"
   },
   {
    "duration": 434,
    "start_time": "2021-10-30T13:15:03.596Z"
   },
   {
    "duration": 374,
    "start_time": "2021-10-30T13:15:10.121Z"
   },
   {
    "duration": 482,
    "start_time": "2021-10-30T13:15:27.316Z"
   },
   {
    "duration": 9,
    "start_time": "2021-10-30T13:15:31.792Z"
   },
   {
    "duration": 10,
    "start_time": "2021-10-30T13:15:35.127Z"
   },
   {
    "duration": 10,
    "start_time": "2021-10-30T13:15:37.962Z"
   },
   {
    "duration": 72,
    "start_time": "2021-10-30T13:15:46.662Z"
   },
   {
    "duration": 72,
    "start_time": "2021-10-30T13:15:53.946Z"
   },
   {
    "duration": 7,
    "start_time": "2021-10-30T13:16:02.925Z"
   },
   {
    "duration": 120,
    "start_time": "2021-10-30T13:17:30.506Z"
   },
   {
    "duration": 104,
    "start_time": "2021-10-30T13:18:16.059Z"
   },
   {
    "duration": 99,
    "start_time": "2021-10-30T13:19:53.759Z"
   },
   {
    "duration": 108,
    "start_time": "2021-10-30T13:20:18.134Z"
   },
   {
    "duration": 8737,
    "start_time": "2021-10-30T13:20:46.936Z"
   },
   {
    "duration": 107,
    "start_time": "2021-10-30T13:22:00.209Z"
   },
   {
    "duration": 1036,
    "start_time": "2021-10-30T13:22:46.690Z"
   },
   {
    "duration": 28,
    "start_time": "2021-10-30T13:22:47.728Z"
   },
   {
    "duration": 207,
    "start_time": "2021-10-30T13:22:47.759Z"
   },
   {
    "duration": 23,
    "start_time": "2021-10-30T13:22:47.969Z"
   },
   {
    "duration": 134,
    "start_time": "2021-10-30T13:22:47.994Z"
   },
   {
    "duration": 18,
    "start_time": "2021-10-30T13:22:48.130Z"
   },
   {
    "duration": 33,
    "start_time": "2021-10-30T13:22:48.151Z"
   },
   {
    "duration": 10,
    "start_time": "2021-10-30T13:22:48.188Z"
   },
   {
    "duration": 55,
    "start_time": "2021-10-30T13:22:48.200Z"
   },
   {
    "duration": 8,
    "start_time": "2021-10-30T13:22:48.258Z"
   },
   {
    "duration": 99,
    "start_time": "2021-10-30T13:22:48.269Z"
   },
   {
    "duration": 64,
    "start_time": "2021-10-30T13:22:48.381Z"
   },
   {
    "duration": 62,
    "start_time": "2021-10-30T13:22:48.447Z"
   },
   {
    "duration": 14,
    "start_time": "2021-10-30T13:22:48.511Z"
   },
   {
    "duration": 14,
    "start_time": "2021-10-30T13:22:48.528Z"
   },
   {
    "duration": 110,
    "start_time": "2021-10-30T13:22:48.544Z"
   },
   {
    "duration": 9,
    "start_time": "2021-10-30T13:22:48.656Z"
   },
   {
    "duration": 52,
    "start_time": "2021-10-30T13:22:48.667Z"
   },
   {
    "duration": 8,
    "start_time": "2021-10-30T13:22:48.722Z"
   },
   {
    "duration": 62,
    "start_time": "2021-10-30T13:22:48.732Z"
   },
   {
    "duration": 8,
    "start_time": "2021-10-30T13:22:48.796Z"
   },
   {
    "duration": 8,
    "start_time": "2021-10-30T13:22:48.807Z"
   },
   {
    "duration": 7,
    "start_time": "2021-10-30T13:22:48.821Z"
   },
   {
    "duration": 57,
    "start_time": "2021-10-30T13:22:48.832Z"
   },
   {
    "duration": 7,
    "start_time": "2021-10-30T13:22:48.891Z"
   },
   {
    "duration": 6,
    "start_time": "2021-10-30T13:22:48.900Z"
   },
   {
    "duration": 16,
    "start_time": "2021-10-30T13:22:48.908Z"
   },
   {
    "duration": 12,
    "start_time": "2021-10-30T13:22:48.926Z"
   },
   {
    "duration": 43,
    "start_time": "2021-10-30T13:22:48.940Z"
   },
   {
    "duration": 6,
    "start_time": "2021-10-30T13:22:48.986Z"
   },
   {
    "duration": 5,
    "start_time": "2021-10-30T13:22:48.994Z"
   },
   {
    "duration": 6,
    "start_time": "2021-10-30T13:22:49.001Z"
   },
   {
    "duration": 7,
    "start_time": "2021-10-30T13:22:49.009Z"
   },
   {
    "duration": 6,
    "start_time": "2021-10-30T13:22:49.018Z"
   },
   {
    "duration": 60,
    "start_time": "2021-10-30T13:22:49.027Z"
   },
   {
    "duration": 809,
    "start_time": "2021-10-30T13:22:49.089Z"
   },
   {
    "duration": 18,
    "start_time": "2021-10-30T13:22:49.901Z"
   },
   {
    "duration": 689,
    "start_time": "2021-10-30T13:22:49.921Z"
   },
   {
    "duration": 17,
    "start_time": "2021-10-30T13:22:50.613Z"
   },
   {
    "duration": 51,
    "start_time": "2021-10-30T13:22:50.632Z"
   },
   {
    "duration": 138,
    "start_time": "2021-10-30T13:22:50.685Z"
   },
   {
    "duration": 138,
    "start_time": "2021-10-30T13:22:50.882Z"
   },
   {
    "duration": 183,
    "start_time": "2021-10-30T13:22:51.023Z"
   },
   {
    "duration": 143,
    "start_time": "2021-10-30T13:22:51.209Z"
   },
   {
    "duration": 33,
    "start_time": "2021-10-30T13:22:51.354Z"
   },
   {
    "duration": 92,
    "start_time": "2021-10-30T13:22:51.390Z"
   },
   {
    "duration": 22,
    "start_time": "2021-10-30T13:22:51.485Z"
   },
   {
    "duration": 84,
    "start_time": "2021-10-30T13:22:51.510Z"
   },
   {
    "duration": 8,
    "start_time": "2021-10-30T13:22:51.597Z"
   },
   {
    "duration": 12,
    "start_time": "2021-10-30T13:22:51.607Z"
   },
   {
    "duration": 15,
    "start_time": "2021-10-30T13:22:51.621Z"
   },
   {
    "duration": 45,
    "start_time": "2021-10-30T13:22:51.639Z"
   },
   {
    "duration": 16,
    "start_time": "2021-10-30T13:22:51.686Z"
   },
   {
    "duration": 18,
    "start_time": "2021-10-30T13:22:51.704Z"
   },
   {
    "duration": 86,
    "start_time": "2021-10-30T13:22:51.724Z"
   },
   {
    "duration": 9,
    "start_time": "2021-10-30T13:22:51.812Z"
   },
   {
    "duration": 486,
    "start_time": "2021-10-30T13:22:51.824Z"
   },
   {
    "duration": 29,
    "start_time": "2021-10-30T13:22:52.312Z"
   },
   {
    "duration": 92,
    "start_time": "2021-10-30T13:22:52.343Z"
   },
   {
    "duration": 407,
    "start_time": "2021-10-30T13:22:52.437Z"
   },
   {
    "duration": 7146,
    "start_time": "2021-10-30T13:22:45.702Z"
   },
   {
    "duration": 7142,
    "start_time": "2021-10-30T13:22:45.708Z"
   },
   {
    "duration": 7139,
    "start_time": "2021-10-30T13:22:45.712Z"
   },
   {
    "duration": 7135,
    "start_time": "2021-10-30T13:22:45.717Z"
   },
   {
    "duration": 7132,
    "start_time": "2021-10-30T13:22:45.722Z"
   },
   {
    "duration": 7128,
    "start_time": "2021-10-30T13:22:45.727Z"
   },
   {
    "duration": 7124,
    "start_time": "2021-10-30T13:22:45.732Z"
   },
   {
    "duration": 7121,
    "start_time": "2021-10-30T13:22:45.737Z"
   },
   {
    "duration": 7118,
    "start_time": "2021-10-30T13:22:45.741Z"
   },
   {
    "duration": 7114,
    "start_time": "2021-10-30T13:22:45.746Z"
   },
   {
    "duration": 7110,
    "start_time": "2021-10-30T13:22:45.751Z"
   },
   {
    "duration": 7106,
    "start_time": "2021-10-30T13:22:45.756Z"
   },
   {
    "duration": 7103,
    "start_time": "2021-10-30T13:22:45.760Z"
   },
   {
    "duration": 7099,
    "start_time": "2021-10-30T13:22:45.765Z"
   },
   {
    "duration": 7096,
    "start_time": "2021-10-30T13:22:45.770Z"
   },
   {
    "duration": 7092,
    "start_time": "2021-10-30T13:22:45.775Z"
   },
   {
    "duration": 7088,
    "start_time": "2021-10-30T13:22:45.780Z"
   },
   {
    "duration": 7084,
    "start_time": "2021-10-30T13:22:45.785Z"
   },
   {
    "duration": 7080,
    "start_time": "2021-10-30T13:22:45.790Z"
   },
   {
    "duration": 7079,
    "start_time": "2021-10-30T13:22:45.803Z"
   },
   {
    "duration": 7075,
    "start_time": "2021-10-30T13:22:45.808Z"
   },
   {
    "duration": 7071,
    "start_time": "2021-10-30T13:22:45.814Z"
   },
   {
    "duration": 7069,
    "start_time": "2021-10-30T13:22:45.818Z"
   },
   {
    "duration": 7067,
    "start_time": "2021-10-30T13:22:45.823Z"
   },
   {
    "duration": 7064,
    "start_time": "2021-10-30T13:22:45.828Z"
   },
   {
    "duration": 7061,
    "start_time": "2021-10-30T13:22:45.833Z"
   },
   {
    "duration": 297,
    "start_time": "2021-10-30T13:23:43.745Z"
   },
   {
    "duration": 10,
    "start_time": "2021-10-30T13:23:49.513Z"
   },
   {
    "duration": 1305,
    "start_time": "2021-10-30T13:25:05.809Z"
   },
   {
    "duration": 27,
    "start_time": "2021-10-30T13:25:07.117Z"
   },
   {
    "duration": 195,
    "start_time": "2021-10-30T13:25:07.147Z"
   },
   {
    "duration": 22,
    "start_time": "2021-10-30T13:25:07.344Z"
   },
   {
    "duration": 118,
    "start_time": "2021-10-30T13:25:07.382Z"
   },
   {
    "duration": 19,
    "start_time": "2021-10-30T13:25:07.502Z"
   },
   {
    "duration": 31,
    "start_time": "2021-10-30T13:25:07.523Z"
   },
   {
    "duration": 11,
    "start_time": "2021-10-30T13:25:07.558Z"
   },
   {
    "duration": 49,
    "start_time": "2021-10-30T13:25:07.582Z"
   },
   {
    "duration": 8,
    "start_time": "2021-10-30T13:25:07.634Z"
   },
   {
    "duration": 97,
    "start_time": "2021-10-30T13:25:07.644Z"
   },
   {
    "duration": 74,
    "start_time": "2021-10-30T13:25:07.743Z"
   },
   {
    "duration": 47,
    "start_time": "2021-10-30T13:25:07.820Z"
   },
   {
    "duration": 16,
    "start_time": "2021-10-30T13:25:07.883Z"
   },
   {
    "duration": 5,
    "start_time": "2021-10-30T13:25:07.901Z"
   },
   {
    "duration": 111,
    "start_time": "2021-10-30T13:25:07.909Z"
   },
   {
    "duration": 9,
    "start_time": "2021-10-30T13:25:08.022Z"
   },
   {
    "duration": 61,
    "start_time": "2021-10-30T13:25:08.033Z"
   },
   {
    "duration": 10,
    "start_time": "2021-10-30T13:25:08.097Z"
   },
   {
    "duration": 33,
    "start_time": "2021-10-30T13:25:08.109Z"
   },
   {
    "duration": 38,
    "start_time": "2021-10-30T13:25:08.144Z"
   },
   {
    "duration": 9,
    "start_time": "2021-10-30T13:25:08.184Z"
   },
   {
    "duration": 7,
    "start_time": "2021-10-30T13:25:08.198Z"
   },
   {
    "duration": 14,
    "start_time": "2021-10-30T13:25:08.209Z"
   },
   {
    "duration": 7,
    "start_time": "2021-10-30T13:25:08.225Z"
   },
   {
    "duration": 51,
    "start_time": "2021-10-30T13:25:08.235Z"
   },
   {
    "duration": 19,
    "start_time": "2021-10-30T13:25:08.289Z"
   },
   {
    "duration": 8,
    "start_time": "2021-10-30T13:25:08.310Z"
   },
   {
    "duration": 17,
    "start_time": "2021-10-30T13:25:08.320Z"
   },
   {
    "duration": 6,
    "start_time": "2021-10-30T13:25:08.340Z"
   },
   {
    "duration": 37,
    "start_time": "2021-10-30T13:25:08.349Z"
   },
   {
    "duration": 11,
    "start_time": "2021-10-30T13:25:08.388Z"
   },
   {
    "duration": 9,
    "start_time": "2021-10-30T13:25:08.401Z"
   },
   {
    "duration": 11,
    "start_time": "2021-10-30T13:25:08.412Z"
   },
   {
    "duration": 6,
    "start_time": "2021-10-30T13:25:08.425Z"
   },
   {
    "duration": 755,
    "start_time": "2021-10-30T13:25:08.433Z"
   },
   {
    "duration": 19,
    "start_time": "2021-10-30T13:25:09.191Z"
   },
   {
    "duration": 679,
    "start_time": "2021-10-30T13:25:09.213Z"
   },
   {
    "duration": 17,
    "start_time": "2021-10-30T13:25:09.895Z"
   },
   {
    "duration": 67,
    "start_time": "2021-10-30T13:25:09.915Z"
   },
   {
    "duration": 67,
    "start_time": "2021-10-30T13:25:09.984Z"
   },
   {
    "duration": 84,
    "start_time": "2021-10-30T13:25:10.054Z"
   },
   {
    "duration": 83,
    "start_time": "2021-10-30T13:25:10.140Z"
   },
   {
    "duration": 98,
    "start_time": "2021-10-30T13:25:10.225Z"
   },
   {
    "duration": 29,
    "start_time": "2021-10-30T13:25:10.326Z"
   },
   {
    "duration": 47,
    "start_time": "2021-10-30T13:25:10.357Z"
   },
   {
    "duration": 15,
    "start_time": "2021-10-30T13:25:10.406Z"
   },
   {
    "duration": 28,
    "start_time": "2021-10-30T13:25:10.423Z"
   },
   {
    "duration": 33,
    "start_time": "2021-10-30T13:25:10.454Z"
   },
   {
    "duration": 13,
    "start_time": "2021-10-30T13:25:10.490Z"
   },
   {
    "duration": 15,
    "start_time": "2021-10-30T13:25:10.506Z"
   },
   {
    "duration": 17,
    "start_time": "2021-10-30T13:25:10.523Z"
   },
   {
    "duration": 13,
    "start_time": "2021-10-30T13:25:10.542Z"
   },
   {
    "duration": 12,
    "start_time": "2021-10-30T13:25:10.583Z"
   },
   {
    "duration": 30,
    "start_time": "2021-10-30T13:25:10.598Z"
   },
   {
    "duration": 9,
    "start_time": "2021-10-30T13:25:10.631Z"
   },
   {
    "duration": 426,
    "start_time": "2021-10-30T13:25:10.642Z"
   },
   {
    "duration": 38,
    "start_time": "2021-10-30T13:25:11.070Z"
   },
   {
    "duration": 85,
    "start_time": "2021-10-30T13:25:11.111Z"
   },
   {
    "duration": 9,
    "start_time": "2021-10-30T13:25:11.198Z"
   },
   {
    "duration": 12,
    "start_time": "2021-10-30T13:25:11.209Z"
   },
   {
    "duration": 9,
    "start_time": "2021-10-30T13:25:11.223Z"
   },
   {
    "duration": 11,
    "start_time": "2021-10-30T13:25:11.234Z"
   },
   {
    "duration": 39,
    "start_time": "2021-10-30T13:25:11.247Z"
   },
   {
    "duration": 599,
    "start_time": "2021-10-30T13:25:11.289Z"
   },
   {
    "duration": 342,
    "start_time": "2021-10-30T13:25:11.890Z"
   },
   {
    "duration": 395,
    "start_time": "2021-10-30T13:25:12.234Z"
   },
   {
    "duration": 28,
    "start_time": "2021-10-30T13:25:12.638Z"
   },
   {
    "duration": 72,
    "start_time": "2021-10-30T13:25:12.682Z"
   },
   {
    "duration": 7684,
    "start_time": "2021-10-30T13:25:12.757Z"
   },
   {
    "duration": 7196,
    "start_time": "2021-10-30T13:25:13.247Z"
   },
   {
    "duration": 7193,
    "start_time": "2021-10-30T13:25:13.252Z"
   },
   {
    "duration": 7189,
    "start_time": "2021-10-30T13:25:13.257Z"
   },
   {
    "duration": 7185,
    "start_time": "2021-10-30T13:25:13.262Z"
   },
   {
    "duration": 7181,
    "start_time": "2021-10-30T13:25:13.268Z"
   },
   {
    "duration": 7177,
    "start_time": "2021-10-30T13:25:13.273Z"
   },
   {
    "duration": 7173,
    "start_time": "2021-10-30T13:25:13.278Z"
   },
   {
    "duration": 7170,
    "start_time": "2021-10-30T13:25:13.283Z"
   },
   {
    "duration": 7167,
    "start_time": "2021-10-30T13:25:13.287Z"
   },
   {
    "duration": 7163,
    "start_time": "2021-10-30T13:25:13.292Z"
   },
   {
    "duration": 7159,
    "start_time": "2021-10-30T13:25:13.298Z"
   },
   {
    "duration": 7155,
    "start_time": "2021-10-30T13:25:13.303Z"
   },
   {
    "duration": 7151,
    "start_time": "2021-10-30T13:25:13.308Z"
   },
   {
    "duration": 7147,
    "start_time": "2021-10-30T13:25:13.313Z"
   },
   {
    "duration": 7137,
    "start_time": "2021-10-30T13:25:13.325Z"
   },
   {
    "duration": 7132,
    "start_time": "2021-10-30T13:25:13.331Z"
   },
   {
    "duration": 337,
    "start_time": "2021-10-30T13:25:33.578Z"
   },
   {
    "duration": 9,
    "start_time": "2021-10-30T13:25:40.141Z"
   },
   {
    "duration": 1030,
    "start_time": "2021-10-30T13:25:46.969Z"
   },
   {
    "duration": 27,
    "start_time": "2021-10-30T13:25:48.002Z"
   },
   {
    "duration": 286,
    "start_time": "2021-10-30T13:25:48.033Z"
   },
   {
    "duration": 23,
    "start_time": "2021-10-30T13:25:48.321Z"
   },
   {
    "duration": 136,
    "start_time": "2021-10-30T13:25:48.348Z"
   },
   {
    "duration": 18,
    "start_time": "2021-10-30T13:25:48.487Z"
   },
   {
    "duration": 25,
    "start_time": "2021-10-30T13:25:48.508Z"
   },
   {
    "duration": 9,
    "start_time": "2021-10-30T13:25:48.537Z"
   },
   {
    "duration": 69,
    "start_time": "2021-10-30T13:25:48.549Z"
   },
   {
    "duration": 9,
    "start_time": "2021-10-30T13:25:48.620Z"
   },
   {
    "duration": 106,
    "start_time": "2021-10-30T13:25:48.632Z"
   },
   {
    "duration": 81,
    "start_time": "2021-10-30T13:25:48.742Z"
   },
   {
    "duration": 59,
    "start_time": "2021-10-30T13:25:48.826Z"
   },
   {
    "duration": 16,
    "start_time": "2021-10-30T13:25:48.887Z"
   },
   {
    "duration": 8,
    "start_time": "2021-10-30T13:25:48.905Z"
   },
   {
    "duration": 112,
    "start_time": "2021-10-30T13:25:48.915Z"
   },
   {
    "duration": 9,
    "start_time": "2021-10-30T13:25:49.030Z"
   },
   {
    "duration": 68,
    "start_time": "2021-10-30T13:25:49.042Z"
   },
   {
    "duration": 8,
    "start_time": "2021-10-30T13:25:49.112Z"
   },
   {
    "duration": 60,
    "start_time": "2021-10-30T13:25:49.122Z"
   },
   {
    "duration": 9,
    "start_time": "2021-10-30T13:25:49.184Z"
   },
   {
    "duration": 12,
    "start_time": "2021-10-30T13:25:49.195Z"
   },
   {
    "duration": 8,
    "start_time": "2021-10-30T13:25:49.213Z"
   },
   {
    "duration": 18,
    "start_time": "2021-10-30T13:25:49.225Z"
   },
   {
    "duration": 6,
    "start_time": "2021-10-30T13:25:49.283Z"
   },
   {
    "duration": 6,
    "start_time": "2021-10-30T13:25:49.292Z"
   },
   {
    "duration": 18,
    "start_time": "2021-10-30T13:25:49.301Z"
   },
   {
    "duration": 12,
    "start_time": "2021-10-30T13:25:49.321Z"
   },
   {
    "duration": 6,
    "start_time": "2021-10-30T13:25:49.383Z"
   },
   {
    "duration": 27,
    "start_time": "2021-10-30T13:25:49.391Z"
   },
   {
    "duration": 6,
    "start_time": "2021-10-30T13:25:49.420Z"
   },
   {
    "duration": 11,
    "start_time": "2021-10-30T13:25:49.429Z"
   },
   {
    "duration": 42,
    "start_time": "2021-10-30T13:25:49.443Z"
   },
   {
    "duration": 7,
    "start_time": "2021-10-30T13:25:49.487Z"
   },
   {
    "duration": 7,
    "start_time": "2021-10-30T13:25:49.496Z"
   },
   {
    "duration": 770,
    "start_time": "2021-10-30T13:25:49.506Z"
   },
   {
    "duration": 21,
    "start_time": "2021-10-30T13:25:50.282Z"
   },
   {
    "duration": 706,
    "start_time": "2021-10-30T13:25:50.305Z"
   },
   {
    "duration": 16,
    "start_time": "2021-10-30T13:25:51.013Z"
   },
   {
    "duration": 64,
    "start_time": "2021-10-30T13:25:51.032Z"
   },
   {
    "duration": 64,
    "start_time": "2021-10-30T13:25:51.099Z"
   },
   {
    "duration": 74,
    "start_time": "2021-10-30T13:25:51.165Z"
   },
   {
    "duration": 84,
    "start_time": "2021-10-30T13:25:51.242Z"
   },
   {
    "duration": 102,
    "start_time": "2021-10-30T13:25:51.329Z"
   },
   {
    "duration": 30,
    "start_time": "2021-10-30T13:25:51.434Z"
   },
   {
    "duration": 42,
    "start_time": "2021-10-30T13:25:51.466Z"
   },
   {
    "duration": 16,
    "start_time": "2021-10-30T13:25:51.510Z"
   },
   {
    "duration": 56,
    "start_time": "2021-10-30T13:25:51.528Z"
   },
   {
    "duration": 9,
    "start_time": "2021-10-30T13:25:51.587Z"
   },
   {
    "duration": 9,
    "start_time": "2021-10-30T13:25:51.598Z"
   },
   {
    "duration": 10,
    "start_time": "2021-10-30T13:25:51.609Z"
   },
   {
    "duration": 10,
    "start_time": "2021-10-30T13:25:51.621Z"
   },
   {
    "duration": 53,
    "start_time": "2021-10-30T13:25:51.633Z"
   },
   {
    "duration": 15,
    "start_time": "2021-10-30T13:25:51.688Z"
   },
   {
    "duration": 34,
    "start_time": "2021-10-30T13:25:51.706Z"
   },
   {
    "duration": 39,
    "start_time": "2021-10-30T13:25:51.743Z"
   },
   {
    "duration": 439,
    "start_time": "2021-10-30T13:25:51.785Z"
   },
   {
    "duration": 30,
    "start_time": "2021-10-30T13:25:52.226Z"
   },
   {
    "duration": 86,
    "start_time": "2021-10-30T13:25:52.258Z"
   },
   {
    "duration": 9,
    "start_time": "2021-10-30T13:25:52.346Z"
   },
   {
    "duration": 30,
    "start_time": "2021-10-30T13:25:52.357Z"
   },
   {
    "duration": 10,
    "start_time": "2021-10-30T13:25:52.389Z"
   },
   {
    "duration": 9,
    "start_time": "2021-10-30T13:25:52.401Z"
   },
   {
    "duration": 11,
    "start_time": "2021-10-30T13:25:52.413Z"
   },
   {
    "duration": 580,
    "start_time": "2021-10-30T13:25:52.426Z"
   },
   {
    "duration": 341,
    "start_time": "2021-10-30T13:25:53.009Z"
   },
   {
    "duration": 417,
    "start_time": "2021-10-30T13:25:53.352Z"
   },
   {
    "duration": 29,
    "start_time": "2021-10-30T13:25:53.781Z"
   },
   {
    "duration": 91,
    "start_time": "2021-10-30T13:25:53.812Z"
   },
   {
    "duration": 9,
    "start_time": "2021-10-30T13:25:53.905Z"
   },
   {
    "duration": 10,
    "start_time": "2021-10-30T13:25:53.916Z"
   },
   {
    "duration": 10,
    "start_time": "2021-10-30T13:25:53.929Z"
   },
   {
    "duration": 45,
    "start_time": "2021-10-30T13:25:53.941Z"
   },
   {
    "duration": 7,
    "start_time": "2021-10-30T13:25:53.989Z"
   },
   {
    "duration": 10,
    "start_time": "2021-10-30T13:25:53.998Z"
   },
   {
    "duration": 12,
    "start_time": "2021-10-30T13:25:54.010Z"
   },
   {
    "duration": 600,
    "start_time": "2021-10-30T13:25:54.024Z"
   },
   {
    "duration": 373,
    "start_time": "2021-10-30T13:25:54.626Z"
   },
   {
    "duration": 362,
    "start_time": "2021-10-30T13:25:55.002Z"
   },
   {
    "duration": 526,
    "start_time": "2021-10-30T13:25:55.367Z"
   },
   {
    "duration": 10,
    "start_time": "2021-10-30T13:25:55.897Z"
   },
   {
    "duration": 12,
    "start_time": "2021-10-30T13:25:55.910Z"
   },
   {
    "duration": 12,
    "start_time": "2021-10-30T13:25:55.924Z"
   },
   {
    "duration": 107,
    "start_time": "2021-10-30T13:25:55.938Z"
   },
   {
    "duration": 86,
    "start_time": "2021-10-30T13:25:56.048Z"
   },
   {
    "duration": 8,
    "start_time": "2021-10-30T13:25:56.137Z"
   },
   {
    "duration": 95,
    "start_time": "2021-10-30T16:13:46.660Z"
   }
  ],
  "kernelspec": {
   "display_name": "Python 3",
   "language": "python",
   "name": "python3"
  },
  "language_info": {
   "codemirror_mode": {
    "name": "ipython",
    "version": 3
   },
   "file_extension": ".py",
   "mimetype": "text/x-python",
   "name": "python",
   "nbconvert_exporter": "python",
   "pygments_lexer": "ipython3",
   "version": "3.8.5"
  },
  "toc": {
   "base_numbering": 1,
   "nav_menu": {},
   "number_sections": true,
   "sideBar": true,
   "skip_h1_title": true,
   "title_cell": "Table of Contents",
   "title_sidebar": "Contents",
   "toc_cell": false,
   "toc_position": {},
   "toc_section_display": true,
   "toc_window_display": false
  }
 },
 "nbformat": 4,
 "nbformat_minor": 2
}
