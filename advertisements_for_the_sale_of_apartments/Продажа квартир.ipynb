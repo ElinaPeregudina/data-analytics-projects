{
 "cells": [
  {
   "cell_type": "markdown",
   "metadata": {},
   "source": [
    "## Изучение данных из файла"
   ]
  },
  {
   "cell_type": "code",
   "execution_count": 1,
   "metadata": {},
   "outputs": [
    {
     "data": {
      "text/html": [
       "<div>\n",
       "<style scoped>\n",
       "    .dataframe tbody tr th:only-of-type {\n",
       "        vertical-align: middle;\n",
       "    }\n",
       "\n",
       "    .dataframe tbody tr th {\n",
       "        vertical-align: top;\n",
       "    }\n",
       "\n",
       "    .dataframe thead th {\n",
       "        text-align: right;\n",
       "    }\n",
       "</style>\n",
       "<table border=\"1\" class=\"dataframe\">\n",
       "  <thead>\n",
       "    <tr style=\"text-align: right;\">\n",
       "      <th></th>\n",
       "      <th>total_images</th>\n",
       "      <th>last_price</th>\n",
       "      <th>total_area</th>\n",
       "      <th>first_day_exposition</th>\n",
       "      <th>rooms</th>\n",
       "      <th>ceiling_height</th>\n",
       "      <th>floors_total</th>\n",
       "      <th>living_area</th>\n",
       "      <th>floor</th>\n",
       "      <th>is_apartment</th>\n",
       "      <th>...</th>\n",
       "      <th>kitchen_area</th>\n",
       "      <th>balcony</th>\n",
       "      <th>locality_name</th>\n",
       "      <th>airports_nearest</th>\n",
       "      <th>cityCenters_nearest</th>\n",
       "      <th>parks_around3000</th>\n",
       "      <th>parks_nearest</th>\n",
       "      <th>ponds_around3000</th>\n",
       "      <th>ponds_nearest</th>\n",
       "      <th>days_exposition</th>\n",
       "    </tr>\n",
       "  </thead>\n",
       "  <tbody>\n",
       "    <tr>\n",
       "      <td>0</td>\n",
       "      <td>20</td>\n",
       "      <td>13000000.0</td>\n",
       "      <td>108.00</td>\n",
       "      <td>2019-03-07T00:00:00</td>\n",
       "      <td>3</td>\n",
       "      <td>2.70</td>\n",
       "      <td>16.0</td>\n",
       "      <td>51.0</td>\n",
       "      <td>8</td>\n",
       "      <td>NaN</td>\n",
       "      <td>...</td>\n",
       "      <td>25.00</td>\n",
       "      <td>NaN</td>\n",
       "      <td>Санкт-Петербург</td>\n",
       "      <td>18863.0</td>\n",
       "      <td>16028.0</td>\n",
       "      <td>1.0</td>\n",
       "      <td>482.0</td>\n",
       "      <td>2.0</td>\n",
       "      <td>755.0</td>\n",
       "      <td>NaN</td>\n",
       "    </tr>\n",
       "    <tr>\n",
       "      <td>1</td>\n",
       "      <td>7</td>\n",
       "      <td>3350000.0</td>\n",
       "      <td>40.40</td>\n",
       "      <td>2018-12-04T00:00:00</td>\n",
       "      <td>1</td>\n",
       "      <td>NaN</td>\n",
       "      <td>11.0</td>\n",
       "      <td>18.6</td>\n",
       "      <td>1</td>\n",
       "      <td>NaN</td>\n",
       "      <td>...</td>\n",
       "      <td>11.00</td>\n",
       "      <td>2.0</td>\n",
       "      <td>посёлок Шушары</td>\n",
       "      <td>12817.0</td>\n",
       "      <td>18603.0</td>\n",
       "      <td>0.0</td>\n",
       "      <td>NaN</td>\n",
       "      <td>0.0</td>\n",
       "      <td>NaN</td>\n",
       "      <td>81.0</td>\n",
       "    </tr>\n",
       "    <tr>\n",
       "      <td>2</td>\n",
       "      <td>10</td>\n",
       "      <td>5196000.0</td>\n",
       "      <td>56.00</td>\n",
       "      <td>2015-08-20T00:00:00</td>\n",
       "      <td>2</td>\n",
       "      <td>NaN</td>\n",
       "      <td>5.0</td>\n",
       "      <td>34.3</td>\n",
       "      <td>4</td>\n",
       "      <td>NaN</td>\n",
       "      <td>...</td>\n",
       "      <td>8.30</td>\n",
       "      <td>0.0</td>\n",
       "      <td>Санкт-Петербург</td>\n",
       "      <td>21741.0</td>\n",
       "      <td>13933.0</td>\n",
       "      <td>1.0</td>\n",
       "      <td>90.0</td>\n",
       "      <td>2.0</td>\n",
       "      <td>574.0</td>\n",
       "      <td>558.0</td>\n",
       "    </tr>\n",
       "    <tr>\n",
       "      <td>3</td>\n",
       "      <td>0</td>\n",
       "      <td>64900000.0</td>\n",
       "      <td>159.00</td>\n",
       "      <td>2015-07-24T00:00:00</td>\n",
       "      <td>3</td>\n",
       "      <td>NaN</td>\n",
       "      <td>14.0</td>\n",
       "      <td>NaN</td>\n",
       "      <td>9</td>\n",
       "      <td>NaN</td>\n",
       "      <td>...</td>\n",
       "      <td>NaN</td>\n",
       "      <td>0.0</td>\n",
       "      <td>Санкт-Петербург</td>\n",
       "      <td>28098.0</td>\n",
       "      <td>6800.0</td>\n",
       "      <td>2.0</td>\n",
       "      <td>84.0</td>\n",
       "      <td>3.0</td>\n",
       "      <td>234.0</td>\n",
       "      <td>424.0</td>\n",
       "    </tr>\n",
       "    <tr>\n",
       "      <td>4</td>\n",
       "      <td>2</td>\n",
       "      <td>10000000.0</td>\n",
       "      <td>100.00</td>\n",
       "      <td>2018-06-19T00:00:00</td>\n",
       "      <td>2</td>\n",
       "      <td>3.03</td>\n",
       "      <td>14.0</td>\n",
       "      <td>32.0</td>\n",
       "      <td>13</td>\n",
       "      <td>NaN</td>\n",
       "      <td>...</td>\n",
       "      <td>41.00</td>\n",
       "      <td>NaN</td>\n",
       "      <td>Санкт-Петербург</td>\n",
       "      <td>31856.0</td>\n",
       "      <td>8098.0</td>\n",
       "      <td>2.0</td>\n",
       "      <td>112.0</td>\n",
       "      <td>1.0</td>\n",
       "      <td>48.0</td>\n",
       "      <td>121.0</td>\n",
       "    </tr>\n",
       "    <tr>\n",
       "      <td>...</td>\n",
       "      <td>...</td>\n",
       "      <td>...</td>\n",
       "      <td>...</td>\n",
       "      <td>...</td>\n",
       "      <td>...</td>\n",
       "      <td>...</td>\n",
       "      <td>...</td>\n",
       "      <td>...</td>\n",
       "      <td>...</td>\n",
       "      <td>...</td>\n",
       "      <td>...</td>\n",
       "      <td>...</td>\n",
       "      <td>...</td>\n",
       "      <td>...</td>\n",
       "      <td>...</td>\n",
       "      <td>...</td>\n",
       "      <td>...</td>\n",
       "      <td>...</td>\n",
       "      <td>...</td>\n",
       "      <td>...</td>\n",
       "      <td>...</td>\n",
       "    </tr>\n",
       "    <tr>\n",
       "      <td>23694</td>\n",
       "      <td>9</td>\n",
       "      <td>9700000.0</td>\n",
       "      <td>133.81</td>\n",
       "      <td>2017-03-21T00:00:00</td>\n",
       "      <td>3</td>\n",
       "      <td>3.70</td>\n",
       "      <td>5.0</td>\n",
       "      <td>73.3</td>\n",
       "      <td>3</td>\n",
       "      <td>NaN</td>\n",
       "      <td>...</td>\n",
       "      <td>13.83</td>\n",
       "      <td>NaN</td>\n",
       "      <td>Санкт-Петербург</td>\n",
       "      <td>24665.0</td>\n",
       "      <td>4232.0</td>\n",
       "      <td>1.0</td>\n",
       "      <td>796.0</td>\n",
       "      <td>3.0</td>\n",
       "      <td>381.0</td>\n",
       "      <td>NaN</td>\n",
       "    </tr>\n",
       "    <tr>\n",
       "      <td>23695</td>\n",
       "      <td>14</td>\n",
       "      <td>3100000.0</td>\n",
       "      <td>59.00</td>\n",
       "      <td>2018-01-15T00:00:00</td>\n",
       "      <td>3</td>\n",
       "      <td>NaN</td>\n",
       "      <td>5.0</td>\n",
       "      <td>38.0</td>\n",
       "      <td>4</td>\n",
       "      <td>NaN</td>\n",
       "      <td>...</td>\n",
       "      <td>8.50</td>\n",
       "      <td>NaN</td>\n",
       "      <td>Тосно</td>\n",
       "      <td>NaN</td>\n",
       "      <td>NaN</td>\n",
       "      <td>NaN</td>\n",
       "      <td>NaN</td>\n",
       "      <td>NaN</td>\n",
       "      <td>NaN</td>\n",
       "      <td>45.0</td>\n",
       "    </tr>\n",
       "    <tr>\n",
       "      <td>23696</td>\n",
       "      <td>18</td>\n",
       "      <td>2500000.0</td>\n",
       "      <td>56.70</td>\n",
       "      <td>2018-02-11T00:00:00</td>\n",
       "      <td>2</td>\n",
       "      <td>NaN</td>\n",
       "      <td>3.0</td>\n",
       "      <td>29.7</td>\n",
       "      <td>1</td>\n",
       "      <td>NaN</td>\n",
       "      <td>...</td>\n",
       "      <td>NaN</td>\n",
       "      <td>NaN</td>\n",
       "      <td>село Рождествено</td>\n",
       "      <td>NaN</td>\n",
       "      <td>NaN</td>\n",
       "      <td>NaN</td>\n",
       "      <td>NaN</td>\n",
       "      <td>NaN</td>\n",
       "      <td>NaN</td>\n",
       "      <td>NaN</td>\n",
       "    </tr>\n",
       "    <tr>\n",
       "      <td>23697</td>\n",
       "      <td>13</td>\n",
       "      <td>11475000.0</td>\n",
       "      <td>76.75</td>\n",
       "      <td>2017-03-28T00:00:00</td>\n",
       "      <td>2</td>\n",
       "      <td>3.00</td>\n",
       "      <td>17.0</td>\n",
       "      <td>NaN</td>\n",
       "      <td>12</td>\n",
       "      <td>NaN</td>\n",
       "      <td>...</td>\n",
       "      <td>23.30</td>\n",
       "      <td>2.0</td>\n",
       "      <td>Санкт-Петербург</td>\n",
       "      <td>39140.0</td>\n",
       "      <td>10364.0</td>\n",
       "      <td>2.0</td>\n",
       "      <td>173.0</td>\n",
       "      <td>3.0</td>\n",
       "      <td>196.0</td>\n",
       "      <td>602.0</td>\n",
       "    </tr>\n",
       "    <tr>\n",
       "      <td>23698</td>\n",
       "      <td>4</td>\n",
       "      <td>1350000.0</td>\n",
       "      <td>32.30</td>\n",
       "      <td>2017-07-21T00:00:00</td>\n",
       "      <td>1</td>\n",
       "      <td>2.50</td>\n",
       "      <td>5.0</td>\n",
       "      <td>12.3</td>\n",
       "      <td>1</td>\n",
       "      <td>NaN</td>\n",
       "      <td>...</td>\n",
       "      <td>9.00</td>\n",
       "      <td>NaN</td>\n",
       "      <td>поселок Новый Учхоз</td>\n",
       "      <td>NaN</td>\n",
       "      <td>NaN</td>\n",
       "      <td>NaN</td>\n",
       "      <td>NaN</td>\n",
       "      <td>NaN</td>\n",
       "      <td>NaN</td>\n",
       "      <td>NaN</td>\n",
       "    </tr>\n",
       "  </tbody>\n",
       "</table>\n",
       "<p>23699 rows × 22 columns</p>\n",
       "</div>"
      ],
      "text/plain": [
       "       total_images  last_price  total_area first_day_exposition  rooms  \\\n",
       "0                20  13000000.0      108.00  2019-03-07T00:00:00      3   \n",
       "1                 7   3350000.0       40.40  2018-12-04T00:00:00      1   \n",
       "2                10   5196000.0       56.00  2015-08-20T00:00:00      2   \n",
       "3                 0  64900000.0      159.00  2015-07-24T00:00:00      3   \n",
       "4                 2  10000000.0      100.00  2018-06-19T00:00:00      2   \n",
       "...             ...         ...         ...                  ...    ...   \n",
       "23694             9   9700000.0      133.81  2017-03-21T00:00:00      3   \n",
       "23695            14   3100000.0       59.00  2018-01-15T00:00:00      3   \n",
       "23696            18   2500000.0       56.70  2018-02-11T00:00:00      2   \n",
       "23697            13  11475000.0       76.75  2017-03-28T00:00:00      2   \n",
       "23698             4   1350000.0       32.30  2017-07-21T00:00:00      1   \n",
       "\n",
       "       ceiling_height  floors_total  living_area  floor is_apartment  ...  \\\n",
       "0                2.70          16.0         51.0      8          NaN  ...   \n",
       "1                 NaN          11.0         18.6      1          NaN  ...   \n",
       "2                 NaN           5.0         34.3      4          NaN  ...   \n",
       "3                 NaN          14.0          NaN      9          NaN  ...   \n",
       "4                3.03          14.0         32.0     13          NaN  ...   \n",
       "...               ...           ...          ...    ...          ...  ...   \n",
       "23694            3.70           5.0         73.3      3          NaN  ...   \n",
       "23695             NaN           5.0         38.0      4          NaN  ...   \n",
       "23696             NaN           3.0         29.7      1          NaN  ...   \n",
       "23697            3.00          17.0          NaN     12          NaN  ...   \n",
       "23698            2.50           5.0         12.3      1          NaN  ...   \n",
       "\n",
       "       kitchen_area  balcony        locality_name  airports_nearest  \\\n",
       "0             25.00      NaN      Санкт-Петербург           18863.0   \n",
       "1             11.00      2.0       посёлок Шушары           12817.0   \n",
       "2              8.30      0.0      Санкт-Петербург           21741.0   \n",
       "3               NaN      0.0      Санкт-Петербург           28098.0   \n",
       "4             41.00      NaN      Санкт-Петербург           31856.0   \n",
       "...             ...      ...                  ...               ...   \n",
       "23694         13.83      NaN      Санкт-Петербург           24665.0   \n",
       "23695          8.50      NaN                Тосно               NaN   \n",
       "23696           NaN      NaN     село Рождествено               NaN   \n",
       "23697         23.30      2.0      Санкт-Петербург           39140.0   \n",
       "23698          9.00      NaN  поселок Новый Учхоз               NaN   \n",
       "\n",
       "      cityCenters_nearest  parks_around3000  parks_nearest  ponds_around3000  \\\n",
       "0                 16028.0               1.0          482.0               2.0   \n",
       "1                 18603.0               0.0            NaN               0.0   \n",
       "2                 13933.0               1.0           90.0               2.0   \n",
       "3                  6800.0               2.0           84.0               3.0   \n",
       "4                  8098.0               2.0          112.0               1.0   \n",
       "...                   ...               ...            ...               ...   \n",
       "23694              4232.0               1.0          796.0               3.0   \n",
       "23695                 NaN               NaN            NaN               NaN   \n",
       "23696                 NaN               NaN            NaN               NaN   \n",
       "23697             10364.0               2.0          173.0               3.0   \n",
       "23698                 NaN               NaN            NaN               NaN   \n",
       "\n",
       "       ponds_nearest  days_exposition  \n",
       "0              755.0              NaN  \n",
       "1                NaN             81.0  \n",
       "2              574.0            558.0  \n",
       "3              234.0            424.0  \n",
       "4               48.0            121.0  \n",
       "...              ...              ...  \n",
       "23694          381.0              NaN  \n",
       "23695            NaN             45.0  \n",
       "23696            NaN              NaN  \n",
       "23697          196.0            602.0  \n",
       "23698            NaN              NaN  \n",
       "\n",
       "[23699 rows x 22 columns]"
      ]
     },
     "metadata": {},
     "output_type": "display_data"
    },
    {
     "data": {
      "text/html": [
       "<div>\n",
       "<style scoped>\n",
       "    .dataframe tbody tr th:only-of-type {\n",
       "        vertical-align: middle;\n",
       "    }\n",
       "\n",
       "    .dataframe tbody tr th {\n",
       "        vertical-align: top;\n",
       "    }\n",
       "\n",
       "    .dataframe thead th {\n",
       "        text-align: right;\n",
       "    }\n",
       "</style>\n",
       "<table border=\"1\" class=\"dataframe\">\n",
       "  <thead>\n",
       "    <tr style=\"text-align: right;\">\n",
       "      <th></th>\n",
       "      <th>total_images</th>\n",
       "      <th>last_price</th>\n",
       "      <th>total_area</th>\n",
       "      <th>rooms</th>\n",
       "      <th>ceiling_height</th>\n",
       "      <th>floors_total</th>\n",
       "      <th>living_area</th>\n",
       "      <th>floor</th>\n",
       "      <th>kitchen_area</th>\n",
       "      <th>balcony</th>\n",
       "      <th>airports_nearest</th>\n",
       "      <th>cityCenters_nearest</th>\n",
       "      <th>parks_around3000</th>\n",
       "      <th>parks_nearest</th>\n",
       "      <th>ponds_around3000</th>\n",
       "      <th>ponds_nearest</th>\n",
       "      <th>days_exposition</th>\n",
       "    </tr>\n",
       "  </thead>\n",
       "  <tbody>\n",
       "    <tr>\n",
       "      <td>count</td>\n",
       "      <td>23699.000000</td>\n",
       "      <td>2.369900e+04</td>\n",
       "      <td>23699.000000</td>\n",
       "      <td>23699.000000</td>\n",
       "      <td>14504.000000</td>\n",
       "      <td>23613.000000</td>\n",
       "      <td>21796.000000</td>\n",
       "      <td>23699.000000</td>\n",
       "      <td>21421.000000</td>\n",
       "      <td>12180.000000</td>\n",
       "      <td>18157.000000</td>\n",
       "      <td>18180.000000</td>\n",
       "      <td>18181.000000</td>\n",
       "      <td>8079.000000</td>\n",
       "      <td>18181.000000</td>\n",
       "      <td>9110.000000</td>\n",
       "      <td>20518.000000</td>\n",
       "    </tr>\n",
       "    <tr>\n",
       "      <td>mean</td>\n",
       "      <td>9.858475</td>\n",
       "      <td>6.541549e+06</td>\n",
       "      <td>60.348651</td>\n",
       "      <td>2.070636</td>\n",
       "      <td>2.771499</td>\n",
       "      <td>10.673824</td>\n",
       "      <td>34.457852</td>\n",
       "      <td>5.892358</td>\n",
       "      <td>10.569807</td>\n",
       "      <td>1.150082</td>\n",
       "      <td>28793.672193</td>\n",
       "      <td>14191.277833</td>\n",
       "      <td>0.611408</td>\n",
       "      <td>490.804555</td>\n",
       "      <td>0.770255</td>\n",
       "      <td>517.980900</td>\n",
       "      <td>180.888634</td>\n",
       "    </tr>\n",
       "    <tr>\n",
       "      <td>std</td>\n",
       "      <td>5.682529</td>\n",
       "      <td>1.088701e+07</td>\n",
       "      <td>35.654083</td>\n",
       "      <td>1.078405</td>\n",
       "      <td>1.261056</td>\n",
       "      <td>6.597173</td>\n",
       "      <td>22.030445</td>\n",
       "      <td>4.885249</td>\n",
       "      <td>5.905438</td>\n",
       "      <td>1.071300</td>\n",
       "      <td>12630.880622</td>\n",
       "      <td>8608.386210</td>\n",
       "      <td>0.802074</td>\n",
       "      <td>342.317995</td>\n",
       "      <td>0.938346</td>\n",
       "      <td>277.720643</td>\n",
       "      <td>219.727988</td>\n",
       "    </tr>\n",
       "    <tr>\n",
       "      <td>min</td>\n",
       "      <td>0.000000</td>\n",
       "      <td>1.219000e+04</td>\n",
       "      <td>12.000000</td>\n",
       "      <td>0.000000</td>\n",
       "      <td>1.000000</td>\n",
       "      <td>1.000000</td>\n",
       "      <td>2.000000</td>\n",
       "      <td>1.000000</td>\n",
       "      <td>1.300000</td>\n",
       "      <td>0.000000</td>\n",
       "      <td>0.000000</td>\n",
       "      <td>181.000000</td>\n",
       "      <td>0.000000</td>\n",
       "      <td>1.000000</td>\n",
       "      <td>0.000000</td>\n",
       "      <td>13.000000</td>\n",
       "      <td>1.000000</td>\n",
       "    </tr>\n",
       "    <tr>\n",
       "      <td>25%</td>\n",
       "      <td>6.000000</td>\n",
       "      <td>3.400000e+06</td>\n",
       "      <td>40.000000</td>\n",
       "      <td>1.000000</td>\n",
       "      <td>2.520000</td>\n",
       "      <td>5.000000</td>\n",
       "      <td>18.600000</td>\n",
       "      <td>2.000000</td>\n",
       "      <td>7.000000</td>\n",
       "      <td>0.000000</td>\n",
       "      <td>18585.000000</td>\n",
       "      <td>9238.000000</td>\n",
       "      <td>0.000000</td>\n",
       "      <td>288.000000</td>\n",
       "      <td>0.000000</td>\n",
       "      <td>294.000000</td>\n",
       "      <td>45.000000</td>\n",
       "    </tr>\n",
       "    <tr>\n",
       "      <td>50%</td>\n",
       "      <td>9.000000</td>\n",
       "      <td>4.650000e+06</td>\n",
       "      <td>52.000000</td>\n",
       "      <td>2.000000</td>\n",
       "      <td>2.650000</td>\n",
       "      <td>9.000000</td>\n",
       "      <td>30.000000</td>\n",
       "      <td>4.000000</td>\n",
       "      <td>9.100000</td>\n",
       "      <td>1.000000</td>\n",
       "      <td>26726.000000</td>\n",
       "      <td>13098.500000</td>\n",
       "      <td>0.000000</td>\n",
       "      <td>455.000000</td>\n",
       "      <td>1.000000</td>\n",
       "      <td>502.000000</td>\n",
       "      <td>95.000000</td>\n",
       "    </tr>\n",
       "    <tr>\n",
       "      <td>75%</td>\n",
       "      <td>14.000000</td>\n",
       "      <td>6.800000e+06</td>\n",
       "      <td>69.900000</td>\n",
       "      <td>3.000000</td>\n",
       "      <td>2.800000</td>\n",
       "      <td>16.000000</td>\n",
       "      <td>42.300000</td>\n",
       "      <td>8.000000</td>\n",
       "      <td>12.000000</td>\n",
       "      <td>2.000000</td>\n",
       "      <td>37273.000000</td>\n",
       "      <td>16293.000000</td>\n",
       "      <td>1.000000</td>\n",
       "      <td>612.000000</td>\n",
       "      <td>1.000000</td>\n",
       "      <td>729.000000</td>\n",
       "      <td>232.000000</td>\n",
       "    </tr>\n",
       "    <tr>\n",
       "      <td>max</td>\n",
       "      <td>50.000000</td>\n",
       "      <td>7.630000e+08</td>\n",
       "      <td>900.000000</td>\n",
       "      <td>19.000000</td>\n",
       "      <td>100.000000</td>\n",
       "      <td>60.000000</td>\n",
       "      <td>409.700000</td>\n",
       "      <td>33.000000</td>\n",
       "      <td>112.000000</td>\n",
       "      <td>5.000000</td>\n",
       "      <td>84869.000000</td>\n",
       "      <td>65968.000000</td>\n",
       "      <td>3.000000</td>\n",
       "      <td>3190.000000</td>\n",
       "      <td>3.000000</td>\n",
       "      <td>1344.000000</td>\n",
       "      <td>1580.000000</td>\n",
       "    </tr>\n",
       "  </tbody>\n",
       "</table>\n",
       "</div>"
      ],
      "text/plain": [
       "       total_images    last_price    total_area         rooms  ceiling_height  \\\n",
       "count  23699.000000  2.369900e+04  23699.000000  23699.000000    14504.000000   \n",
       "mean       9.858475  6.541549e+06     60.348651      2.070636        2.771499   \n",
       "std        5.682529  1.088701e+07     35.654083      1.078405        1.261056   \n",
       "min        0.000000  1.219000e+04     12.000000      0.000000        1.000000   \n",
       "25%        6.000000  3.400000e+06     40.000000      1.000000        2.520000   \n",
       "50%        9.000000  4.650000e+06     52.000000      2.000000        2.650000   \n",
       "75%       14.000000  6.800000e+06     69.900000      3.000000        2.800000   \n",
       "max       50.000000  7.630000e+08    900.000000     19.000000      100.000000   \n",
       "\n",
       "       floors_total   living_area         floor  kitchen_area       balcony  \\\n",
       "count  23613.000000  21796.000000  23699.000000  21421.000000  12180.000000   \n",
       "mean      10.673824     34.457852      5.892358     10.569807      1.150082   \n",
       "std        6.597173     22.030445      4.885249      5.905438      1.071300   \n",
       "min        1.000000      2.000000      1.000000      1.300000      0.000000   \n",
       "25%        5.000000     18.600000      2.000000      7.000000      0.000000   \n",
       "50%        9.000000     30.000000      4.000000      9.100000      1.000000   \n",
       "75%       16.000000     42.300000      8.000000     12.000000      2.000000   \n",
       "max       60.000000    409.700000     33.000000    112.000000      5.000000   \n",
       "\n",
       "       airports_nearest  cityCenters_nearest  parks_around3000  parks_nearest  \\\n",
       "count      18157.000000         18180.000000      18181.000000    8079.000000   \n",
       "mean       28793.672193         14191.277833          0.611408     490.804555   \n",
       "std        12630.880622          8608.386210          0.802074     342.317995   \n",
       "min            0.000000           181.000000          0.000000       1.000000   \n",
       "25%        18585.000000          9238.000000          0.000000     288.000000   \n",
       "50%        26726.000000         13098.500000          0.000000     455.000000   \n",
       "75%        37273.000000         16293.000000          1.000000     612.000000   \n",
       "max        84869.000000         65968.000000          3.000000    3190.000000   \n",
       "\n",
       "       ponds_around3000  ponds_nearest  days_exposition  \n",
       "count      18181.000000    9110.000000     20518.000000  \n",
       "mean           0.770255     517.980900       180.888634  \n",
       "std            0.938346     277.720643       219.727988  \n",
       "min            0.000000      13.000000         1.000000  \n",
       "25%            0.000000     294.000000        45.000000  \n",
       "50%            1.000000     502.000000        95.000000  \n",
       "75%            1.000000     729.000000       232.000000  \n",
       "max            3.000000    1344.000000      1580.000000  "
      ]
     },
     "metadata": {},
     "output_type": "display_data"
    },
    {
     "name": "stdout",
     "output_type": "stream",
     "text": [
      "<class 'pandas.core.frame.DataFrame'>\n",
      "RangeIndex: 23699 entries, 0 to 23698\n",
      "Data columns (total 22 columns):\n",
      "total_images            23699 non-null int64\n",
      "last_price              23699 non-null float64\n",
      "total_area              23699 non-null float64\n",
      "first_day_exposition    23699 non-null object\n",
      "rooms                   23699 non-null int64\n",
      "ceiling_height          14504 non-null float64\n",
      "floors_total            23613 non-null float64\n",
      "living_area             21796 non-null float64\n",
      "floor                   23699 non-null int64\n",
      "is_apartment            2775 non-null object\n",
      "studio                  23699 non-null bool\n",
      "open_plan               23699 non-null bool\n",
      "kitchen_area            21421 non-null float64\n",
      "balcony                 12180 non-null float64\n",
      "locality_name           23650 non-null object\n",
      "airports_nearest        18157 non-null float64\n",
      "cityCenters_nearest     18180 non-null float64\n",
      "parks_around3000        18181 non-null float64\n",
      "parks_nearest           8079 non-null float64\n",
      "ponds_around3000        18181 non-null float64\n",
      "ponds_nearest           9110 non-null float64\n",
      "days_exposition         20518 non-null float64\n",
      "dtypes: bool(2), float64(14), int64(3), object(3)\n",
      "memory usage: 3.7+ MB\n"
     ]
    }
   ],
   "source": [
    "import pandas as pd\n",
    "data = pd.read_csv('/datasets/real_estate_data.csv', sep = '\\t')\n",
    "display(data)\n",
    "display(data.describe())\n",
    "data.info()"
   ]
  },
  {
   "cell_type": "code",
   "execution_count": 2,
   "metadata": {},
   "outputs": [
    {
     "data": {
      "text/plain": [
       "0"
      ]
     },
     "execution_count": 2,
     "metadata": {},
     "output_type": "execute_result"
    }
   ],
   "source": [
    "data.duplicated().sum()"
   ]
  },
  {
   "cell_type": "markdown",
   "metadata": {},
   "source": [
    "### Вывод"
   ]
  },
  {
   "cell_type": "markdown",
   "metadata": {},
   "source": [
    "Исходный файл имеет 22 столбца. В каких-то столбцах видим пропущенные значения. По методу describe() посчитаны средние значения, а так же видно, что есть аномально большие значения, которые стоит в дальнейшем убрать, чтобы датасет отображал корректно данные.\n",
    "\n",
    "Тип некоторых данных нужно тоже изменить.\n",
    "Проверив с помщью метода duplacated() видно,что в данном датафрейме дубликатов нет."
   ]
  },
  {
   "cell_type": "markdown",
   "metadata": {},
   "source": [
    "## Предобработка данных"
   ]
  },
  {
   "cell_type": "markdown",
   "metadata": {},
   "source": [
    "### Определение и изучение пропущенных значений"
   ]
  },
  {
   "cell_type": "code",
   "execution_count": 3,
   "metadata": {},
   "outputs": [
    {
     "data": {
      "text/plain": [
       "total_images                0\n",
       "last_price                  0\n",
       "total_area                  0\n",
       "first_day_exposition        0\n",
       "rooms                       0\n",
       "ceiling_height           9195\n",
       "floors_total               86\n",
       "living_area              1903\n",
       "floor                       0\n",
       "is_apartment            20924\n",
       "studio                      0\n",
       "open_plan                   0\n",
       "kitchen_area             2278\n",
       "balcony                 11519\n",
       "locality_name              49\n",
       "airports_nearest         5542\n",
       "cityCenters_nearest      5519\n",
       "parks_around3000         5518\n",
       "parks_nearest           15620\n",
       "ponds_around3000         5518\n",
       "ponds_nearest           14589\n",
       "days_exposition          3181\n",
       "dtype: int64"
      ]
     },
     "metadata": {},
     "output_type": "display_data"
    }
   ],
   "source": [
    "display(data.isnull().sum())\n",
    "    \n",
    "data['balcony'] = data['balcony'].fillna(0)     \n",
    "data['ceiling_height'] = data['ceiling_height'].fillna(data['ceiling_height'].median())\n",
    "data['living_area'] = data['living_area'].fillna(data['living_area'].median())\n",
    "data['kitchen_area'] = data['kitchen_area'].fillna(data['kitchen_area'].median())\n",
    "data['is_apartment'] = data['is_apartment'].fillna(0)\n",
    "data['days_exposition'] = data['days_exposition'].fillna(0)  \n",
    "data['cityCenters_nearest'] = data['cityCenters_nearest'].fillna(0)\n",
    "data['floors_total'] = data['floors_total'].fillna(data['floors_total'].median()) "
   ]
  },
  {
   "cell_type": "markdown",
   "metadata": {},
   "source": [
    "#### Вывод\n",
    "Пропущены значения  в 14 столбцах.\n",
    "\n",
    "Больше всего пропусков в: is_apartment (90 %), parks_nearest (66 %), ponds_nearest (62 %), balcony (50 %), ceiling_height (40 %).                        \n",
    "Меньше: airports_nearest (23 %), cityCenters_nearest (23 %), parks_around3000 (23 %), ponds_around3000 (23 %), days_exposition (13 %).                   \n",
    "Меньше всего: kitchen_area (10 %), living_area (8 %), floors_total (< 1 %), locality_name (< 1 %) \n",
    "\n",
    "is_apartment пропущенные заменим на 0, скорее всего это не апартаменты.\n",
    "balcony заменим на 0. Продавец не указал в объявлении этот параметр потому, что балконов нет.\n",
    "Высоту потолка, жилую площадь, площадь кухни, floors_total заменим на медиану.\n",
    "\n",
    "days_exposition, cityCenters_nearest заменим на 0.\n",
    "locality_name отсавляем без изменения, так как не знаем на что исправлять, и таких знчений немного.             \n",
    "Расстояния до ближайшего парка, водоема, аэропорта оставим без изменения пустыми. Эти поля заполнены автоматически.\n",
    "Пропуски возможны из-за несоврешенства работы программмы. Оставляем незаполненными, так как эти параметры не будем рассматривать в дальнейшем детально.      \n"
   ]
  },
  {
   "cell_type": "markdown",
   "metadata": {},
   "source": [
    "### Приведение данных к нужным типам"
   ]
  },
  {
   "cell_type": "code",
   "execution_count": 4,
   "metadata": {},
   "outputs": [
    {
     "name": "stdout",
     "output_type": "stream",
     "text": [
      "<class 'pandas.core.frame.DataFrame'>\n",
      "RangeIndex: 23699 entries, 0 to 23698\n",
      "Data columns (total 22 columns):\n",
      "total_images            23699 non-null int64\n",
      "last_price              23699 non-null int64\n",
      "total_area              23699 non-null float64\n",
      "first_day_exposition    23699 non-null datetime64[ns]\n",
      "rooms                   23699 non-null int64\n",
      "ceiling_height          23699 non-null float64\n",
      "floors_total            23699 non-null int64\n",
      "living_area             23699 non-null float64\n",
      "floor                   23699 non-null int64\n",
      "is_apartment            23699 non-null bool\n",
      "studio                  23699 non-null bool\n",
      "open_plan               23699 non-null bool\n",
      "kitchen_area            23699 non-null float64\n",
      "balcony                 23699 non-null int64\n",
      "locality_name           23650 non-null object\n",
      "airports_nearest        18157 non-null float64\n",
      "cityCenters_nearest     23699 non-null int64\n",
      "parks_around3000        18181 non-null float64\n",
      "parks_nearest           8079 non-null float64\n",
      "ponds_around3000        18181 non-null float64\n",
      "ponds_nearest           9110 non-null float64\n",
      "days_exposition         23699 non-null int64\n",
      "dtypes: bool(3), datetime64[ns](1), float64(9), int64(8), object(1)\n",
      "memory usage: 3.5+ MB\n"
     ]
    },
    {
     "data": {
      "text/plain": [
       "total_images                0\n",
       "last_price                  0\n",
       "total_area                  0\n",
       "first_day_exposition        0\n",
       "rooms                       0\n",
       "ceiling_height              0\n",
       "floors_total                0\n",
       "living_area                 0\n",
       "floor                       0\n",
       "is_apartment                0\n",
       "studio                      0\n",
       "open_plan                   0\n",
       "kitchen_area                0\n",
       "balcony                     0\n",
       "locality_name              49\n",
       "airports_nearest         5542\n",
       "cityCenters_nearest         0\n",
       "parks_around3000         5518\n",
       "parks_nearest           15620\n",
       "ponds_around3000         5518\n",
       "ponds_nearest           14589\n",
       "days_exposition             0\n",
       "dtype: int64"
      ]
     },
     "metadata": {},
     "output_type": "display_data"
    }
   ],
   "source": [
    "data['last_price'] = data['last_price'].astype('int') \n",
    "data['first_day_exposition'] = pd.to_datetime(data['first_day_exposition'], format='%Y-%m-%dT%H:%M:%S')\n",
    "data['first_day_exposition'] = data['first_day_exposition'].dt.round('1H')\n",
    "data['floors_total'] = data['floors_total'].astype('int')\n",
    "data['is_apartment'] = data['is_apartment'].astype('bool')\n",
    "data['balcony'] = data['balcony'].astype('int') \n",
    "data['days_exposition'] = data['days_exposition'].astype('int')  \n",
    "data['cityCenters_nearest'] = data['cityCenters_nearest'].astype('int')\n",
    "\n",
    "data.info()\n",
    "display(data.isnull().sum())"
   ]
  },
  {
   "cell_type": "markdown",
   "metadata": {},
   "source": [
    "#### Вывод\n",
    "Преобразовали last_price, floors_total, balcony, days_exposition, cityCenters_nearest к int. first_day_exposition перевели в формат datetime, так как это дата и округлили до часа. is_apartment привели к bool.\n",
    "\n",
    "Пропуски, которые остались в больших кол-вах - это данные, полученные автоматически на основе картографических данных.\n",
    "Данная система значит не отлаженно работает и этот вопрос нужно озвучить разрабтчиком данной системы.\n",
    "Это на первый взгляд и является аномалией - то, что пропуски в больших кол-вах попали в выгрузку для анализа (60 % и > 20 %). Эти пропуски правильными и самым подходящими значеними даже не заменить."
   ]
  },
  {
   "cell_type": "markdown",
   "metadata": {},
   "source": [
    "## Расчёты и добавление результатов в таблицу"
   ]
  },
  {
   "cell_type": "code",
   "execution_count": 5,
   "metadata": {
    "scrolled": true
   },
   "outputs": [
    {
     "data": {
      "text/html": [
       "<div>\n",
       "<style scoped>\n",
       "    .dataframe tbody tr th:only-of-type {\n",
       "        vertical-align: middle;\n",
       "    }\n",
       "\n",
       "    .dataframe tbody tr th {\n",
       "        vertical-align: top;\n",
       "    }\n",
       "\n",
       "    .dataframe thead th {\n",
       "        text-align: right;\n",
       "    }\n",
       "</style>\n",
       "<table border=\"1\" class=\"dataframe\">\n",
       "  <thead>\n",
       "    <tr style=\"text-align: right;\">\n",
       "      <th></th>\n",
       "      <th>total_images</th>\n",
       "      <th>last_price</th>\n",
       "      <th>total_area</th>\n",
       "      <th>first_day_exposition</th>\n",
       "      <th>rooms</th>\n",
       "      <th>ceiling_height</th>\n",
       "      <th>floors_total</th>\n",
       "      <th>living_area</th>\n",
       "      <th>floor</th>\n",
       "      <th>is_apartment</th>\n",
       "      <th>...</th>\n",
       "      <th>ponds_around3000</th>\n",
       "      <th>ponds_nearest</th>\n",
       "      <th>days_exposition</th>\n",
       "      <th>price for metr</th>\n",
       "      <th>day week of publication</th>\n",
       "      <th>month of publication</th>\n",
       "      <th>year of publication</th>\n",
       "      <th>floor_group</th>\n",
       "      <th>living_area to total_area</th>\n",
       "      <th>kitchen_area to total_area</th>\n",
       "    </tr>\n",
       "  </thead>\n",
       "  <tbody>\n",
       "    <tr>\n",
       "      <td>0</td>\n",
       "      <td>20</td>\n",
       "      <td>13000000</td>\n",
       "      <td>108.00</td>\n",
       "      <td>2019-03-07</td>\n",
       "      <td>3</td>\n",
       "      <td>2.70</td>\n",
       "      <td>16</td>\n",
       "      <td>51.0</td>\n",
       "      <td>8</td>\n",
       "      <td>False</td>\n",
       "      <td>...</td>\n",
       "      <td>2.0</td>\n",
       "      <td>755.0</td>\n",
       "      <td>0</td>\n",
       "      <td>120370.0</td>\n",
       "      <td>3</td>\n",
       "      <td>3</td>\n",
       "      <td>2019</td>\n",
       "      <td>ниже десятого</td>\n",
       "      <td>0.472</td>\n",
       "      <td>0.231</td>\n",
       "    </tr>\n",
       "    <tr>\n",
       "      <td>1</td>\n",
       "      <td>7</td>\n",
       "      <td>3350000</td>\n",
       "      <td>40.40</td>\n",
       "      <td>2018-12-04</td>\n",
       "      <td>1</td>\n",
       "      <td>2.65</td>\n",
       "      <td>11</td>\n",
       "      <td>18.6</td>\n",
       "      <td>1</td>\n",
       "      <td>False</td>\n",
       "      <td>...</td>\n",
       "      <td>0.0</td>\n",
       "      <td>NaN</td>\n",
       "      <td>81</td>\n",
       "      <td>82921.0</td>\n",
       "      <td>1</td>\n",
       "      <td>12</td>\n",
       "      <td>2018</td>\n",
       "      <td>первый</td>\n",
       "      <td>0.460</td>\n",
       "      <td>0.272</td>\n",
       "    </tr>\n",
       "    <tr>\n",
       "      <td>2</td>\n",
       "      <td>10</td>\n",
       "      <td>5196000</td>\n",
       "      <td>56.00</td>\n",
       "      <td>2015-08-20</td>\n",
       "      <td>2</td>\n",
       "      <td>2.65</td>\n",
       "      <td>5</td>\n",
       "      <td>34.3</td>\n",
       "      <td>4</td>\n",
       "      <td>False</td>\n",
       "      <td>...</td>\n",
       "      <td>2.0</td>\n",
       "      <td>574.0</td>\n",
       "      <td>558</td>\n",
       "      <td>92786.0</td>\n",
       "      <td>3</td>\n",
       "      <td>8</td>\n",
       "      <td>2015</td>\n",
       "      <td>ниже десятого</td>\n",
       "      <td>0.612</td>\n",
       "      <td>0.148</td>\n",
       "    </tr>\n",
       "    <tr>\n",
       "      <td>3</td>\n",
       "      <td>0</td>\n",
       "      <td>64900000</td>\n",
       "      <td>159.00</td>\n",
       "      <td>2015-07-24</td>\n",
       "      <td>3</td>\n",
       "      <td>2.65</td>\n",
       "      <td>14</td>\n",
       "      <td>30.0</td>\n",
       "      <td>9</td>\n",
       "      <td>False</td>\n",
       "      <td>...</td>\n",
       "      <td>3.0</td>\n",
       "      <td>234.0</td>\n",
       "      <td>424</td>\n",
       "      <td>408176.0</td>\n",
       "      <td>4</td>\n",
       "      <td>7</td>\n",
       "      <td>2015</td>\n",
       "      <td>ниже десятого</td>\n",
       "      <td>0.189</td>\n",
       "      <td>0.057</td>\n",
       "    </tr>\n",
       "    <tr>\n",
       "      <td>4</td>\n",
       "      <td>2</td>\n",
       "      <td>10000000</td>\n",
       "      <td>100.00</td>\n",
       "      <td>2018-06-19</td>\n",
       "      <td>2</td>\n",
       "      <td>3.03</td>\n",
       "      <td>14</td>\n",
       "      <td>32.0</td>\n",
       "      <td>13</td>\n",
       "      <td>False</td>\n",
       "      <td>...</td>\n",
       "      <td>1.0</td>\n",
       "      <td>48.0</td>\n",
       "      <td>121</td>\n",
       "      <td>100000.0</td>\n",
       "      <td>1</td>\n",
       "      <td>6</td>\n",
       "      <td>2018</td>\n",
       "      <td>10-20-ый этаж</td>\n",
       "      <td>0.320</td>\n",
       "      <td>0.410</td>\n",
       "    </tr>\n",
       "    <tr>\n",
       "      <td>...</td>\n",
       "      <td>...</td>\n",
       "      <td>...</td>\n",
       "      <td>...</td>\n",
       "      <td>...</td>\n",
       "      <td>...</td>\n",
       "      <td>...</td>\n",
       "      <td>...</td>\n",
       "      <td>...</td>\n",
       "      <td>...</td>\n",
       "      <td>...</td>\n",
       "      <td>...</td>\n",
       "      <td>...</td>\n",
       "      <td>...</td>\n",
       "      <td>...</td>\n",
       "      <td>...</td>\n",
       "      <td>...</td>\n",
       "      <td>...</td>\n",
       "      <td>...</td>\n",
       "      <td>...</td>\n",
       "      <td>...</td>\n",
       "      <td>...</td>\n",
       "    </tr>\n",
       "    <tr>\n",
       "      <td>23694</td>\n",
       "      <td>9</td>\n",
       "      <td>9700000</td>\n",
       "      <td>133.81</td>\n",
       "      <td>2017-03-21</td>\n",
       "      <td>3</td>\n",
       "      <td>3.70</td>\n",
       "      <td>5</td>\n",
       "      <td>73.3</td>\n",
       "      <td>3</td>\n",
       "      <td>False</td>\n",
       "      <td>...</td>\n",
       "      <td>3.0</td>\n",
       "      <td>381.0</td>\n",
       "      <td>0</td>\n",
       "      <td>72491.0</td>\n",
       "      <td>1</td>\n",
       "      <td>3</td>\n",
       "      <td>2017</td>\n",
       "      <td>ниже десятого</td>\n",
       "      <td>0.548</td>\n",
       "      <td>0.103</td>\n",
       "    </tr>\n",
       "    <tr>\n",
       "      <td>23695</td>\n",
       "      <td>14</td>\n",
       "      <td>3100000</td>\n",
       "      <td>59.00</td>\n",
       "      <td>2018-01-15</td>\n",
       "      <td>3</td>\n",
       "      <td>2.65</td>\n",
       "      <td>5</td>\n",
       "      <td>38.0</td>\n",
       "      <td>4</td>\n",
       "      <td>False</td>\n",
       "      <td>...</td>\n",
       "      <td>NaN</td>\n",
       "      <td>NaN</td>\n",
       "      <td>45</td>\n",
       "      <td>52542.0</td>\n",
       "      <td>0</td>\n",
       "      <td>1</td>\n",
       "      <td>2018</td>\n",
       "      <td>ниже десятого</td>\n",
       "      <td>0.644</td>\n",
       "      <td>0.144</td>\n",
       "    </tr>\n",
       "    <tr>\n",
       "      <td>23696</td>\n",
       "      <td>18</td>\n",
       "      <td>2500000</td>\n",
       "      <td>56.70</td>\n",
       "      <td>2018-02-11</td>\n",
       "      <td>2</td>\n",
       "      <td>2.65</td>\n",
       "      <td>3</td>\n",
       "      <td>29.7</td>\n",
       "      <td>1</td>\n",
       "      <td>False</td>\n",
       "      <td>...</td>\n",
       "      <td>NaN</td>\n",
       "      <td>NaN</td>\n",
       "      <td>0</td>\n",
       "      <td>44092.0</td>\n",
       "      <td>6</td>\n",
       "      <td>2</td>\n",
       "      <td>2018</td>\n",
       "      <td>первый</td>\n",
       "      <td>0.524</td>\n",
       "      <td>0.160</td>\n",
       "    </tr>\n",
       "    <tr>\n",
       "      <td>23697</td>\n",
       "      <td>13</td>\n",
       "      <td>11475000</td>\n",
       "      <td>76.75</td>\n",
       "      <td>2017-03-28</td>\n",
       "      <td>2</td>\n",
       "      <td>3.00</td>\n",
       "      <td>17</td>\n",
       "      <td>30.0</td>\n",
       "      <td>12</td>\n",
       "      <td>False</td>\n",
       "      <td>...</td>\n",
       "      <td>3.0</td>\n",
       "      <td>196.0</td>\n",
       "      <td>602</td>\n",
       "      <td>149511.0</td>\n",
       "      <td>1</td>\n",
       "      <td>3</td>\n",
       "      <td>2017</td>\n",
       "      <td>10-20-ый этаж</td>\n",
       "      <td>0.391</td>\n",
       "      <td>0.304</td>\n",
       "    </tr>\n",
       "    <tr>\n",
       "      <td>23698</td>\n",
       "      <td>4</td>\n",
       "      <td>1350000</td>\n",
       "      <td>32.30</td>\n",
       "      <td>2017-07-21</td>\n",
       "      <td>1</td>\n",
       "      <td>2.50</td>\n",
       "      <td>5</td>\n",
       "      <td>12.3</td>\n",
       "      <td>1</td>\n",
       "      <td>False</td>\n",
       "      <td>...</td>\n",
       "      <td>NaN</td>\n",
       "      <td>NaN</td>\n",
       "      <td>0</td>\n",
       "      <td>41796.0</td>\n",
       "      <td>4</td>\n",
       "      <td>7</td>\n",
       "      <td>2017</td>\n",
       "      <td>первый</td>\n",
       "      <td>0.381</td>\n",
       "      <td>0.279</td>\n",
       "    </tr>\n",
       "  </tbody>\n",
       "</table>\n",
       "<p>23699 rows × 29 columns</p>\n",
       "</div>"
      ],
      "text/plain": [
       "       total_images  last_price  total_area first_day_exposition  rooms  \\\n",
       "0                20    13000000      108.00           2019-03-07      3   \n",
       "1                 7     3350000       40.40           2018-12-04      1   \n",
       "2                10     5196000       56.00           2015-08-20      2   \n",
       "3                 0    64900000      159.00           2015-07-24      3   \n",
       "4                 2    10000000      100.00           2018-06-19      2   \n",
       "...             ...         ...         ...                  ...    ...   \n",
       "23694             9     9700000      133.81           2017-03-21      3   \n",
       "23695            14     3100000       59.00           2018-01-15      3   \n",
       "23696            18     2500000       56.70           2018-02-11      2   \n",
       "23697            13    11475000       76.75           2017-03-28      2   \n",
       "23698             4     1350000       32.30           2017-07-21      1   \n",
       "\n",
       "       ceiling_height  floors_total  living_area  floor  is_apartment  ...  \\\n",
       "0                2.70            16         51.0      8         False  ...   \n",
       "1                2.65            11         18.6      1         False  ...   \n",
       "2                2.65             5         34.3      4         False  ...   \n",
       "3                2.65            14         30.0      9         False  ...   \n",
       "4                3.03            14         32.0     13         False  ...   \n",
       "...               ...           ...          ...    ...           ...  ...   \n",
       "23694            3.70             5         73.3      3         False  ...   \n",
       "23695            2.65             5         38.0      4         False  ...   \n",
       "23696            2.65             3         29.7      1         False  ...   \n",
       "23697            3.00            17         30.0     12         False  ...   \n",
       "23698            2.50             5         12.3      1         False  ...   \n",
       "\n",
       "       ponds_around3000  ponds_nearest  days_exposition  price for metr  \\\n",
       "0                   2.0          755.0                0        120370.0   \n",
       "1                   0.0            NaN               81         82921.0   \n",
       "2                   2.0          574.0              558         92786.0   \n",
       "3                   3.0          234.0              424        408176.0   \n",
       "4                   1.0           48.0              121        100000.0   \n",
       "...                 ...            ...              ...             ...   \n",
       "23694               3.0          381.0                0         72491.0   \n",
       "23695               NaN            NaN               45         52542.0   \n",
       "23696               NaN            NaN                0         44092.0   \n",
       "23697               3.0          196.0              602        149511.0   \n",
       "23698               NaN            NaN                0         41796.0   \n",
       "\n",
       "      day week of publication  month of publication  year of publication  \\\n",
       "0                           3                     3                 2019   \n",
       "1                           1                    12                 2018   \n",
       "2                           3                     8                 2015   \n",
       "3                           4                     7                 2015   \n",
       "4                           1                     6                 2018   \n",
       "...                       ...                   ...                  ...   \n",
       "23694                       1                     3                 2017   \n",
       "23695                       0                     1                 2018   \n",
       "23696                       6                     2                 2018   \n",
       "23697                       1                     3                 2017   \n",
       "23698                       4                     7                 2017   \n",
       "\n",
       "         floor_group  living_area to total_area  kitchen_area to total_area  \n",
       "0      ниже десятого                      0.472                       0.231  \n",
       "1             первый                      0.460                       0.272  \n",
       "2      ниже десятого                      0.612                       0.148  \n",
       "3      ниже десятого                      0.189                       0.057  \n",
       "4      10-20-ый этаж                      0.320                       0.410  \n",
       "...              ...                        ...                         ...  \n",
       "23694  ниже десятого                      0.548                       0.103  \n",
       "23695  ниже десятого                      0.644                       0.144  \n",
       "23696         первый                      0.524                       0.160  \n",
       "23697  10-20-ый этаж                      0.391                       0.304  \n",
       "23698         первый                      0.381                       0.279  \n",
       "\n",
       "[23699 rows x 29 columns]"
      ]
     },
     "execution_count": 5,
     "metadata": {},
     "output_type": "execute_result"
    }
   ],
   "source": [
    "data['price for metr'] = round(data['last_price'] / data['total_area'])\n",
    "\n",
    "data['day week of publication'] = data['first_day_exposition'].dt.weekday\n",
    "data['month of publication'] = data['first_day_exposition'].dt.month\n",
    "data['year of publication'] = data['first_day_exposition'].dt.year\n",
    "\n",
    "def floor_group(floor,floors_total):\n",
    "    if floor == 1:\n",
    "        return 'первый'\n",
    "    if floor == floors_total:\n",
    "        return 'последний'\n",
    "    if 2 <= floor < 10:\n",
    "        return 'ниже десятого'\n",
    "    if 10 <= floor < 20:\n",
    "        return '10-20-ый этаж'\n",
    "    return 'выше 20-го'\n",
    "\n",
    "data['floor_group'] = data.apply(lambda x:floor_group(x['floor'], x['floors_total']), axis = 1)\n",
    "data.loc[:,['floor_group', 'floor','floors_total']].head(20)\n",
    "\n",
    "data['living_area to total_area'] = round(data['living_area'] / data['total_area'],3)\n",
    "data['kitchen_area to total_area'] = round(data['kitchen_area'] / data['total_area'],3)\n",
    "data\n"
   ]
  },
  {
   "cell_type": "markdown",
   "metadata": {},
   "source": [
    "### Вывод\n",
    "В таблицу были добавлены такие показатели, как:\n",
    "цена квадратного метра;\n",
    "день недели, месяц и год публикации объявления;\n",
    "этаж квартиры; первый, последний, ниже 10, 10-20, выше 20 -го;\n",
    "соотношение жилой и общей площади, а также отношение площади кухни к общей."
   ]
  },
  {
   "cell_type": "markdown",
   "metadata": {},
   "source": [
    "## Исследовательский анализ данных"
   ]
  },
  {
   "cell_type": "markdown",
   "metadata": {},
   "source": [
    "### Изучение площади, цены, числа комнат, высоты потолков."
   ]
  },
  {
   "cell_type": "code",
   "execution_count": 6,
   "metadata": {},
   "outputs": [
    {
     "data": {
      "text/plain": [
       "<matplotlib.axes._subplots.AxesSubplot at 0x7f856d6ff790>"
      ]
     },
     "metadata": {},
     "output_type": "display_data"
    },
    {
     "data": {
      "image/png": "[encoded data removed]",
      "text/plain": [
       "<Figure size 432x288 with 1 Axes>"
      ]
     },
     "metadata": {
      "needs_background": "light"
     },
     "output_type": "display_data"
    }
   ],
   "source": [
    "import matplotlib.pyplot as plt\n",
    "# гистограммы.\n",
    "display(data['total_area'].hist(bins = 20, range = (11,120)))"
   ]
  },
  {
   "cell_type": "code",
   "execution_count": 7,
   "metadata": {},
   "outputs": [
    {
     "data": {
      "text/plain": [
       "<matplotlib.axes._subplots.AxesSubplot at 0x7f856cf1b110>"
      ]
     },
     "metadata": {},
     "output_type": "display_data"
    },
    {
     "data": {
      "image/png": "[encoded data removed]",
      "text/plain": [
       "<Figure size 432x288 with 1 Axes>"
      ]
     },
     "metadata": {
      "needs_background": "light"
     },
     "output_type": "display_data"
    }
   ],
   "source": [
    "display(data['last_price'].hist(bins = 15, range = (0,10000000))) "
   ]
  },
  {
   "cell_type": "code",
   "execution_count": 8,
   "metadata": {},
   "outputs": [
    {
     "data": {
      "text/plain": [
       "<matplotlib.axes._subplots.AxesSubplot at 0x7f856ce4b690>"
      ]
     },
     "metadata": {},
     "output_type": "display_data"
    },
    {
     "data": {
      "image/png": "[encoded data removed]",
      "text/plain": [
       "<Figure size 432x288 with 1 Axes>"
      ]
     },
     "metadata": {
      "needs_background": "light"
     },
     "output_type": "display_data"
    }
   ],
   "source": [
    "display(data['rooms'].hist(bins = 13, range =(0,8))) "
   ]
  },
  {
   "cell_type": "code",
   "execution_count": 9,
   "metadata": {},
   "outputs": [
    {
     "data": {
      "text/plain": [
       "<matplotlib.axes._subplots.AxesSubplot at 0x7f856ce1ab10>"
      ]
     },
     "metadata": {},
     "output_type": "display_data"
    },
    {
     "data": {
      "image/png": "[encoded data removed]",
      "text/plain": [
       "<Figure size 432x288 with 1 Axes>"
      ]
     },
     "metadata": {
      "needs_background": "light"
     },
     "output_type": "display_data"
    }
   ],
   "source": [
    "display(data['ceiling_height'].hist(bins = 13, range = (2.25,4))) "
   ]
  },
  {
   "cell_type": "markdown",
   "metadata": {},
   "source": [
    "Общая площадь, самое частовстр. значение 30-50 м.кв.\n",
    "цена, самое частовср. значение 3 - 4,5 млн.руб.\n",
    "число комнат, самое частовстр. значение - 1,2 комнаты.\n",
    "высота потолков, самое частвстр. значение - 2,6 - 2,8 м.\n"
   ]
  },
  {
   "cell_type": "markdown",
   "metadata": {},
   "source": [
    "### Изучение времение продажи квартиры"
   ]
  },
  {
   "cell_type": "code",
   "execution_count": 10,
   "metadata": {},
   "outputs": [
    {
     "data": {
      "text/plain": [
       "<matplotlib.axes._subplots.AxesSubplot at 0x7f8564a8b610>"
      ]
     },
     "execution_count": 10,
     "metadata": {},
     "output_type": "execute_result"
    },
    {
     "data": {
      "image/png": "[encoded data removed]",
      "text/plain": [
       "<Figure size 432x288 with 1 Axes>"
      ]
     },
     "metadata": {
      "needs_background": "light"
     },
     "output_type": "display_data"
    }
   ],
   "source": [
    "data['days_exposition'].hist(bins = 11, range = (0,1000))"
   ]
  },
  {
   "cell_type": "markdown",
   "metadata": {},
   "source": [
    "Время продажи картиры обычно составляет до 3 месяцев. Может так же быть и до полугода."
   ]
  },
  {
   "cell_type": "code",
   "execution_count": 11,
   "metadata": {},
   "outputs": [
    {
     "data": {
      "text/plain": [
       "156.60884425503187"
      ]
     },
     "metadata": {},
     "output_type": "display_data"
    },
    {
     "data": {
      "text/plain": [
       "74.0"
      ]
     },
     "metadata": {},
     "output_type": "display_data"
    }
   ],
   "source": [
    "display(data['days_exposition'].mean()) \n",
    "display(data['days_exposition'].median()) "
   ]
  },
  {
   "cell_type": "code",
   "execution_count": 12,
   "metadata": {},
   "outputs": [
    {
     "data": {
      "text/plain": [
       "(0, 480)"
      ]
     },
     "execution_count": 12,
     "metadata": {},
     "output_type": "execute_result"
    },
    {
     "data": {
      "image/png": "[encoded data removed]",
      "text/plain": [
       "<Figure size 432x288 with 1 Axes>"
      ]
     },
     "metadata": {
      "needs_background": "light"
     },
     "output_type": "display_data"
    }
   ],
   "source": [
    "data.boxplot(column = 'days_exposition')\n",
    "plt.ylim(0,480)"
   ]
  },
  {
   "cell_type": "markdown",
   "metadata": {},
   "source": [
    "По boxplot можно сделать вывод, что квартира продавалась в основном от 3 недель до 190 дней. 2,5 месяца - медианное значение."
   ]
  },
  {
   "cell_type": "code",
   "execution_count": 13,
   "metadata": {},
   "outputs": [
    {
     "data": {
      "text/plain": [
       "count    23699.000000\n",
       "mean       156.608844\n",
       "std        213.546873\n",
       "min          0.000000\n",
       "25%         22.000000\n",
       "50%         74.000000\n",
       "75%        199.000000\n",
       "max       1580.000000\n",
       "Name: days_exposition, dtype: float64"
      ]
     },
     "execution_count": 13,
     "metadata": {},
     "output_type": "execute_result"
    }
   ],
   "source": [
    "data['days_exposition'].describe()"
   ]
  },
  {
   "cell_type": "markdown",
   "metadata": {},
   "source": [
    "В среднем 5 месяцев на продажу, медиана до 3 месяцев (2,5 месяца).\n",
    "Если квартира продалась меньше, чем за 3 недели - то это очень быстро, \n",
    "если квартира продавалась больше (460 дней) 15 месяцев, то это уже долго."
   ]
  },
  {
   "cell_type": "markdown",
   "metadata": {},
   "source": [
    "### Редкие и выбивающиеся значения"
   ]
  },
  {
   "cell_type": "code",
   "execution_count": 14,
   "metadata": {
    "scrolled": false
   },
   "outputs": [
    {
     "data": {
      "text/plain": [
       "<matplotlib.axes._subplots.AxesSubplot at 0x7f8564970490>"
      ]
     },
     "metadata": {},
     "output_type": "display_data"
    },
    {
     "data": {
      "image/png": "[encoded data removed]",
      "text/plain": [
       "<Figure size 432x288 with 1 Axes>"
      ]
     },
     "metadata": {
      "needs_background": "light"
     },
     "output_type": "display_data"
    }
   ],
   "source": [
    "display(data['total_area'].hist(range = (10,200))) "
   ]
  },
  {
   "cell_type": "code",
   "execution_count": 15,
   "metadata": {},
   "outputs": [
    {
     "data": {
      "image/png": "[encoded data removed]",
      "text/plain": [
       "<Figure size 432x288 with 1 Axes>"
      ]
     },
     "metadata": {
      "needs_background": "light"
     },
     "output_type": "display_data"
    }
   ],
   "source": [
    "data.boxplot(column = 'total_area')\n",
    "plt.ylim(0,120)\n",
    "\n",
    "# отфильтруем данные по площади\n",
    "data = data.query('total_area < = 118')"
   ]
  },
  {
   "cell_type": "markdown",
   "metadata": {},
   "source": [
    "Площадь имеет очень много выбросов. Площадь больше 118 кв.м - это выбивающиеся значения."
   ]
  },
  {
   "cell_type": "code",
   "execution_count": 16,
   "metadata": {},
   "outputs": [
    {
     "data": {
      "text/plain": [
       "<matplotlib.axes._subplots.AxesSubplot at 0x7f856488c710>"
      ]
     },
     "execution_count": 16,
     "metadata": {},
     "output_type": "execute_result"
    },
    {
     "data": {
      "image/png": "[encoded data removed]",
      "text/plain": [
       "<Figure size 432x288 with 1 Axes>"
      ]
     },
     "metadata": {
      "needs_background": "light"
     },
     "output_type": "display_data"
    }
   ],
   "source": [
    "data['ceiling_height'].hist(bins = 11, range = (2.2,4)) "
   ]
  },
  {
   "cell_type": "code",
   "execution_count": 17,
   "metadata": {},
   "outputs": [
    {
     "data": {
      "image/png": "[encoded data removed]",
      "text/plain": [
       "<Figure size 432x288 with 1 Axes>"
      ]
     },
     "metadata": {
      "needs_background": "light"
     },
     "output_type": "display_data"
    }
   ],
   "source": [
    "data.boxplot(column = 'ceiling_height')\n",
    "plt.ylim(2.4,3)\n",
    "# отфильтруем данные по высоте потолков\n",
    "data = data.query('ceiling_height < = 2.85 & ceiling_height > = 2.47')"
   ]
  },
  {
   "cell_type": "markdown",
   "metadata": {},
   "source": [
    "Высота потлков имеет очень много выбросов. Высота потлков больше 2.85 м. и меньше 2.47 м. - это выбивающиеся значения."
   ]
  },
  {
   "cell_type": "code",
   "execution_count": 18,
   "metadata": {},
   "outputs": [
    {
     "data": {
      "text/plain": [
       "<matplotlib.axes._subplots.AxesSubplot at 0x7f856478f7d0>"
      ]
     },
     "execution_count": 18,
     "metadata": {},
     "output_type": "execute_result"
    },
    {
     "data": {
      "image/png": "[encoded data removed]",
      "text/plain": [
       "<Figure size 432x288 with 1 Axes>"
      ]
     },
     "metadata": {
      "needs_background": "light"
     },
     "output_type": "display_data"
    }
   ],
   "source": [
    "data['last_price'].hist(bins = 15, range = (0,20000000))"
   ]
  },
  {
   "cell_type": "code",
   "execution_count": 19,
   "metadata": {},
   "outputs": [
    {
     "data": {
      "image/png": "[encoded data removed]",
      "text/plain": [
       "<Figure size 432x288 with 1 Axes>"
      ]
     },
     "metadata": {
      "needs_background": "light"
     },
     "output_type": "display_data"
    }
   ],
   "source": [
    "data.boxplot(column = 'last_price')\n",
    "plt.ylim(0,12000000)\n",
    "\n",
    "# отфильтруем данные по цене\n",
    "data = data.query('last_price < = 92000000')"
   ]
  },
  {
   "cell_type": "markdown",
   "metadata": {},
   "source": [
    "Цена имеет очень много выбросов. Цена больше 9 200 0000 руб - это выбивающиеся значения."
   ]
  },
  {
   "cell_type": "code",
   "execution_count": 20,
   "metadata": {},
   "outputs": [
    {
     "data": {
      "text/plain": [
       "count    20207.000000\n",
       "mean        52.827673\n",
       "std         18.684144\n",
       "min         12.000000\n",
       "25%         38.500000\n",
       "50%         48.200000\n",
       "75%         63.000000\n",
       "max        118.000000\n",
       "Name: total_area, dtype: float64"
      ]
     },
     "metadata": {},
     "output_type": "display_data"
    },
    {
     "data": {
      "text/plain": [
       "count    20207.000000\n",
       "mean         2.630209\n",
       "std          0.081400\n",
       "min          2.470000\n",
       "25%          2.585000\n",
       "50%          2.650000\n",
       "75%          2.650000\n",
       "max          2.850000\n",
       "Name: ceiling_height, dtype: float64"
      ]
     },
     "metadata": {},
     "output_type": "display_data"
    },
    {
     "data": {
      "text/plain": [
       "count    2.020700e+04\n",
       "mean     4.969594e+06\n",
       "std      2.981604e+06\n",
       "min      1.219000e+04\n",
       "25%      3.299000e+06\n",
       "50%      4.300000e+06\n",
       "75%      5.850000e+06\n",
       "max      8.200000e+07\n",
       "Name: last_price, dtype: float64"
      ]
     },
     "metadata": {},
     "output_type": "display_data"
    }
   ],
   "source": [
    "display(data['total_area'].describe())\n",
    "display(data['ceiling_height'].describe())\n",
    "display(data['last_price'].describe())"
   ]
  },
  {
   "cell_type": "markdown",
   "metadata": {},
   "source": [
    "Среднее:\n",
    "\n",
    "total_area 52.83 (60.34 было)\n",
    "\n",
    "ceiling_height 2.63 (2.77 было)\n",
    "\n",
    "last_price 4.97e+06 (6.54e+06 было)"
   ]
  },
  {
   "cell_type": "markdown",
   "metadata": {},
   "source": [
    "### Какие факторы больше всего влияют на стоимость квартиры?"
   ]
  },
  {
   "cell_type": "code",
   "execution_count": 21,
   "metadata": {},
   "outputs": [
    {
     "data": {
      "text/plain": [
       "0.6893406969673382"
      ]
     },
     "execution_count": 21,
     "metadata": {},
     "output_type": "execute_result"
    },
    {
     "data": {
      "image/png": "[encoded data removed]",
      "text/plain": [
       "<Figure size 432x288 with 1 Axes>"
      ]
     },
     "metadata": {
      "needs_background": "light"
     },
     "output_type": "display_data"
    }
   ],
   "source": [
    "data.plot(x ='total_area', y = 'last_price' , kind = 'scatter') \n",
    "plt.ylim(0,9000000)\n",
    "data['total_area'].corr(data['last_price'])"
   ]
  },
  {
   "cell_type": "markdown",
   "metadata": {},
   "source": [
    "Коэф-т корреляции Пирсона 0,7. Значит есть высокая связь между площадью и стоимостью квартиры."
   ]
  },
  {
   "cell_type": "code",
   "execution_count": 22,
   "metadata": {},
   "outputs": [
    {
     "data": {
      "text/plain": [
       "0.3949805511670603"
      ]
     },
     "execution_count": 22,
     "metadata": {},
     "output_type": "execute_result"
    },
    {
     "data": {
      "image/png": "[encoded data removed]",
      "text/plain": [
       "<Figure size 432x288 with 1 Axes>"
      ]
     },
     "metadata": {
      "needs_background": "light"
     },
     "output_type": "display_data"
    }
   ],
   "source": [
    "data.plot(x ='rooms', y = 'last_price' , kind = 'scatter')\n",
    "data['rooms'].corr(data['last_price']) "
   ]
  },
  {
   "cell_type": "markdown",
   "metadata": {},
   "source": [
    " Коэф-т корреляции Пирсона 0,4. Значит связь слабая между кол-вом комнат и стоимостью квартиры."
   ]
  },
  {
   "cell_type": "code",
   "execution_count": 23,
   "metadata": {},
   "outputs": [
    {
     "data": {
      "text/plain": [
       "0.07741200730631596"
      ]
     },
     "execution_count": 23,
     "metadata": {},
     "output_type": "execute_result"
    },
    {
     "data": {
      "image/png": "[encoded data removed]",
      "text/plain": [
       "<Figure size 432x288 with 1 Axes>"
      ]
     },
     "metadata": {
      "needs_background": "light"
     },
     "output_type": "display_data"
    }
   ],
   "source": [
    "data.plot(x ='cityCenters_nearest', y = 'last_price' , kind = 'scatter')\n",
    "plt.ylim(0,9000000)\n",
    "plt.xlim(1,60000)\n",
    "data['cityCenters_nearest'].corr(data['last_price']) "
   ]
  },
  {
   "cell_type": "markdown",
   "metadata": {},
   "source": [
    "Коэф-т корреляции Пирсона 0,013. Значит связь очень слабая между расстянием от центра и стоимостью квартиры."
   ]
  },
  {
   "cell_type": "code",
   "execution_count": 24,
   "metadata": {},
   "outputs": [
    {
     "data": {
      "text/plain": [
       "<matplotlib.axes._subplots.AxesSubplot at 0x7f856cdb3e90>"
      ]
     },
     "execution_count": 24,
     "metadata": {},
     "output_type": "execute_result"
    },
    {
     "data": {
      "image/png": "[encoded data removed]",
      "text/plain": [
       "<Figure size 432x288 with 2 Axes>"
      ]
     },
     "metadata": {
      "needs_background": "light"
     },
     "output_type": "display_data"
    }
   ],
   "source": [
    "data.plot(x ='cityCenters_nearest', y = 'last_price' , kind = 'hexbin', gridsize = 15, sharex = False)"
   ]
  },
  {
   "cell_type": "markdown",
   "metadata": {},
   "source": [
    "Больше всго квартир от 10 до 17 км от центра"
   ]
  },
  {
   "cell_type": "code",
   "execution_count": 25,
   "metadata": {},
   "outputs": [
    {
     "data": {
      "text/plain": [
       "last_price                    1.000000\n",
       "price for metr                0.721238\n",
       "total_area                    0.689341\n",
       "living_area                   0.520255\n",
       "kitchen_area                  0.501761\n",
       "rooms                         0.394981\n",
       "ceiling_height                0.241719\n",
       "floors_total                  0.209924\n",
       "total_images                  0.157075\n",
       "ponds_around3000              0.151220\n",
       "floor                         0.148564\n",
       "parks_around3000              0.118709\n",
       "balcony                       0.083773\n",
       "cityCenters_nearest           0.077412\n",
       "is_apartment                  0.052923\n",
       "parks_nearest                 0.051884\n",
       "days_exposition               0.041204\n",
       "month of publication          0.010083\n",
       "day week of publication      -0.005796\n",
       "year of publication          -0.015135\n",
       "airports_nearest             -0.015417\n",
       "open_plan                    -0.039217\n",
       "ponds_nearest                -0.052817\n",
       "studio                       -0.057893\n",
       "living_area to total_area    -0.112941\n",
       "kitchen_area to total_area   -0.128683\n",
       "Name: last_price, dtype: float64"
      ]
     },
     "execution_count": 25,
     "metadata": {},
     "output_type": "execute_result"
    }
   ],
   "source": [
    "corr = data.corr()\n",
    "corr['last_price'].sort_values(ascending = False) "
   ]
  },
  {
   "cell_type": "markdown",
   "metadata": {},
   "source": [
    "Посмотрев на корреляцию всех параметров по цене, видно, что \n",
    "на стоимость картиры влияет больше всего цена за метр (высокая связь k = 0,76), общая площадь (высокая связь k = 0,7), жилая площадь (средняя связь k = 0,53), площад кухни (средняя связь k = 0,5)."
   ]
  },
  {
   "cell_type": "code",
   "execution_count": 26,
   "metadata": {},
   "outputs": [
    {
     "data": {
      "text/plain": [
       "0.05090453025949006"
      ]
     },
     "execution_count": 26,
     "metadata": {},
     "output_type": "execute_result"
    },
    {
     "data": {
      "image/png": "[encoded data removed]",
      "text/plain": [
       "<Figure size 432x288 with 1 Axes>"
      ]
     },
     "metadata": {
      "needs_background": "light"
     },
     "output_type": "display_data"
    }
   ],
   "source": [
    "# зависимость от этажа\n",
    "\n",
    "def floor_group_numer(floor_group):\n",
    "    if floor_group == 'первый':\n",
    "        return 1\n",
    "    if floor_group ==  'ниже десятого':\n",
    "        return 2\n",
    "    if floor_group == '10-20-ый этаж':\n",
    "        return 3\n",
    "    if floor_group == 'последний':\n",
    "        return 4\n",
    "    if floor_group == 'выше 20-го':\n",
    "        return 5\n",
    "\n",
    "data['floor_group_number'] = data['floor_group'].apply(floor_group_numer) # перевели строки в int, чтобы построить график и посмтреть на корреляцию.\n",
    "data.plot(x ='floor_group_number', y = 'last_price' , kind = 'scatter')\n",
    "data['floor_group_number'].corr(data['last_price']) "
   ]
  },
  {
   "cell_type": "markdown",
   "metadata": {},
   "source": [
    "Связи между этажем и ценой нет (k = 0,04). Больше всего продавалось квартир с 2 по 10 этаж."
   ]
  },
  {
   "cell_type": "code",
   "execution_count": 27,
   "metadata": {},
   "outputs": [
    {
     "data": {
      "text/html": [
       "<div>\n",
       "<style scoped>\n",
       "    .dataframe tbody tr th:only-of-type {\n",
       "        vertical-align: middle;\n",
       "    }\n",
       "\n",
       "    .dataframe tbody tr th {\n",
       "        vertical-align: top;\n",
       "    }\n",
       "\n",
       "    .dataframe thead th {\n",
       "        text-align: right;\n",
       "    }\n",
       "</style>\n",
       "<table border=\"1\" class=\"dataframe\">\n",
       "  <thead>\n",
       "    <tr style=\"text-align: right;\">\n",
       "      <th></th>\n",
       "      <th>day week of publication</th>\n",
       "      <th>month of publication</th>\n",
       "      <th>year of publication</th>\n",
       "      <th>last_price</th>\n",
       "    </tr>\n",
       "  </thead>\n",
       "  <tbody>\n",
       "    <tr>\n",
       "      <td>day week of publication</td>\n",
       "      <td>1.000000</td>\n",
       "      <td>0.013489</td>\n",
       "      <td>-0.003695</td>\n",
       "      <td>-0.005796</td>\n",
       "    </tr>\n",
       "    <tr>\n",
       "      <td>month of publication</td>\n",
       "      <td>0.013489</td>\n",
       "      <td>1.000000</td>\n",
       "      <td>-0.269605</td>\n",
       "      <td>0.010083</td>\n",
       "    </tr>\n",
       "    <tr>\n",
       "      <td>year of publication</td>\n",
       "      <td>-0.003695</td>\n",
       "      <td>-0.269605</td>\n",
       "      <td>1.000000</td>\n",
       "      <td>-0.015135</td>\n",
       "    </tr>\n",
       "    <tr>\n",
       "      <td>last_price</td>\n",
       "      <td>-0.005796</td>\n",
       "      <td>0.010083</td>\n",
       "      <td>-0.015135</td>\n",
       "      <td>1.000000</td>\n",
       "    </tr>\n",
       "  </tbody>\n",
       "</table>\n",
       "</div>"
      ],
      "text/plain": [
       "                         day week of publication  month of publication  \\\n",
       "day week of publication                 1.000000              0.013489   \n",
       "month of publication                    0.013489              1.000000   \n",
       "year of publication                    -0.003695             -0.269605   \n",
       "last_price                             -0.005796              0.010083   \n",
       "\n",
       "                         year of publication  last_price  \n",
       "day week of publication            -0.003695   -0.005796  \n",
       "month of publication               -0.269605    0.010083  \n",
       "year of publication                 1.000000   -0.015135  \n",
       "last_price                         -0.015135    1.000000  "
      ]
     },
     "execution_count": 27,
     "metadata": {},
     "output_type": "execute_result"
    }
   ],
   "source": [
    "# зависимость от года, дня недели, месяца\n",
    "\n",
    "data_2 = data.loc[:,['day week of publication','month of publication', 'year of publication','last_price']]\n",
    "data_2.corr()"
   ]
  },
  {
   "cell_type": "markdown",
   "metadata": {},
   "source": [
    "На цену оказывается не влияет ни один из этих факторов, связь очень слабая - k везде по модулю = 0."
   ]
  },
  {
   "cell_type": "markdown",
   "metadata": {},
   "source": [
    "### Населенные пункты с большим числом объявлений"
   ]
  },
  {
   "cell_type": "code",
   "execution_count": 28,
   "metadata": {},
   "outputs": [
    {
     "data": {
      "text/plain": [
       "array(['санкт-петербург', 'шушары', 'городскойянино-1', 'парголово',\n",
       "       'мурино', 'ломоносов', 'сертолово', 'петергоф', 'пушкин',\n",
       "       'кудрово', 'коммунар', 'колпино', 'городскоготипакрасныйбор',\n",
       "       'гатчина', 'федоровское', 'выборг', 'кронштадт', 'кировск',\n",
       "       'металлострой', 'городскоготипалебяжье', 'городскоготипасиверский',\n",
       "       'молодцово', 'городскоготипакузьмоловский',\n",
       "       'садовоетовариществоноваяропша', 'пикколово', 'всеволожск',\n",
       "       'волхов', 'кингисепп', 'приозерск', 'куттузи', 'сестрорецк',\n",
       "       'аннино', 'городскоготипаефимовский', 'плодовое', 'заклинье',\n",
       "       'торковичи', 'первомайское', 'красноесело', 'понтонный',\n",
       "       'сясьстрой', 'старая', 'павловск', 'лесколово', 'сланцы',\n",
       "       'селопутилово', 'ивангород', 'новоедевяткино', 'шлиссельбург',\n",
       "       'никольское', 'зеленогорск', 'сосновыйбор', 'новыйсвет', 'оржицы',\n",
       "       'кальтино', 'романовка', 'бугры', 'городскоготипарощино', 'кириши',\n",
       "       'волосово', 'отрадное', 'селопавлово', 'оредеж', 'селокопорье',\n",
       "       'молодежное', 'тихвин', 'победа', 'нурма', 'тосно', 'стрельна',\n",
       "       'бокситогорск', 'лопухинка', 'пикалево', 'терволово',\n",
       "       'городскоготипасоветский', 'подпорожье', 'петровское', 'сельцо',\n",
       "       'городскоготипавырица', 'кипень', 'келози', 'вартемяги',\n",
       "       'тельмана', 'севастьяново', 'городскойбольшаяижора',\n",
       "       'городскойпавлово', 'агалатово', 'новогорелово',\n",
       "       'городскойлесогорский', 'лаголово', 'цвелодубово',\n",
       "       'городскоготипарахья', 'белогорка', 'заводской',\n",
       "       'городскойновоселье', 'большиеколпаны', 'горбунки', 'батово',\n",
       "       'заневка', 'иссад', 'городскоготипатоксово', 'приморск',\n",
       "       'городскойфедоровское', 'мистолово', 'новаяладога', 'зимитицы',\n",
       "       'барышево', 'разметелево', 'городскоготипаименисвердлова',\n",
       "       'пеники', 'рябово', 'пудомяги', 'станциикорнево', 'низино',\n",
       "       'бегуницы', 'поляны', 'городскоймга', 'елизаветино',\n",
       "       'городскоготипакузнечное', 'городскоготипасинявино', 'колтуши',\n",
       "       'запорожское', 'луга', 'гостилицы', 'малоекарлино', 'мичуринское',\n",
       "       'песочный', 'сосново', 'аро', 'ильичево', 'городскоготипатайцы',\n",
       "       'малоеверево', 'извара', 'станциивещево', 'селопаша', 'калитино',\n",
       "       nan, 'городскоготипаульяновка', 'чудскойбор',\n",
       "       'городскоготипадубровка', 'мины', 'войсковицы', 'коркино',\n",
       "       'городскоготипаприладожский', 'щеглово', 'гаврилово',\n",
       "       'лодейноеполе', 'рабитицы', 'городскоготипаникольский',\n",
       "       'кузьмолово', 'малыеколпаны', 'петро-славянка', 'городскойназия',\n",
       "       'стараямалукса', 'садовоетовариществорахья', 'меньково',\n",
       "       'старыебегуницы', 'городскоготипаимениморозова', 'саперный',\n",
       "       'семрино', 'глажево', 'кобринское', 'гарболово',\n",
       "       'станцииприветнинское', 'мануйлово', 'пчева', 'цвылево',\n",
       "       'мельниково', 'пудость', 'усть-луга', 'светогорск', 'любань',\n",
       "       'селезнево', 'городскоготипарябово', 'каменногорск', 'кривко',\n",
       "       'глебычево', 'парицы', 'жил', 'городскоготипамга', 'войскорово',\n",
       "       'селоникольское', 'стеклянный', 'городскоготипаважины',\n",
       "       'мыза-ивановка', 'селорусско-высоцкое', 'городскоготипафорносово',\n",
       "       'селостараяладога', 'житково', 'городскойвиллози', 'лампово',\n",
       "       'шпаньково', 'лаврики', 'сумино', 'возрождение', 'старосиверская',\n",
       "       'кикерино', 'староехинколово', 'пригородный', 'торфяное',\n",
       "       'городскойбудогощь', 'суходолье', 'краснаядолина', 'хапо-ое',\n",
       "       'городскоготипадружнаягорка', 'лисийнос', 'яльгелево',\n",
       "       'селорождествено', 'углово', 'старополье', 'левашово',\n",
       "       'сяськелево', 'камышовка',\n",
       "       'садоводческоенекоммерческоетовариществолеснаяполяна',\n",
       "       'жилгородок', 'городскоготипапавлово', 'ялгино', 'новыйучхоз',\n",
       "       'городскойрощино', 'гончарово', 'почап', 'платформа69-йкилометр',\n",
       "       'каложицы', 'фалилеево', 'пельгора', 'городскоготипалесогорский',\n",
       "       'торошковичи', 'белоостров', 'алексеевка', 'серебрянский',\n",
       "       'лукаши', 'тарасово', 'кингисеппский',\n",
       "       'прижелезнодорожнойстанциивещево', 'ушаки', 'котлы', 'сижно',\n",
       "       'торосово', 'форткраснаягорка', 'новолисино', 'станциигромово',\n",
       "       'городскоготипаназия', 'стараяпустошь', 'коммунары', 'починок',\n",
       "       'городскоготипавознесенье', 'репино', 'разбегаево', 'гладкое',\n",
       "       'юкки', 'прижелезнодорожнойстанцииприветнинское', 'тесово-4',\n",
       "       'коробицыно', 'большаявруда', 'курковицы', 'городскойсоветский',\n",
       "       'кобралово', 'суоранда', 'городскоготипакондратьево', 'реброво',\n",
       "       'тойворово', 'семиозерье', 'лесное', 'совхозный', 'саперное',\n",
       "       'ленинское', 'суйда', 'нижниеосельки', 'бор', 'станциисвирь',\n",
       "       'перово', 'высоцк', 'селошум', 'котельский', 'станциилужайка',\n",
       "       'большаяпустомержа', 'красносельское', 'вахновакара', 'пижма',\n",
       "       'коттеджныйкивеннапасевер', 'ромашки', 'куровицы', 'плоское',\n",
       "       'городскоготипабольшаяижора', 'кирпичное', 'ям-тесово', 'раздолье',\n",
       "       'терпилицы', 'шугозеро', 'ваганово', 'пушное',\n",
       "       'садовоетовариществосадко', 'усть-ижора', 'выскатка', 'громово',\n",
       "       'кисельня', 'трубниковбор', 'высокоключевой',\n",
       "       'садовоетовариществоприладожский', 'пансионатзеленыйбор',\n",
       "       'ненимяки', 'снегиревка', 'александровская', 'рапполово',\n",
       "       'пустынка', 'большойсабск', 'русско', 'лупполово',\n",
       "       'большоерейзино', 'малаяромановка', 'дружноселье', 'пчевжа',\n",
       "       'володарское', 'коттеджныйлесное', 'тихковицы', 'борисовагрива',\n",
       "       'дзержинского'], dtype=object)"
      ]
     },
     "metadata": {},
     "output_type": "display_data"
    },
    {
     "data": {
      "text/plain": [
       "санкт-петербург    12703\n",
       "мурино               583\n",
       "кудрово              468\n",
       "шушары               435\n",
       "всеволожск           381\n",
       "парголово            325\n",
       "колпино              316\n",
       "пушкин               308\n",
       "гатчина              284\n",
       "выборг               205\n",
       "Name: locality_name, dtype: int64"
      ]
     },
     "metadata": {},
     "output_type": "display_data"
    }
   ],
   "source": [
    "data['locality_name'] = data['locality_name'].str.lower()\n",
    "data['locality_name'] = data['locality_name'].str.replace('ё','е')\n",
    "data['locality_name'] = data['locality_name'].str.replace('поселок','')\n",
    "data['locality_name'] = data['locality_name'].str.replace('деревня','')\n",
    "data['locality_name'] = data['locality_name'].str.replace(' ','')\n",
    "display(data['locality_name'].unique())\n",
    "display(data['locality_name'].value_counts().head(10))"
   ]
  },
  {
   "cell_type": "markdown",
   "metadata": {},
   "source": [
    "Больше всего объявлений: Санкт-Петербург, Мурино, Кудрово, Шушары, Всеволожск, Пушкин, Колпино, Парголово, Гатчина, Выборг. "
   ]
  },
  {
   "cell_type": "code",
   "execution_count": 29,
   "metadata": {},
   "outputs": [
    {
     "data": {
      "text/plain": [
       "107787.83413366921"
      ]
     },
     "metadata": {},
     "output_type": "display_data"
    },
    {
     "data": {
      "text/plain": [
       "86078.90222984563"
      ]
     },
     "metadata": {},
     "output_type": "display_data"
    },
    {
     "data": {
      "text/plain": [
       "95366.7670940171"
      ]
     },
     "metadata": {},
     "output_type": "display_data"
    },
    {
     "data": {
      "text/plain": [
       "78623.82528735632"
      ]
     },
     "metadata": {},
     "output_type": "display_data"
    },
    {
     "data": {
      "text/plain": [
       "68614.7532808399"
      ]
     },
     "metadata": {},
     "output_type": "display_data"
    },
    {
     "data": {
      "text/plain": [
       "101004.79220779221"
      ]
     },
     "metadata": {},
     "output_type": "display_data"
    },
    {
     "data": {
      "text/plain": [
       "75564.51582278482"
      ]
     },
     "metadata": {},
     "output_type": "display_data"
    },
    {
     "data": {
      "text/plain": [
       "90362.31692307693"
      ]
     },
     "metadata": {},
     "output_type": "display_data"
    },
    {
     "data": {
      "text/plain": [
       "68615.37323943662"
      ]
     },
     "metadata": {},
     "output_type": "display_data"
    },
    {
     "data": {
      "text/plain": [
       "57680.47804878049"
      ]
     },
     "metadata": {},
     "output_type": "display_data"
    }
   ],
   "source": [
    "display(data[data['locality_name'] == 'санкт-петербург']['price for metr'].mean()) \n",
    "display(data[data['locality_name'] == 'мурино']['price for metr'].mean()) \n",
    "display(data[data['locality_name'] == 'кудрово']['price for metr'].mean()) \n",
    "display(data[data['locality_name'] == 'шушары']['price for metr'].mean()) \n",
    "display(data[data['locality_name'] == 'всеволожск']['price for metr'].mean()) \n",
    "display(data[data['locality_name'] == 'пушкин']['price for metr'].mean())  \n",
    "display(data[data['locality_name'] == 'колпино']['price for metr'].mean()) \n",
    "display(data[data['locality_name'] == 'парголово']['price for metr'].mean()) \n",
    "display(data[data['locality_name'] == 'гатчина']['price for metr'].mean()) \n",
    "display(data[data['locality_name'] == 'выборг']['price for metr'].mean()) "
   ]
  },
  {
   "cell_type": "markdown",
   "metadata": {},
   "source": [
    "Самая дорогая стоимость жилья - Спб (110 922), Пушкин (102 305), Кудрово (95 325).\n",
    "Самая низкая стоимость жилья - Гатчина\t(68 919), Всеволожск (68 673),Выборг (58 185)."
   ]
  },
  {
   "cell_type": "markdown",
   "metadata": {},
   "source": [
    "### Изучаем предложения квартир. Что в центре?"
   ]
  },
  {
   "cell_type": "code",
   "execution_count": 30,
   "metadata": {},
   "outputs": [
    {
     "data": {
      "text/html": [
       "<div>\n",
       "<style scoped>\n",
       "    .dataframe tbody tr th:only-of-type {\n",
       "        vertical-align: middle;\n",
       "    }\n",
       "\n",
       "    .dataframe tbody tr th {\n",
       "        vertical-align: top;\n",
       "    }\n",
       "\n",
       "    .dataframe thead th {\n",
       "        text-align: right;\n",
       "    }\n",
       "</style>\n",
       "<table border=\"1\" class=\"dataframe\">\n",
       "  <thead>\n",
       "    <tr style=\"text-align: right;\">\n",
       "      <th></th>\n",
       "      <th>&lt;lambda&gt;</th>\n",
       "    </tr>\n",
       "    <tr>\n",
       "      <th>cityCenters_km</th>\n",
       "      <th></th>\n",
       "    </tr>\n",
       "  </thead>\n",
       "  <tbody>\n",
       "    <tr>\n",
       "      <td>0.0</td>\n",
       "      <td>62.461752</td>\n",
       "    </tr>\n",
       "    <tr>\n",
       "      <td>1.0</td>\n",
       "      <td>130.052188</td>\n",
       "    </tr>\n",
       "    <tr>\n",
       "      <td>2.0</td>\n",
       "      <td>132.787721</td>\n",
       "    </tr>\n",
       "    <tr>\n",
       "      <td>3.0</td>\n",
       "      <td>122.478643</td>\n",
       "    </tr>\n",
       "    <tr>\n",
       "      <td>4.0</td>\n",
       "      <td>126.904997</td>\n",
       "    </tr>\n",
       "    <tr>\n",
       "      <td>5.0</td>\n",
       "      <td>133.934978</td>\n",
       "    </tr>\n",
       "    <tr>\n",
       "      <td>6.0</td>\n",
       "      <td>134.460875</td>\n",
       "    </tr>\n",
       "    <tr>\n",
       "      <td>7.0</td>\n",
       "      <td>132.971559</td>\n",
       "    </tr>\n",
       "    <tr>\n",
       "      <td>8.0</td>\n",
       "      <td>121.497144</td>\n",
       "    </tr>\n",
       "    <tr>\n",
       "      <td>9.0</td>\n",
       "      <td>107.581412</td>\n",
       "    </tr>\n",
       "    <tr>\n",
       "      <td>10.0</td>\n",
       "      <td>109.717748</td>\n",
       "    </tr>\n",
       "    <tr>\n",
       "      <td>11.0</td>\n",
       "      <td>106.197625</td>\n",
       "    </tr>\n",
       "    <tr>\n",
       "      <td>12.0</td>\n",
       "      <td>106.909240</td>\n",
       "    </tr>\n",
       "    <tr>\n",
       "      <td>13.0</td>\n",
       "      <td>107.691050</td>\n",
       "    </tr>\n",
       "    <tr>\n",
       "      <td>14.0</td>\n",
       "      <td>103.972298</td>\n",
       "    </tr>\n",
       "    <tr>\n",
       "      <td>15.0</td>\n",
       "      <td>103.362531</td>\n",
       "    </tr>\n",
       "    <tr>\n",
       "      <td>16.0</td>\n",
       "      <td>100.162119</td>\n",
       "    </tr>\n",
       "    <tr>\n",
       "      <td>17.0</td>\n",
       "      <td>95.498540</td>\n",
       "    </tr>\n",
       "    <tr>\n",
       "      <td>18.0</td>\n",
       "      <td>93.022802</td>\n",
       "    </tr>\n",
       "    <tr>\n",
       "      <td>19.0</td>\n",
       "      <td>97.053711</td>\n",
       "    </tr>\n",
       "    <tr>\n",
       "      <td>20.0</td>\n",
       "      <td>92.642941</td>\n",
       "    </tr>\n",
       "    <tr>\n",
       "      <td>21.0</td>\n",
       "      <td>83.277051</td>\n",
       "    </tr>\n",
       "    <tr>\n",
       "      <td>22.0</td>\n",
       "      <td>88.237662</td>\n",
       "    </tr>\n",
       "    <tr>\n",
       "      <td>23.0</td>\n",
       "      <td>90.096429</td>\n",
       "    </tr>\n",
       "    <tr>\n",
       "      <td>24.0</td>\n",
       "      <td>78.588336</td>\n",
       "    </tr>\n",
       "    <tr>\n",
       "      <td>25.0</td>\n",
       "      <td>93.864464</td>\n",
       "    </tr>\n",
       "    <tr>\n",
       "      <td>26.0</td>\n",
       "      <td>95.425243</td>\n",
       "    </tr>\n",
       "    <tr>\n",
       "      <td>27.0</td>\n",
       "      <td>94.931646</td>\n",
       "    </tr>\n",
       "    <tr>\n",
       "      <td>28.0</td>\n",
       "      <td>78.945058</td>\n",
       "    </tr>\n",
       "    <tr>\n",
       "      <td>29.0</td>\n",
       "      <td>75.459295</td>\n",
       "    </tr>\n",
       "  </tbody>\n",
       "</table>\n",
       "</div>"
      ],
      "text/plain": [
       "                  <lambda>\n",
       "cityCenters_km            \n",
       "0.0              62.461752\n",
       "1.0             130.052188\n",
       "2.0             132.787721\n",
       "3.0             122.478643\n",
       "4.0             126.904997\n",
       "5.0             133.934978\n",
       "6.0             134.460875\n",
       "7.0             132.971559\n",
       "8.0             121.497144\n",
       "9.0             107.581412\n",
       "10.0            109.717748\n",
       "11.0            106.197625\n",
       "12.0            106.909240\n",
       "13.0            107.691050\n",
       "14.0            103.972298\n",
       "15.0            103.362531\n",
       "16.0            100.162119\n",
       "17.0             95.498540\n",
       "18.0             93.022802\n",
       "19.0             97.053711\n",
       "20.0             92.642941\n",
       "21.0             83.277051\n",
       "22.0             88.237662\n",
       "23.0             90.096429\n",
       "24.0             78.588336\n",
       "25.0             93.864464\n",
       "26.0             95.425243\n",
       "27.0             94.931646\n",
       "28.0             78.945058\n",
       "29.0             75.459295"
      ]
     },
     "metadata": {},
     "output_type": "display_data"
    }
   ],
   "source": [
    "data['cityCenters_km'] = round(data['cityCenters_nearest'] / 1000)\n",
    "data['cityCenters_km'].value_counts()\n",
    "display(data.groupby('cityCenters_km')['price for metr'].agg([lambda x: x.mean() / 1000]).head(30))# средняя цена для каждого километра (в тысячах)"
   ]
  },
  {
   "cell_type": "code",
   "execution_count": 31,
   "metadata": {},
   "outputs": [
    {
     "data": {
      "text/plain": [
       "<matplotlib.axes._subplots.AxesSubplot at 0x7f85646c9790>"
      ]
     },
     "metadata": {},
     "output_type": "display_data"
    },
    {
     "data": {
      "image/png": "[encoded data removed]",
      "text/plain": [
       "<Figure size 432x288 with 1 Axes>"
      ]
     },
     "metadata": {
      "needs_background": "light"
     },
     "output_type": "display_data"
    }
   ],
   "source": [
    "display(data['cityCenters_km'].hist(bins = 61, range = (1,60)))"
   ]
  },
  {
   "cell_type": "markdown",
   "metadata": {},
   "source": [
    "По графику видно, что после расстояния в 17 км график сильно меняется. Значит граница центра - это 17 км. Число значений уменьшилось больше, чем в 3 раза."
   ]
  },
  {
   "cell_type": "code",
   "execution_count": 32,
   "metadata": {},
   "outputs": [
    {
     "data": {
      "text/plain": [
       "(0, 400000)"
      ]
     },
     "execution_count": 32,
     "metadata": {},
     "output_type": "execute_result"
    },
    {
     "data": {
      "image/png": "[encoded data removed]",
      "text/plain": [
       "<Figure size 432x288 with 1 Axes>"
      ]
     },
     "metadata": {
      "needs_background": "light"
     },
     "output_type": "display_data"
    }
   ],
   "source": [
    "data.plot(x ='cityCenters_km', y = 'price for metr' , kind = 'scatter')\n",
    "plt.ylim(0,400000)"
   ]
  },
  {
   "cell_type": "markdown",
   "metadata": {},
   "source": [
    "По графику видно, что чем ближе к центру, тем цена за метр больше."
   ]
  },
  {
   "cell_type": "markdown",
   "metadata": {},
   "source": [
    "<div class=\"alert alert-block alert-success\">\n",
    "Комментарий ревьюера v. 2:\n",
    "    \n",
    "Да, ожидаемый результат :)\n",
    "</div>"
   ]
  },
  {
   "cell_type": "markdown",
   "metadata": {},
   "source": [
    "### Анализ сегмента квартир в центре"
   ]
  },
  {
   "cell_type": "code",
   "execution_count": 33,
   "metadata": {},
   "outputs": [
    {
     "data": {
      "text/html": [
       "<div>\n",
       "<style scoped>\n",
       "    .dataframe tbody tr th:only-of-type {\n",
       "        vertical-align: middle;\n",
       "    }\n",
       "\n",
       "    .dataframe tbody tr th {\n",
       "        vertical-align: top;\n",
       "    }\n",
       "\n",
       "    .dataframe thead th {\n",
       "        text-align: right;\n",
       "    }\n",
       "</style>\n",
       "<table border=\"1\" class=\"dataframe\">\n",
       "  <thead>\n",
       "    <tr style=\"text-align: right;\">\n",
       "      <th></th>\n",
       "      <th>total_images</th>\n",
       "      <th>last_price</th>\n",
       "      <th>total_area</th>\n",
       "      <th>first_day_exposition</th>\n",
       "      <th>rooms</th>\n",
       "      <th>ceiling_height</th>\n",
       "      <th>floors_total</th>\n",
       "      <th>living_area</th>\n",
       "      <th>floor</th>\n",
       "      <th>is_apartment</th>\n",
       "      <th>...</th>\n",
       "      <th>days_exposition</th>\n",
       "      <th>price for metr</th>\n",
       "      <th>day week of publication</th>\n",
       "      <th>month of publication</th>\n",
       "      <th>year of publication</th>\n",
       "      <th>floor_group</th>\n",
       "      <th>living_area to total_area</th>\n",
       "      <th>kitchen_area to total_area</th>\n",
       "      <th>floor_group_number</th>\n",
       "      <th>cityCenters_km</th>\n",
       "    </tr>\n",
       "  </thead>\n",
       "  <tbody>\n",
       "    <tr>\n",
       "      <td>0</td>\n",
       "      <td>20</td>\n",
       "      <td>13000000</td>\n",
       "      <td>108.00</td>\n",
       "      <td>2019-03-07</td>\n",
       "      <td>3</td>\n",
       "      <td>2.70</td>\n",
       "      <td>16</td>\n",
       "      <td>51.00</td>\n",
       "      <td>8</td>\n",
       "      <td>False</td>\n",
       "      <td>...</td>\n",
       "      <td>0</td>\n",
       "      <td>120370.0</td>\n",
       "      <td>3</td>\n",
       "      <td>3</td>\n",
       "      <td>2019</td>\n",
       "      <td>ниже десятого</td>\n",
       "      <td>0.472</td>\n",
       "      <td>0.231</td>\n",
       "      <td>2</td>\n",
       "      <td>16</td>\n",
       "    </tr>\n",
       "    <tr>\n",
       "      <td>2</td>\n",
       "      <td>10</td>\n",
       "      <td>5196000</td>\n",
       "      <td>56.00</td>\n",
       "      <td>2015-08-20</td>\n",
       "      <td>2</td>\n",
       "      <td>2.65</td>\n",
       "      <td>5</td>\n",
       "      <td>34.30</td>\n",
       "      <td>4</td>\n",
       "      <td>False</td>\n",
       "      <td>...</td>\n",
       "      <td>558</td>\n",
       "      <td>92786.0</td>\n",
       "      <td>3</td>\n",
       "      <td>8</td>\n",
       "      <td>2015</td>\n",
       "      <td>ниже десятого</td>\n",
       "      <td>0.612</td>\n",
       "      <td>0.148</td>\n",
       "      <td>2</td>\n",
       "      <td>14</td>\n",
       "    </tr>\n",
       "    <tr>\n",
       "      <td>5</td>\n",
       "      <td>10</td>\n",
       "      <td>2890000</td>\n",
       "      <td>30.40</td>\n",
       "      <td>2018-09-10</td>\n",
       "      <td>1</td>\n",
       "      <td>2.65</td>\n",
       "      <td>12</td>\n",
       "      <td>14.40</td>\n",
       "      <td>5</td>\n",
       "      <td>False</td>\n",
       "      <td>...</td>\n",
       "      <td>55</td>\n",
       "      <td>95066.0</td>\n",
       "      <td>0</td>\n",
       "      <td>9</td>\n",
       "      <td>2018</td>\n",
       "      <td>ниже десятого</td>\n",
       "      <td>0.474</td>\n",
       "      <td>0.299</td>\n",
       "      <td>2</td>\n",
       "      <td>0</td>\n",
       "    </tr>\n",
       "    <tr>\n",
       "      <td>7</td>\n",
       "      <td>5</td>\n",
       "      <td>7915000</td>\n",
       "      <td>71.60</td>\n",
       "      <td>2019-04-18</td>\n",
       "      <td>2</td>\n",
       "      <td>2.65</td>\n",
       "      <td>24</td>\n",
       "      <td>30.00</td>\n",
       "      <td>22</td>\n",
       "      <td>False</td>\n",
       "      <td>...</td>\n",
       "      <td>0</td>\n",
       "      <td>110545.0</td>\n",
       "      <td>3</td>\n",
       "      <td>4</td>\n",
       "      <td>2019</td>\n",
       "      <td>выше 20-го</td>\n",
       "      <td>0.419</td>\n",
       "      <td>0.264</td>\n",
       "      <td>5</td>\n",
       "      <td>12</td>\n",
       "    </tr>\n",
       "    <tr>\n",
       "      <td>8</td>\n",
       "      <td>20</td>\n",
       "      <td>2900000</td>\n",
       "      <td>33.16</td>\n",
       "      <td>2018-05-23</td>\n",
       "      <td>1</td>\n",
       "      <td>2.65</td>\n",
       "      <td>27</td>\n",
       "      <td>15.43</td>\n",
       "      <td>26</td>\n",
       "      <td>False</td>\n",
       "      <td>...</td>\n",
       "      <td>189</td>\n",
       "      <td>87455.0</td>\n",
       "      <td>2</td>\n",
       "      <td>5</td>\n",
       "      <td>2018</td>\n",
       "      <td>выше 20-го</td>\n",
       "      <td>0.465</td>\n",
       "      <td>0.266</td>\n",
       "      <td>5</td>\n",
       "      <td>0</td>\n",
       "    </tr>\n",
       "    <tr>\n",
       "      <td>...</td>\n",
       "      <td>...</td>\n",
       "      <td>...</td>\n",
       "      <td>...</td>\n",
       "      <td>...</td>\n",
       "      <td>...</td>\n",
       "      <td>...</td>\n",
       "      <td>...</td>\n",
       "      <td>...</td>\n",
       "      <td>...</td>\n",
       "      <td>...</td>\n",
       "      <td>...</td>\n",
       "      <td>...</td>\n",
       "      <td>...</td>\n",
       "      <td>...</td>\n",
       "      <td>...</td>\n",
       "      <td>...</td>\n",
       "      <td>...</td>\n",
       "      <td>...</td>\n",
       "      <td>...</td>\n",
       "      <td>...</td>\n",
       "      <td>...</td>\n",
       "    </tr>\n",
       "    <tr>\n",
       "      <td>23691</td>\n",
       "      <td>11</td>\n",
       "      <td>9470000</td>\n",
       "      <td>72.90</td>\n",
       "      <td>2016-10-13</td>\n",
       "      <td>2</td>\n",
       "      <td>2.75</td>\n",
       "      <td>25</td>\n",
       "      <td>40.30</td>\n",
       "      <td>7</td>\n",
       "      <td>False</td>\n",
       "      <td>...</td>\n",
       "      <td>519</td>\n",
       "      <td>129904.0</td>\n",
       "      <td>3</td>\n",
       "      <td>10</td>\n",
       "      <td>2016</td>\n",
       "      <td>ниже десятого</td>\n",
       "      <td>0.553</td>\n",
       "      <td>0.145</td>\n",
       "      <td>2</td>\n",
       "      <td>4</td>\n",
       "    </tr>\n",
       "    <tr>\n",
       "      <td>23692</td>\n",
       "      <td>2</td>\n",
       "      <td>1350000</td>\n",
       "      <td>30.00</td>\n",
       "      <td>2017-07-07</td>\n",
       "      <td>1</td>\n",
       "      <td>2.65</td>\n",
       "      <td>5</td>\n",
       "      <td>17.50</td>\n",
       "      <td>4</td>\n",
       "      <td>False</td>\n",
       "      <td>...</td>\n",
       "      <td>413</td>\n",
       "      <td>45000.0</td>\n",
       "      <td>4</td>\n",
       "      <td>7</td>\n",
       "      <td>2017</td>\n",
       "      <td>ниже десятого</td>\n",
       "      <td>0.583</td>\n",
       "      <td>0.200</td>\n",
       "      <td>2</td>\n",
       "      <td>0</td>\n",
       "    </tr>\n",
       "    <tr>\n",
       "      <td>23695</td>\n",
       "      <td>14</td>\n",
       "      <td>3100000</td>\n",
       "      <td>59.00</td>\n",
       "      <td>2018-01-15</td>\n",
       "      <td>3</td>\n",
       "      <td>2.65</td>\n",
       "      <td>5</td>\n",
       "      <td>38.00</td>\n",
       "      <td>4</td>\n",
       "      <td>False</td>\n",
       "      <td>...</td>\n",
       "      <td>45</td>\n",
       "      <td>52542.0</td>\n",
       "      <td>0</td>\n",
       "      <td>1</td>\n",
       "      <td>2018</td>\n",
       "      <td>ниже десятого</td>\n",
       "      <td>0.644</td>\n",
       "      <td>0.144</td>\n",
       "      <td>2</td>\n",
       "      <td>0</td>\n",
       "    </tr>\n",
       "    <tr>\n",
       "      <td>23696</td>\n",
       "      <td>18</td>\n",
       "      <td>2500000</td>\n",
       "      <td>56.70</td>\n",
       "      <td>2018-02-11</td>\n",
       "      <td>2</td>\n",
       "      <td>2.65</td>\n",
       "      <td>3</td>\n",
       "      <td>29.70</td>\n",
       "      <td>1</td>\n",
       "      <td>False</td>\n",
       "      <td>...</td>\n",
       "      <td>0</td>\n",
       "      <td>44092.0</td>\n",
       "      <td>6</td>\n",
       "      <td>2</td>\n",
       "      <td>2018</td>\n",
       "      <td>первый</td>\n",
       "      <td>0.524</td>\n",
       "      <td>0.160</td>\n",
       "      <td>1</td>\n",
       "      <td>0</td>\n",
       "    </tr>\n",
       "    <tr>\n",
       "      <td>23698</td>\n",
       "      <td>4</td>\n",
       "      <td>1350000</td>\n",
       "      <td>32.30</td>\n",
       "      <td>2017-07-21</td>\n",
       "      <td>1</td>\n",
       "      <td>2.50</td>\n",
       "      <td>5</td>\n",
       "      <td>12.30</td>\n",
       "      <td>1</td>\n",
       "      <td>False</td>\n",
       "      <td>...</td>\n",
       "      <td>0</td>\n",
       "      <td>41796.0</td>\n",
       "      <td>4</td>\n",
       "      <td>7</td>\n",
       "      <td>2017</td>\n",
       "      <td>первый</td>\n",
       "      <td>0.381</td>\n",
       "      <td>0.279</td>\n",
       "      <td>1</td>\n",
       "      <td>0</td>\n",
       "    </tr>\n",
       "  </tbody>\n",
       "</table>\n",
       "<p>17033 rows × 31 columns</p>\n",
       "</div>"
      ],
      "text/plain": [
       "       total_images  last_price  total_area first_day_exposition  rooms  \\\n",
       "0                20    13000000      108.00           2019-03-07      3   \n",
       "2                10     5196000       56.00           2015-08-20      2   \n",
       "5                10     2890000       30.40           2018-09-10      1   \n",
       "7                 5     7915000       71.60           2019-04-18      2   \n",
       "8                20     2900000       33.16           2018-05-23      1   \n",
       "...             ...         ...         ...                  ...    ...   \n",
       "23691            11     9470000       72.90           2016-10-13      2   \n",
       "23692             2     1350000       30.00           2017-07-07      1   \n",
       "23695            14     3100000       59.00           2018-01-15      3   \n",
       "23696            18     2500000       56.70           2018-02-11      2   \n",
       "23698             4     1350000       32.30           2017-07-21      1   \n",
       "\n",
       "       ceiling_height  floors_total  living_area  floor  is_apartment  ...  \\\n",
       "0                2.70            16        51.00      8         False  ...   \n",
       "2                2.65             5        34.30      4         False  ...   \n",
       "5                2.65            12        14.40      5         False  ...   \n",
       "7                2.65            24        30.00     22         False  ...   \n",
       "8                2.65            27        15.43     26         False  ...   \n",
       "...               ...           ...          ...    ...           ...  ...   \n",
       "23691            2.75            25        40.30      7         False  ...   \n",
       "23692            2.65             5        17.50      4         False  ...   \n",
       "23695            2.65             5        38.00      4         False  ...   \n",
       "23696            2.65             3        29.70      1         False  ...   \n",
       "23698            2.50             5        12.30      1         False  ...   \n",
       "\n",
       "       days_exposition  price for metr  day week of publication  \\\n",
       "0                    0        120370.0                        3   \n",
       "2                  558         92786.0                        3   \n",
       "5                   55         95066.0                        0   \n",
       "7                    0        110545.0                        3   \n",
       "8                  189         87455.0                        2   \n",
       "...                ...             ...                      ...   \n",
       "23691              519        129904.0                        3   \n",
       "23692              413         45000.0                        4   \n",
       "23695               45         52542.0                        0   \n",
       "23696                0         44092.0                        6   \n",
       "23698                0         41796.0                        4   \n",
       "\n",
       "       month of publication year of publication    floor_group  \\\n",
       "0                         3                2019  ниже десятого   \n",
       "2                         8                2015  ниже десятого   \n",
       "5                         9                2018  ниже десятого   \n",
       "7                         4                2019     выше 20-го   \n",
       "8                         5                2018     выше 20-го   \n",
       "...                     ...                 ...            ...   \n",
       "23691                    10                2016  ниже десятого   \n",
       "23692                     7                2017  ниже десятого   \n",
       "23695                     1                2018  ниже десятого   \n",
       "23696                     2                2018         первый   \n",
       "23698                     7                2017         первый   \n",
       "\n",
       "       living_area to total_area  kitchen_area to total_area  \\\n",
       "0                          0.472                       0.231   \n",
       "2                          0.612                       0.148   \n",
       "5                          0.474                       0.299   \n",
       "7                          0.419                       0.264   \n",
       "8                          0.465                       0.266   \n",
       "...                          ...                         ...   \n",
       "23691                      0.553                       0.145   \n",
       "23692                      0.583                       0.200   \n",
       "23695                      0.644                       0.144   \n",
       "23696                      0.524                       0.160   \n",
       "23698                      0.381                       0.279   \n",
       "\n",
       "       floor_group_number  cityCenters_km  \n",
       "0                       2              16  \n",
       "2                       2              14  \n",
       "5                       2               0  \n",
       "7                       5              12  \n",
       "8                       5               0  \n",
       "...                   ...             ...  \n",
       "23691                   2               4  \n",
       "23692                   2               0  \n",
       "23695                   2               0  \n",
       "23696                   1               0  \n",
       "23698                   1               0  \n",
       "\n",
       "[17033 rows x 31 columns]"
      ]
     },
     "execution_count": 33,
     "metadata": {},
     "output_type": "execute_result"
    }
   ],
   "source": [
    "data['cityCenters_km'] = data['cityCenters_km'].astype('int')\n",
    "data_centr = data.query('cityCenters_km <= 17')\n",
    "data_centr"
   ]
  },
  {
   "cell_type": "code",
   "execution_count": 34,
   "metadata": {},
   "outputs": [
    {
     "data": {
      "text/plain": [
       "0.6905610299642796"
      ]
     },
     "execution_count": 34,
     "metadata": {},
     "output_type": "execute_result"
    },
    {
     "data": {
      "image/png": "[encoded data removed]",
      "text/plain": [
       "<Figure size 432x288 with 1 Axes>"
      ]
     },
     "metadata": {
      "needs_background": "light"
     },
     "output_type": "display_data"
    }
   ],
   "source": [
    "data_centr.plot(x ='total_area', y = 'last_price' , kind = 'scatter')\n",
    "plt.ylim(0,40000000)\n",
    "data_centr['total_area'].corr(data_centr['last_price'])"
   ]
  },
  {
   "cell_type": "markdown",
   "metadata": {},
   "source": [
    "Коэф-т корреляции Пирсона 0,7. Значит есть высокая связь между площадью и стоимостью квартиры."
   ]
  },
  {
   "cell_type": "code",
   "execution_count": 35,
   "metadata": {},
   "outputs": [
    {
     "data": {
      "text/plain": [
       "0.3846051882811612"
      ]
     },
     "execution_count": 35,
     "metadata": {},
     "output_type": "execute_result"
    },
    {
     "data": {
      "image/png": "[encoded data removed]",
      "text/plain": [
       "<Figure size 432x288 with 1 Axes>"
      ]
     },
     "metadata": {
      "needs_background": "light"
     },
     "output_type": "display_data"
    }
   ],
   "source": [
    "data_centr.plot(x ='rooms', y = 'last_price' , kind = 'scatter')\n",
    "data_centr['rooms'].corr(data_centr['last_price']) "
   ]
  },
  {
   "cell_type": "markdown",
   "metadata": {},
   "source": [
    "Коэф-т корреляции Пирсона 0,4. Значит связь слабая между кол-вом комнат и стоимостью квартиры."
   ]
  },
  {
   "cell_type": "code",
   "execution_count": 36,
   "metadata": {},
   "outputs": [
    {
     "data": {
      "text/plain": [
       "0.2444849357762201"
      ]
     },
     "execution_count": 36,
     "metadata": {},
     "output_type": "execute_result"
    },
    {
     "data": {
      "image/png": "[encoded data removed]",
      "text/plain": [
       "<Figure size 432x288 with 1 Axes>"
      ]
     },
     "metadata": {
      "needs_background": "light"
     },
     "output_type": "display_data"
    }
   ],
   "source": [
    "data_centr.plot(x ='ceiling_height', y = 'last_price' , kind = 'scatter')\n",
    "plt.xlim(2.4,3)\n",
    "plt.ylim(0,40000000)\n",
    "data_centr['ceiling_height'].corr(data_centr['last_price']) "
   ]
  },
  {
   "cell_type": "markdown",
   "metadata": {},
   "source": [
    "Коэф-т корреляции Пирсона 0,07. Значит связь очень слабая между высотой потолков и стоимостью квартиры."
   ]
  },
  {
   "cell_type": "code",
   "execution_count": 37,
   "metadata": {},
   "outputs": [
    {
     "data": {
      "text/plain": [
       "0.7347451767190554"
      ]
     },
     "execution_count": 37,
     "metadata": {},
     "output_type": "execute_result"
    },
    {
     "data": {
      "image/png": "[encoded data removed]",
      "text/plain": [
       "<Figure size 432x288 with 1 Axes>"
      ]
     },
     "metadata": {
      "needs_background": "light"
     },
     "output_type": "display_data"
    }
   ],
   "source": [
    "data_centr.plot(x ='price for metr', y = 'last_price' , kind = 'scatter')\n",
    "plt.ylim(0,40000000)\n",
    "plt.xlim(0,300000)\n",
    "data_centr['price for metr'].corr(data_centr['last_price']) "
   ]
  },
  {
   "cell_type": "markdown",
   "metadata": {},
   "source": [
    "Коэф-т корреляции Пирсона 0,8. Значит связь высокая между ценой за метр и стоимостью квартиры."
   ]
  },
  {
   "cell_type": "code",
   "execution_count": 38,
   "metadata": {},
   "outputs": [
    {
     "data": {
      "text/plain": [
       "last_price                    1.000000\n",
       "price for metr                0.734745\n",
       "total_area                    0.690561\n",
       "living_area                   0.517120\n",
       "kitchen_area                  0.508577\n",
       "rooms                         0.384605\n",
       "cityCenters_nearest           0.247989\n",
       "cityCenters_km                0.246166\n",
       "ceiling_height                0.244485\n",
       "floors_total                  0.227202\n",
       "ponds_around3000              0.191711\n",
       "floor                         0.157946\n",
       "total_images                  0.152856\n",
       "parks_around3000              0.124975\n",
       "balcony                       0.083279\n",
       "is_apartment                  0.056436\n",
       "floor_group_number            0.051509\n",
       "days_exposition               0.045823\n",
       "parks_nearest                 0.035553\n",
       "airports_nearest              0.014756\n",
       "month of publication          0.011033\n",
       "day week of publication      -0.004051\n",
       "year of publication          -0.022429\n",
       "open_plan                    -0.039777\n",
       "studio                       -0.059510\n",
       "ponds_nearest                -0.072052\n",
       "kitchen_area to total_area   -0.122606\n",
       "living_area to total_area    -0.128293\n",
       "Name: last_price, dtype: float64"
      ]
     },
     "metadata": {},
     "output_type": "display_data"
    }
   ],
   "source": [
    "corr_2 = data_centr.corr()\n",
    "display(corr_2['last_price'].sort_values(ascending = False)) "
   ]
  },
  {
   "cell_type": "markdown",
   "metadata": {},
   "source": [
    "Факторы, которые влияют на стоимость квартиры - price for metr (высокая сила связи k = 0,8), total_area (высокая сила связи k = 0,7), living_area (средняя сила связи k = 0,53), kitchen_area (средняя сила связи k = 0,51).\n",
    "\n",
    "Сравнение зависимости цены по всему городу и по сегменту квартир в центре:\n",
    "Наиболее влияющие факторы такие же, сила связи во всех показателях такая же.\n",
    "\n",
    "Ниже приведены показатели по всеу городу для сравнения:\n",
    "\n",
    "Цена за метр (высокая связь k = 0,76), общая площадь (высокая связь k = 0,7), жилая площадь (средняя связь k = 0,53), площад кухни (средняя связь k = 0,5)."
   ]
  },
  {
   "cell_type": "markdown",
   "metadata": {},
   "source": [
    "## Общий вывод"
   ]
  },
  {
   "cell_type": "markdown",
   "metadata": {},
   "source": [
    "В данном проекте было проведено исследование объявлений о продаже квартир. \n",
    "\n",
    "Были изучены данные сервиса Яндекс.Недвижимость — архив объявлений о продаже квартир в Санкт-Петербурге и соседних\n",
    "населённых пунктах за несколько лет. \n",
    "\n",
    "1) Исходный файл был предобработан: изучены пропущенные значения и их возможные причины, а так же заменены пропуски в этих данных на предполагаемые значения. Данные были приведены к нужонму типу для того, чтобы было корректно с ними работать в дальнейшем. \n",
    "\n",
    "Пропуски, которые остались в больших кол-вах - это данные, полученные автоматически на основе картографических данных. Значит данная система не отлаженно работает и этот вопрос нужно озвучить разрабтчиком данной системы.\n",
    "\n",
    "\n",
    "2) В исходную табицу были добавлены необходимые метрики для анализа, такие, как:\n",
    "- цена квадратного метра;\n",
    "- день недели, месяц и год публикации объявления;\n",
    "- этаж квартиры;\n",
    "- соотношение жилой и общей площади, а также отношение площади кухни к общей.\n",
    "\n",
    "3) Проведен исследовательский анализ данных, а именно:\n",
    "- изучены площадь, цена, число комнат, высота потолков. Построены гистограммы для каждого параметра.\n",
    "\n",
    "Самое частовстр. значение общей площади, 30-50 м.кв.\n",
    "Самое частовср. значение цены 3 - 4,5 млн.руб.\n",
    "Самое частовстр. значение комнат - 1,2 комнаты.\n",
    "Самое частвстр. значение высоты потолков  - 2,6 - 2,8 м.\n",
    "- изучено время продажи квартиры. Построена гистограмма.\n",
    "\n",
    "В среднем 5 месяцев на продажу, медиана до 3 месяцев (2,5 месяца).\n",
    "Если квартира продалась меньше, чем за 3 недели - то это очень быстро, \n",
    "если квартира продавалась больше (460 дней) 15 месяцев, то это уже долго.\n",
    "\n",
    "- убраны выбросы с датасте\n",
    "- изучено, какие факторы больше всего влияют на стоимость квартиры.\n",
    "\n",
    "Площадь сильно влияет; кол-во комнат, расстяние от центра слабо.\n",
    "\n",
    "На стоимость картиры влияет больше всего цена за метр (высокая связь k = 0,76), общая площадь (высокая связь k = 0,7), жилая площадь (средняя связь k = 0,53), площадь кухни (средняя связь k = 0,5).\n",
    "\n",
    "Связи между этажем и ценой нет (k = 0,04). Больше всего продавалось квартир с 2 по 10 этаж.\n",
    "На стоимость оказывается не влияет ни день недели, ни год, ни месяц.\n",
    "\n",
    "- больше всего объявлений: Санкт-Петербург, Мурино, Кудрово, Шушары, Всеволожск, Пушкин, Колпино, Парголово, Гатчина, Выборг. \n",
    "\n",
    "Самая дорогая стоимость жилья - Спб (110 922), Пушкин (102 305), Кудрово (95 325).\n",
    "\n",
    "Самая низкая стоимость жилья - Гатчина\t(68 919), Всеволожск (68 673),Выборг (58 185).\n",
    "\n",
    "- выяснено, какая область входит в центр. Посчитана средняя цена для каждого километра и построен график.\n",
    "По графику видно, что после расстояния в 17 км график сильно меняется. Значит граница центра - это 17 км.\n",
    "\n",
    "- выделен сегмент квартир в центре и проанализированы параметры на этой территории.\n",
    "Есть высокая связь между площадью и стоимостью квартиры, слабая между кол-вом комнат и стоимостью квартиры, очень слабая между высотой потолков и стоимостью квартиры, высокая между ценой за метр и стоимостью квартиры.\n",
    "\n",
    "Факторы, которые влияют на стоимость квартиры - price for metr (высокая сила связи k = 0,8), total_area (высокая сила связи k = 0,7), living_area (средняя сила связи k = 0,53), kitchen_area (средняя сила связи k = 0,51).\n",
    "\n",
    "Сравнение зависимости цены по всему городу и по сегменту квартир в центре:\n",
    "Наиболее влияющие факторы такие же, сила связи во всех показателях такая же.\n"
   ]
  }
 ],
 "metadata": {
  "ExecuteTimeLog": [
   {
    "duration": 678,
    "start_time": "2021-10-11T10:56:38.225Z"
   },
   {
    "duration": 61,
    "start_time": "2021-10-11T10:56:42.545Z"
   },
   {
    "duration": 70,
    "start_time": "2021-10-11T10:56:53.933Z"
   },
   {
    "duration": 110,
    "start_time": "2021-10-11T11:00:23.468Z"
   },
   {
    "duration": 176,
    "start_time": "2021-10-11T11:03:01.735Z"
   },
   {
    "duration": 158,
    "start_time": "2021-10-11T11:12:44.249Z"
   },
   {
    "duration": 67,
    "start_time": "2021-10-11T11:12:57.473Z"
   },
   {
    "duration": 179,
    "start_time": "2021-10-11T11:13:05.255Z"
   },
   {
    "duration": 24,
    "start_time": "2021-10-11T11:21:12.992Z"
   },
   {
    "duration": 9,
    "start_time": "2021-10-11T11:21:22.011Z"
   },
   {
    "duration": 14,
    "start_time": "2021-10-11T11:26:10.567Z"
   },
   {
    "duration": 289,
    "start_time": "2021-10-11T11:28:00.398Z"
   },
   {
    "duration": 10,
    "start_time": "2021-10-11T11:28:18.610Z"
   },
   {
    "duration": 9,
    "start_time": "2021-10-11T11:51:54.424Z"
   },
   {
    "duration": 10,
    "start_time": "2021-10-11T11:51:59.183Z"
   },
   {
    "duration": 9,
    "start_time": "2021-10-11T11:52:23.349Z"
   },
   {
    "duration": 11,
    "start_time": "2021-10-11T12:03:11.788Z"
   },
   {
    "duration": 18,
    "start_time": "2021-10-11T12:03:25.225Z"
   },
   {
    "duration": 20,
    "start_time": "2021-10-11T12:08:55.669Z"
   },
   {
    "duration": 22,
    "start_time": "2021-10-11T12:09:47.261Z"
   },
   {
    "duration": 19,
    "start_time": "2021-10-11T12:14:18.968Z"
   },
   {
    "duration": 25,
    "start_time": "2021-10-11T12:14:25.177Z"
   },
   {
    "duration": 30,
    "start_time": "2021-10-11T12:16:06.201Z"
   },
   {
    "duration": 32,
    "start_time": "2021-10-11T12:16:48.505Z"
   },
   {
    "duration": 264,
    "start_time": "2021-10-11T12:17:21.990Z"
   },
   {
    "duration": 251,
    "start_time": "2021-10-11T12:18:38.845Z"
   },
   {
    "duration": 255,
    "start_time": "2021-10-11T12:18:53.369Z"
   },
   {
    "duration": 260,
    "start_time": "2021-10-11T12:19:06.056Z"
   },
   {
    "duration": 29,
    "start_time": "2021-10-11T12:19:42.779Z"
   },
   {
    "duration": 41,
    "start_time": "2021-10-11T12:20:34.205Z"
   },
   {
    "duration": 37,
    "start_time": "2021-10-11T12:21:34.098Z"
   },
   {
    "duration": 51,
    "start_time": "2021-10-11T12:24:54.925Z"
   },
   {
    "duration": 70,
    "start_time": "2021-10-11T13:13:50.612Z"
   },
   {
    "duration": 2356,
    "start_time": "2021-10-11T13:21:38.960Z"
   },
   {
    "duration": 1440,
    "start_time": "2021-10-11T13:22:56.182Z"
   },
   {
    "duration": 1486,
    "start_time": "2021-10-11T13:23:41.366Z"
   },
   {
    "duration": 2285,
    "start_time": "2021-10-11T13:25:07.893Z"
   },
   {
    "duration": 1493,
    "start_time": "2021-10-11T13:25:28.444Z"
   },
   {
    "duration": 58,
    "start_time": "2021-10-11T13:26:38.315Z"
   },
   {
    "duration": 59,
    "start_time": "2021-10-11T13:26:58.194Z"
   },
   {
    "duration": 65,
    "start_time": "2021-10-11T13:30:48.328Z"
   },
   {
    "duration": 1023,
    "start_time": "2021-10-12T07:16:24.185Z"
   },
   {
    "duration": 462,
    "start_time": "2021-10-12T07:16:29.217Z"
   },
   {
    "duration": 396,
    "start_time": "2021-10-12T07:24:42.474Z"
   },
   {
    "duration": 67,
    "start_time": "2021-10-12T07:25:12.265Z"
   },
   {
    "duration": 61,
    "start_time": "2021-10-12T07:25:54.934Z"
   },
   {
    "duration": 67,
    "start_time": "2021-10-12T07:27:37.103Z"
   },
   {
    "duration": 62,
    "start_time": "2021-10-12T07:32:09.484Z"
   },
   {
    "duration": 68,
    "start_time": "2021-10-12T07:45:12.800Z"
   },
   {
    "duration": 62,
    "start_time": "2021-10-12T07:46:06.857Z"
   },
   {
    "duration": 46,
    "start_time": "2021-10-12T07:46:50.619Z"
   },
   {
    "duration": 46,
    "start_time": "2021-10-12T07:47:21.477Z"
   },
   {
    "duration": 76,
    "start_time": "2021-10-12T07:48:17.261Z"
   },
   {
    "duration": 30,
    "start_time": "2021-10-12T07:51:05.279Z"
   },
   {
    "duration": 76,
    "start_time": "2021-10-12T07:51:22.636Z"
   },
   {
    "duration": 3594,
    "start_time": "2021-10-12T07:51:37.411Z"
   },
   {
    "duration": 75,
    "start_time": "2021-10-12T07:51:53.990Z"
   },
   {
    "duration": 26,
    "start_time": "2021-10-12T08:35:33.826Z"
   },
   {
    "duration": 41,
    "start_time": "2021-10-12T08:36:00.150Z"
   },
   {
    "duration": 46,
    "start_time": "2021-10-12T08:40:33.983Z"
   },
   {
    "duration": 44,
    "start_time": "2021-10-12T08:45:23.435Z"
   },
   {
    "duration": 48,
    "start_time": "2021-10-12T08:46:19.532Z"
   },
   {
    "duration": 57,
    "start_time": "2021-10-12T08:57:14.655Z"
   },
   {
    "duration": 54,
    "start_time": "2021-10-12T08:57:43.099Z"
   },
   {
    "duration": 56,
    "start_time": "2021-10-12T09:00:16.224Z"
   },
   {
    "duration": 54,
    "start_time": "2021-10-12T09:00:25.040Z"
   },
   {
    "duration": 51,
    "start_time": "2021-10-12T09:00:42.419Z"
   },
   {
    "duration": 53,
    "start_time": "2021-10-12T09:00:52.640Z"
   },
   {
    "duration": 343,
    "start_time": "2021-10-12T14:07:18.380Z"
   },
   {
    "duration": 696,
    "start_time": "2021-10-12T14:07:27.399Z"
   },
   {
    "duration": 53,
    "start_time": "2021-10-12T14:07:31.476Z"
   },
   {
    "duration": 1073,
    "start_time": "2021-10-12T14:07:55.855Z"
   },
   {
    "duration": 1107,
    "start_time": "2021-10-12T14:08:41.635Z"
   },
   {
    "duration": 1279,
    "start_time": "2021-10-12T14:09:01.936Z"
   },
   {
    "duration": 903,
    "start_time": "2021-10-12T14:09:18.144Z"
   },
   {
    "duration": 52,
    "start_time": "2021-10-12T14:10:47.730Z"
   },
   {
    "duration": 47,
    "start_time": "2021-10-12T14:11:19.518Z"
   },
   {
    "duration": 49,
    "start_time": "2021-10-12T14:11:46.204Z"
   },
   {
    "duration": 31,
    "start_time": "2021-10-12T14:12:18.710Z"
   },
   {
    "duration": 62,
    "start_time": "2021-10-12T14:17:24.362Z"
   },
   {
    "duration": 10,
    "start_time": "2021-10-12T14:18:17.235Z"
   },
   {
    "duration": 45,
    "start_time": "2021-10-12T14:18:41.701Z"
   },
   {
    "duration": 64,
    "start_time": "2021-10-12T14:19:05.351Z"
   },
   {
    "duration": 44,
    "start_time": "2021-10-12T14:21:44.859Z"
   },
   {
    "duration": 14,
    "start_time": "2021-10-12T14:26:07.610Z"
   },
   {
    "duration": 53,
    "start_time": "2021-10-12T14:26:18.238Z"
   },
   {
    "duration": 17,
    "start_time": "2021-10-12T14:47:00.931Z"
   },
   {
    "duration": 18,
    "start_time": "2021-10-12T14:55:24.408Z"
   },
   {
    "duration": 571,
    "start_time": "2021-10-12T14:55:29.665Z"
   },
   {
    "duration": 386,
    "start_time": "2021-10-12T14:55:59.320Z"
   },
   {
    "duration": 15,
    "start_time": "2021-10-12T14:57:16.527Z"
   },
   {
    "duration": 15,
    "start_time": "2021-10-12T14:57:21.499Z"
   },
   {
    "duration": 17,
    "start_time": "2021-10-12T14:57:25.863Z"
   },
   {
    "duration": 17,
    "start_time": "2021-10-12T14:57:29.207Z"
   },
   {
    "duration": 15,
    "start_time": "2021-10-12T14:57:37.005Z"
   },
   {
    "duration": 15,
    "start_time": "2021-10-12T14:57:43.055Z"
   },
   {
    "duration": 16,
    "start_time": "2021-10-12T14:59:28.810Z"
   },
   {
    "duration": 22,
    "start_time": "2021-10-12T14:59:59.931Z"
   },
   {
    "duration": 16,
    "start_time": "2021-10-12T15:00:05.258Z"
   },
   {
    "duration": 16,
    "start_time": "2021-10-12T15:00:13.991Z"
   },
   {
    "duration": 21,
    "start_time": "2021-10-12T15:00:17.166Z"
   },
   {
    "duration": 19,
    "start_time": "2021-10-12T15:00:19.506Z"
   },
   {
    "duration": 369,
    "start_time": "2021-10-12T15:02:37.113Z"
   },
   {
    "duration": 18,
    "start_time": "2021-10-12T15:03:19.106Z"
   },
   {
    "duration": 384,
    "start_time": "2021-10-12T15:04:05.291Z"
   },
   {
    "duration": 766,
    "start_time": "2021-10-12T15:06:59.608Z"
   },
   {
    "duration": 69,
    "start_time": "2021-10-12T15:07:36.926Z"
   },
   {
    "duration": 672,
    "start_time": "2021-10-12T15:07:45.954Z"
   },
   {
    "duration": 3676,
    "start_time": "2021-10-12T15:09:44.283Z"
   },
   {
    "duration": 469,
    "start_time": "2021-10-12T15:10:33.935Z"
   },
   {
    "duration": 528,
    "start_time": "2021-10-12T15:10:41.649Z"
   },
   {
    "duration": 3075,
    "start_time": "2021-10-12T15:13:50.369Z"
   },
   {
    "duration": 548,
    "start_time": "2021-10-12T15:17:25.671Z"
   },
   {
    "duration": 453,
    "start_time": "2021-10-12T15:18:23.079Z"
   },
   {
    "duration": 456,
    "start_time": "2021-10-12T15:28:48.396Z"
   },
   {
    "duration": 509,
    "start_time": "2021-10-12T15:29:21.193Z"
   },
   {
    "duration": 452,
    "start_time": "2021-10-12T15:29:39.979Z"
   },
   {
    "duration": 525,
    "start_time": "2021-10-12T15:35:29.628Z"
   },
   {
    "duration": 479,
    "start_time": "2021-10-12T15:36:07.686Z"
   },
   {
    "duration": 532,
    "start_time": "2021-10-12T15:36:23.168Z"
   },
   {
    "duration": 842,
    "start_time": "2021-10-12T15:37:33.403Z"
   },
   {
    "duration": 477,
    "start_time": "2021-10-12T15:37:56.797Z"
   },
   {
    "duration": 450,
    "start_time": "2021-10-12T15:38:06.860Z"
   },
   {
    "duration": 518,
    "start_time": "2021-10-12T15:38:14.898Z"
   },
   {
    "duration": 500,
    "start_time": "2021-10-12T15:39:20.169Z"
   },
   {
    "duration": 473,
    "start_time": "2021-10-12T15:39:47.378Z"
   },
   {
    "duration": 484,
    "start_time": "2021-10-12T15:39:53.147Z"
   },
   {
    "duration": 1086,
    "start_time": "2021-10-13T09:47:22.147Z"
   },
   {
    "duration": 76,
    "start_time": "2021-10-13T09:47:29.022Z"
   },
   {
    "duration": 898,
    "start_time": "2021-10-13T09:47:33.033Z"
   },
   {
    "duration": 117,
    "start_time": "2021-10-13T09:56:09.323Z"
   },
   {
    "duration": 260,
    "start_time": "2021-10-13T09:57:53.375Z"
   },
   {
    "duration": 194,
    "start_time": "2021-10-13T09:58:14.468Z"
   },
   {
    "duration": 193,
    "start_time": "2021-10-13T09:58:24.017Z"
   },
   {
    "duration": 658,
    "start_time": "2021-10-13T09:59:49.006Z"
   },
   {
    "duration": 809,
    "start_time": "2021-10-13T09:59:54.176Z"
   },
   {
    "duration": 210,
    "start_time": "2021-10-13T10:00:00.001Z"
   },
   {
    "duration": 556,
    "start_time": "2021-10-13T10:00:30.185Z"
   },
   {
    "duration": 211,
    "start_time": "2021-10-13T10:00:50.482Z"
   },
   {
    "duration": 215,
    "start_time": "2021-10-13T10:00:55.607Z"
   },
   {
    "duration": 301,
    "start_time": "2021-10-13T10:02:05.882Z"
   },
   {
    "duration": 264,
    "start_time": "2021-10-13T10:02:36.784Z"
   },
   {
    "duration": 248,
    "start_time": "2021-10-13T10:02:53.668Z"
   },
   {
    "duration": 289,
    "start_time": "2021-10-13T10:05:48.981Z"
   },
   {
    "duration": 209,
    "start_time": "2021-10-13T10:06:02.166Z"
   },
   {
    "duration": 207,
    "start_time": "2021-10-13T10:06:14.736Z"
   },
   {
    "duration": 225,
    "start_time": "2021-10-13T10:06:46.676Z"
   },
   {
    "duration": 225,
    "start_time": "2021-10-13T10:07:17.787Z"
   },
   {
    "duration": 215,
    "start_time": "2021-10-13T10:07:45.400Z"
   },
   {
    "duration": 270,
    "start_time": "2021-10-13T10:09:09.786Z"
   },
   {
    "duration": 241,
    "start_time": "2021-10-13T10:09:39.103Z"
   },
   {
    "duration": 270,
    "start_time": "2021-10-13T10:09:46.528Z"
   },
   {
    "duration": 495,
    "start_time": "2021-10-13T10:09:55.180Z"
   },
   {
    "duration": 3399,
    "start_time": "2021-10-13T10:09:59.500Z"
   },
   {
    "duration": 600,
    "start_time": "2021-10-13T10:10:09.964Z"
   },
   {
    "duration": 487,
    "start_time": "2021-10-13T10:10:14.422Z"
   },
   {
    "duration": 1030,
    "start_time": "2021-10-13T10:10:20.043Z"
   },
   {
    "duration": 1120,
    "start_time": "2021-10-13T10:10:39.886Z"
   },
   {
    "duration": 679,
    "start_time": "2021-10-13T10:10:47.794Z"
   },
   {
    "duration": 3038,
    "start_time": "2021-10-13T10:10:54.345Z"
   },
   {
    "duration": 4904,
    "start_time": "2021-10-13T10:11:05.097Z"
   },
   {
    "duration": 5755,
    "start_time": "2021-10-13T10:11:18.554Z"
   },
   {
    "duration": 107,
    "start_time": "2021-10-13T10:13:49.844Z"
   },
   {
    "duration": 922,
    "start_time": "2021-10-13T10:13:54.354Z"
   },
   {
    "duration": 3245,
    "start_time": "2021-10-13T10:14:14.679Z"
   },
   {
    "duration": 1572,
    "start_time": "2021-10-13T10:15:01.715Z"
   },
   {
    "duration": 489,
    "start_time": "2021-10-13T10:15:12.025Z"
   },
   {
    "duration": 762,
    "start_time": "2021-10-13T10:15:18.593Z"
   },
   {
    "duration": 878,
    "start_time": "2021-10-13T10:15:32.149Z"
   },
   {
    "duration": 874,
    "start_time": "2021-10-13T10:15:40.808Z"
   },
   {
    "duration": 842,
    "start_time": "2021-10-13T10:16:07.124Z"
   },
   {
    "duration": 873,
    "start_time": "2021-10-13T10:16:15.417Z"
   },
   {
    "duration": 814,
    "start_time": "2021-10-13T10:16:30.139Z"
   },
   {
    "duration": 472,
    "start_time": "2021-10-13T10:16:44.936Z"
   },
   {
    "duration": 514,
    "start_time": "2021-10-13T10:16:51.868Z"
   },
   {
    "duration": 2883,
    "start_time": "2021-10-13T10:17:02.945Z"
   },
   {
    "duration": 2111,
    "start_time": "2021-10-13T10:17:12.786Z"
   },
   {
    "duration": 1650,
    "start_time": "2021-10-13T10:17:27.958Z"
   },
   {
    "duration": 1566,
    "start_time": "2021-10-13T10:17:37.762Z"
   },
   {
    "duration": 1015,
    "start_time": "2021-10-13T10:17:51.301Z"
   },
   {
    "duration": 800,
    "start_time": "2021-10-13T10:18:08.875Z"
   },
   {
    "duration": 1624,
    "start_time": "2021-10-13T10:18:16.915Z"
   },
   {
    "duration": 1006,
    "start_time": "2021-10-13T10:18:31.630Z"
   },
   {
    "duration": 1012,
    "start_time": "2021-10-13T10:18:45.318Z"
   },
   {
    "duration": 1018,
    "start_time": "2021-10-13T10:18:53.071Z"
   },
   {
    "duration": 1112,
    "start_time": "2021-10-13T10:19:46.115Z"
   },
   {
    "duration": 1251,
    "start_time": "2021-10-13T10:20:05.022Z"
   },
   {
    "duration": 1152,
    "start_time": "2021-10-13T10:20:38.748Z"
   },
   {
    "duration": 1748,
    "start_time": "2021-10-13T10:20:55.214Z"
   },
   {
    "duration": 1086,
    "start_time": "2021-10-13T10:21:08.267Z"
   },
   {
    "duration": 1322,
    "start_time": "2021-10-13T10:21:34.802Z"
   },
   {
    "duration": 1097,
    "start_time": "2021-10-13T10:21:43.532Z"
   },
   {
    "duration": 1268,
    "start_time": "2021-10-13T10:22:02.906Z"
   },
   {
    "duration": 995,
    "start_time": "2021-10-13T10:22:22.049Z"
   },
   {
    "duration": 1457,
    "start_time": "2021-10-13T10:22:41.491Z"
   },
   {
    "duration": 517,
    "start_time": "2021-10-13T10:23:12.570Z"
   },
   {
    "duration": 1235,
    "start_time": "2021-10-13T10:23:22.763Z"
   },
   {
    "duration": 286,
    "start_time": "2021-10-13T10:23:41.791Z"
   },
   {
    "duration": 624,
    "start_time": "2021-10-13T10:23:47.361Z"
   },
   {
    "duration": 458,
    "start_time": "2021-10-13T10:23:58.477Z"
   },
   {
    "duration": 412,
    "start_time": "2021-10-13T10:24:23.913Z"
   },
   {
    "duration": 434,
    "start_time": "2021-10-13T10:25:24.415Z"
   },
   {
    "duration": 219,
    "start_time": "2021-10-13T10:25:37.231Z"
   },
   {
    "duration": 229,
    "start_time": "2021-10-13T10:25:46.679Z"
   },
   {
    "duration": 1730,
    "start_time": "2021-10-13T10:29:08.791Z"
   },
   {
    "duration": 1032,
    "start_time": "2021-10-13T10:29:23.091Z"
   },
   {
    "duration": 1511,
    "start_time": "2021-10-13T10:29:33.342Z"
   },
   {
    "duration": 1127,
    "start_time": "2021-10-13T10:31:10.919Z"
   },
   {
    "duration": 230,
    "start_time": "2021-10-13T10:31:16.282Z"
   },
   {
    "duration": 1106,
    "start_time": "2021-10-13T10:31:22.325Z"
   },
   {
    "duration": 1058,
    "start_time": "2021-10-13T10:31:45.635Z"
   },
   {
    "duration": 235,
    "start_time": "2021-10-13T10:32:04.873Z"
   },
   {
    "duration": 215,
    "start_time": "2021-10-13T10:32:16.032Z"
   },
   {
    "duration": 1081,
    "start_time": "2021-10-13T10:43:59.489Z"
   },
   {
    "duration": 251,
    "start_time": "2021-10-13T10:44:14.244Z"
   },
   {
    "duration": 269,
    "start_time": "2021-10-13T10:44:33.389Z"
   },
   {
    "duration": 251,
    "start_time": "2021-10-13T10:45:06.916Z"
   },
   {
    "duration": 296,
    "start_time": "2021-10-13T10:45:30.959Z"
   },
   {
    "duration": 1683,
    "start_time": "2021-10-13T10:45:56.760Z"
   },
   {
    "duration": 1077,
    "start_time": "2021-10-13T10:46:19.308Z"
   },
   {
    "duration": 1150,
    "start_time": "2021-10-13T10:46:43.663Z"
   },
   {
    "duration": 1084,
    "start_time": "2021-10-13T10:47:11.405Z"
   },
   {
    "duration": 1061,
    "start_time": "2021-10-13T10:47:20.252Z"
   },
   {
    "duration": 1180,
    "start_time": "2021-10-13T10:47:29.413Z"
   },
   {
    "duration": 1040,
    "start_time": "2021-10-13T10:47:58.653Z"
   },
   {
    "duration": 1153,
    "start_time": "2021-10-13T10:49:24.348Z"
   },
   {
    "duration": 512,
    "start_time": "2021-10-13T10:49:35.829Z"
   },
   {
    "duration": 1405,
    "start_time": "2021-10-13T10:50:09.146Z"
   },
   {
    "duration": 611,
    "start_time": "2021-10-13T10:50:20.849Z"
   },
   {
    "duration": 291,
    "start_time": "2021-10-13T10:50:27.802Z"
   },
   {
    "duration": 572,
    "start_time": "2021-10-13T10:50:39.279Z"
   },
   {
    "duration": 526,
    "start_time": "2021-10-13T10:51:04.356Z"
   },
   {
    "duration": 287,
    "start_time": "2021-10-13T10:51:11.755Z"
   },
   {
    "duration": 274,
    "start_time": "2021-10-13T10:51:25.141Z"
   },
   {
    "duration": 293,
    "start_time": "2021-10-13T10:52:06.652Z"
   },
   {
    "duration": 284,
    "start_time": "2021-10-13T10:52:16.224Z"
   },
   {
    "duration": 317,
    "start_time": "2021-10-13T10:52:40.702Z"
   },
   {
    "duration": 304,
    "start_time": "2021-10-13T10:52:44.628Z"
   },
   {
    "duration": 307,
    "start_time": "2021-10-13T10:52:47.818Z"
   },
   {
    "duration": 1099,
    "start_time": "2021-10-13T12:56:57.917Z"
   },
   {
    "duration": 488,
    "start_time": "2021-10-13T12:57:14.856Z"
   },
   {
    "duration": 61,
    "start_time": "2021-10-13T12:57:18.501Z"
   },
   {
    "duration": 651,
    "start_time": "2021-10-13T12:57:24.023Z"
   },
   {
    "duration": 449,
    "start_time": "2021-10-13T12:57:32.838Z"
   },
   {
    "duration": 208,
    "start_time": "2021-10-13T12:57:37.913Z"
   },
   {
    "duration": 219,
    "start_time": "2021-10-13T12:59:06.728Z"
   },
   {
    "duration": 227,
    "start_time": "2021-10-13T12:59:19.161Z"
   },
   {
    "duration": 223,
    "start_time": "2021-10-13T12:59:22.604Z"
   },
   {
    "duration": 192,
    "start_time": "2021-10-13T12:59:26.322Z"
   },
   {
    "duration": 188,
    "start_time": "2021-10-13T12:59:38.774Z"
   },
   {
    "duration": 213,
    "start_time": "2021-10-13T12:59:43.221Z"
   },
   {
    "duration": 186,
    "start_time": "2021-10-13T12:59:53.374Z"
   },
   {
    "duration": 189,
    "start_time": "2021-10-13T13:00:06.833Z"
   },
   {
    "duration": 178,
    "start_time": "2021-10-13T13:00:49.498Z"
   },
   {
    "duration": 268,
    "start_time": "2021-10-13T13:01:08.868Z"
   },
   {
    "duration": 217,
    "start_time": "2021-10-13T13:01:22.462Z"
   },
   {
    "duration": 181,
    "start_time": "2021-10-13T13:01:28.290Z"
   },
   {
    "duration": 184,
    "start_time": "2021-10-13T13:01:32.239Z"
   },
   {
    "duration": 195,
    "start_time": "2021-10-13T13:01:57.429Z"
   },
   {
    "duration": 172,
    "start_time": "2021-10-13T13:02:14.661Z"
   },
   {
    "duration": 185,
    "start_time": "2021-10-13T13:02:23.565Z"
   },
   {
    "duration": 187,
    "start_time": "2021-10-13T13:02:28.335Z"
   },
   {
    "duration": 178,
    "start_time": "2021-10-13T13:02:33.118Z"
   },
   {
    "duration": 199,
    "start_time": "2021-10-13T13:02:42.228Z"
   },
   {
    "duration": 178,
    "start_time": "2021-10-13T13:02:54.306Z"
   },
   {
    "duration": 281,
    "start_time": "2021-10-13T13:02:59.269Z"
   },
   {
    "duration": 208,
    "start_time": "2021-10-13T13:03:58.452Z"
   },
   {
    "duration": 203,
    "start_time": "2021-10-13T13:04:07.964Z"
   },
   {
    "duration": 224,
    "start_time": "2021-10-13T13:04:43.521Z"
   },
   {
    "duration": 241,
    "start_time": "2021-10-13T13:04:47.207Z"
   },
   {
    "duration": 714,
    "start_time": "2021-10-13T13:05:12.388Z"
   },
   {
    "duration": 521,
    "start_time": "2021-10-13T13:05:15.623Z"
   },
   {
    "duration": 3562,
    "start_time": "2021-10-13T13:05:20.075Z"
   },
   {
    "duration": 3683,
    "start_time": "2021-10-13T13:05:37.580Z"
   },
   {
    "duration": 219,
    "start_time": "2021-10-13T13:05:48.589Z"
   },
   {
    "duration": 217,
    "start_time": "2021-10-13T13:05:52.875Z"
   },
   {
    "duration": 240,
    "start_time": "2021-10-13T13:06:23.849Z"
   },
   {
    "duration": 272,
    "start_time": "2021-10-13T13:06:29.323Z"
   },
   {
    "duration": 228,
    "start_time": "2021-10-13T13:07:29.590Z"
   },
   {
    "duration": 229,
    "start_time": "2021-10-13T13:07:36.986Z"
   },
   {
    "duration": 228,
    "start_time": "2021-10-13T13:07:49.203Z"
   },
   {
    "duration": 252,
    "start_time": "2021-10-13T13:08:30.415Z"
   },
   {
    "duration": 261,
    "start_time": "2021-10-13T13:08:39.186Z"
   },
   {
    "duration": 273,
    "start_time": "2021-10-13T13:08:42.981Z"
   },
   {
    "duration": 267,
    "start_time": "2021-10-13T13:08:49.025Z"
   },
   {
    "duration": 547,
    "start_time": "2021-10-13T13:08:54.804Z"
   },
   {
    "duration": 537,
    "start_time": "2021-10-13T13:09:09.215Z"
   },
   {
    "duration": 237,
    "start_time": "2021-10-13T13:09:20.786Z"
   },
   {
    "duration": 261,
    "start_time": "2021-10-13T13:09:26.358Z"
   },
   {
    "duration": 214,
    "start_time": "2021-10-13T13:09:37.901Z"
   },
   {
    "duration": 198,
    "start_time": "2021-10-13T13:09:44.030Z"
   },
   {
    "duration": 205,
    "start_time": "2021-10-13T13:09:49.349Z"
   },
   {
    "duration": 351,
    "start_time": "2021-10-13T13:09:56.531Z"
   },
   {
    "duration": 195,
    "start_time": "2021-10-13T13:10:00.404Z"
   },
   {
    "duration": 216,
    "start_time": "2021-10-13T13:10:05.285Z"
   },
   {
    "duration": 232,
    "start_time": "2021-10-13T13:10:08.540Z"
   },
   {
    "duration": 220,
    "start_time": "2021-10-13T13:10:11.146Z"
   },
   {
    "duration": 222,
    "start_time": "2021-10-13T13:10:14.155Z"
   },
   {
    "duration": 213,
    "start_time": "2021-10-13T13:10:17.498Z"
   },
   {
    "duration": 335,
    "start_time": "2021-10-13T13:10:22.213Z"
   },
   {
    "duration": 341,
    "start_time": "2021-10-13T13:10:25.619Z"
   },
   {
    "duration": 342,
    "start_time": "2021-10-13T13:10:31.415Z"
   },
   {
    "duration": 345,
    "start_time": "2021-10-13T13:10:44.272Z"
   },
   {
    "duration": 316,
    "start_time": "2021-10-13T13:10:52.444Z"
   },
   {
    "duration": 201,
    "start_time": "2021-10-13T13:10:58.205Z"
   },
   {
    "duration": 174,
    "start_time": "2021-10-13T13:12:06.629Z"
   },
   {
    "duration": 184,
    "start_time": "2021-10-13T13:12:12.120Z"
   },
   {
    "duration": 340,
    "start_time": "2021-10-13T13:12:16.892Z"
   },
   {
    "duration": 331,
    "start_time": "2021-10-13T13:12:30.153Z"
   },
   {
    "duration": 191,
    "start_time": "2021-10-13T13:12:33.218Z"
   },
   {
    "duration": 200,
    "start_time": "2021-10-13T13:12:40.148Z"
   },
   {
    "duration": 208,
    "start_time": "2021-10-13T13:12:48.483Z"
   },
   {
    "duration": 194,
    "start_time": "2021-10-13T13:12:53.959Z"
   },
   {
    "duration": 193,
    "start_time": "2021-10-13T13:13:02.915Z"
   },
   {
    "duration": 309,
    "start_time": "2021-10-13T13:13:08.090Z"
   },
   {
    "duration": 553,
    "start_time": "2021-10-13T13:13:18.933Z"
   },
   {
    "duration": 224,
    "start_time": "2021-10-13T13:14:25.869Z"
   },
   {
    "duration": 233,
    "start_time": "2021-10-13T13:14:30.356Z"
   },
   {
    "duration": 218,
    "start_time": "2021-10-13T13:14:36.097Z"
   },
   {
    "duration": 217,
    "start_time": "2021-10-13T13:14:42.779Z"
   },
   {
    "duration": 308,
    "start_time": "2021-10-13T13:14:56.371Z"
   },
   {
    "duration": 317,
    "start_time": "2021-10-13T13:15:56.506Z"
   },
   {
    "duration": 285,
    "start_time": "2021-10-13T13:17:17.620Z"
   },
   {
    "duration": 382,
    "start_time": "2021-10-13T13:17:42.901Z"
   },
   {
    "duration": 410,
    "start_time": "2021-10-13T13:18:09.183Z"
   },
   {
    "duration": 413,
    "start_time": "2021-10-13T13:19:24.746Z"
   },
   {
    "duration": 211,
    "start_time": "2021-10-13T13:19:37.803Z"
   },
   {
    "duration": 216,
    "start_time": "2021-10-13T13:19:55.433Z"
   },
   {
    "duration": 220,
    "start_time": "2021-10-13T13:20:02.917Z"
   },
   {
    "duration": 318,
    "start_time": "2021-10-13T13:20:08.409Z"
   },
   {
    "duration": 97,
    "start_time": "2021-10-13T13:21:08.979Z"
   },
   {
    "duration": 188,
    "start_time": "2021-10-13T13:21:13.618Z"
   },
   {
    "duration": 248,
    "start_time": "2021-10-13T13:21:18.226Z"
   },
   {
    "duration": 187,
    "start_time": "2021-10-13T13:21:23.206Z"
   },
   {
    "duration": 200,
    "start_time": "2021-10-13T13:21:28.484Z"
   },
   {
    "duration": 194,
    "start_time": "2021-10-13T13:21:41.848Z"
   },
   {
    "duration": 197,
    "start_time": "2021-10-13T13:22:00.015Z"
   },
   {
    "duration": 200,
    "start_time": "2021-10-13T13:22:05.956Z"
   },
   {
    "duration": 190,
    "start_time": "2021-10-13T13:22:09.912Z"
   },
   {
    "duration": 188,
    "start_time": "2021-10-13T13:22:14.185Z"
   },
   {
    "duration": 260,
    "start_time": "2021-10-13T13:22:34.542Z"
   },
   {
    "duration": 256,
    "start_time": "2021-10-13T13:22:54.039Z"
   },
   {
    "duration": 284,
    "start_time": "2021-10-13T13:23:07.585Z"
   },
   {
    "duration": 255,
    "start_time": "2021-10-13T13:25:14.438Z"
   },
   {
    "duration": 291,
    "start_time": "2021-10-13T13:26:17.286Z"
   },
   {
    "duration": 227,
    "start_time": "2021-10-13T13:26:25.713Z"
   },
   {
    "duration": 227,
    "start_time": "2021-10-13T13:26:39.043Z"
   },
   {
    "duration": 228,
    "start_time": "2021-10-13T13:26:44.319Z"
   },
   {
    "duration": 225,
    "start_time": "2021-10-13T13:27:12.662Z"
   },
   {
    "duration": 216,
    "start_time": "2021-10-13T13:38:15.942Z"
   },
   {
    "duration": 214,
    "start_time": "2021-10-13T13:38:31.090Z"
   },
   {
    "duration": 235,
    "start_time": "2021-10-13T13:39:46.256Z"
   },
   {
    "duration": 229,
    "start_time": "2021-10-13T13:40:02.520Z"
   },
   {
    "duration": 217,
    "start_time": "2021-10-13T13:40:23.501Z"
   },
   {
    "duration": 223,
    "start_time": "2021-10-13T13:40:33.322Z"
   },
   {
    "duration": 214,
    "start_time": "2021-10-13T13:41:51.358Z"
   },
   {
    "duration": 227,
    "start_time": "2021-10-13T13:42:07.283Z"
   },
   {
    "duration": 212,
    "start_time": "2021-10-13T13:42:23.766Z"
   },
   {
    "duration": 216,
    "start_time": "2021-10-13T13:42:29.100Z"
   },
   {
    "duration": 223,
    "start_time": "2021-10-13T13:42:51.653Z"
   },
   {
    "duration": 215,
    "start_time": "2021-10-13T13:43:43.229Z"
   },
   {
    "duration": 776,
    "start_time": "2021-10-13T13:50:18.154Z"
   },
   {
    "duration": 223,
    "start_time": "2021-10-13T13:50:38.984Z"
   },
   {
    "duration": 370,
    "start_time": "2021-10-13T13:50:55.502Z"
   },
   {
    "duration": 117,
    "start_time": "2021-10-13T13:51:26.744Z"
   },
   {
    "duration": 184,
    "start_time": "2021-10-13T13:51:31.049Z"
   },
   {
    "duration": 205,
    "start_time": "2021-10-13T13:51:48.594Z"
   },
   {
    "duration": 192,
    "start_time": "2021-10-13T13:52:26.465Z"
   },
   {
    "duration": 192,
    "start_time": "2021-10-13T13:52:34.011Z"
   },
   {
    "duration": 167,
    "start_time": "2021-10-13T13:53:45.676Z"
   },
   {
    "duration": 136,
    "start_time": "2021-10-13T13:53:52.398Z"
   },
   {
    "duration": 143,
    "start_time": "2021-10-13T13:54:09.522Z"
   },
   {
    "duration": 159,
    "start_time": "2021-10-13T13:54:23.613Z"
   },
   {
    "duration": 141,
    "start_time": "2021-10-13T13:54:25.319Z"
   },
   {
    "duration": 143,
    "start_time": "2021-10-13T13:54:40.439Z"
   },
   {
    "duration": 133,
    "start_time": "2021-10-13T13:56:16.868Z"
   },
   {
    "duration": 140,
    "start_time": "2021-10-13T13:56:23.795Z"
   },
   {
    "duration": 138,
    "start_time": "2021-10-13T13:56:48.126Z"
   },
   {
    "duration": 195,
    "start_time": "2021-10-13T13:57:06.184Z"
   },
   {
    "duration": 164,
    "start_time": "2021-10-13T13:57:18.493Z"
   },
   {
    "duration": 136,
    "start_time": "2021-10-13T13:57:23.429Z"
   },
   {
    "duration": 170,
    "start_time": "2021-10-13T13:57:33.757Z"
   },
   {
    "duration": 139,
    "start_time": "2021-10-13T13:57:38.898Z"
   },
   {
    "duration": 260,
    "start_time": "2021-10-13T13:57:47.371Z"
   },
   {
    "duration": 179,
    "start_time": "2021-10-13T13:57:51.353Z"
   },
   {
    "duration": 176,
    "start_time": "2021-10-13T13:58:04.834Z"
   },
   {
    "duration": 185,
    "start_time": "2021-10-13T13:58:09.850Z"
   },
   {
    "duration": 147,
    "start_time": "2021-10-13T13:58:27.811Z"
   },
   {
    "duration": 138,
    "start_time": "2021-10-13T13:58:50.015Z"
   },
   {
    "duration": 141,
    "start_time": "2021-10-13T14:01:11.506Z"
   },
   {
    "duration": 279,
    "start_time": "2021-10-13T14:01:15.425Z"
   },
   {
    "duration": 42,
    "start_time": "2021-10-13T14:01:45.257Z"
   },
   {
    "duration": 185,
    "start_time": "2021-10-13T14:03:56.116Z"
   },
   {
    "duration": 9,
    "start_time": "2021-10-13T14:04:09.247Z"
   },
   {
    "duration": 47,
    "start_time": "2021-10-13T14:04:14.373Z"
   },
   {
    "duration": 44,
    "start_time": "2021-10-13T14:04:32.101Z"
   },
   {
    "duration": 2914,
    "start_time": "2021-10-13T14:05:02.162Z"
   },
   {
    "duration": 62,
    "start_time": "2021-10-13T14:05:12.285Z"
   },
   {
    "duration": 683,
    "start_time": "2021-10-13T14:05:31.152Z"
   },
   {
    "duration": 56,
    "start_time": "2021-10-13T14:13:01.057Z"
   },
   {
    "duration": 206,
    "start_time": "2021-10-13T14:13:29.792Z"
   },
   {
    "duration": 242,
    "start_time": "2021-10-13T14:13:53.562Z"
   },
   {
    "duration": 282,
    "start_time": "2021-10-13T14:14:08.962Z"
   },
   {
    "duration": 46,
    "start_time": "2021-10-13T14:14:45.797Z"
   },
   {
    "duration": 3531,
    "start_time": "2021-10-13T14:14:59.094Z"
   },
   {
    "duration": 204,
    "start_time": "2021-10-13T14:15:20.472Z"
   },
   {
    "duration": 189,
    "start_time": "2021-10-13T14:15:32.563Z"
   },
   {
    "duration": 185,
    "start_time": "2021-10-13T14:15:41.572Z"
   },
   {
    "duration": 279,
    "start_time": "2021-10-13T14:15:46.835Z"
   },
   {
    "duration": 209,
    "start_time": "2021-10-13T14:16:00.344Z"
   },
   {
    "duration": 199,
    "start_time": "2021-10-13T14:16:08.332Z"
   },
   {
    "duration": 189,
    "start_time": "2021-10-13T14:16:16.015Z"
   },
   {
    "duration": 107,
    "start_time": "2021-10-13T14:16:45.270Z"
   },
   {
    "duration": 215,
    "start_time": "2021-10-13T14:16:52.593Z"
   },
   {
    "duration": 212,
    "start_time": "2021-10-13T14:17:08.866Z"
   },
   {
    "duration": 210,
    "start_time": "2021-10-13T14:17:19.742Z"
   },
   {
    "duration": 227,
    "start_time": "2021-10-13T14:17:24.767Z"
   },
   {
    "duration": 215,
    "start_time": "2021-10-13T14:17:29.455Z"
   },
   {
    "duration": 224,
    "start_time": "2021-10-13T14:17:56.913Z"
   },
   {
    "duration": 170,
    "start_time": "2021-10-13T14:18:27.084Z"
   },
   {
    "duration": 168,
    "start_time": "2021-10-13T14:18:42.256Z"
   },
   {
    "duration": 153,
    "start_time": "2021-10-13T14:18:50.533Z"
   },
   {
    "duration": 168,
    "start_time": "2021-10-13T14:18:58.576Z"
   },
   {
    "duration": 155,
    "start_time": "2021-10-13T14:19:02.525Z"
   },
   {
    "duration": 219,
    "start_time": "2021-10-13T14:19:20.311Z"
   },
   {
    "duration": 239,
    "start_time": "2021-10-13T14:19:22.370Z"
   },
   {
    "duration": 170,
    "start_time": "2021-10-13T14:19:33.072Z"
   },
   {
    "duration": 196,
    "start_time": "2021-10-13T14:20:04.081Z"
   },
   {
    "duration": 158,
    "start_time": "2021-10-13T14:20:21.684Z"
   },
   {
    "duration": 166,
    "start_time": "2021-10-13T14:20:24.979Z"
   },
   {
    "duration": 157,
    "start_time": "2021-10-13T14:20:26.975Z"
   },
   {
    "duration": 154,
    "start_time": "2021-10-13T14:20:32.687Z"
   },
   {
    "duration": 155,
    "start_time": "2021-10-13T14:20:34.589Z"
   },
   {
    "duration": 152,
    "start_time": "2021-10-13T14:20:38.000Z"
   },
   {
    "duration": 169,
    "start_time": "2021-10-13T14:20:43.543Z"
   },
   {
    "duration": 248,
    "start_time": "2021-10-13T14:20:51.448Z"
   },
   {
    "duration": 214,
    "start_time": "2021-10-13T14:20:56.527Z"
   },
   {
    "duration": 162,
    "start_time": "2021-10-13T14:20:58.508Z"
   },
   {
    "duration": 161,
    "start_time": "2021-10-13T14:21:02.848Z"
   },
   {
    "duration": 160,
    "start_time": "2021-10-13T14:21:07.279Z"
   },
   {
    "duration": 184,
    "start_time": "2021-10-13T14:21:20.697Z"
   },
   {
    "duration": 173,
    "start_time": "2021-10-13T14:21:32.461Z"
   },
   {
    "duration": 168,
    "start_time": "2021-10-13T14:21:38.033Z"
   },
   {
    "duration": 168,
    "start_time": "2021-10-13T14:21:40.746Z"
   },
   {
    "duration": 167,
    "start_time": "2021-10-13T14:21:43.216Z"
   },
   {
    "duration": 161,
    "start_time": "2021-10-13T14:21:48.516Z"
   },
   {
    "duration": 185,
    "start_time": "2021-10-13T14:21:59.324Z"
   },
   {
    "duration": 172,
    "start_time": "2021-10-13T14:22:04.625Z"
   },
   {
    "duration": 172,
    "start_time": "2021-10-13T14:22:28.152Z"
   },
   {
    "duration": 480,
    "start_time": "2021-10-13T14:22:42.883Z"
   },
   {
    "duration": 311,
    "start_time": "2021-10-13T14:23:01.750Z"
   },
   {
    "duration": 216,
    "start_time": "2021-10-13T14:23:08.910Z"
   },
   {
    "duration": 222,
    "start_time": "2021-10-13T14:23:14.582Z"
   },
   {
    "duration": 191,
    "start_time": "2021-10-13T14:23:17.700Z"
   },
   {
    "duration": 168,
    "start_time": "2021-10-13T14:23:33.719Z"
   },
   {
    "duration": 151,
    "start_time": "2021-10-13T14:23:38.663Z"
   },
   {
    "duration": 144,
    "start_time": "2021-10-13T14:24:15.835Z"
   },
   {
    "duration": 718,
    "start_time": "2021-10-13T14:24:23.804Z"
   },
   {
    "duration": 136,
    "start_time": "2021-10-13T14:24:31.484Z"
   },
   {
    "duration": 135,
    "start_time": "2021-10-13T14:26:42.203Z"
   },
   {
    "duration": 200,
    "start_time": "2021-10-13T14:26:48.077Z"
   },
   {
    "duration": 173,
    "start_time": "2021-10-13T14:27:14.352Z"
   },
   {
    "duration": 182,
    "start_time": "2021-10-13T14:27:40.564Z"
   },
   {
    "duration": 199,
    "start_time": "2021-10-13T14:27:50.517Z"
   },
   {
    "duration": 199,
    "start_time": "2021-10-13T14:27:58.327Z"
   },
   {
    "duration": 217,
    "start_time": "2021-10-13T14:28:02.062Z"
   },
   {
    "duration": 196,
    "start_time": "2021-10-13T14:28:10.947Z"
   },
   {
    "duration": 189,
    "start_time": "2021-10-13T14:29:04.705Z"
   },
   {
    "duration": 205,
    "start_time": "2021-10-13T14:29:12.406Z"
   },
   {
    "duration": 192,
    "start_time": "2021-10-13T14:29:17.752Z"
   },
   {
    "duration": 212,
    "start_time": "2021-10-13T14:29:21.060Z"
   },
   {
    "duration": 153,
    "start_time": "2021-10-13T14:29:32.595Z"
   },
   {
    "duration": 146,
    "start_time": "2021-10-13T14:29:48.530Z"
   },
   {
    "duration": 138,
    "start_time": "2021-10-13T14:29:54.366Z"
   },
   {
    "duration": 145,
    "start_time": "2021-10-13T14:29:59.569Z"
   },
   {
    "duration": 140,
    "start_time": "2021-10-13T14:30:13.638Z"
   },
   {
    "duration": 138,
    "start_time": "2021-10-13T14:30:16.411Z"
   },
   {
    "duration": 158,
    "start_time": "2021-10-13T14:30:42.424Z"
   },
   {
    "duration": 185,
    "start_time": "2021-10-13T14:31:31.041Z"
   },
   {
    "duration": 183,
    "start_time": "2021-10-13T14:32:40.407Z"
   },
   {
    "duration": 207,
    "start_time": "2021-10-13T14:32:55.828Z"
   },
   {
    "duration": 210,
    "start_time": "2021-10-13T14:33:05.608Z"
   },
   {
    "duration": 229,
    "start_time": "2021-10-13T14:33:18.818Z"
   },
   {
    "duration": 211,
    "start_time": "2021-10-13T14:33:29.123Z"
   },
   {
    "duration": 253,
    "start_time": "2021-10-13T14:34:27.180Z"
   },
   {
    "duration": 200,
    "start_time": "2021-10-13T14:34:31.190Z"
   },
   {
    "duration": 345,
    "start_time": "2021-10-13T14:34:38.541Z"
   },
   {
    "duration": 229,
    "start_time": "2021-10-13T14:34:48.281Z"
   },
   {
    "duration": 346,
    "start_time": "2021-10-13T14:36:17.676Z"
   },
   {
    "duration": 1002,
    "start_time": "2021-10-14T07:01:52.095Z"
   },
   {
    "duration": 78,
    "start_time": "2021-10-14T07:01:56.322Z"
   },
   {
    "duration": 882,
    "start_time": "2021-10-14T07:02:13.755Z"
   },
   {
    "duration": 764,
    "start_time": "2021-10-14T07:03:14.629Z"
   },
   {
    "duration": 684,
    "start_time": "2021-10-14T07:03:50.724Z"
   },
   {
    "duration": 622,
    "start_time": "2021-10-14T07:04:37.879Z"
   },
   {
    "duration": 530,
    "start_time": "2021-10-14T07:04:48.372Z"
   },
   {
    "duration": 594,
    "start_time": "2021-10-14T07:05:00.463Z"
   },
   {
    "duration": 650,
    "start_time": "2021-10-14T07:09:32.765Z"
   },
   {
    "duration": 460,
    "start_time": "2021-10-14T07:10:18.258Z"
   },
   {
    "duration": 607,
    "start_time": "2021-10-14T07:10:26.463Z"
   },
   {
    "duration": 449,
    "start_time": "2021-10-14T07:11:00.310Z"
   },
   {
    "duration": 440,
    "start_time": "2021-10-14T07:11:06.339Z"
   },
   {
    "duration": 615,
    "start_time": "2021-10-14T07:11:11.815Z"
   },
   {
    "duration": 523,
    "start_time": "2021-10-14T07:11:15.465Z"
   },
   {
    "duration": 898,
    "start_time": "2021-10-14T07:12:56.956Z"
   },
   {
    "duration": 1102,
    "start_time": "2021-10-14T07:13:08.736Z"
   },
   {
    "duration": 1329,
    "start_time": "2021-10-14T07:13:47.508Z"
   },
   {
    "duration": 1197,
    "start_time": "2021-10-14T07:14:14.780Z"
   },
   {
    "duration": 1084,
    "start_time": "2021-10-14T07:14:23.291Z"
   },
   {
    "duration": 1101,
    "start_time": "2021-10-14T07:14:29.957Z"
   },
   {
    "duration": 1104,
    "start_time": "2021-10-14T07:14:36.076Z"
   },
   {
    "duration": 1032,
    "start_time": "2021-10-14T07:15:16.315Z"
   },
   {
    "duration": 927,
    "start_time": "2021-10-14T07:17:26.021Z"
   },
   {
    "duration": 1275,
    "start_time": "2021-10-14T07:21:01.714Z"
   },
   {
    "duration": 3546,
    "start_time": "2021-10-14T07:22:58.030Z"
   },
   {
    "duration": 3540,
    "start_time": "2021-10-14T07:22:58.040Z"
   },
   {
    "duration": 268,
    "start_time": "2021-10-14T07:23:05.044Z"
   },
   {
    "duration": 73,
    "start_time": "2021-10-14T07:23:08.709Z"
   },
   {
    "duration": 915,
    "start_time": "2021-10-14T07:23:13.157Z"
   },
   {
    "duration": 660,
    "start_time": "2021-10-14T07:23:16.323Z"
   },
   {
    "duration": 921,
    "start_time": "2021-10-14T07:23:27.306Z"
   },
   {
    "duration": 1417,
    "start_time": "2021-10-14T07:23:57.084Z"
   },
   {
    "duration": 1395,
    "start_time": "2021-10-14T07:24:09.202Z"
   },
   {
    "duration": 1393,
    "start_time": "2021-10-14T07:24:15.637Z"
   },
   {
    "duration": 2447,
    "start_time": "2021-10-14T07:27:20.794Z"
   },
   {
    "duration": 2032,
    "start_time": "2021-10-14T07:28:26.044Z"
   },
   {
    "duration": 2061,
    "start_time": "2021-10-14T07:31:04.967Z"
   },
   {
    "duration": 1413,
    "start_time": "2021-10-14T07:31:14.658Z"
   },
   {
    "duration": 2138,
    "start_time": "2021-10-14T07:31:30.189Z"
   },
   {
    "duration": 2015,
    "start_time": "2021-10-14T07:31:50.494Z"
   },
   {
    "duration": 2125,
    "start_time": "2021-10-14T07:32:12.367Z"
   },
   {
    "duration": 2110,
    "start_time": "2021-10-14T07:33:46.550Z"
   },
   {
    "duration": 2296,
    "start_time": "2021-10-14T07:34:11.186Z"
   },
   {
    "duration": 2527,
    "start_time": "2021-10-14T07:34:18.415Z"
   },
   {
    "duration": 2072,
    "start_time": "2021-10-14T07:34:26.511Z"
   },
   {
    "duration": 2033,
    "start_time": "2021-10-14T07:34:46.297Z"
   },
   {
    "duration": 2405,
    "start_time": "2021-10-14T07:35:04.592Z"
   },
   {
    "duration": 2129,
    "start_time": "2021-10-14T07:35:09.441Z"
   },
   {
    "duration": 3093,
    "start_time": "2021-10-14T07:49:49.122Z"
   },
   {
    "duration": 2152,
    "start_time": "2021-10-14T07:50:11.506Z"
   },
   {
    "duration": 2159,
    "start_time": "2021-10-14T07:50:23.801Z"
   },
   {
    "duration": 2438,
    "start_time": "2021-10-14T07:51:22.055Z"
   },
   {
    "duration": 2047,
    "start_time": "2021-10-14T07:55:49.164Z"
   },
   {
    "duration": 2322,
    "start_time": "2021-10-14T07:56:02.299Z"
   },
   {
    "duration": 2173,
    "start_time": "2021-10-14T07:56:08.856Z"
   },
   {
    "duration": 8603,
    "start_time": "2021-10-14T07:56:40.942Z"
   },
   {
    "duration": 8672,
    "start_time": "2021-10-14T07:57:01.145Z"
   },
   {
    "duration": 94,
    "start_time": "2021-10-14T08:04:17.028Z"
   },
   {
    "duration": 87,
    "start_time": "2021-10-14T08:04:24.008Z"
   },
   {
    "duration": 81,
    "start_time": "2021-10-14T08:04:32.650Z"
   },
   {
    "duration": 88,
    "start_time": "2021-10-14T08:04:44.424Z"
   },
   {
    "duration": 8654,
    "start_time": "2021-10-14T08:05:01.498Z"
   },
   {
    "duration": 2008,
    "start_time": "2021-10-14T08:05:57.502Z"
   },
   {
    "duration": 2107,
    "start_time": "2021-10-14T08:06:09.712Z"
   },
   {
    "duration": 2540,
    "start_time": "2021-10-14T08:08:53.799Z"
   },
   {
    "duration": 4077,
    "start_time": "2021-10-14T08:09:09.954Z"
   },
   {
    "duration": 2737,
    "start_time": "2021-10-14T08:09:20.372Z"
   },
   {
    "duration": 2258,
    "start_time": "2021-10-14T08:10:12.317Z"
   },
   {
    "duration": 2154,
    "start_time": "2021-10-14T08:10:22.755Z"
   },
   {
    "duration": 2316,
    "start_time": "2021-10-14T08:11:24.560Z"
   },
   {
    "duration": 2268,
    "start_time": "2021-10-14T08:11:54.476Z"
   },
   {
    "duration": 3277,
    "start_time": "2021-10-14T08:12:13.749Z"
   },
   {
    "duration": 3960,
    "start_time": "2021-10-14T08:12:32.295Z"
   },
   {
    "duration": 3050,
    "start_time": "2021-10-14T08:12:51.794Z"
   },
   {
    "duration": 2692,
    "start_time": "2021-10-14T08:13:06.412Z"
   },
   {
    "duration": 2857,
    "start_time": "2021-10-14T08:13:31.979Z"
   },
   {
    "duration": 2630,
    "start_time": "2021-10-14T08:14:14.746Z"
   },
   {
    "duration": 2852,
    "start_time": "2021-10-14T08:14:25.423Z"
   },
   {
    "duration": 3070,
    "start_time": "2021-10-14T08:14:57.576Z"
   },
   {
    "duration": 2769,
    "start_time": "2021-10-14T08:15:58.494Z"
   },
   {
    "duration": 2926,
    "start_time": "2021-10-14T08:17:07.216Z"
   },
   {
    "duration": 2908,
    "start_time": "2021-10-14T08:17:58.851Z"
   },
   {
    "duration": 2804,
    "start_time": "2021-10-14T08:19:22.717Z"
   },
   {
    "duration": 3019,
    "start_time": "2021-10-14T08:22:18.325Z"
   },
   {
    "duration": 2740,
    "start_time": "2021-10-14T08:24:37.578Z"
   },
   {
    "duration": 2967,
    "start_time": "2021-10-14T08:24:46.500Z"
   },
   {
    "duration": 9564,
    "start_time": "2021-10-14T08:25:42.898Z"
   },
   {
    "duration": 2946,
    "start_time": "2021-10-14T08:26:20.690Z"
   },
   {
    "duration": 2904,
    "start_time": "2021-10-14T09:01:45.617Z"
   },
   {
    "duration": 2915,
    "start_time": "2021-10-14T09:04:30.562Z"
   },
   {
    "duration": 3000,
    "start_time": "2021-10-14T09:05:16.993Z"
   },
   {
    "duration": 2953,
    "start_time": "2021-10-14T09:05:45.002Z"
   },
   {
    "duration": 4976,
    "start_time": "2021-10-14T09:05:55.843Z"
   },
   {
    "duration": 5103,
    "start_time": "2021-10-14T09:07:18.446Z"
   },
   {
    "duration": 276,
    "start_time": "2021-10-14T09:08:16.469Z"
   },
   {
    "duration": 58,
    "start_time": "2021-10-14T09:09:17.763Z"
   },
   {
    "duration": 5836,
    "start_time": "2021-10-14T09:11:15.784Z"
   },
   {
    "duration": 6319,
    "start_time": "2021-10-14T09:11:32.204Z"
   },
   {
    "duration": 6186,
    "start_time": "2021-10-14T09:13:20.233Z"
   },
   {
    "duration": 6310,
    "start_time": "2021-10-14T09:13:55.421Z"
   },
   {
    "duration": 5904,
    "start_time": "2021-10-14T09:14:08.931Z"
   },
   {
    "duration": 6154,
    "start_time": "2021-10-14T09:14:31.906Z"
   },
   {
    "duration": 6281,
    "start_time": "2021-10-14T09:15:38.686Z"
   },
   {
    "duration": 7790,
    "start_time": "2021-10-14T09:15:54.748Z"
   },
   {
    "duration": 6759,
    "start_time": "2021-10-14T09:16:19.142Z"
   },
   {
    "duration": 6445,
    "start_time": "2021-10-14T09:17:15.904Z"
   },
   {
    "duration": 6360,
    "start_time": "2021-10-14T09:19:48.381Z"
   },
   {
    "duration": 6136,
    "start_time": "2021-10-14T09:20:04.260Z"
   },
   {
    "duration": 6042,
    "start_time": "2021-10-14T09:20:17.919Z"
   },
   {
    "duration": 88,
    "start_time": "2021-10-14T09:45:22.768Z"
   },
   {
    "duration": 3116,
    "start_time": "2021-10-14T09:45:28.223Z"
   },
   {
    "duration": 2879,
    "start_time": "2021-10-14T09:45:55.201Z"
   },
   {
    "duration": 3031,
    "start_time": "2021-10-14T09:46:28.408Z"
   },
   {
    "duration": 3002,
    "start_time": "2021-10-14T09:46:33.183Z"
   },
   {
    "duration": 501,
    "start_time": "2021-10-14T09:48:00.357Z"
   },
   {
    "duration": 468,
    "start_time": "2021-10-14T09:48:38.136Z"
   },
   {
    "duration": 500,
    "start_time": "2021-10-14T09:49:21.901Z"
   },
   {
    "duration": 487,
    "start_time": "2021-10-14T09:49:35.437Z"
   },
   {
    "duration": 472,
    "start_time": "2021-10-14T09:49:43.044Z"
   },
   {
    "duration": 504,
    "start_time": "2021-10-14T09:49:51.157Z"
   },
   {
    "duration": 489,
    "start_time": "2021-10-14T09:50:01.272Z"
   },
   {
    "duration": 599,
    "start_time": "2021-10-14T09:50:10.357Z"
   },
   {
    "duration": 485,
    "start_time": "2021-10-14T09:50:31.840Z"
   },
   {
    "duration": 532,
    "start_time": "2021-10-14T09:51:14.003Z"
   },
   {
    "duration": 573,
    "start_time": "2021-10-14T09:51:22.910Z"
   },
   {
    "duration": 582,
    "start_time": "2021-10-14T09:51:39.784Z"
   },
   {
    "duration": 703,
    "start_time": "2021-10-14T09:51:55.670Z"
   },
   {
    "duration": 487,
    "start_time": "2021-10-14T09:52:26.400Z"
   },
   {
    "duration": 584,
    "start_time": "2021-10-14T09:53:46.067Z"
   },
   {
    "duration": 489,
    "start_time": "2021-10-14T09:53:53.778Z"
   },
   {
    "duration": 490,
    "start_time": "2021-10-14T09:54:02.260Z"
   },
   {
    "duration": 475,
    "start_time": "2021-10-14T09:54:10.729Z"
   },
   {
    "duration": 471,
    "start_time": "2021-10-14T09:54:30.121Z"
   },
   {
    "duration": 582,
    "start_time": "2021-10-14T09:55:12.201Z"
   },
   {
    "duration": 483,
    "start_time": "2021-10-14T09:56:38.204Z"
   },
   {
    "duration": 466,
    "start_time": "2021-10-14T09:56:46.066Z"
   },
   {
    "duration": 495,
    "start_time": "2021-10-14T09:56:52.676Z"
   },
   {
    "duration": 660,
    "start_time": "2021-10-14T09:56:59.304Z"
   },
   {
    "duration": 480,
    "start_time": "2021-10-14T09:57:06.487Z"
   },
   {
    "duration": 544,
    "start_time": "2021-10-14T09:57:31.706Z"
   },
   {
    "duration": 585,
    "start_time": "2021-10-14T09:57:41.459Z"
   },
   {
    "duration": 494,
    "start_time": "2021-10-14T09:58:38.177Z"
   },
   {
    "duration": 602,
    "start_time": "2021-10-14T10:00:47.827Z"
   },
   {
    "duration": 585,
    "start_time": "2021-10-14T10:00:55.136Z"
   },
   {
    "duration": 602,
    "start_time": "2021-10-14T10:01:05.660Z"
   },
   {
    "duration": 616,
    "start_time": "2021-10-14T10:01:20.206Z"
   },
   {
    "duration": 607,
    "start_time": "2021-10-14T10:01:39.633Z"
   },
   {
    "duration": 581,
    "start_time": "2021-10-14T10:02:33.728Z"
   },
   {
    "duration": 617,
    "start_time": "2021-10-14T10:02:49.968Z"
   },
   {
    "duration": 556,
    "start_time": "2021-10-14T10:03:00.511Z"
   },
   {
    "duration": 670,
    "start_time": "2021-10-14T10:03:19.404Z"
   },
   {
    "duration": 599,
    "start_time": "2021-10-14T10:03:27.750Z"
   },
   {
    "duration": 1919,
    "start_time": "2021-10-14T14:02:15.992Z"
   },
   {
    "duration": 78,
    "start_time": "2021-10-14T14:02:21.167Z"
   },
   {
    "duration": 971,
    "start_time": "2021-10-14T14:02:27.624Z"
   },
   {
    "duration": 840,
    "start_time": "2021-10-14T14:02:34.825Z"
   },
   {
    "duration": 2909,
    "start_time": "2021-10-14T14:03:04.870Z"
   },
   {
    "duration": 637,
    "start_time": "2021-10-14T14:03:28.096Z"
   },
   {
    "duration": 801,
    "start_time": "2021-10-14T14:03:31.721Z"
   },
   {
    "duration": 566,
    "start_time": "2021-10-14T14:03:47.306Z"
   },
   {
    "duration": 655,
    "start_time": "2021-10-14T14:04:01.616Z"
   },
   {
    "duration": 550,
    "start_time": "2021-10-14T14:04:15.811Z"
   },
   {
    "duration": 488,
    "start_time": "2021-10-14T14:04:32.477Z"
   },
   {
    "duration": 559,
    "start_time": "2021-10-14T14:05:01.359Z"
   },
   {
    "duration": 479,
    "start_time": "2021-10-14T14:05:13.945Z"
   },
   {
    "duration": 563,
    "start_time": "2021-10-14T14:05:36.429Z"
   },
   {
    "duration": 488,
    "start_time": "2021-10-14T14:06:09.361Z"
   },
   {
    "duration": 3552,
    "start_time": "2021-10-14T14:06:47.283Z"
   },
   {
    "duration": 3500,
    "start_time": "2021-10-14T14:07:09.727Z"
   },
   {
    "duration": 497,
    "start_time": "2021-10-14T14:08:26.417Z"
   },
   {
    "duration": 615,
    "start_time": "2021-10-14T14:09:32.597Z"
   },
   {
    "duration": 74,
    "start_time": "2021-10-14T14:10:40.638Z"
   },
   {
    "duration": 746,
    "start_time": "2021-10-14T14:11:05.634Z"
   },
   {
    "duration": 922,
    "start_time": "2021-10-14T14:11:24.014Z"
   },
   {
    "duration": 975,
    "start_time": "2021-10-14T14:11:35.250Z"
   },
   {
    "duration": 917,
    "start_time": "2021-10-14T14:11:42.820Z"
   },
   {
    "duration": 927,
    "start_time": "2021-10-14T14:11:54.112Z"
   },
   {
    "duration": 913,
    "start_time": "2021-10-14T14:12:02.060Z"
   },
   {
    "duration": 1388,
    "start_time": "2021-10-14T14:12:49.774Z"
   },
   {
    "duration": 1230,
    "start_time": "2021-10-14T14:13:17.443Z"
   },
   {
    "duration": 1413,
    "start_time": "2021-10-14T14:13:37.701Z"
   },
   {
    "duration": 1434,
    "start_time": "2021-10-14T14:13:45.783Z"
   },
   {
    "duration": 990,
    "start_time": "2021-10-14T14:14:00.812Z"
   },
   {
    "duration": 967,
    "start_time": "2021-10-14T14:14:09.569Z"
   },
   {
    "duration": 1029,
    "start_time": "2021-10-14T14:14:19.382Z"
   },
   {
    "duration": 1474,
    "start_time": "2021-10-14T14:14:30.593Z"
   },
   {
    "duration": 1430,
    "start_time": "2021-10-14T14:14:41.157Z"
   },
   {
    "duration": 1382,
    "start_time": "2021-10-14T14:14:48.839Z"
   },
   {
    "duration": 2162,
    "start_time": "2021-10-14T14:15:19.964Z"
   },
   {
    "duration": 2097,
    "start_time": "2021-10-14T14:15:56.759Z"
   },
   {
    "duration": 2249,
    "start_time": "2021-10-14T14:16:17.092Z"
   },
   {
    "duration": 2270,
    "start_time": "2021-10-14T14:16:38.142Z"
   },
   {
    "duration": 2147,
    "start_time": "2021-10-14T14:17:17.495Z"
   },
   {
    "duration": 2168,
    "start_time": "2021-10-14T14:17:38.955Z"
   },
   {
    "duration": 767,
    "start_time": "2021-10-14T14:17:53.744Z"
   },
   {
    "duration": 568,
    "start_time": "2021-10-14T14:18:06.308Z"
   },
   {
    "duration": 2085,
    "start_time": "2021-10-14T14:18:16.543Z"
   },
   {
    "duration": 10766,
    "start_time": "2021-10-14T14:21:47.757Z"
   },
   {
    "duration": 15114,
    "start_time": "2021-10-14T14:21:59.849Z"
   },
   {
    "duration": 773,
    "start_time": "2021-10-14T14:22:35.162Z"
   },
   {
    "duration": 2258,
    "start_time": "2021-10-14T14:22:39.880Z"
   },
   {
    "duration": 3166,
    "start_time": "2021-10-14T14:22:50.346Z"
   },
   {
    "duration": 2697,
    "start_time": "2021-10-14T14:23:25.183Z"
   },
   {
    "duration": 4026,
    "start_time": "2021-10-14T14:23:37.284Z"
   },
   {
    "duration": 3069,
    "start_time": "2021-10-14T14:24:03.661Z"
   },
   {
    "duration": 2986,
    "start_time": "2021-10-14T14:24:20.076Z"
   },
   {
    "duration": 3197,
    "start_time": "2021-10-14T14:24:33.873Z"
   },
   {
    "duration": 2928,
    "start_time": "2021-10-14T14:24:45.144Z"
   },
   {
    "duration": 3115,
    "start_time": "2021-10-14T14:27:26.605Z"
   },
   {
    "duration": 3566,
    "start_time": "2021-10-14T14:27:41.627Z"
   },
   {
    "duration": 2923,
    "start_time": "2021-10-14T14:28:56.267Z"
   },
   {
    "duration": 3050,
    "start_time": "2021-10-14T14:29:03.314Z"
   },
   {
    "duration": 3096,
    "start_time": "2021-10-14T14:29:37.261Z"
   },
   {
    "duration": 2855,
    "start_time": "2021-10-14T14:29:43.836Z"
   },
   {
    "duration": 3069,
    "start_time": "2021-10-14T14:29:51.706Z"
   },
   {
    "duration": 3147,
    "start_time": "2021-10-14T14:30:34.971Z"
   },
   {
    "duration": 2990,
    "start_time": "2021-10-14T14:31:22.103Z"
   },
   {
    "duration": 3134,
    "start_time": "2021-10-14T14:31:38.120Z"
   },
   {
    "duration": 3005,
    "start_time": "2021-10-14T14:49:09.288Z"
   },
   {
    "duration": 3284,
    "start_time": "2021-10-14T14:49:21.343Z"
   },
   {
    "duration": 3180,
    "start_time": "2021-10-14T14:49:45.699Z"
   },
   {
    "duration": 3323,
    "start_time": "2021-10-14T14:50:32.592Z"
   },
   {
    "duration": 3109,
    "start_time": "2021-10-14T14:50:44.317Z"
   },
   {
    "duration": 3279,
    "start_time": "2021-10-14T14:51:33.207Z"
   },
   {
    "duration": 3144,
    "start_time": "2021-10-14T14:52:54.025Z"
   },
   {
    "duration": 3151,
    "start_time": "2021-10-14T14:53:29.097Z"
   },
   {
    "duration": 3181,
    "start_time": "2021-10-14T14:58:22.451Z"
   },
   {
    "duration": 3077,
    "start_time": "2021-10-14T14:58:33.359Z"
   },
   {
    "duration": 3200,
    "start_time": "2021-10-14T14:59:33.824Z"
   },
   {
    "duration": 3245,
    "start_time": "2021-10-14T15:00:52.052Z"
   },
   {
    "duration": 3720,
    "start_time": "2021-10-14T15:01:30.164Z"
   },
   {
    "duration": 3266,
    "start_time": "2021-10-14T15:01:44.972Z"
   },
   {
    "duration": 3143,
    "start_time": "2021-10-14T15:02:29.195Z"
   },
   {
    "duration": 3265,
    "start_time": "2021-10-14T15:04:02.328Z"
   },
   {
    "duration": 4510,
    "start_time": "2021-10-14T15:04:34.586Z"
   },
   {
    "duration": 3395,
    "start_time": "2021-10-14T15:30:09.670Z"
   },
   {
    "duration": 3352,
    "start_time": "2021-10-14T15:30:22.614Z"
   },
   {
    "duration": 3097,
    "start_time": "2021-10-14T15:30:48.036Z"
   },
   {
    "duration": 3326,
    "start_time": "2021-10-14T15:35:48.974Z"
   },
   {
    "duration": 3575,
    "start_time": "2021-10-14T15:39:12.833Z"
   },
   {
    "duration": 3488,
    "start_time": "2021-10-14T15:40:43.215Z"
   },
   {
    "duration": 3506,
    "start_time": "2021-10-14T15:41:07.886Z"
   },
   {
    "duration": 3220,
    "start_time": "2021-10-14T15:43:02.694Z"
   },
   {
    "duration": 3814,
    "start_time": "2021-10-14T15:43:19.276Z"
   },
   {
    "duration": 4068,
    "start_time": "2021-10-14T15:44:37.020Z"
   },
   {
    "duration": 119,
    "start_time": "2021-10-14T15:45:11.404Z"
   },
   {
    "duration": 3799,
    "start_time": "2021-10-14T15:45:14.054Z"
   },
   {
    "duration": 4144,
    "start_time": "2021-10-14T15:45:26.761Z"
   },
   {
    "duration": 4423,
    "start_time": "2021-10-14T15:46:11.613Z"
   },
   {
    "duration": 4121,
    "start_time": "2021-10-14T15:46:24.395Z"
   },
   {
    "duration": 4065,
    "start_time": "2021-10-14T15:47:30.127Z"
   },
   {
    "duration": 4225,
    "start_time": "2021-10-14T15:47:42.944Z"
   },
   {
    "duration": 4064,
    "start_time": "2021-10-14T15:48:43.119Z"
   },
   {
    "duration": 4023,
    "start_time": "2021-10-14T15:49:00.058Z"
   },
   {
    "duration": 4114,
    "start_time": "2021-10-14T15:49:54.493Z"
   },
   {
    "duration": 3178,
    "start_time": "2021-10-14T15:55:26.683Z"
   },
   {
    "duration": 3975,
    "start_time": "2021-10-14T15:57:32.561Z"
   },
   {
    "duration": 760,
    "start_time": "2021-10-14T15:57:45.689Z"
   },
   {
    "duration": 3717,
    "start_time": "2021-10-14T15:57:54.357Z"
   },
   {
    "duration": 4079,
    "start_time": "2021-10-14T15:58:09.716Z"
   },
   {
    "duration": 3750,
    "start_time": "2021-10-14T15:58:27.219Z"
   },
   {
    "duration": 3950,
    "start_time": "2021-10-14T15:58:54.261Z"
   },
   {
    "duration": 3870,
    "start_time": "2021-10-14T15:59:27.737Z"
   },
   {
    "duration": 3856,
    "start_time": "2021-10-14T15:59:42.177Z"
   },
   {
    "duration": 4179,
    "start_time": "2021-10-14T16:00:09.503Z"
   },
   {
    "duration": 3825,
    "start_time": "2021-10-14T16:00:48.400Z"
   },
   {
    "duration": 4230,
    "start_time": "2021-10-14T16:01:11.752Z"
   },
   {
    "duration": 3827,
    "start_time": "2021-10-14T16:01:24.741Z"
   },
   {
    "duration": 4020,
    "start_time": "2021-10-14T16:02:45.815Z"
   },
   {
    "duration": 3790,
    "start_time": "2021-10-14T16:04:42.811Z"
   },
   {
    "duration": 4037,
    "start_time": "2021-10-14T16:05:17.307Z"
   },
   {
    "duration": 3866,
    "start_time": "2021-10-14T16:05:47.427Z"
   },
   {
    "duration": 4247,
    "start_time": "2021-10-14T16:06:14.018Z"
   },
   {
    "duration": 3919,
    "start_time": "2021-10-14T16:06:28.722Z"
   },
   {
    "duration": 793,
    "start_time": "2021-10-15T06:49:16.777Z"
   },
   {
    "duration": 62,
    "start_time": "2021-10-15T06:49:22.112Z"
   },
   {
    "duration": 593,
    "start_time": "2021-10-15T06:49:28.659Z"
   },
   {
    "duration": 443,
    "start_time": "2021-10-15T06:49:33.729Z"
   },
   {
    "duration": 2326,
    "start_time": "2021-10-15T06:59:16.348Z"
   },
   {
    "duration": 2471,
    "start_time": "2021-10-15T07:01:06.776Z"
   },
   {
    "duration": 6868,
    "start_time": "2021-10-15T07:02:07.023Z"
   },
   {
    "duration": 8765,
    "start_time": "2021-10-15T07:02:27.662Z"
   },
   {
    "duration": 301,
    "start_time": "2021-10-15T07:02:47.633Z"
   },
   {
    "duration": 159,
    "start_time": "2021-10-15T07:03:13.160Z"
   },
   {
    "duration": 53,
    "start_time": "2021-10-15T07:03:13.321Z"
   },
   {
    "duration": 509,
    "start_time": "2021-10-15T07:03:13.376Z"
   },
   {
    "duration": 360,
    "start_time": "2021-10-15T07:03:13.886Z"
   },
   {
    "duration": 2496,
    "start_time": "2021-10-15T07:03:14.248Z"
   },
   {
    "duration": 6991,
    "start_time": "2021-10-15T07:03:34.803Z"
   },
   {
    "duration": 163,
    "start_time": "2021-10-15T07:03:51.793Z"
   },
   {
    "duration": 8168,
    "start_time": "2021-10-15T07:04:04.882Z"
   },
   {
    "duration": 8727,
    "start_time": "2021-10-15T07:04:29.805Z"
   },
   {
    "duration": 245,
    "start_time": "2021-10-15T07:04:47.538Z"
   },
   {
    "duration": 174,
    "start_time": "2021-10-15T07:05:09.756Z"
   },
   {
    "duration": 53,
    "start_time": "2021-10-15T07:05:13.779Z"
   },
   {
    "duration": 527,
    "start_time": "2021-10-15T07:05:17.902Z"
   },
   {
    "duration": 361,
    "start_time": "2021-10-15T07:05:22.442Z"
   },
   {
    "duration": 2569,
    "start_time": "2021-10-15T07:05:27.695Z"
   },
   {
    "duration": 2493,
    "start_time": "2021-10-15T07:05:41.329Z"
   },
   {
    "duration": 2559,
    "start_time": "2021-10-15T07:11:53.214Z"
   },
   {
    "duration": 2566,
    "start_time": "2021-10-15T07:12:34.114Z"
   },
   {
    "duration": 236,
    "start_time": "2021-10-15T07:16:06.799Z"
   },
   {
    "duration": 249,
    "start_time": "2021-10-15T07:16:20.565Z"
   },
   {
    "duration": 709,
    "start_time": "2021-10-15T07:17:01.784Z"
   },
   {
    "duration": 2014,
    "start_time": "2021-10-15T07:19:12.653Z"
   },
   {
    "duration": 968,
    "start_time": "2021-10-15T07:19:50.451Z"
   },
   {
    "duration": 704,
    "start_time": "2021-10-15T07:22:01.883Z"
   },
   {
    "duration": 716,
    "start_time": "2021-10-15T07:22:56.121Z"
   },
   {
    "duration": 691,
    "start_time": "2021-10-15T07:23:11.004Z"
   },
   {
    "duration": 859,
    "start_time": "2021-10-15T07:25:11.804Z"
   },
   {
    "duration": 834,
    "start_time": "2021-10-15T07:27:52.789Z"
   },
   {
    "duration": 41,
    "start_time": "2021-10-15T07:31:54.693Z"
   },
   {
    "duration": 1995,
    "start_time": "2021-10-15T07:32:47.539Z"
   },
   {
    "duration": 2194,
    "start_time": "2021-10-15T07:33:04.202Z"
   },
   {
    "duration": 1944,
    "start_time": "2021-10-15T07:33:39.867Z"
   },
   {
    "duration": 721,
    "start_time": "2021-10-15T07:34:11.646Z"
   },
   {
    "duration": 38,
    "start_time": "2021-10-15T07:36:01.904Z"
   },
   {
    "duration": 2238,
    "start_time": "2021-10-15T07:36:20.339Z"
   },
   {
    "duration": 779,
    "start_time": "2021-10-15T07:37:18.095Z"
   },
   {
    "duration": 1783,
    "start_time": "2021-10-15T07:40:22.635Z"
   },
   {
    "duration": 1908,
    "start_time": "2021-10-15T07:40:44.989Z"
   },
   {
    "duration": 1711,
    "start_time": "2021-10-15T07:41:02.686Z"
   },
   {
    "duration": 1797,
    "start_time": "2021-10-15T07:41:18.973Z"
   },
   {
    "duration": 1761,
    "start_time": "2021-10-15T07:41:40.680Z"
   },
   {
    "duration": 1903,
    "start_time": "2021-10-15T07:47:32.054Z"
   },
   {
    "duration": 1816,
    "start_time": "2021-10-15T07:56:33.386Z"
   },
   {
    "duration": 1042,
    "start_time": "2021-10-15T08:01:55.084Z"
   },
   {
    "duration": 1990,
    "start_time": "2021-10-15T08:02:14.820Z"
   },
   {
    "duration": 1932,
    "start_time": "2021-10-15T08:02:55.625Z"
   },
   {
    "duration": 1982,
    "start_time": "2021-10-15T08:03:46.199Z"
   },
   {
    "duration": 1793,
    "start_time": "2021-10-15T08:04:49.961Z"
   },
   {
    "duration": 1802,
    "start_time": "2021-10-15T08:05:08.022Z"
   },
   {
    "duration": 1914,
    "start_time": "2021-10-15T08:05:22.382Z"
   },
   {
    "duration": 82,
    "start_time": "2021-10-15T08:07:57.833Z"
   },
   {
    "duration": 1222,
    "start_time": "2021-10-15T08:08:03.979Z"
   },
   {
    "duration": 769,
    "start_time": "2021-10-15T08:08:21.665Z"
   },
   {
    "duration": 762,
    "start_time": "2021-10-15T08:08:56.411Z"
   },
   {
    "duration": 801,
    "start_time": "2021-10-15T08:09:02.093Z"
   },
   {
    "duration": 1075,
    "start_time": "2021-10-15T08:09:34.251Z"
   },
   {
    "duration": 752,
    "start_time": "2021-10-15T08:09:43.454Z"
   },
   {
    "duration": 799,
    "start_time": "2021-10-15T08:09:54.612Z"
   },
   {
    "duration": 774,
    "start_time": "2021-10-15T08:11:23.577Z"
   },
   {
    "duration": 1027,
    "start_time": "2021-10-15T08:16:06.474Z"
   },
   {
    "duration": 1154,
    "start_time": "2021-10-15T08:16:26.763Z"
   },
   {
    "duration": 1044,
    "start_time": "2021-10-15T08:16:34.532Z"
   },
   {
    "duration": 1298,
    "start_time": "2021-10-15T08:17:21.854Z"
   },
   {
    "duration": 1095,
    "start_time": "2021-10-15T08:17:37.006Z"
   },
   {
    "duration": 1255,
    "start_time": "2021-10-15T08:18:06.943Z"
   },
   {
    "duration": 1518,
    "start_time": "2021-10-15T08:19:52.556Z"
   },
   {
    "duration": 1609,
    "start_time": "2021-10-15T08:20:12.083Z"
   },
   {
    "duration": 1694,
    "start_time": "2021-10-15T08:20:37.271Z"
   },
   {
    "duration": 1791,
    "start_time": "2021-10-15T08:21:37.916Z"
   },
   {
    "duration": 1695,
    "start_time": "2021-10-15T08:21:57.711Z"
   },
   {
    "duration": 1777,
    "start_time": "2021-10-15T08:23:48.967Z"
   },
   {
    "duration": 2115,
    "start_time": "2021-10-15T08:25:27.842Z"
   },
   {
    "duration": 1985,
    "start_time": "2021-10-15T08:25:54.753Z"
   },
   {
    "duration": 2052,
    "start_time": "2021-10-15T08:26:06.620Z"
   },
   {
    "duration": 2026,
    "start_time": "2021-10-15T08:28:06.230Z"
   },
   {
    "duration": 94,
    "start_time": "2021-10-15T08:34:47.090Z"
   },
   {
    "duration": 2395,
    "start_time": "2021-10-15T08:35:00.034Z"
   },
   {
    "duration": 2123,
    "start_time": "2021-10-15T08:36:19.541Z"
   },
   {
    "duration": 2263,
    "start_time": "2021-10-15T08:36:49.500Z"
   },
   {
    "duration": 474,
    "start_time": "2021-10-15T09:05:38.624Z"
   },
   {
    "duration": 473,
    "start_time": "2021-10-15T09:05:59.768Z"
   },
   {
    "duration": 478,
    "start_time": "2021-10-15T09:06:17.831Z"
   },
   {
    "duration": 567,
    "start_time": "2021-10-15T09:06:27.656Z"
   },
   {
    "duration": 492,
    "start_time": "2021-10-15T09:07:19.360Z"
   },
   {
    "duration": 507,
    "start_time": "2021-10-15T09:09:11.228Z"
   },
   {
    "duration": 723,
    "start_time": "2021-10-16T06:07:04.184Z"
   },
   {
    "duration": 47,
    "start_time": "2021-10-16T06:07:04.908Z"
   },
   {
    "duration": 528,
    "start_time": "2021-10-16T06:07:04.956Z"
   },
   {
    "duration": 430,
    "start_time": "2021-10-16T06:07:05.490Z"
   },
   {
    "duration": 1690,
    "start_time": "2021-10-16T06:07:05.922Z"
   },
   {
    "duration": 2088,
    "start_time": "2021-10-16T06:07:07.613Z"
   },
   {
    "duration": 679,
    "start_time": "2021-10-16T06:39:49.148Z"
   },
   {
    "duration": 50,
    "start_time": "2021-10-16T06:39:49.828Z"
   },
   {
    "duration": 524,
    "start_time": "2021-10-16T06:39:49.894Z"
   },
   {
    "duration": 439,
    "start_time": "2021-10-16T06:39:50.420Z"
   },
   {
    "duration": 1733,
    "start_time": "2021-10-16T06:39:50.860Z"
   },
   {
    "duration": 2152,
    "start_time": "2021-10-16T06:39:52.594Z"
   },
   {
    "duration": 89,
    "start_time": "2021-10-17T09:06:22.011Z"
   },
   {
    "duration": 75,
    "start_time": "2021-10-17T09:06:38.703Z"
   },
   {
    "duration": 78,
    "start_time": "2021-10-17T09:07:18.121Z"
   },
   {
    "duration": 90,
    "start_time": "2021-10-17T09:07:22.283Z"
   },
   {
    "duration": 109,
    "start_time": "2021-10-17T09:07:55.846Z"
   },
   {
    "duration": 399,
    "start_time": "2021-10-17T09:08:01.776Z"
   },
   {
    "duration": 80,
    "start_time": "2021-10-17T09:08:12.777Z"
   },
   {
    "duration": 4,
    "start_time": "2021-10-17T09:08:12.855Z"
   },
   {
    "duration": 4,
    "start_time": "2021-10-17T09:08:12.857Z"
   },
   {
    "duration": 3,
    "start_time": "2021-10-17T09:08:12.859Z"
   },
   {
    "duration": -16,
    "start_time": "2021-10-17T09:08:12.879Z"
   },
   {
    "duration": -21,
    "start_time": "2021-10-17T09:08:12.885Z"
   },
   {
    "duration": -23,
    "start_time": "2021-10-17T09:08:12.888Z"
   },
   {
    "duration": 82,
    "start_time": "2021-10-17T09:09:13.100Z"
   },
   {
    "duration": 86,
    "start_time": "2021-10-17T09:09:49.436Z"
   },
   {
    "duration": 785,
    "start_time": "2021-10-17T09:10:12.964Z"
   },
   {
    "duration": 290,
    "start_time": "2021-10-17T09:10:46.288Z"
   },
   {
    "duration": 28,
    "start_time": "2021-10-17T09:11:01.651Z"
   },
   {
    "duration": 26,
    "start_time": "2021-10-17T09:11:08.563Z"
   },
   {
    "duration": 15,
    "start_time": "2021-10-17T09:32:28.177Z"
   },
   {
    "duration": 278,
    "start_time": "2021-10-17T09:33:57.980Z"
   },
   {
    "duration": 28,
    "start_time": "2021-10-17T09:35:10.982Z"
   },
   {
    "duration": 18,
    "start_time": "2021-10-17T09:35:59.531Z"
   },
   {
    "duration": 14,
    "start_time": "2021-10-17T09:39:29.011Z"
   },
   {
    "duration": 14,
    "start_time": "2021-10-17T09:39:58.134Z"
   },
   {
    "duration": 16,
    "start_time": "2021-10-17T09:42:29.428Z"
   },
   {
    "duration": 25,
    "start_time": "2021-10-17T09:42:36.866Z"
   },
   {
    "duration": 14,
    "start_time": "2021-10-17T09:43:45.280Z"
   },
   {
    "duration": 174,
    "start_time": "2021-10-17T09:43:53.016Z"
   },
   {
    "duration": 25,
    "start_time": "2021-10-17T09:43:53.191Z"
   },
   {
    "duration": 22,
    "start_time": "2021-10-17T09:43:53.218Z"
   },
   {
    "duration": 49,
    "start_time": "2021-10-17T09:43:53.242Z"
   },
   {
    "duration": 530,
    "start_time": "2021-10-17T09:43:53.293Z"
   },
   {
    "duration": 474,
    "start_time": "2021-10-17T09:43:53.824Z"
   },
   {
    "duration": 1819,
    "start_time": "2021-10-17T09:43:54.300Z"
   },
   {
    "duration": 2373,
    "start_time": "2021-10-17T09:43:56.121Z"
   },
   {
    "duration": 17,
    "start_time": "2021-10-17T10:11:41.984Z"
   },
   {
    "duration": 23,
    "start_time": "2021-10-17T10:13:34.009Z"
   },
   {
    "duration": 480,
    "start_time": "2021-10-17T10:28:02.739Z"
   },
   {
    "duration": 159,
    "start_time": "2021-10-17T10:31:53.337Z"
   },
   {
    "duration": 360,
    "start_time": "2021-10-17T10:32:00.132Z"
   },
   {
    "duration": 273,
    "start_time": "2021-10-17T10:32:14.241Z"
   },
   {
    "duration": 258,
    "start_time": "2021-10-17T10:32:23.698Z"
   },
   {
    "duration": 348,
    "start_time": "2021-10-17T10:32:37.087Z"
   },
   {
    "duration": 260,
    "start_time": "2021-10-17T10:32:47.241Z"
   },
   {
    "duration": 178,
    "start_time": "2021-10-17T10:32:52.496Z"
   },
   {
    "duration": 225,
    "start_time": "2021-10-17T10:32:57.855Z"
   },
   {
    "duration": 235,
    "start_time": "2021-10-17T10:33:05.905Z"
   },
   {
    "duration": 271,
    "start_time": "2021-10-17T10:33:28.414Z"
   },
   {
    "duration": 187,
    "start_time": "2021-10-17T10:33:41.859Z"
   },
   {
    "duration": 188,
    "start_time": "2021-10-17T10:34:01.957Z"
   },
   {
    "duration": 264,
    "start_time": "2021-10-17T10:34:17.519Z"
   },
   {
    "duration": 191,
    "start_time": "2021-10-17T10:34:25.928Z"
   },
   {
    "duration": 169,
    "start_time": "2021-10-17T10:35:41.156Z"
   },
   {
    "duration": 191,
    "start_time": "2021-10-17T10:37:38.922Z"
   },
   {
    "duration": 185,
    "start_time": "2021-10-17T10:37:49.500Z"
   },
   {
    "duration": 188,
    "start_time": "2021-10-17T10:37:55.274Z"
   },
   {
    "duration": 191,
    "start_time": "2021-10-17T10:38:01.743Z"
   },
   {
    "duration": 178,
    "start_time": "2021-10-17T10:38:28.942Z"
   },
   {
    "duration": 166,
    "start_time": "2021-10-17T10:38:53.184Z"
   },
   {
    "duration": 8,
    "start_time": "2021-10-17T10:39:17.412Z"
   },
   {
    "duration": 7,
    "start_time": "2021-10-17T10:39:34.898Z"
   },
   {
    "duration": 146,
    "start_time": "2021-10-17T10:39:52.567Z"
   },
   {
    "duration": 130,
    "start_time": "2021-10-17T10:40:19.081Z"
   },
   {
    "duration": 258,
    "start_time": "2021-10-17T10:52:45.186Z"
   },
   {
    "duration": 276,
    "start_time": "2021-10-17T10:53:53.597Z"
   },
   {
    "duration": 533,
    "start_time": "2021-10-17T10:54:04.306Z"
   },
   {
    "duration": 234,
    "start_time": "2021-10-17T10:55:13.063Z"
   },
   {
    "duration": 138,
    "start_time": "2021-10-17T10:56:50.520Z"
   },
   {
    "duration": 142,
    "start_time": "2021-10-17T10:56:56.891Z"
   },
   {
    "duration": 173,
    "start_time": "2021-10-17T10:59:11.110Z"
   },
   {
    "duration": 176,
    "start_time": "2021-10-17T10:59:35.723Z"
   },
   {
    "duration": 177,
    "start_time": "2021-10-17T10:59:41.840Z"
   },
   {
    "duration": 180,
    "start_time": "2021-10-17T11:00:36.327Z"
   },
   {
    "duration": 1106,
    "start_time": "2021-10-17T11:01:56.633Z"
   },
   {
    "duration": 9,
    "start_time": "2021-10-17T11:02:35.155Z"
   },
   {
    "duration": 180,
    "start_time": "2021-10-17T11:03:08.191Z"
   },
   {
    "duration": 213,
    "start_time": "2021-10-17T11:03:39.126Z"
   },
   {
    "duration": 210,
    "start_time": "2021-10-17T11:04:13.384Z"
   },
   {
    "duration": 185,
    "start_time": "2021-10-17T11:10:49.454Z"
   },
   {
    "duration": 285,
    "start_time": "2021-10-17T11:12:51.659Z"
   },
   {
    "duration": 296,
    "start_time": "2021-10-17T11:12:58.134Z"
   },
   {
    "duration": 516,
    "start_time": "2021-10-17T11:13:09.013Z"
   },
   {
    "duration": 420,
    "start_time": "2021-10-17T11:13:47.863Z"
   },
   {
    "duration": 520,
    "start_time": "2021-10-17T11:13:58.530Z"
   },
   {
    "duration": 527,
    "start_time": "2021-10-17T11:14:05.800Z"
   },
   {
    "duration": 490,
    "start_time": "2021-10-17T11:14:11.339Z"
   },
   {
    "duration": 511,
    "start_time": "2021-10-17T11:16:18.465Z"
   },
   {
    "duration": 1124,
    "start_time": "2021-10-18T10:00:31.656Z"
   },
   {
    "duration": 39,
    "start_time": "2021-10-18T10:00:37.435Z"
   },
   {
    "duration": 33,
    "start_time": "2021-10-18T10:00:42.836Z"
   },
   {
    "duration": 43,
    "start_time": "2021-10-18T10:00:56.906Z"
   },
   {
    "duration": 20,
    "start_time": "2021-10-18T10:01:35.917Z"
   },
   {
    "duration": 31,
    "start_time": "2021-10-18T10:01:45.329Z"
   },
   {
    "duration": 4,
    "start_time": "2021-10-18T10:13:17.523Z"
   },
   {
    "duration": 1731,
    "start_time": "2021-10-18T10:17:41.230Z"
   },
   {
    "duration": 8646,
    "start_time": "2021-10-18T10:18:41.865Z"
   },
   {
    "duration": 642,
    "start_time": "2021-10-18T10:20:16.822Z"
   },
   {
    "duration": 7739,
    "start_time": "2021-10-18T10:21:07.007Z"
   },
   {
    "duration": 2123,
    "start_time": "2021-10-18T10:21:12.626Z"
   },
   {
    "duration": 782,
    "start_time": "2021-10-18T10:21:41.472Z"
   },
   {
    "duration": 543,
    "start_time": "2021-10-18T10:23:52.724Z"
   },
   {
    "duration": 582,
    "start_time": "2021-10-18T10:24:25.784Z"
   },
   {
    "duration": 309,
    "start_time": "2021-10-18T10:24:51.655Z"
   },
   {
    "duration": 1193,
    "start_time": "2021-10-18T10:25:05.703Z"
   },
   {
    "duration": 331,
    "start_time": "2021-10-18T10:25:23.548Z"
   },
   {
    "duration": 223,
    "start_time": "2021-10-18T10:25:30.960Z"
   },
   {
    "duration": 221,
    "start_time": "2021-10-18T10:26:48.648Z"
   },
   {
    "duration": 306,
    "start_time": "2021-10-18T10:27:23.619Z"
   },
   {
    "duration": 216,
    "start_time": "2021-10-18T10:27:31.637Z"
   },
   {
    "duration": 214,
    "start_time": "2021-10-18T10:27:42.826Z"
   },
   {
    "duration": 296,
    "start_time": "2021-10-18T10:27:46.717Z"
   },
   {
    "duration": 221,
    "start_time": "2021-10-18T10:27:51.048Z"
   },
   {
    "duration": 258,
    "start_time": "2021-10-18T10:27:56.108Z"
   },
   {
    "duration": 336,
    "start_time": "2021-10-18T10:28:04.839Z"
   },
   {
    "duration": 313,
    "start_time": "2021-10-18T10:28:09.323Z"
   },
   {
    "duration": 316,
    "start_time": "2021-10-18T10:28:36.582Z"
   },
   {
    "duration": 317,
    "start_time": "2021-10-18T10:28:42.418Z"
   },
   {
    "duration": 300,
    "start_time": "2021-10-18T10:29:08.105Z"
   },
   {
    "duration": 325,
    "start_time": "2021-10-18T10:29:25.600Z"
   },
   {
    "duration": 233,
    "start_time": "2021-10-18T10:29:38.460Z"
   },
   {
    "duration": 254,
    "start_time": "2021-10-18T10:29:41.723Z"
   },
   {
    "duration": 390,
    "start_time": "2021-10-18T10:31:03.649Z"
   },
   {
    "duration": 393,
    "start_time": "2021-10-18T10:31:12.322Z"
   },
   {
    "duration": 334,
    "start_time": "2021-10-18T10:31:24.238Z"
   },
   {
    "duration": 270,
    "start_time": "2021-10-18T10:31:37.491Z"
   },
   {
    "duration": 225,
    "start_time": "2021-10-18T10:31:51.433Z"
   },
   {
    "duration": 232,
    "start_time": "2021-10-18T10:32:01.223Z"
   },
   {
    "duration": 208,
    "start_time": "2021-10-18T10:32:08.119Z"
   },
   {
    "duration": 432,
    "start_time": "2021-10-18T10:32:17.862Z"
   },
   {
    "duration": 241,
    "start_time": "2021-10-18T10:32:46.613Z"
   },
   {
    "duration": 225,
    "start_time": "2021-10-18T10:32:58.308Z"
   },
   {
    "duration": 232,
    "start_time": "2021-10-18T10:34:36.296Z"
   },
   {
    "duration": 295,
    "start_time": "2021-10-18T10:34:54.461Z"
   },
   {
    "duration": 218,
    "start_time": "2021-10-18T10:35:01.665Z"
   },
   {
    "duration": 222,
    "start_time": "2021-10-18T10:35:12.045Z"
   },
   {
    "duration": 221,
    "start_time": "2021-10-18T10:35:16.014Z"
   },
   {
    "duration": 252,
    "start_time": "2021-10-18T10:35:25.268Z"
   },
   {
    "duration": 235,
    "start_time": "2021-10-18T10:36:11.081Z"
   },
   {
    "duration": 244,
    "start_time": "2021-10-18T10:36:15.051Z"
   },
   {
    "duration": 224,
    "start_time": "2021-10-18T10:36:19.970Z"
   },
   {
    "duration": 220,
    "start_time": "2021-10-18T10:36:51.800Z"
   },
   {
    "duration": 328,
    "start_time": "2021-10-18T10:37:09.391Z"
   },
   {
    "duration": 228,
    "start_time": "2021-10-18T10:37:20.880Z"
   },
   {
    "duration": 223,
    "start_time": "2021-10-18T10:38:08.249Z"
   },
   {
    "duration": 324,
    "start_time": "2021-10-18T10:38:15.063Z"
   },
   {
    "duration": 209,
    "start_time": "2021-10-18T10:38:19.327Z"
   },
   {
    "duration": 214,
    "start_time": "2021-10-18T10:38:38.541Z"
   },
   {
    "duration": 214,
    "start_time": "2021-10-18T10:38:42.094Z"
   },
   {
    "duration": 210,
    "start_time": "2021-10-18T10:38:50.418Z"
   },
   {
    "duration": 212,
    "start_time": "2021-10-18T10:38:59.183Z"
   },
   {
    "duration": 226,
    "start_time": "2021-10-18T10:39:03.871Z"
   },
   {
    "duration": 241,
    "start_time": "2021-10-18T10:39:53.475Z"
   },
   {
    "duration": 67,
    "start_time": "2021-10-18T10:40:26.198Z"
   },
   {
    "duration": 12,
    "start_time": "2021-10-18T10:40:56.114Z"
   },
   {
    "duration": 21,
    "start_time": "2021-10-18T10:41:42.377Z"
   },
   {
    "duration": 26,
    "start_time": "2021-10-18T10:42:03.625Z"
   },
   {
    "duration": 225,
    "start_time": "2021-10-18T10:42:50.037Z"
   },
   {
    "duration": 25,
    "start_time": "2021-10-18T10:42:56.601Z"
   },
   {
    "duration": 1033,
    "start_time": "2021-10-18T10:43:11.342Z"
   },
   {
    "duration": 37,
    "start_time": "2021-10-18T10:43:12.378Z"
   },
   {
    "duration": 64,
    "start_time": "2021-10-18T10:43:12.421Z"
   },
   {
    "duration": 40,
    "start_time": "2021-10-18T10:43:12.488Z"
   },
   {
    "duration": 932,
    "start_time": "2021-10-18T10:43:12.531Z"
   },
   {
    "duration": 483,
    "start_time": "2021-10-18T10:43:13.466Z"
   },
   {
    "duration": 331,
    "start_time": "2021-10-18T10:43:13.953Z"
   },
   {
    "duration": 362,
    "start_time": "2021-10-18T10:43:14.288Z"
   },
   {
    "duration": 330,
    "start_time": "2021-10-18T10:43:14.653Z"
   },
   {
    "duration": 326,
    "start_time": "2021-10-18T10:43:14.986Z"
   },
   {
    "duration": 10,
    "start_time": "2021-10-18T10:43:15.314Z"
   },
   {
    "duration": 267,
    "start_time": "2021-10-18T10:43:15.327Z"
   },
   {
    "duration": 12,
    "start_time": "2021-10-18T10:43:15.596Z"
   },
   {
    "duration": 319,
    "start_time": "2021-10-18T10:43:15.610Z"
   },
   {
    "duration": 244,
    "start_time": "2021-10-18T10:43:15.931Z"
   },
   {
    "duration": 342,
    "start_time": "2021-10-18T10:43:16.178Z"
   },
   {
    "duration": 234,
    "start_time": "2021-10-18T10:43:16.523Z"
   },
   {
    "duration": 348,
    "start_time": "2021-10-18T10:43:16.762Z"
   },
   {
    "duration": 313,
    "start_time": "2021-10-18T10:43:17.112Z"
   },
   {
    "duration": 50,
    "start_time": "2021-10-18T10:43:17.427Z"
   },
   {
    "duration": 1731,
    "start_time": "2021-10-18T10:43:17.479Z"
   },
   {
    "duration": 790,
    "start_time": "2021-10-18T10:43:19.214Z"
   },
   {
    "duration": 17,
    "start_time": "2021-10-18T10:43:20.008Z"
   },
   {
    "duration": 112,
    "start_time": "2021-10-18T10:43:20.028Z"
   },
   {
    "duration": 62,
    "start_time": "2021-10-18T10:43:20.163Z"
   },
   {
    "duration": 1154,
    "start_time": "2021-10-18T10:43:20.263Z"
   },
   {
    "duration": 2242,
    "start_time": "2021-10-18T10:43:21.420Z"
   },
   {
    "duration": 28,
    "start_time": "2021-10-18T10:44:24.127Z"
   },
   {
    "duration": 776,
    "start_time": "2021-10-20T13:52:32.982Z"
   },
   {
    "duration": 24,
    "start_time": "2021-10-20T13:52:37.907Z"
   },
   {
    "duration": 27,
    "start_time": "2021-10-20T13:52:43.130Z"
   },
   {
    "duration": 29,
    "start_time": "2021-10-20T13:53:02.857Z"
   },
   {
    "duration": 517,
    "start_time": "2021-10-20T13:53:22.169Z"
   },
   {
    "duration": 295,
    "start_time": "2021-10-20T13:53:28.498Z"
   },
   {
    "duration": 171,
    "start_time": "2021-10-20T13:53:31.833Z"
   },
   {
    "duration": 185,
    "start_time": "2021-10-20T13:53:36.097Z"
   },
   {
    "duration": 182,
    "start_time": "2021-10-20T13:53:39.116Z"
   },
   {
    "duration": 186,
    "start_time": "2021-10-20T13:53:44.597Z"
   },
   {
    "duration": 6,
    "start_time": "2021-10-20T13:53:55.687Z"
   },
   {
    "duration": 140,
    "start_time": "2021-10-20T13:53:58.966Z"
   },
   {
    "duration": 8,
    "start_time": "2021-10-20T13:54:05.788Z"
   },
   {
    "duration": 116,
    "start_time": "2021-10-20T13:54:41.950Z"
   },
   {
    "duration": 119,
    "start_time": "2021-10-20T13:54:49.707Z"
   },
   {
    "duration": 145,
    "start_time": "2021-10-20T13:54:54.976Z"
   },
   {
    "duration": 118,
    "start_time": "2021-10-20T13:54:59.232Z"
   },
   {
    "duration": 124,
    "start_time": "2021-10-20T13:55:06.966Z"
   },
   {
    "duration": 234,
    "start_time": "2021-10-20T13:55:49.717Z"
   },
   {
    "duration": 130,
    "start_time": "2021-10-20T13:55:55.383Z"
   },
   {
    "duration": 175,
    "start_time": "2021-10-20T13:56:00.054Z"
   },
   {
    "duration": 177,
    "start_time": "2021-10-20T13:56:10.137Z"
   },
   {
    "duration": 129,
    "start_time": "2021-10-20T13:56:14.795Z"
   },
   {
    "duration": 19,
    "start_time": "2021-10-20T13:56:20.231Z"
   },
   {
    "duration": 254,
    "start_time": "2021-10-20T14:09:01.898Z"
   },
   {
    "duration": 270,
    "start_time": "2021-10-20T14:09:37.463Z"
   },
   {
    "duration": 445,
    "start_time": "2021-10-20T14:09:50.082Z"
   },
   {
    "duration": 744,
    "start_time": "2021-10-20T14:10:39.285Z"
   },
   {
    "duration": 388,
    "start_time": "2021-10-20T14:10:56.568Z"
   },
   {
    "duration": 440,
    "start_time": "2021-10-20T14:11:05.561Z"
   },
   {
    "duration": 522,
    "start_time": "2021-10-20T14:11:19.866Z"
   },
   {
    "duration": 474,
    "start_time": "2021-10-20T14:11:26.030Z"
   },
   {
    "duration": 483,
    "start_time": "2021-10-20T14:11:32.542Z"
   },
   {
    "duration": 469,
    "start_time": "2021-10-20T14:11:55.080Z"
   },
   {
    "duration": 280,
    "start_time": "2021-10-20T14:11:59.793Z"
   },
   {
    "duration": 460,
    "start_time": "2021-10-20T14:12:11.595Z"
   },
   {
    "duration": 472,
    "start_time": "2021-10-20T14:13:00.296Z"
   },
   {
    "duration": 247,
    "start_time": "2021-10-20T14:13:06.943Z"
   },
   {
    "duration": 461,
    "start_time": "2021-10-20T14:13:20.446Z"
   },
   {
    "duration": 446,
    "start_time": "2021-10-20T14:13:57.327Z"
   },
   {
    "duration": 477,
    "start_time": "2021-10-20T14:14:04.469Z"
   },
   {
    "duration": 540,
    "start_time": "2021-10-20T14:15:15.886Z"
   },
   {
    "duration": 496,
    "start_time": "2021-10-20T14:15:27.404Z"
   },
   {
    "duration": 473,
    "start_time": "2021-10-20T14:15:52.865Z"
   },
   {
    "duration": 449,
    "start_time": "2021-10-20T14:16:03.681Z"
   },
   {
    "duration": 499,
    "start_time": "2021-10-20T14:16:12.913Z"
   },
   {
    "duration": 458,
    "start_time": "2021-10-20T14:16:18.384Z"
   },
   {
    "duration": 471,
    "start_time": "2021-10-20T14:16:24.062Z"
   },
   {
    "duration": 256,
    "start_time": "2021-10-20T14:17:51.087Z"
   },
   {
    "duration": 268,
    "start_time": "2021-10-20T14:18:00.829Z"
   },
   {
    "duration": 259,
    "start_time": "2021-10-20T14:19:10.100Z"
   },
   {
    "duration": 252,
    "start_time": "2021-10-20T14:19:17.104Z"
   },
   {
    "duration": 332,
    "start_time": "2021-10-20T14:19:37.288Z"
   },
   {
    "duration": 260,
    "start_time": "2021-10-20T14:19:48.328Z"
   },
   {
    "duration": 260,
    "start_time": "2021-10-20T14:20:15.702Z"
   },
   {
    "duration": 261,
    "start_time": "2021-10-20T14:20:21.724Z"
   },
   {
    "duration": 248,
    "start_time": "2021-10-20T14:22:07.594Z"
   },
   {
    "duration": 245,
    "start_time": "2021-10-20T14:22:21.733Z"
   },
   {
    "duration": 74,
    "start_time": "2021-10-20T14:22:26.815Z"
   },
   {
    "duration": 67,
    "start_time": "2021-10-20T14:25:09.805Z"
   },
   {
    "duration": 452,
    "start_time": "2021-10-20T14:25:30.080Z"
   },
   {
    "duration": 497,
    "start_time": "2021-10-20T14:25:33.022Z"
   },
   {
    "duration": 73,
    "start_time": "2021-10-20T14:25:37.891Z"
   },
   {
    "duration": 473,
    "start_time": "2021-10-20T14:27:50.044Z"
   },
   {
    "duration": 502,
    "start_time": "2021-10-20T14:28:00.995Z"
   },
   {
    "duration": 11,
    "start_time": "2021-10-20T14:28:45.599Z"
   },
   {
    "duration": 63,
    "start_time": "2021-10-20T14:30:15.618Z"
   },
   {
    "duration": 62,
    "start_time": "2021-10-20T14:30:51.850Z"
   },
   {
    "duration": 73,
    "start_time": "2021-10-20T14:30:56.234Z"
   },
   {
    "duration": 46,
    "start_time": "2021-10-20T14:32:00.534Z"
   },
   {
    "duration": 8836,
    "start_time": "2021-10-20T15:05:55.535Z"
   },
   {
    "duration": 468,
    "start_time": "2021-10-20T15:06:07.363Z"
   },
   {
    "duration": 319,
    "start_time": "2021-10-20T15:06:18.955Z"
   },
   {
    "duration": 468,
    "start_time": "2021-10-20T15:06:28.137Z"
   },
   {
    "duration": 21,
    "start_time": "2021-10-20T15:07:06.935Z"
   },
   {
    "duration": 246,
    "start_time": "2021-10-20T15:07:15.825Z"
   },
   {
    "duration": 510,
    "start_time": "2021-10-20T15:07:19.701Z"
   },
   {
    "duration": 255,
    "start_time": "2021-10-20T15:07:50.026Z"
   },
   {
    "duration": 252,
    "start_time": "2021-10-20T15:08:00.545Z"
   },
   {
    "duration": 255,
    "start_time": "2021-10-20T15:09:27.413Z"
   },
   {
    "duration": 339,
    "start_time": "2021-10-20T15:09:46.486Z"
   },
   {
    "duration": 494,
    "start_time": "2021-10-20T15:10:51.994Z"
   },
   {
    "duration": 467,
    "start_time": "2021-10-20T15:11:29.218Z"
   },
   {
    "duration": 505,
    "start_time": "2021-10-20T15:11:33.518Z"
   },
   {
    "duration": 499,
    "start_time": "2021-10-20T15:11:43.713Z"
   },
   {
    "duration": 522,
    "start_time": "2021-10-20T15:11:54.613Z"
   },
   {
    "duration": 248,
    "start_time": "2021-10-20T15:12:16.216Z"
   },
   {
    "duration": 510,
    "start_time": "2021-10-20T15:13:49.427Z"
   },
   {
    "duration": 496,
    "start_time": "2021-10-20T15:13:54.685Z"
   },
   {
    "duration": 45,
    "start_time": "2021-10-20T15:18:26.504Z"
   },
   {
    "duration": 263,
    "start_time": "2021-10-20T15:19:13.182Z"
   },
   {
    "duration": 561,
    "start_time": "2021-10-20T15:19:26.257Z"
   },
   {
    "duration": 453,
    "start_time": "2021-10-20T15:20:10.954Z"
   },
   {
    "duration": 471,
    "start_time": "2021-10-20T15:20:43.652Z"
   },
   {
    "duration": 449,
    "start_time": "2021-10-20T15:21:34.877Z"
   },
   {
    "duration": 461,
    "start_time": "2021-10-20T15:21:39.395Z"
   },
   {
    "duration": 469,
    "start_time": "2021-10-20T15:21:46.761Z"
   },
   {
    "duration": 271,
    "start_time": "2021-10-20T15:22:01.769Z"
   },
   {
    "duration": 450,
    "start_time": "2021-10-20T15:22:12.600Z"
   },
   {
    "duration": 489,
    "start_time": "2021-10-20T15:22:26.615Z"
   },
   {
    "duration": 424,
    "start_time": "2021-10-20T15:23:36.106Z"
   },
   {
    "duration": 410,
    "start_time": "2021-10-20T15:23:39.777Z"
   },
   {
    "duration": 455,
    "start_time": "2021-10-20T15:23:45.263Z"
   },
   {
    "duration": 68,
    "start_time": "2021-10-20T15:24:01.290Z"
   },
   {
    "duration": 485,
    "start_time": "2021-10-20T15:27:32.804Z"
   },
   {
    "duration": 445,
    "start_time": "2021-10-20T15:31:01.673Z"
   },
   {
    "duration": 786,
    "start_time": "2021-10-20T15:35:39.486Z"
   },
   {
    "duration": 24,
    "start_time": "2021-10-20T15:35:40.276Z"
   },
   {
    "duration": 25,
    "start_time": "2021-10-20T15:35:40.302Z"
   },
   {
    "duration": 27,
    "start_time": "2021-10-20T15:35:40.329Z"
   },
   {
    "duration": 502,
    "start_time": "2021-10-20T15:35:40.377Z"
   },
   {
    "duration": 306,
    "start_time": "2021-10-20T15:35:40.880Z"
   },
   {
    "duration": 169,
    "start_time": "2021-10-20T15:35:41.188Z"
   },
   {
    "duration": 189,
    "start_time": "2021-10-20T15:35:41.359Z"
   },
   {
    "duration": 170,
    "start_time": "2021-10-20T15:35:41.551Z"
   },
   {
    "duration": 164,
    "start_time": "2021-10-20T15:35:41.723Z"
   },
   {
    "duration": 6,
    "start_time": "2021-10-20T15:35:41.889Z"
   },
   {
    "duration": 127,
    "start_time": "2021-10-20T15:35:41.896Z"
   },
   {
    "duration": 7,
    "start_time": "2021-10-20T15:35:42.024Z"
   },
   {
    "duration": 172,
    "start_time": "2021-10-20T15:35:42.033Z"
   },
   {
    "duration": 133,
    "start_time": "2021-10-20T15:35:42.207Z"
   },
   {
    "duration": 251,
    "start_time": "2021-10-20T15:35:42.342Z"
   },
   {
    "duration": 144,
    "start_time": "2021-10-20T15:35:42.594Z"
   },
   {
    "duration": 272,
    "start_time": "2021-10-20T15:35:42.739Z"
   },
   {
    "duration": 201,
    "start_time": "2021-10-20T15:35:43.013Z"
   },
   {
    "duration": 16,
    "start_time": "2021-10-20T15:35:43.216Z"
   },
   {
    "duration": 474,
    "start_time": "2021-10-20T15:35:43.234Z"
   },
   {
    "duration": 482,
    "start_time": "2021-10-20T15:35:43.709Z"
   },
   {
    "duration": 499,
    "start_time": "2021-10-20T15:35:44.192Z"
   },
   {
    "duration": 271,
    "start_time": "2021-10-20T15:35:44.692Z"
   },
   {
    "duration": 77,
    "start_time": "2021-10-20T15:35:44.964Z"
   },
   {
    "duration": 461,
    "start_time": "2021-10-20T15:35:45.042Z"
   },
   {
    "duration": 10,
    "start_time": "2021-10-20T15:35:45.507Z"
   },
   {
    "duration": 72,
    "start_time": "2021-10-20T15:35:45.519Z"
   },
   {
    "duration": 41,
    "start_time": "2021-10-20T15:35:45.593Z"
   },
   {
    "duration": 51,
    "start_time": "2021-10-20T15:35:45.636Z"
   },
   {
    "duration": 261,
    "start_time": "2021-10-20T15:35:45.689Z"
   },
   {
    "duration": 458,
    "start_time": "2021-10-20T15:35:45.952Z"
   },
   {
    "duration": 40,
    "start_time": "2021-10-20T15:35:46.412Z"
   },
   {
    "duration": 415,
    "start_time": "2021-10-20T15:35:46.454Z"
   },
   {
    "duration": 407,
    "start_time": "2021-10-20T15:35:46.871Z"
   },
   {
    "duration": 501,
    "start_time": "2021-10-20T15:35:47.279Z"
   },
   {
    "duration": 418,
    "start_time": "2021-10-20T15:35:47.781Z"
   },
   {
    "duration": 61,
    "start_time": "2021-10-20T15:35:48.201Z"
   },
   {
    "duration": 411,
    "start_time": "2021-10-20T15:36:55.784Z"
   },
   {
    "duration": 445,
    "start_time": "2021-10-20T15:37:16.718Z"
   },
   {
    "duration": 442,
    "start_time": "2021-10-20T15:37:25.039Z"
   },
   {
    "duration": 456,
    "start_time": "2021-10-20T15:37:58.763Z"
   },
   {
    "duration": 464,
    "start_time": "2021-10-20T15:38:57.122Z"
   },
   {
    "duration": 1078,
    "start_time": "2021-10-21T14:08:48.064Z"
   },
   {
    "duration": 55,
    "start_time": "2021-10-21T14:08:49.145Z"
   },
   {
    "duration": 35,
    "start_time": "2021-10-21T14:08:49.203Z"
   },
   {
    "duration": 61,
    "start_time": "2021-10-21T14:08:49.241Z"
   },
   {
    "duration": 905,
    "start_time": "2021-10-21T14:08:49.304Z"
   },
   {
    "duration": 476,
    "start_time": "2021-10-21T14:08:50.212Z"
   },
   {
    "duration": 344,
    "start_time": "2021-10-21T14:08:50.690Z"
   },
   {
    "duration": 347,
    "start_time": "2021-10-21T14:08:51.037Z"
   },
   {
    "duration": 328,
    "start_time": "2021-10-21T14:08:51.387Z"
   },
   {
    "duration": 310,
    "start_time": "2021-10-21T14:08:51.717Z"
   },
   {
    "duration": 8,
    "start_time": "2021-10-21T14:08:52.030Z"
   },
   {
    "duration": 247,
    "start_time": "2021-10-21T14:08:52.041Z"
   },
   {
    "duration": 11,
    "start_time": "2021-10-21T14:08:52.291Z"
   },
   {
    "duration": 320,
    "start_time": "2021-10-21T14:08:52.304Z"
   },
   {
    "duration": 236,
    "start_time": "2021-10-21T14:08:52.627Z"
   },
   {
    "duration": 339,
    "start_time": "2021-10-21T14:08:52.865Z"
   },
   {
    "duration": 239,
    "start_time": "2021-10-21T14:08:53.207Z"
   },
   {
    "duration": 336,
    "start_time": "2021-10-21T14:08:53.449Z"
   },
   {
    "duration": 303,
    "start_time": "2021-10-21T14:08:53.787Z"
   },
   {
    "duration": 29,
    "start_time": "2021-10-21T14:08:54.092Z"
   },
   {
    "duration": 700,
    "start_time": "2021-10-21T14:08:54.124Z"
   },
   {
    "duration": 685,
    "start_time": "2021-10-21T14:08:54.827Z"
   },
   {
    "duration": 710,
    "start_time": "2021-10-21T14:08:55.517Z"
   },
   {
    "duration": 454,
    "start_time": "2021-10-21T14:08:56.230Z"
   },
   {
    "duration": 100,
    "start_time": "2021-10-21T14:08:56.686Z"
   },
   {
    "duration": 817,
    "start_time": "2021-10-21T14:08:56.789Z"
   },
   {
    "duration": 15,
    "start_time": "2021-10-21T14:08:57.609Z"
   },
   {
    "duration": 98,
    "start_time": "2021-10-21T14:08:57.626Z"
   },
   {
    "duration": 59,
    "start_time": "2021-10-21T14:08:57.726Z"
   },
   {
    "duration": 44,
    "start_time": "2021-10-21T14:08:57.787Z"
   },
   {
    "duration": 467,
    "start_time": "2021-10-21T14:08:57.833Z"
   },
   {
    "duration": 1223,
    "start_time": "2021-10-21T14:08:58.303Z"
   },
   {
    "duration": 90,
    "start_time": "2021-10-21T14:08:59.530Z"
   },
   {
    "duration": 669,
    "start_time": "2021-10-21T14:08:59.623Z"
   },
   {
    "duration": 665,
    "start_time": "2021-10-21T14:09:00.300Z"
   },
   {
    "duration": 750,
    "start_time": "2021-10-21T14:09:00.967Z"
   },
   {
    "duration": 671,
    "start_time": "2021-10-21T14:09:01.720Z"
   },
   {
    "duration": 99,
    "start_time": "2021-10-21T14:09:02.401Z"
   }
  ],
  "kernelspec": {
   "display_name": "Python 3",
   "language": "python",
   "name": "python3"
  },
  "language_info": {
   "codemirror_mode": {
    "name": "ipython",
    "version": 3
   },
   "file_extension": ".py",
   "mimetype": "text/x-python",
   "name": "python",
   "nbconvert_exporter": "python",
   "pygments_lexer": "ipython3",
   "version": "3.8.5"
  },
  "toc": {
   "base_numbering": 1,
   "nav_menu": {},
   "number_sections": true,
   "sideBar": true,
   "skip_h1_title": true,
   "title_cell": "Содержание",
   "title_sidebar": "Contents",
   "toc_cell": true,
   "toc_position": {
    "height": "calc(100% - 180px)",
    "left": "10px",
    "top": "150px",
    "width": "212px"
   },
   "toc_section_display": true,
   "toc_window_display": false
  }
 },
 "nbformat": 4,
 "nbformat_minor": 2
}
